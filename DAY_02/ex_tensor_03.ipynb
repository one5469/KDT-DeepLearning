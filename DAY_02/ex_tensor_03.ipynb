{
 "cells": [
  {
   "cell_type": "markdown",
   "source": [
    "## 행렬 곱셈\n",
    "- 피쳐와 가중치 연산에 활용\n",
    "- tensor.matmul()"
   ],
   "metadata": {
    "collapsed": false
   },
   "id": "7a831739002c11cc"
  },
  {
   "cell_type": "code",
   "outputs": [],
   "source": [
    "# 모듈 로딩\n",
    "import torch"
   ],
   "metadata": {
    "collapsed": false,
    "ExecuteTime": {
     "end_time": "2024-03-12T04:14:32.910554600Z",
     "start_time": "2024-03-12T04:14:31.594611500Z"
    }
   },
   "id": "a1a9a396bb534153",
   "execution_count": 1
  },
  {
   "cell_type": "code",
   "outputs": [],
   "source": [
    "data = torch.tensor([[1,2], [3,4]])\n",
    "w = torch.tensor([7])"
   ],
   "metadata": {
    "collapsed": false,
    "ExecuteTime": {
     "end_time": "2024-03-12T04:15:27.682076500Z",
     "start_time": "2024-03-12T04:15:27.669116100Z"
    }
   },
   "id": "bd618351acd6dbe7",
   "execution_count": 2
  },
  {
   "cell_type": "code",
   "outputs": [
    {
     "name": "stdout",
     "output_type": "stream",
     "text": [
      "data.shape => torch.Size([2, 2])\n",
      "w.shape => torch.Size([1])\n"
     ]
    }
   ],
   "source": [
    "print(f'data.shape => {data.shape}')\n",
    "print(f'w.shape => {w.shape}')"
   ],
   "metadata": {
    "collapsed": false,
    "ExecuteTime": {
     "end_time": "2024-03-12T04:15:46.615316400Z",
     "start_time": "2024-03-12T04:15:46.590216700Z"
    }
   },
   "id": "e84f6b54d961a4e",
   "execution_count": 3
  },
  {
   "cell_type": "code",
   "outputs": [
    {
     "name": "stdout",
     "output_type": "stream",
     "text": [
      " tensor([[ 7, 14],\n",
      "        [21, 28]])\n"
     ]
    }
   ],
   "source": [
    "# 원소단위 곱셈 => 인덱스에 1:1 대응하도록 브로드캐스팅\n",
    "print(f' {data.mul(w)}')"
   ],
   "metadata": {
    "collapsed": false,
    "ExecuteTime": {
     "end_time": "2024-03-12T04:16:39.722096Z",
     "start_time": "2024-03-12T04:16:39.698347Z"
    }
   },
   "id": "e3b2eaec83b78d04",
   "execution_count": 4
  },
  {
   "cell_type": "code",
   "outputs": [
    {
     "name": "stdout",
     "output_type": "stream",
     "text": [
      "data.matmul(w1) : tensor([23, 53])\n"
     ]
    }
   ],
   "source": [
    "# 행열단위 곱셈 => (행, 열) X (원소수, )\n",
    "w1 = torch.tensor([7, 8])\n",
    "print(f'data.matmul(w1) : {data.matmul(w1)}')"
   ],
   "metadata": {
    "collapsed": false,
    "ExecuteTime": {
     "end_time": "2024-03-12T04:22:29.321780800Z",
     "start_time": "2024-03-12T04:22:29.303911600Z"
    }
   },
   "id": "99e3ade6efff1965",
   "execution_count": 10
  },
  {
   "cell_type": "code",
   "outputs": [
    {
     "name": "stdout",
     "output_type": "stream",
     "text": [
      "data.matmul(w2)\n",
      " tensor([[23],\n",
      "        [53]])\n"
     ]
    }
   ],
   "source": [
    "# 행열단위 곱셈 => (행, 열) X (행, 열)\n",
    "w2 = torch.tensor([[7], [8]])\n",
    "print(f'data.matmul(w2)\\n {data.matmul(w2)}')"
   ],
   "metadata": {
    "collapsed": false,
    "ExecuteTime": {
     "end_time": "2024-03-12T04:22:29.582965400Z",
     "start_time": "2024-03-12T04:22:29.576690200Z"
    }
   },
   "id": "f91523a14a32d1e",
   "execution_count": 11
  },
  {
   "cell_type": "code",
   "outputs": [],
   "source": [],
   "metadata": {
    "collapsed": false
   },
   "id": "784bc7bab43d7fb9"
  }
 ],
 "metadata": {
  "kernelspec": {
   "display_name": "Python 3",
   "language": "python",
   "name": "python3"
  },
  "language_info": {
   "codemirror_mode": {
    "name": "ipython",
    "version": 2
   },
   "file_extension": ".py",
   "mimetype": "text/x-python",
   "name": "python",
   "nbconvert_exporter": "python",
   "pygments_lexer": "ipython2",
   "version": "2.7.6"
  }
 },
 "nbformat": 4,
 "nbformat_minor": 5
}
