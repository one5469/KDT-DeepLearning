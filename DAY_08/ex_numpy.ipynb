{
 "cells": [
  {
   "cell_type": "code",
   "execution_count": 1,
   "id": "initial_id",
   "metadata": {
    "collapsed": true,
    "ExecuteTime": {
     "end_time": "2024-03-21T07:18:21.478439600Z",
     "start_time": "2024-03-21T07:18:21.349570900Z"
    }
   },
   "outputs": [],
   "source": [
    "## 모듈 로딩\n",
    "import numpy as np"
   ]
  },
  {
   "cell_type": "code",
   "outputs": [
    {
     "data": {
      "text/plain": "array([0., 0.])"
     },
     "execution_count": 2,
     "metadata": {},
     "output_type": "execute_result"
    }
   ],
   "source": [
    "## ndarray 타입 데이터 생성\n",
    "\n",
    "# 0으로 채워진 ndarray 객체 생성 ==> zeros()\n",
    "np.zeros(2)"
   ],
   "metadata": {
    "collapsed": false,
    "ExecuteTime": {
     "end_time": "2024-03-21T07:19:35.065603800Z",
     "start_time": "2024-03-21T07:19:35.044703900Z"
    }
   },
   "id": "4a2a4889f51cbacd",
   "execution_count": 2
  },
  {
   "cell_type": "code",
   "outputs": [
    {
     "data": {
      "text/plain": "array([[0, 0, 0],\n       [0, 0, 0]], dtype=int8)"
     },
     "execution_count": 4,
     "metadata": {},
     "output_type": "execute_result"
    }
   ],
   "source": [
    "np.zeros((2,3), dtype=np.int8)"
   ],
   "metadata": {
    "collapsed": false,
    "ExecuteTime": {
     "end_time": "2024-03-21T07:19:56.873606100Z",
     "start_time": "2024-03-21T07:19:56.851680800Z"
    }
   },
   "id": "986bced245070e9d",
   "execution_count": 4
  },
  {
   "cell_type": "code",
   "outputs": [
    {
     "data": {
      "text/plain": "(array([1., 1., 1., 1., 1., 1., 1., 1., 1., 1.]),\n array([1, 1, 1, 1, 1, 1, 1, 1, 1, 1]),\n array([[ True,  True,  True,  True,  True],\n        [ True,  True,  True,  True,  True]]))"
     },
     "execution_count": 8,
     "metadata": {},
     "output_type": "execute_result"
    }
   ],
   "source": [
    "# 1로 채워진 ndarray 객체 생성 ==> ones()\n",
    "np.ones(10), np.ones(10, dtype=np.int32), np.ones((2,5), dtype=np.bool_)"
   ],
   "metadata": {
    "collapsed": false,
    "ExecuteTime": {
     "end_time": "2024-03-21T07:22:21.007878800Z",
     "start_time": "2024-03-21T07:22:20.987944Z"
    }
   },
   "id": "afa7264e896bfdda",
   "execution_count": 8
  },
  {
   "cell_type": "code",
   "outputs": [
    {
     "data": {
      "text/plain": "array([[3, 3, 4, 1, 1, 3, 3, 3, 3, 2],\n       [3, 2, 2, 4, 4, 3, 1, 1, 4, 4],\n       [1, 2, 2, 3, 3, 1, 4, 4, 4, 4]])"
     },
     "execution_count": 9,
     "metadata": {},
     "output_type": "execute_result"
    }
   ],
   "source": [
    "# 랜덤 데이터로 ndarray객체 생성 ==> random\n",
    "np.random.randint(1, 5, (3,10))"
   ],
   "metadata": {
    "collapsed": false,
    "ExecuteTime": {
     "end_time": "2024-03-21T07:23:48.208896800Z",
     "start_time": "2024-03-21T07:23:48.198919800Z"
    }
   },
   "id": "6fb6a7a8d65a44b3",
   "execution_count": 9
  },
  {
   "cell_type": "code",
   "outputs": [
    {
     "data": {
      "text/plain": "(array([0.64296   , 0.70339756, 0.76818115, 0.06229481, 0.6775806 ,\n        0.06918478, 0.64905761, 0.54135393, 0.94270584, 0.31731381]),\n array([[0.71356553, 0.34856769],\n        [0.74794635, 0.94076327],\n        [0.9361329 , 0.11544802],\n        [0.57444872, 0.87533154],\n        [0.41360639, 0.22080466]]))"
     },
     "execution_count": 12,
     "metadata": {},
     "output_type": "execute_result"
    }
   ],
   "source": [
    "# 0 <= 범위 < 1\n",
    "np.random.rand(10), np.random.rand(5,2)"
   ],
   "metadata": {
    "collapsed": false,
    "ExecuteTime": {
     "end_time": "2024-03-21T07:25:14.395672600Z",
     "start_time": "2024-03-21T07:25:14.365952100Z"
    }
   },
   "id": "443da3dcef576cdb",
   "execution_count": 12
  },
  {
   "cell_type": "code",
   "outputs": [
    {
     "data": {
      "text/plain": "(array([-0.94882738, -0.16828057, -0.19484184,  1.34137374,  0.3334333 ]),\n array([[[ 1.04558145,  0.19089378, -0.15877116],\n         [ 0.33973668,  0.23933932,  0.3749222 ]]]))"
     },
     "execution_count": 13,
     "metadata": {},
     "output_type": "execute_result"
    }
   ],
   "source": [
    "np.random.randn(5), np.random.randn(1,2,3)"
   ],
   "metadata": {
    "collapsed": false,
    "ExecuteTime": {
     "end_time": "2024-03-21T07:25:51.894917200Z",
     "start_time": "2024-03-21T07:25:51.884950900Z"
    }
   },
   "id": "a1789565bffd0165",
   "execution_count": 13
  },
  {
   "cell_type": "code",
   "outputs": [
    {
     "data": {
      "text/plain": "array([ 0.05056171,  0.49995133, -0.99590893,  0.69359851, -0.41830152])"
     },
     "execution_count": 14,
     "metadata": {},
     "output_type": "execute_result"
    }
   ],
   "source": [
    "# 랜덤 고정\n",
    "np.random.seed(4)\n",
    "\n",
    "np.random.randn(5)"
   ],
   "metadata": {
    "collapsed": false,
    "ExecuteTime": {
     "end_time": "2024-03-21T07:26:50.480516300Z",
     "start_time": "2024-03-21T07:26:50.455081300Z"
    }
   },
   "id": "f302df1482515c8b",
   "execution_count": 14
  },
  {
   "cell_type": "code",
   "outputs": [
    {
     "name": "stdout",
     "output_type": "stream",
     "text": [
      "[-1.20344774  1.85585625  1.1770377   0.55575902  0.04229212  0.97187271\n",
      "  0.62279569 -1.27804266 -1.16135207 -0.03034393]\n",
      "[ 0.62279569  0.97187271 -1.20344774  1.1770377  -1.16135207  0.04229212\n",
      " -1.27804266  0.55575902  1.85585625 -0.03034393]\n"
     ]
    }
   ],
   "source": [
    "data = np.random.randn(10)\n",
    "print(data)\n",
    "\n",
    "np.random.shuffle(data)\n",
    "print(data)"
   ],
   "metadata": {
    "collapsed": false,
    "ExecuteTime": {
     "end_time": "2024-03-21T07:29:23.113636300Z",
     "start_time": "2024-03-21T07:29:23.085153400Z"
    }
   },
   "id": "4a896439905b8f87",
   "execution_count": 36
  },
  {
   "cell_type": "code",
   "outputs": [
    {
     "data": {
      "text/plain": "(1.5524270945670333, 1.8558562513581842, -1.2780426578904296)"
     },
     "execution_count": 38,
     "metadata": {},
     "output_type": "execute_result"
    }
   ],
   "source": [
    "data.sum(), data.max(), data.min()"
   ],
   "metadata": {
    "collapsed": false,
    "ExecuteTime": {
     "end_time": "2024-03-21T07:31:15.669496400Z",
     "start_time": "2024-03-21T07:31:15.661625100Z"
    }
   },
   "id": "6ae348af0d772529",
   "execution_count": 38
  },
  {
   "cell_type": "code",
   "outputs": [
    {
     "data": {
      "text/plain": "(8, 6)"
     },
     "execution_count": 40,
     "metadata": {},
     "output_type": "execute_result"
    }
   ],
   "source": [
    "data.argmax(), data.argmin()"
   ],
   "metadata": {
    "collapsed": false,
    "ExecuteTime": {
     "end_time": "2024-03-21T07:33:30.390875Z",
     "start_time": "2024-03-21T07:33:30.369781Z"
    }
   },
   "id": "b2c16495801245f7",
   "execution_count": 40
  },
  {
   "cell_type": "code",
   "outputs": [
    {
     "data": {
      "text/plain": "((1, 6), (6,))"
     },
     "execution_count": 43,
     "metadata": {},
     "output_type": "execute_result"
    }
   ],
   "source": [
    "a = np.arange(6)\n",
    "a2 = a[np.newaxis, :]\n",
    "a2.shape, a.shape"
   ],
   "metadata": {
    "collapsed": false,
    "ExecuteTime": {
     "end_time": "2024-03-21T07:44:24.451830500Z",
     "start_time": "2024-03-21T07:44:24.444854200Z"
    }
   },
   "id": "86be4faa2cb2134c",
   "execution_count": 43
  },
  {
   "cell_type": "code",
   "outputs": [
    {
     "data": {
      "text/plain": "array([-80, -82], dtype=int8)"
     },
     "execution_count": 159,
     "metadata": {},
     "output_type": "execute_result"
    }
   ],
   "source": [
    "np.empty(2, dtype=np.int8)"
   ],
   "metadata": {
    "collapsed": false,
    "ExecuteTime": {
     "end_time": "2024-03-21T07:47:49.222904800Z",
     "start_time": "2024-03-21T07:47:49.200880Z"
    }
   },
   "id": "133e725f4621f0e3",
   "execution_count": 159
  },
  {
   "cell_type": "code",
   "outputs": [],
   "source": [],
   "metadata": {
    "collapsed": false
   },
   "id": "1469b8eaf31427d5"
  }
 ],
 "metadata": {
  "kernelspec": {
   "display_name": "Python 3",
   "language": "python",
   "name": "python3"
  },
  "language_info": {
   "codemirror_mode": {
    "name": "ipython",
    "version": 2
   },
   "file_extension": ".py",
   "mimetype": "text/x-python",
   "name": "python",
   "nbconvert_exporter": "python",
   "pygments_lexer": "ipython2",
   "version": "2.7.6"
  }
 },
 "nbformat": 4,
 "nbformat_minor": 5
}
