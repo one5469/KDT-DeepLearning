{
 "cells": [
  {
   "cell_type": "code",
   "execution_count": 15,
   "id": "initial_id",
   "metadata": {
    "collapsed": true,
    "ExecuteTime": {
     "end_time": "2024-03-19T02:30:32.213428300Z",
     "start_time": "2024-03-19T02:30:32.191662400Z"
    }
   },
   "outputs": [],
   "source": [
    "import torch\n",
    "import torch.nn as nn\n",
    "from torchinfo import summary"
   ]
  },
  {
   "cell_type": "code",
   "outputs": [],
   "source": [
    "class Net(nn.Module):\n",
    "    def __init__(self):\n",
    "        super(Net, self).__init__()\n",
    "        \n",
    "        self.fc1 = nn.Linear(8, 4)\n",
    "        self.fc2 = nn.Linear(4, 2)\n",
    "        self.fc3 = nn.Linear(2, 1)\n",
    "        \n",
    "    def forward(self, x):\n",
    "        return self.fc3(self.fc2(self.fc1(x)))"
   ],
   "metadata": {
    "collapsed": false,
    "ExecuteTime": {
     "end_time": "2024-03-19T01:45:22.193016300Z",
     "start_time": "2024-03-19T01:45:22.184045400Z"
    }
   },
   "id": "8906a9f222e0acd7",
   "execution_count": 2
  },
  {
   "cell_type": "code",
   "outputs": [
    {
     "name": "stdout",
     "output_type": "stream",
     "text": [
      "Net(\n",
      "  (fc1): Linear(in_features=8, out_features=4, bias=True)\n",
      "  (fc2): Linear(in_features=4, out_features=2, bias=True)\n",
      "  (fc3): Linear(in_features=2, out_features=1, bias=True)\n",
      ")\n"
     ]
    },
    {
     "data": {
      "text/plain": "=================================================================\nLayer (type:depth-idx)                   Param #\n=================================================================\nNet                                      --\n├─Linear: 1-1                            36\n├─Linear: 1-2                            10\n├─Linear: 1-3                            3\n=================================================================\nTotal params: 49\nTrainable params: 49\nNon-trainable params: 0\n================================================================="
     },
     "execution_count": 16,
     "metadata": {},
     "output_type": "execute_result"
    }
   ],
   "source": [
    "## 모델 인스턴스 생성\n",
    "model = Net()\n",
    "\n",
    "print(model)\n",
    "\n",
    "summary(model)"
   ],
   "metadata": {
    "collapsed": false,
    "ExecuteTime": {
     "end_time": "2024-03-19T02:34:44.094224400Z",
     "start_time": "2024-03-19T02:34:44.075856400Z"
    }
   },
   "id": "cce8f4b1574117e",
   "execution_count": 16
  },
  {
   "cell_type": "code",
   "outputs": [
    {
     "data": {
      "text/plain": "Linear(in_features=8, out_features=4, bias=True)"
     },
     "execution_count": 9,
     "metadata": {},
     "output_type": "execute_result"
    }
   ],
   "source": [
    "# 모델 인스턴스 속성 확인\n",
    "# 모델의 특정 층 추출\n",
    "model.fc1"
   ],
   "metadata": {
    "collapsed": false,
    "ExecuteTime": {
     "end_time": "2024-03-19T01:54:09.702976Z",
     "start_time": "2024-03-19T01:54:09.694006Z"
    }
   },
   "id": "cc34179c79b9fa27",
   "execution_count": 9
  },
  {
   "cell_type": "code",
   "outputs": [
    {
     "name": "stdout",
     "output_type": "stream",
     "text": [
      "Parameter containing:\n",
      "tensor([[ 0.2360,  0.2232,  0.0547, -0.0898, -0.2378,  0.1014, -0.1268, -0.0497],\n",
      "        [-0.1988,  0.0514,  0.3381,  0.0259, -0.0900,  0.0892,  0.0664,  0.2452],\n",
      "        [-0.0087, -0.0422, -0.1000, -0.1470, -0.0201,  0.1051, -0.0811, -0.1713],\n",
      "        [-0.2780, -0.1527, -0.3285, -0.0046,  0.3396, -0.1163,  0.2641,  0.2366]],\n",
      "       requires_grad=True)\n",
      "\n",
      "Parameter containing:\n",
      "tensor([-0.3225,  0.3396,  0.0839, -0.0866], requires_grad=True)\n",
      "\n",
      "Parameter containing:\n",
      "tensor([[-0.3661,  0.0062,  0.3532,  0.4357],\n",
      "        [ 0.2027,  0.4222, -0.0390, -0.0889]], requires_grad=True)\n",
      "\n",
      "Parameter containing:\n",
      "tensor([-0.4224,  0.1856], requires_grad=True)\n",
      "\n",
      "Parameter containing:\n",
      "tensor([[-0.1906,  0.1401]], requires_grad=True)\n",
      "\n",
      "Parameter containing:\n",
      "tensor([-0.1395], requires_grad=True)\n"
     ]
    }
   ],
   "source": [
    "# 모델의 각 층별 w, b 텐서 정보 확인\n",
    "for param in model.parameters():\n",
    "    print(param, end='\\n\\n')"
   ],
   "metadata": {
    "collapsed": false,
    "ExecuteTime": {
     "end_time": "2024-03-19T01:50:54.008351300Z",
     "start_time": "2024-03-19T01:50:53.969413100Z"
    }
   },
   "id": "d7fb29fa251f3fef",
   "execution_count": 6
  },
  {
   "cell_type": "code",
   "outputs": [
    {
     "name": "stdout",
     "output_type": "stream",
     "text": [
      "('fc1.weight', Parameter containing:\n",
      "tensor([[ 0.2360,  0.2232,  0.0547, -0.0898, -0.2378,  0.1014, -0.1268, -0.0497],\n",
      "        [-0.1988,  0.0514,  0.3381,  0.0259, -0.0900,  0.0892,  0.0664,  0.2452],\n",
      "        [-0.0087, -0.0422, -0.1000, -0.1470, -0.0201,  0.1051, -0.0811, -0.1713],\n",
      "        [-0.2780, -0.1527, -0.3285, -0.0046,  0.3396, -0.1163,  0.2641,  0.2366]],\n",
      "       requires_grad=True))\n",
      "\n",
      "('fc1.bias', Parameter containing:\n",
      "tensor([-0.3225,  0.3396,  0.0839, -0.0866], requires_grad=True))\n",
      "\n",
      "('fc2.weight', Parameter containing:\n",
      "tensor([[-0.3661,  0.0062,  0.3532,  0.4357],\n",
      "        [ 0.2027,  0.4222, -0.0390, -0.0889]], requires_grad=True))\n",
      "\n",
      "('fc2.bias', Parameter containing:\n",
      "tensor([-0.4224,  0.1856], requires_grad=True))\n",
      "\n",
      "('fc3.weight', Parameter containing:\n",
      "tensor([[-0.1906,  0.1401]], requires_grad=True))\n",
      "\n",
      "('fc3.bias', Parameter containing:\n",
      "tensor([-0.1395], requires_grad=True))\n"
     ]
    }
   ],
   "source": [
    "for param in model.named_parameters():\n",
    "    print(param, end='\\n\\n')"
   ],
   "metadata": {
    "collapsed": false,
    "ExecuteTime": {
     "end_time": "2024-03-19T01:51:07.274085300Z",
     "start_time": "2024-03-19T01:51:07.253139900Z"
    }
   },
   "id": "e709f1f38807b9fb",
   "execution_count": 7
  },
  {
   "cell_type": "code",
   "outputs": [
    {
     "name": "stdout",
     "output_type": "stream",
     "text": [
      "Linear(in_features=8, out_features=4, bias=True)\n",
      "\n",
      "Linear(in_features=4, out_features=2, bias=True)\n",
      "\n",
      "Linear(in_features=2, out_features=1, bias=True)\n"
     ]
    }
   ],
   "source": [
    "for child in model.children():\n",
    "    print(child, end='\\n\\n')"
   ],
   "metadata": {
    "collapsed": false,
    "ExecuteTime": {
     "end_time": "2024-03-19T02:06:59.146344100Z",
     "start_time": "2024-03-19T02:06:59.123400100Z"
    }
   },
   "id": "7f4f8dc10cc31284",
   "execution_count": 14
  },
  {
   "cell_type": "markdown",
   "source": [
    "- Layer의 가중치 설정"
   ],
   "metadata": {
    "collapsed": false
   },
   "id": "5543c5aefdf4c730"
  },
  {
   "cell_type": "code",
   "outputs": [
    {
     "name": "stderr",
     "output_type": "stream",
     "text": [
      "C:\\Users\\kdp\\AppData\\Local\\Temp\\ipykernel_9228\\2264733552.py:1: UserWarning: nn.init.xavier_uniform is now deprecated in favor of nn.init.xavier_uniform_.\n",
      "  nn.init.xavier_uniform(model.fc1.weight)\n"
     ]
    },
    {
     "data": {
      "text/plain": "Parameter containing:\ntensor([[ 0.3724, -0.3341,  0.6159, -0.6610,  0.3580, -0.0042, -0.1608,  0.5505],\n        [-0.4614, -0.6676, -0.1363,  0.5051, -0.5940,  0.3467, -0.4006,  0.2407],\n        [-0.0962,  0.0733,  0.1173,  0.6269, -0.2814,  0.1252,  0.1848,  0.0031],\n        [-0.1941,  0.5147,  0.6063, -0.0183, -0.1322,  0.6477,  0.2107, -0.0448]],\n       requires_grad=True)"
     },
     "execution_count": 11,
     "metadata": {},
     "output_type": "execute_result"
    }
   ],
   "source": [
    "# 세비어 알고리즘의 가중치 초기화\n",
    "nn.init.xavier_uniform(model.fc1.weight)"
   ],
   "metadata": {
    "collapsed": false,
    "ExecuteTime": {
     "end_time": "2024-03-19T01:57:43.183540900Z",
     "start_time": "2024-03-19T01:57:43.154635300Z"
    }
   },
   "id": "3bb00fc3c8bb3105",
   "execution_count": 11
  },
  {
   "cell_type": "code",
   "outputs": [
    {
     "name": "stderr",
     "output_type": "stream",
     "text": [
      "C:\\Users\\kdp\\AppData\\Local\\Temp\\ipykernel_9228\\1732010444.py:2: UserWarning: nn.init.kaiming_uniform is now deprecated in favor of nn.init.kaiming_uniform_.\n",
      "  nn.init.kaiming_uniform(model.fc1.weight)\n"
     ]
    },
    {
     "data": {
      "text/plain": "Parameter containing:\ntensor([[-0.6689,  0.3769,  0.5631, -0.7927, -0.7053, -0.1717, -0.3474,  0.6750],\n        [-0.3627,  0.0023,  0.3938,  0.5982,  0.8492, -0.3427, -0.0183,  0.8428],\n        [-0.0146,  0.2221,  0.6658,  0.1900, -0.6894, -0.8440, -0.7418, -0.7727],\n        [-0.2638, -0.2478,  0.8391, -0.2636,  0.6179,  0.8289,  0.2607, -0.4430]],\n       requires_grad=True)"
     },
     "execution_count": 13,
     "metadata": {},
     "output_type": "execute_result"
    }
   ],
   "source": [
    "# 헤 알고리즘의 가중치 초기화\n",
    "nn.init.kaiming_uniform(model.fc1.weight)"
   ],
   "metadata": {
    "collapsed": false,
    "ExecuteTime": {
     "end_time": "2024-03-19T02:01:40.018309300Z",
     "start_time": "2024-03-19T02:01:40.010825700Z"
    }
   },
   "id": "7ad0f6bc06e7eaff",
   "execution_count": 13
  },
  {
   "cell_type": "code",
   "outputs": [],
   "source": [
    "torch.save(model, '../data/model/testModel.pth')"
   ],
   "metadata": {
    "collapsed": false,
    "ExecuteTime": {
     "end_time": "2024-03-19T04:10:15.242018Z",
     "start_time": "2024-03-19T04:10:15.232658900Z"
    }
   },
   "id": "77221c6bbff56d32",
   "execution_count": 18
  },
  {
   "cell_type": "code",
   "outputs": [],
   "source": [
    "torch.load"
   ],
   "metadata": {
    "collapsed": false
   },
   "id": "fb6a45e1ff669214"
  }
 ],
 "metadata": {
  "kernelspec": {
   "display_name": "Python 3",
   "language": "python",
   "name": "python3"
  },
  "language_info": {
   "codemirror_mode": {
    "name": "ipython",
    "version": 2
   },
   "file_extension": ".py",
   "mimetype": "text/x-python",
   "name": "python",
   "nbconvert_exporter": "python",
   "pygments_lexer": "ipython2",
   "version": "2.7.6"
  }
 },
 "nbformat": 4,
 "nbformat_minor": 5
}
