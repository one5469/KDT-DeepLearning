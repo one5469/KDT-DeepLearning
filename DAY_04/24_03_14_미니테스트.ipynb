{
 "cells": [
  {
   "cell_type": "markdown",
   "metadata": {},
   "source": [
    "#### [ 미니 테스트  2024-03-14 ]<hr>"
   ]
  },
  {
   "cell_type": "markdown",
   "metadata": {},
   "source": [
    "[1] 지도학습에 대한 설명과 종류에 대해서 간략하게 설명해 주세요."
   ]
  },
  {
   "cell_type": "markdown",
   "metadata": {},
   "source": [
    "지도학습은 데이터에 라"
   ]
  },
  {
   "cell_type": "markdown",
   "metadata": {},
   "source": [
    "[2] 지도학습의 학습 프로세스를 간략하게 설명해 주세요."
   ]
  },
  {
   "cell_type": "code",
   "execution_count": 54,
   "metadata": {
    "ExecuteTime": {
     "end_time": "2024-03-14T05:58:04.639923700Z",
     "start_time": "2024-03-14T05:58:04.575136800Z"
    }
   },
   "outputs": [],
   "source": []
  },
  {
   "cell_type": "markdown",
   "metadata": {},
   "source": [
    "[3] 선형회귀 대해 간략하게 설명해주세요.  \n",
    "    - 개념  \n",
    "    - 조건  \n",
    "    - 동작원리  \n",
    "    - 선형식  \n",
    "    - 오차/잔차 계산 방법  "
   ]
  },
  {
   "cell_type": "markdown",
   "metadata": {},
   "source": [
    " "
   ]
  },
  {
   "cell_type": "markdown",
   "metadata": {},
   "source": [
    "[4] 로지스틱회귀 대해 간략하게 설명해주세요.  \n",
    "   - 개념  \n",
    "   - 조건  \n",
    "   - 동작원리  \n",
    "   - 선형식  \n",
    "   - 오차/잔차 계산 방법  "
   ]
  },
  {
   "cell_type": "markdown",
   "metadata": {},
   "source": [
    " "
   ]
  },
  {
   "cell_type": "markdown",
   "metadata": {},
   "source": [
    "[5] Fashion MNIST 데이터셋에서 10개 카테고리 중 하나를 선택해서 2진 분류로 구현해 주세요.  \n",
    "- 데이터셋 : scikit-learn의 datasets 사용\n",
    "    - from sklearn.datasets import fetch_openml \n",
    "    - db_name = 'Fashion-MNIST'\n",
    "    - fashion_data = fetch_openml(name=db_name, parser='auto')"
   ]
  },
  {
   "cell_type": "code",
   "outputs": [],
   "source": [
    "import torch\n",
    "from torch import tensor\n",
    "from torch import functional as F\n",
    "from torch import optim\n",
    "from torch import nn"
   ],
   "metadata": {
    "collapsed": false,
    "ExecuteTime": {
     "end_time": "2024-03-14T05:58:04.659841900Z",
     "start_time": "2024-03-14T05:58:04.643895200Z"
    }
   },
   "execution_count": 55
  },
  {
   "cell_type": "code",
   "execution_count": 56,
   "metadata": {
    "ExecuteTime": {
     "end_time": "2024-03-14T05:58:08.409243400Z",
     "start_time": "2024-03-14T05:58:04.649874500Z"
    }
   },
   "outputs": [],
   "source": [
    "from sklearn.datasets import fetch_openml\n",
    "\n",
    "db_name = 'Fashion-MNIST'\n",
    "fashion_data = fetch_openml(name=db_name, parser='auto')"
   ]
  },
  {
   "cell_type": "code",
   "outputs": [
    {
     "data": {
      "text/plain": "<torch._C.Generator at 0x2657a4625b0>"
     },
     "execution_count": 57,
     "metadata": {},
     "output_type": "execute_result"
    }
   ],
   "source": [
    "torch.manual_seed(0)"
   ],
   "metadata": {
    "collapsed": false,
    "ExecuteTime": {
     "end_time": "2024-03-14T05:58:08.434411600Z",
     "start_time": "2024-03-14T05:58:08.413301400Z"
    }
   },
   "execution_count": 57
  },
  {
   "cell_type": "code",
   "outputs": [
    {
     "data": {
      "text/plain": "{'data':        pixel1  pixel2  pixel3  pixel4  pixel5  pixel6  pixel7  pixel8  pixel9  \\\n 0           0       0       0       0       0       0       0       0       0   \n 1           0       0       0       0       0       1       0       0       0   \n 2           0       0       0       0       0       0       0       0       0   \n 3           0       0       0       0       0       0       0       0      33   \n 4           0       0       0       0       0       0       0       0       0   \n ...       ...     ...     ...     ...     ...     ...     ...     ...     ...   \n 69995       0       0       0       0       0       0       0       0       0   \n 69996       0       0       0       0       0       0       0       0       0   \n 69997       0       0       0       0       0       0       0       0       0   \n 69998       0       0       0       0       0       0       0       0       0   \n 69999       0       0       0       0       0       0       0       0       0   \n \n        pixel10  ...  pixel775  pixel776  pixel777  pixel778  pixel779  \\\n 0            0  ...         0         0         0         0         0   \n 1            0  ...       119       114       130        76         0   \n 2           22  ...         0         0         1         0         0   \n 3           96  ...         0         0         0         0         0   \n 4            0  ...         0         0         0         0         0   \n ...        ...  ...       ...       ...       ...       ...       ...   \n 69995        0  ...         0         0         0         0         0   \n 69996       31  ...         0         0         0         0         0   \n 69997        0  ...        27         0         0         0         0   \n 69998        0  ...         0         0         0         0         0   \n 69999        0  ...         0         0         0         0         0   \n \n        pixel780  pixel781  pixel782  pixel783  pixel784  \n 0             0         0         0         0         0  \n 1             0         0         0         0         0  \n 2             0         0         0         0         0  \n 3             0         0         0         0         0  \n 4             0         0         0         0         0  \n ...         ...       ...       ...       ...       ...  \n 69995         0         0         0         0         0  \n 69996         0         0         0         0         0  \n 69997         0         0         0         0         0  \n 69998         0         0         0         0         0  \n 69999         0         0         0         0         0  \n \n [70000 rows x 784 columns],\n 'target': 0        9\n 1        0\n 2        0\n 3        3\n 4        0\n         ..\n 69995    9\n 69996    1\n 69997    8\n 69998    1\n 69999    5\n Name: class, Length: 70000, dtype: category\n Categories (10, object): ['0', '1', '2', '3', ..., '6', '7', '8', '9'],\n 'frame':        pixel1  pixel2  pixel3  pixel4  pixel5  pixel6  pixel7  pixel8  pixel9  \\\n 0           0       0       0       0       0       0       0       0       0   \n 1           0       0       0       0       0       1       0       0       0   \n 2           0       0       0       0       0       0       0       0       0   \n 3           0       0       0       0       0       0       0       0      33   \n 4           0       0       0       0       0       0       0       0       0   \n ...       ...     ...     ...     ...     ...     ...     ...     ...     ...   \n 69995       0       0       0       0       0       0       0       0       0   \n 69996       0       0       0       0       0       0       0       0       0   \n 69997       0       0       0       0       0       0       0       0       0   \n 69998       0       0       0       0       0       0       0       0       0   \n 69999       0       0       0       0       0       0       0       0       0   \n \n        pixel10  ...  pixel776  pixel777  pixel778  pixel779  pixel780  \\\n 0            0  ...         0         0         0         0         0   \n 1            0  ...       114       130        76         0         0   \n 2           22  ...         0         1         0         0         0   \n 3           96  ...         0         0         0         0         0   \n 4            0  ...         0         0         0         0         0   \n ...        ...  ...       ...       ...       ...       ...       ...   \n 69995        0  ...         0         0         0         0         0   \n 69996       31  ...         0         0         0         0         0   \n 69997        0  ...         0         0         0         0         0   \n 69998        0  ...         0         0         0         0         0   \n 69999        0  ...         0         0         0         0         0   \n \n        pixel781  pixel782  pixel783  pixel784  class  \n 0             0         0         0         0      9  \n 1             0         0         0         0      0  \n 2             0         0         0         0      0  \n 3             0         0         0         0      3  \n 4             0         0         0         0      0  \n ...         ...       ...       ...       ...    ...  \n 69995         0         0         0         0      9  \n 69996         0         0         0         0      1  \n 69997         0         0         0         0      8  \n 69998         0         0         0         0      1  \n 69999         0         0         0         0      5  \n \n [70000 rows x 785 columns],\n 'categories': None,\n 'feature_names': ['pixel1',\n  'pixel2',\n  'pixel3',\n  'pixel4',\n  'pixel5',\n  'pixel6',\n  'pixel7',\n  'pixel8',\n  'pixel9',\n  'pixel10',\n  'pixel11',\n  'pixel12',\n  'pixel13',\n  'pixel14',\n  'pixel15',\n  'pixel16',\n  'pixel17',\n  'pixel18',\n  'pixel19',\n  'pixel20',\n  'pixel21',\n  'pixel22',\n  'pixel23',\n  'pixel24',\n  'pixel25',\n  'pixel26',\n  'pixel27',\n  'pixel28',\n  'pixel29',\n  'pixel30',\n  'pixel31',\n  'pixel32',\n  'pixel33',\n  'pixel34',\n  'pixel35',\n  'pixel36',\n  'pixel37',\n  'pixel38',\n  'pixel39',\n  'pixel40',\n  'pixel41',\n  'pixel42',\n  'pixel43',\n  'pixel44',\n  'pixel45',\n  'pixel46',\n  'pixel47',\n  'pixel48',\n  'pixel49',\n  'pixel50',\n  'pixel51',\n  'pixel52',\n  'pixel53',\n  'pixel54',\n  'pixel55',\n  'pixel56',\n  'pixel57',\n  'pixel58',\n  'pixel59',\n  'pixel60',\n  'pixel61',\n  'pixel62',\n  'pixel63',\n  'pixel64',\n  'pixel65',\n  'pixel66',\n  'pixel67',\n  'pixel68',\n  'pixel69',\n  'pixel70',\n  'pixel71',\n  'pixel72',\n  'pixel73',\n  'pixel74',\n  'pixel75',\n  'pixel76',\n  'pixel77',\n  'pixel78',\n  'pixel79',\n  'pixel80',\n  'pixel81',\n  'pixel82',\n  'pixel83',\n  'pixel84',\n  'pixel85',\n  'pixel86',\n  'pixel87',\n  'pixel88',\n  'pixel89',\n  'pixel90',\n  'pixel91',\n  'pixel92',\n  'pixel93',\n  'pixel94',\n  'pixel95',\n  'pixel96',\n  'pixel97',\n  'pixel98',\n  'pixel99',\n  'pixel100',\n  'pixel101',\n  'pixel102',\n  'pixel103',\n  'pixel104',\n  'pixel105',\n  'pixel106',\n  'pixel107',\n  'pixel108',\n  'pixel109',\n  'pixel110',\n  'pixel111',\n  'pixel112',\n  'pixel113',\n  'pixel114',\n  'pixel115',\n  'pixel116',\n  'pixel117',\n  'pixel118',\n  'pixel119',\n  'pixel120',\n  'pixel121',\n  'pixel122',\n  'pixel123',\n  'pixel124',\n  'pixel125',\n  'pixel126',\n  'pixel127',\n  'pixel128',\n  'pixel129',\n  'pixel130',\n  'pixel131',\n  'pixel132',\n  'pixel133',\n  'pixel134',\n  'pixel135',\n  'pixel136',\n  'pixel137',\n  'pixel138',\n  'pixel139',\n  'pixel140',\n  'pixel141',\n  'pixel142',\n  'pixel143',\n  'pixel144',\n  'pixel145',\n  'pixel146',\n  'pixel147',\n  'pixel148',\n  'pixel149',\n  'pixel150',\n  'pixel151',\n  'pixel152',\n  'pixel153',\n  'pixel154',\n  'pixel155',\n  'pixel156',\n  'pixel157',\n  'pixel158',\n  'pixel159',\n  'pixel160',\n  'pixel161',\n  'pixel162',\n  'pixel163',\n  'pixel164',\n  'pixel165',\n  'pixel166',\n  'pixel167',\n  'pixel168',\n  'pixel169',\n  'pixel170',\n  'pixel171',\n  'pixel172',\n  'pixel173',\n  'pixel174',\n  'pixel175',\n  'pixel176',\n  'pixel177',\n  'pixel178',\n  'pixel179',\n  'pixel180',\n  'pixel181',\n  'pixel182',\n  'pixel183',\n  'pixel184',\n  'pixel185',\n  'pixel186',\n  'pixel187',\n  'pixel188',\n  'pixel189',\n  'pixel190',\n  'pixel191',\n  'pixel192',\n  'pixel193',\n  'pixel194',\n  'pixel195',\n  'pixel196',\n  'pixel197',\n  'pixel198',\n  'pixel199',\n  'pixel200',\n  'pixel201',\n  'pixel202',\n  'pixel203',\n  'pixel204',\n  'pixel205',\n  'pixel206',\n  'pixel207',\n  'pixel208',\n  'pixel209',\n  'pixel210',\n  'pixel211',\n  'pixel212',\n  'pixel213',\n  'pixel214',\n  'pixel215',\n  'pixel216',\n  'pixel217',\n  'pixel218',\n  'pixel219',\n  'pixel220',\n  'pixel221',\n  'pixel222',\n  'pixel223',\n  'pixel224',\n  'pixel225',\n  'pixel226',\n  'pixel227',\n  'pixel228',\n  'pixel229',\n  'pixel230',\n  'pixel231',\n  'pixel232',\n  'pixel233',\n  'pixel234',\n  'pixel235',\n  'pixel236',\n  'pixel237',\n  'pixel238',\n  'pixel239',\n  'pixel240',\n  'pixel241',\n  'pixel242',\n  'pixel243',\n  'pixel244',\n  'pixel245',\n  'pixel246',\n  'pixel247',\n  'pixel248',\n  'pixel249',\n  'pixel250',\n  'pixel251',\n  'pixel252',\n  'pixel253',\n  'pixel254',\n  'pixel255',\n  'pixel256',\n  'pixel257',\n  'pixel258',\n  'pixel259',\n  'pixel260',\n  'pixel261',\n  'pixel262',\n  'pixel263',\n  'pixel264',\n  'pixel265',\n  'pixel266',\n  'pixel267',\n  'pixel268',\n  'pixel269',\n  'pixel270',\n  'pixel271',\n  'pixel272',\n  'pixel273',\n  'pixel274',\n  'pixel275',\n  'pixel276',\n  'pixel277',\n  'pixel278',\n  'pixel279',\n  'pixel280',\n  'pixel281',\n  'pixel282',\n  'pixel283',\n  'pixel284',\n  'pixel285',\n  'pixel286',\n  'pixel287',\n  'pixel288',\n  'pixel289',\n  'pixel290',\n  'pixel291',\n  'pixel292',\n  'pixel293',\n  'pixel294',\n  'pixel295',\n  'pixel296',\n  'pixel297',\n  'pixel298',\n  'pixel299',\n  'pixel300',\n  'pixel301',\n  'pixel302',\n  'pixel303',\n  'pixel304',\n  'pixel305',\n  'pixel306',\n  'pixel307',\n  'pixel308',\n  'pixel309',\n  'pixel310',\n  'pixel311',\n  'pixel312',\n  'pixel313',\n  'pixel314',\n  'pixel315',\n  'pixel316',\n  'pixel317',\n  'pixel318',\n  'pixel319',\n  'pixel320',\n  'pixel321',\n  'pixel322',\n  'pixel323',\n  'pixel324',\n  'pixel325',\n  'pixel326',\n  'pixel327',\n  'pixel328',\n  'pixel329',\n  'pixel330',\n  'pixel331',\n  'pixel332',\n  'pixel333',\n  'pixel334',\n  'pixel335',\n  'pixel336',\n  'pixel337',\n  'pixel338',\n  'pixel339',\n  'pixel340',\n  'pixel341',\n  'pixel342',\n  'pixel343',\n  'pixel344',\n  'pixel345',\n  'pixel346',\n  'pixel347',\n  'pixel348',\n  'pixel349',\n  'pixel350',\n  'pixel351',\n  'pixel352',\n  'pixel353',\n  'pixel354',\n  'pixel355',\n  'pixel356',\n  'pixel357',\n  'pixel358',\n  'pixel359',\n  'pixel360',\n  'pixel361',\n  'pixel362',\n  'pixel363',\n  'pixel364',\n  'pixel365',\n  'pixel366',\n  'pixel367',\n  'pixel368',\n  'pixel369',\n  'pixel370',\n  'pixel371',\n  'pixel372',\n  'pixel373',\n  'pixel374',\n  'pixel375',\n  'pixel376',\n  'pixel377',\n  'pixel378',\n  'pixel379',\n  'pixel380',\n  'pixel381',\n  'pixel382',\n  'pixel383',\n  'pixel384',\n  'pixel385',\n  'pixel386',\n  'pixel387',\n  'pixel388',\n  'pixel389',\n  'pixel390',\n  'pixel391',\n  'pixel392',\n  'pixel393',\n  'pixel394',\n  'pixel395',\n  'pixel396',\n  'pixel397',\n  'pixel398',\n  'pixel399',\n  'pixel400',\n  'pixel401',\n  'pixel402',\n  'pixel403',\n  'pixel404',\n  'pixel405',\n  'pixel406',\n  'pixel407',\n  'pixel408',\n  'pixel409',\n  'pixel410',\n  'pixel411',\n  'pixel412',\n  'pixel413',\n  'pixel414',\n  'pixel415',\n  'pixel416',\n  'pixel417',\n  'pixel418',\n  'pixel419',\n  'pixel420',\n  'pixel421',\n  'pixel422',\n  'pixel423',\n  'pixel424',\n  'pixel425',\n  'pixel426',\n  'pixel427',\n  'pixel428',\n  'pixel429',\n  'pixel430',\n  'pixel431',\n  'pixel432',\n  'pixel433',\n  'pixel434',\n  'pixel435',\n  'pixel436',\n  'pixel437',\n  'pixel438',\n  'pixel439',\n  'pixel440',\n  'pixel441',\n  'pixel442',\n  'pixel443',\n  'pixel444',\n  'pixel445',\n  'pixel446',\n  'pixel447',\n  'pixel448',\n  'pixel449',\n  'pixel450',\n  'pixel451',\n  'pixel452',\n  'pixel453',\n  'pixel454',\n  'pixel455',\n  'pixel456',\n  'pixel457',\n  'pixel458',\n  'pixel459',\n  'pixel460',\n  'pixel461',\n  'pixel462',\n  'pixel463',\n  'pixel464',\n  'pixel465',\n  'pixel466',\n  'pixel467',\n  'pixel468',\n  'pixel469',\n  'pixel470',\n  'pixel471',\n  'pixel472',\n  'pixel473',\n  'pixel474',\n  'pixel475',\n  'pixel476',\n  'pixel477',\n  'pixel478',\n  'pixel479',\n  'pixel480',\n  'pixel481',\n  'pixel482',\n  'pixel483',\n  'pixel484',\n  'pixel485',\n  'pixel486',\n  'pixel487',\n  'pixel488',\n  'pixel489',\n  'pixel490',\n  'pixel491',\n  'pixel492',\n  'pixel493',\n  'pixel494',\n  'pixel495',\n  'pixel496',\n  'pixel497',\n  'pixel498',\n  'pixel499',\n  'pixel500',\n  'pixel501',\n  'pixel502',\n  'pixel503',\n  'pixel504',\n  'pixel505',\n  'pixel506',\n  'pixel507',\n  'pixel508',\n  'pixel509',\n  'pixel510',\n  'pixel511',\n  'pixel512',\n  'pixel513',\n  'pixel514',\n  'pixel515',\n  'pixel516',\n  'pixel517',\n  'pixel518',\n  'pixel519',\n  'pixel520',\n  'pixel521',\n  'pixel522',\n  'pixel523',\n  'pixel524',\n  'pixel525',\n  'pixel526',\n  'pixel527',\n  'pixel528',\n  'pixel529',\n  'pixel530',\n  'pixel531',\n  'pixel532',\n  'pixel533',\n  'pixel534',\n  'pixel535',\n  'pixel536',\n  'pixel537',\n  'pixel538',\n  'pixel539',\n  'pixel540',\n  'pixel541',\n  'pixel542',\n  'pixel543',\n  'pixel544',\n  'pixel545',\n  'pixel546',\n  'pixel547',\n  'pixel548',\n  'pixel549',\n  'pixel550',\n  'pixel551',\n  'pixel552',\n  'pixel553',\n  'pixel554',\n  'pixel555',\n  'pixel556',\n  'pixel557',\n  'pixel558',\n  'pixel559',\n  'pixel560',\n  'pixel561',\n  'pixel562',\n  'pixel563',\n  'pixel564',\n  'pixel565',\n  'pixel566',\n  'pixel567',\n  'pixel568',\n  'pixel569',\n  'pixel570',\n  'pixel571',\n  'pixel572',\n  'pixel573',\n  'pixel574',\n  'pixel575',\n  'pixel576',\n  'pixel577',\n  'pixel578',\n  'pixel579',\n  'pixel580',\n  'pixel581',\n  'pixel582',\n  'pixel583',\n  'pixel584',\n  'pixel585',\n  'pixel586',\n  'pixel587',\n  'pixel588',\n  'pixel589',\n  'pixel590',\n  'pixel591',\n  'pixel592',\n  'pixel593',\n  'pixel594',\n  'pixel595',\n  'pixel596',\n  'pixel597',\n  'pixel598',\n  'pixel599',\n  'pixel600',\n  'pixel601',\n  'pixel602',\n  'pixel603',\n  'pixel604',\n  'pixel605',\n  'pixel606',\n  'pixel607',\n  'pixel608',\n  'pixel609',\n  'pixel610',\n  'pixel611',\n  'pixel612',\n  'pixel613',\n  'pixel614',\n  'pixel615',\n  'pixel616',\n  'pixel617',\n  'pixel618',\n  'pixel619',\n  'pixel620',\n  'pixel621',\n  'pixel622',\n  'pixel623',\n  'pixel624',\n  'pixel625',\n  'pixel626',\n  'pixel627',\n  'pixel628',\n  'pixel629',\n  'pixel630',\n  'pixel631',\n  'pixel632',\n  'pixel633',\n  'pixel634',\n  'pixel635',\n  'pixel636',\n  'pixel637',\n  'pixel638',\n  'pixel639',\n  'pixel640',\n  'pixel641',\n  'pixel642',\n  'pixel643',\n  'pixel644',\n  'pixel645',\n  'pixel646',\n  'pixel647',\n  'pixel648',\n  'pixel649',\n  'pixel650',\n  'pixel651',\n  'pixel652',\n  'pixel653',\n  'pixel654',\n  'pixel655',\n  'pixel656',\n  'pixel657',\n  'pixel658',\n  'pixel659',\n  'pixel660',\n  'pixel661',\n  'pixel662',\n  'pixel663',\n  'pixel664',\n  'pixel665',\n  'pixel666',\n  'pixel667',\n  'pixel668',\n  'pixel669',\n  'pixel670',\n  'pixel671',\n  'pixel672',\n  'pixel673',\n  'pixel674',\n  'pixel675',\n  'pixel676',\n  'pixel677',\n  'pixel678',\n  'pixel679',\n  'pixel680',\n  'pixel681',\n  'pixel682',\n  'pixel683',\n  'pixel684',\n  'pixel685',\n  'pixel686',\n  'pixel687',\n  'pixel688',\n  'pixel689',\n  'pixel690',\n  'pixel691',\n  'pixel692',\n  'pixel693',\n  'pixel694',\n  'pixel695',\n  'pixel696',\n  'pixel697',\n  'pixel698',\n  'pixel699',\n  'pixel700',\n  'pixel701',\n  'pixel702',\n  'pixel703',\n  'pixel704',\n  'pixel705',\n  'pixel706',\n  'pixel707',\n  'pixel708',\n  'pixel709',\n  'pixel710',\n  'pixel711',\n  'pixel712',\n  'pixel713',\n  'pixel714',\n  'pixel715',\n  'pixel716',\n  'pixel717',\n  'pixel718',\n  'pixel719',\n  'pixel720',\n  'pixel721',\n  'pixel722',\n  'pixel723',\n  'pixel724',\n  'pixel725',\n  'pixel726',\n  'pixel727',\n  'pixel728',\n  'pixel729',\n  'pixel730',\n  'pixel731',\n  'pixel732',\n  'pixel733',\n  'pixel734',\n  'pixel735',\n  'pixel736',\n  'pixel737',\n  'pixel738',\n  'pixel739',\n  'pixel740',\n  'pixel741',\n  'pixel742',\n  'pixel743',\n  'pixel744',\n  'pixel745',\n  'pixel746',\n  'pixel747',\n  'pixel748',\n  'pixel749',\n  'pixel750',\n  'pixel751',\n  'pixel752',\n  'pixel753',\n  'pixel754',\n  'pixel755',\n  'pixel756',\n  'pixel757',\n  'pixel758',\n  'pixel759',\n  'pixel760',\n  'pixel761',\n  'pixel762',\n  'pixel763',\n  'pixel764',\n  'pixel765',\n  'pixel766',\n  'pixel767',\n  'pixel768',\n  'pixel769',\n  'pixel770',\n  'pixel771',\n  'pixel772',\n  'pixel773',\n  'pixel774',\n  'pixel775',\n  'pixel776',\n  'pixel777',\n  'pixel778',\n  'pixel779',\n  'pixel780',\n  'pixel781',\n  'pixel782',\n  'pixel783',\n  'pixel784'],\n 'target_names': ['class'],\n 'DESCR': \"**Author**: Han Xiao, Kashif Rasul, Roland Vollgraf  \\n**Source**: [Zalando Research](https://github.com/zalandoresearch/fashion-mnist)  \\n**Please cite**: Han Xiao and Kashif Rasul and Roland Vollgraf, Fashion-MNIST: a Novel Image Dataset for Benchmarking Machine Learning Algorithms, arXiv, cs.LG/1708.07747  \\n\\nFashion-MNIST is a dataset of Zalando's article images, consisting of a training set of 60,000 examples and a test set of 10,000 examples. Each example is a 28x28 grayscale image, associated with a label from 10 classes. Fashion-MNIST is intended to serve as a direct drop-in replacement for the original MNIST dataset for benchmarking machine learning algorithms. It shares the same image size and structure of training and testing splits. \\n\\nRaw data available at: https://github.com/zalandoresearch/fashion-mnist\\n\\n### Target classes\\nEach training and test example is assigned to one of the following labels:\\nLabel  Description  \\n0  T-shirt/top  \\n1  Trouser  \\n2  Pullover  \\n3  Dress  \\n4  Coat  \\n5  Sandal  \\n6  Shirt  \\n7  Sneaker  \\n8  Bag  \\n9  Ankle boot\\n\\nDownloaded from openml.org.\",\n 'details': {'id': '40996',\n  'name': 'Fashion-MNIST',\n  'version': '1',\n  'description_version': '1',\n  'format': 'ARFF',\n  'creator': ['Han Xiao', 'Kashif Rasul', 'Roland Vollgraf'],\n  'upload_date': '2017-12-20T13:28:27',\n  'licence': 'Public',\n  'url': 'https://api.openml.org/data/v1/download/18238735/Fashion-MNIST.arff',\n  'parquet_url': 'https://openml1.win.tue.nl/datasets/0004/40996/dataset_40996.pq',\n  'file_id': '18238735',\n  'default_target_attribute': 'class',\n  'version_label': '1.0',\n  'citation': '@online{xiao2017/online,\\n  author       = {Han Xiao and Kashif Rasul and Roland Vollgraf},\\n  title        = {Fashion-MNIST: a Novel Image Dataset for Benchmarking Machine Learning Algorithms},\\n  date         = {2017-08-28},\\n  year         = {2017},\\n  eprintclass  = {cs.LG},\\n  eprinttype   = {arXiv},\\n  eprint       = {cs.LG/1708.07747},\\n}',\n  'tag': ['Meteorology',\n   'OpenML-CC18',\n   'study_218',\n   'study_99',\n   'Transportation',\n   'vision'],\n  'visibility': 'public',\n  'original_data_url': 'https://github.com/zalandoresearch/fashion-mnist',\n  'paper_url': 'Fashion-MNIST: a Novel Image Dataset for Benchmarking Machine Learning Algorithms. Han Xiao, Kashif Rasul, Roland Vollgraf. arXiv:1708.07747',\n  'minio_url': 'https://openml1.win.tue.nl/datasets/0004/40996/dataset_40996.pq',\n  'status': 'active',\n  'processing_date': '2018-10-04 07:21:31',\n  'md5_checksum': 'cdfc9c58cb9fe86ffaa76af247ae2ef2'},\n 'url': 'https://www.openml.org/d/40996'}"
     },
     "execution_count": 58,
     "metadata": {},
     "output_type": "execute_result"
    }
   ],
   "source": [
    "fashion_data"
   ],
   "metadata": {
    "collapsed": false,
    "ExecuteTime": {
     "end_time": "2024-03-14T05:58:08.471288800Z",
     "start_time": "2024-03-14T05:58:08.429428300Z"
    }
   },
   "execution_count": 58
  },
  {
   "cell_type": "code",
   "execution_count": 59,
   "metadata": {
    "ExecuteTime": {
     "end_time": "2024-03-14T05:58:08.497201100Z",
     "start_time": "2024-03-14T05:58:08.474279700Z"
    }
   },
   "outputs": [],
   "source": [
    "features = fashion_data['data']\n",
    "target = fashion_data['target']"
   ]
  },
  {
   "cell_type": "code",
   "outputs": [
    {
     "name": "stdout",
     "output_type": "stream",
     "text": [
      "[ 0  7 16  1 14  2  4]\n"
     ]
    }
   ],
   "source": [
    "print(features['pixel1'].unique())"
   ],
   "metadata": {
    "collapsed": false,
    "ExecuteTime": {
     "end_time": "2024-03-14T05:58:08.537120300Z",
     "start_time": "2024-03-14T05:58:08.491221800Z"
    }
   },
   "execution_count": 60
  },
  {
   "cell_type": "code",
   "outputs": [
    {
     "data": {
      "text/plain": "array([9, 0, 3, 2, 7, 5, 1, 6, 4, 8], dtype=int8)"
     },
     "execution_count": 61,
     "metadata": {},
     "output_type": "execute_result"
    }
   ],
   "source": [
    "target = target.astype('int8')\n",
    "target.unique()"
   ],
   "metadata": {
    "collapsed": false,
    "ExecuteTime": {
     "end_time": "2024-03-14T05:58:08.538117300Z",
     "start_time": "2024-03-14T05:58:08.505614800Z"
    }
   },
   "execution_count": 61
  },
  {
   "cell_type": "code",
   "outputs": [],
   "source": [
    "featuresT = torch.FloatTensor(features.values)\n",
    "targetT = torch.FloatTensor(target.values).unsqueeze(dim=1)"
   ],
   "metadata": {
    "collapsed": false,
    "ExecuteTime": {
     "end_time": "2024-03-14T05:58:08.737874800Z",
     "start_time": "2024-03-14T05:58:08.520262500Z"
    }
   },
   "execution_count": 62
  },
  {
   "cell_type": "code",
   "outputs": [
    {
     "data": {
      "text/plain": "(torch.Size([70000, 1]), torch.Size([70000, 784]))"
     },
     "execution_count": 63,
     "metadata": {},
     "output_type": "execute_result"
    }
   ],
   "source": [
    "targetT.shape, featuresT.shape"
   ],
   "metadata": {
    "collapsed": false,
    "ExecuteTime": {
     "end_time": "2024-03-14T05:58:08.751886500Z",
     "start_time": "2024-03-14T05:58:08.744550400Z"
    }
   },
   "execution_count": 63
  },
  {
   "cell_type": "code",
   "outputs": [
    {
     "data": {
      "text/plain": "(torch.float32, torch.float32)"
     },
     "execution_count": 64,
     "metadata": {},
     "output_type": "execute_result"
    }
   ],
   "source": [
    "targetT.dtype, featuresT.dtype"
   ],
   "metadata": {
    "collapsed": false,
    "ExecuteTime": {
     "end_time": "2024-03-14T05:58:08.785677600Z",
     "start_time": "2024-03-14T05:58:08.753990300Z"
    }
   },
   "execution_count": 64
  },
  {
   "cell_type": "code",
   "outputs": [
    {
     "data": {
      "text/plain": "tensor([[1.],\n        [0.],\n        [0.],\n        ...,\n        [1.],\n        [0.],\n        [1.]])"
     },
     "execution_count": 65,
     "metadata": {},
     "output_type": "execute_result"
    }
   ],
   "source": [
    "for i in range(len(targetT)):\n",
    "    if targetT[i] >= 5:\n",
    "        targetT[i] = 1\n",
    "    else:\n",
    "        targetT[i] = 0\n",
    "        \n",
    "targetT"
   ],
   "metadata": {
    "collapsed": false,
    "ExecuteTime": {
     "end_time": "2024-03-14T05:58:09.973583400Z",
     "start_time": "2024-03-14T05:58:08.770440900Z"
    }
   },
   "execution_count": 65
  },
  {
   "cell_type": "code",
   "outputs": [
    {
     "data": {
      "text/plain": "tensor([35000.])"
     },
     "execution_count": 66,
     "metadata": {},
     "output_type": "execute_result"
    }
   ],
   "source": [
    "sum(targetT)"
   ],
   "metadata": {
    "collapsed": false,
    "ExecuteTime": {
     "end_time": "2024-03-14T05:58:10.506642600Z",
     "start_time": "2024-03-14T05:58:09.969597300Z"
    }
   },
   "execution_count": 66
  },
  {
   "cell_type": "code",
   "outputs": [],
   "source": [
    "model = nn.Sequential(\n",
    "    nn.Linear(784, 1),\n",
    "    nn.Sigmoid()\n",
    ")"
   ],
   "metadata": {
    "collapsed": false,
    "ExecuteTime": {
     "end_time": "2024-03-14T05:58:10.523015400Z",
     "start_time": "2024-03-14T05:58:10.499539200Z"
    }
   },
   "execution_count": 67
  },
  {
   "cell_type": "code",
   "outputs": [
    {
     "name": "stdout",
     "output_type": "stream",
     "text": [
      "Parameter containing:\n",
      "tensor([[-2.6739e-04,  1.9159e-02, -2.9394e-02, -2.6284e-02, -1.3756e-02,\n",
      "          9.5771e-03, -7.0762e-04,  2.8317e-02, -3.1694e-03,  9.4505e-03,\n",
      "         -1.0793e-02, -7.0202e-03, -3.4120e-02, -2.3653e-02, -1.4722e-02,\n",
      "          1.3230e-03,  1.4119e-02,  2.1429e-02, -2.4212e-02, -1.5552e-02,\n",
      "          1.2972e-02,  2.9657e-02, -7.3500e-03,  2.6725e-02, -5.7565e-03,\n",
      "          3.7791e-03,  3.2338e-02, -3.3131e-02, -2.2483e-02, -9.0416e-03,\n",
      "         -1.3921e-02,  3.0857e-02, -2.3149e-02, -1.6440e-02, -2.4951e-02,\n",
      "         -3.3449e-02, -2.0848e-02,  3.0700e-02,  1.5936e-02,  1.7310e-02,\n",
      "          1.8783e-03, -1.8310e-02,  6.0423e-03, -3.3346e-02, -2.5806e-02,\n",
      "         -1.8412e-02,  2.2533e-02,  2.0940e-02, -1.5839e-02, -1.2887e-03,\n",
      "          2.2841e-02,  3.5505e-02,  1.4174e-02,  4.8247e-03,  2.3946e-02,\n",
      "         -2.1029e-02,  6.6551e-03, -2.7689e-02, -2.4753e-02, -1.8449e-02,\n",
      "          1.6160e-02,  1.4363e-02, -2.1155e-02,  1.0790e-02,  1.9606e-02,\n",
      "         -4.5078e-03,  1.3636e-03,  8.2752e-03,  2.2156e-02,  3.4293e-02,\n",
      "         -2.7522e-02, -1.3088e-02,  1.4036e-02,  2.9591e-02,  3.1079e-02,\n",
      "          3.1513e-02,  7.1077e-03, -3.1057e-02,  3.2854e-03, -2.2343e-02,\n",
      "         -3.3284e-02,  3.1732e-02,  2.7156e-02, -3.5626e-02,  6.6847e-03,\n",
      "         -6.0164e-03, -5.8772e-03, -1.6348e-02,  1.3734e-02, -2.1154e-02,\n",
      "          1.3093e-02,  1.8061e-02,  2.5567e-02,  1.3354e-02, -3.5348e-02,\n",
      "         -2.3168e-02,  1.7833e-02,  7.4750e-03, -2.7860e-02, -2.0565e-02,\n",
      "          3.3598e-02,  2.4065e-02, -1.5572e-02, -8.9887e-03, -3.4021e-02,\n",
      "         -6.4193e-04, -2.6895e-02, -2.7548e-02, -1.9678e-03,  5.3623e-03,\n",
      "         -1.4626e-02,  2.1192e-02, -2.1734e-02,  3.2406e-02,  2.4475e-02,\n",
      "         -3.0117e-02, -8.8887e-03,  1.6115e-03,  5.2108e-03,  8.4705e-03,\n",
      "          1.4015e-02,  2.1393e-03, -1.7426e-02,  1.6900e-02, -3.4259e-02,\n",
      "         -2.1168e-02, -8.9404e-03, -1.7397e-02, -1.2494e-02, -2.9272e-02,\n",
      "         -7.5970e-03,  7.6342e-03, -2.3267e-02, -1.8328e-03,  2.5566e-02,\n",
      "         -3.6714e-03,  9.9258e-04, -3.0810e-03,  7.2279e-03,  2.2709e-02,\n",
      "          3.3830e-02,  2.2681e-02,  3.3908e-02, -2.5829e-03, -3.2083e-02,\n",
      "         -1.6931e-02,  2.4318e-02, -2.3152e-04, -1.7752e-02, -2.7368e-02,\n",
      "         -3.3423e-02, -3.0143e-02, -7.2442e-03,  1.9586e-02,  1.9309e-02,\n",
      "         -3.4444e-02,  2.2278e-02, -2.7947e-02, -7.5504e-03, -1.4481e-02,\n",
      "         -6.8791e-03, -7.0122e-03, -3.2048e-02, -3.0837e-02, -5.5886e-03,\n",
      "          4.6187e-04, -1.6224e-02,  1.3454e-02, -3.2145e-02, -2.4103e-03,\n",
      "          3.1408e-02, -1.4568e-02,  3.2250e-02,  1.2934e-02, -3.2231e-02,\n",
      "          2.2596e-02, -4.1212e-03, -1.5943e-02,  2.8559e-02, -2.8861e-02,\n",
      "          3.8323e-03, -7.4775e-03,  2.5504e-02,  9.9694e-03,  1.7161e-02,\n",
      "          1.2613e-02, -8.5884e-03, -7.5109e-03, -2.9431e-02,  1.9352e-02,\n",
      "          2.8356e-02,  2.4437e-02, -2.5192e-02,  1.5929e-03, -2.5176e-02,\n",
      "         -1.9660e-02, -2.0811e-02,  1.2205e-02, -2.1283e-02, -7.7919e-04,\n",
      "          1.5024e-03,  2.3022e-02, -2.6997e-02, -2.4518e-02, -2.0738e-02,\n",
      "          2.4998e-02, -1.2838e-02,  3.0125e-02,  1.2915e-02,  4.5224e-03,\n",
      "         -2.6586e-04, -7.0601e-03,  4.4809e-03, -8.1552e-03, -2.5094e-04,\n",
      "          4.5569e-03, -2.7936e-02, -1.8719e-02,  2.8839e-02, -2.8984e-02,\n",
      "         -2.5645e-03,  3.5330e-02,  1.2901e-02,  1.0112e-03, -3.0950e-02,\n",
      "          1.7692e-02, -2.5439e-02, -1.0138e-02, -1.1983e-02, -5.2888e-03,\n",
      "          3.9065e-04,  2.9457e-02,  4.4585e-03,  3.1989e-02,  2.1847e-02,\n",
      "         -2.2579e-02,  1.6018e-02, -2.5246e-02, -1.5137e-02,  1.0504e-02,\n",
      "          1.1793e-02,  2.6794e-02, -1.1497e-02,  5.7172e-05,  1.8387e-02,\n",
      "         -3.4539e-02,  2.5821e-02, -2.9533e-02,  4.9223e-04, -6.0720e-03,\n",
      "         -1.8810e-02,  4.7204e-03,  2.9533e-02, -1.0440e-02, -2.1203e-02,\n",
      "         -1.3209e-02, -3.5398e-02,  1.6121e-02, -1.7152e-02, -2.3834e-02,\n",
      "         -2.0575e-02,  2.0534e-02,  1.8913e-02,  2.7411e-02,  1.2954e-02,\n",
      "         -1.1927e-02, -9.9803e-03,  1.0551e-02,  2.9358e-02,  9.7104e-03,\n",
      "         -1.6898e-02, -1.6788e-02, -3.3767e-02,  7.7160e-03, -2.0042e-02,\n",
      "         -3.1842e-02,  3.1317e-02, -2.3193e-02, -4.0629e-03,  1.0232e-02,\n",
      "          1.1378e-03, -2.4031e-02, -2.8869e-02,  2.8467e-02,  5.8157e-03,\n",
      "          2.9629e-02, -1.1973e-02,  1.0520e-02, -8.1670e-03, -1.5883e-03,\n",
      "         -2.1752e-02,  1.2079e-02,  1.1292e-02, -7.3674e-04, -8.0322e-03,\n",
      "         -2.2015e-02,  2.4698e-02, -2.6587e-02,  1.4631e-02, -1.2009e-02,\n",
      "         -1.7231e-02,  6.4159e-03, -1.8552e-02,  8.2287e-03,  7.0136e-03,\n",
      "         -2.6517e-02,  5.9464e-03,  1.5212e-02,  1.4137e-02, -4.4957e-03,\n",
      "         -2.9278e-02, -5.5055e-03,  1.2404e-02, -1.3031e-02,  1.3556e-02,\n",
      "          2.3784e-02, -1.8648e-02,  3.5221e-04,  1.4768e-02,  2.7992e-03,\n",
      "          2.9833e-03,  4.4595e-03, -2.8077e-02,  2.8067e-03,  2.4731e-02,\n",
      "          3.2183e-02,  2.0991e-02,  4.7858e-03,  1.6679e-02, -1.7374e-02,\n",
      "         -2.9596e-02, -3.0711e-02,  3.5629e-02,  2.2671e-02, -2.4687e-02,\n",
      "          1.3973e-02,  2.6970e-02,  3.5701e-02,  3.1228e-02,  2.7670e-02,\n",
      "         -8.1878e-03, -1.2534e-02,  2.9323e-02,  2.0014e-02, -2.1492e-02,\n",
      "          3.2108e-02,  1.7256e-02,  1.9469e-02, -2.2385e-02,  1.0246e-02,\n",
      "         -1.2520e-02,  2.7906e-02, -6.4264e-03,  1.3904e-02,  6.3436e-03,\n",
      "          1.5195e-02, -1.2137e-02,  1.7413e-02, -2.4945e-02,  8.0663e-03,\n",
      "         -2.4164e-02, -3.5233e-02, -2.8681e-02,  2.8195e-02,  1.9323e-02,\n",
      "          3.3508e-02,  2.8611e-02, -3.1894e-02, -2.4373e-02, -5.7708e-03,\n",
      "         -2.3194e-02,  2.4800e-02, -2.7000e-02, -1.7425e-02, -3.4503e-02,\n",
      "         -2.0277e-02,  2.9374e-02,  2.9241e-02,  2.5566e-02,  2.7576e-02,\n",
      "          3.1757e-02, -9.1451e-03,  1.5714e-02,  3.1819e-02,  1.1815e-02,\n",
      "          3.5703e-02,  1.8524e-02,  2.2202e-02, -1.2500e-02,  1.7137e-02,\n",
      "          4.1038e-03, -8.5292e-03, -2.0132e-02, -2.0040e-02, -2.7481e-02,\n",
      "          2.3976e-02,  2.5390e-02, -4.0647e-03, -2.0667e-02,  2.7604e-02,\n",
      "          2.2839e-02,  2.6548e-03, -1.6862e-02,  3.2823e-02,  1.4605e-02,\n",
      "         -2.7112e-02,  3.4182e-02,  2.7120e-02, -1.3018e-02,  2.0077e-02,\n",
      "         -2.0292e-02, -5.5969e-03,  3.0325e-02,  1.4757e-03, -2.5258e-02,\n",
      "         -1.1937e-02, -9.6945e-03, -6.8903e-03,  3.4179e-03,  3.3030e-02,\n",
      "          1.9122e-03, -2.2051e-02,  1.8305e-03,  1.7125e-02,  1.7716e-02,\n",
      "         -3.2641e-02, -6.3908e-03, -2.6541e-02, -1.5239e-02,  1.2868e-02,\n",
      "         -2.5362e-02,  1.3276e-02,  3.0314e-02,  2.3424e-03, -2.3803e-02,\n",
      "         -1.2796e-02,  7.7987e-03, -2.7226e-02,  1.7743e-02, -3.2424e-02,\n",
      "         -3.4332e-02, -3.4702e-02, -7.2451e-03,  2.4015e-02, -3.3803e-02,\n",
      "          2.9685e-02, -1.4287e-02,  1.0460e-02,  1.6287e-03, -3.2204e-02,\n",
      "          2.9619e-02,  1.9230e-02,  3.5500e-02,  1.8043e-02, -2.3574e-02,\n",
      "          2.9807e-02,  1.9194e-03,  1.6936e-02, -2.8637e-02, -1.0272e-02,\n",
      "         -3.5067e-02, -1.3910e-02,  7.7047e-03, -2.8041e-02,  1.1384e-02,\n",
      "          1.9172e-02,  4.9753e-03, -2.3896e-02, -2.7690e-02, -1.1018e-02,\n",
      "          1.5677e-02,  3.5228e-02,  2.0537e-02, -4.0218e-03,  1.2522e-02,\n",
      "         -3.5038e-02, -3.0504e-02,  1.6665e-02, -2.0229e-02,  1.7182e-02,\n",
      "         -2.5212e-02, -1.7690e-02, -2.9417e-02,  1.8637e-02, -3.6391e-03,\n",
      "          2.7486e-02,  2.2103e-02,  1.9762e-02,  1.1484e-03, -1.1042e-02,\n",
      "         -7.7654e-03,  4.7464e-03,  1.7704e-02, -2.5021e-02,  2.9974e-02,\n",
      "         -3.8832e-03, -2.9927e-02, -1.9323e-02,  3.1601e-02,  3.2662e-02,\n",
      "         -3.3081e-02,  2.5189e-02,  1.7899e-02,  2.1140e-02,  3.0233e-02,\n",
      "         -1.9248e-02,  1.1278e-02,  1.4615e-02, -1.0553e-02,  1.1952e-02,\n",
      "         -1.0275e-02,  2.2081e-02, -9.9091e-03, -1.3314e-02,  8.9910e-03,\n",
      "          1.2668e-02, -1.7449e-02,  3.1571e-03,  2.0698e-02, -3.5535e-03,\n",
      "          1.0869e-02, -8.6138e-03,  1.2518e-02, -2.5871e-02, -2.1001e-02,\n",
      "         -1.8128e-02,  3.2822e-02, -9.6101e-03, -9.7513e-05, -1.7303e-02,\n",
      "          3.5653e-02,  3.4881e-02, -2.6935e-02, -2.8952e-02, -2.7071e-02,\n",
      "         -1.7224e-04, -9.1037e-03, -2.3377e-02, -1.2810e-02,  6.7475e-03,\n",
      "         -1.8660e-02,  7.9137e-03, -8.1899e-03, -1.7306e-02,  4.9066e-03,\n",
      "          2.9366e-02, -2.4146e-02,  1.6584e-03, -1.3170e-02,  3.5047e-02,\n",
      "         -3.3884e-02, -3.4238e-02,  3.5192e-02, -2.2596e-02,  6.8473e-03,\n",
      "         -3.0824e-03, -7.5235e-03, -7.9767e-03,  2.2694e-02,  1.7070e-03,\n",
      "         -3.4772e-02, -2.1084e-02, -1.2175e-02,  1.7972e-02, -2.3112e-02,\n",
      "          3.3676e-02, -7.9546e-03, -6.4129e-03,  2.7984e-02,  1.7950e-02,\n",
      "          3.0290e-02,  2.0659e-02, -1.0834e-02, -2.3695e-02, -2.6573e-03,\n",
      "          2.9558e-02, -1.1986e-02, -3.3120e-02,  1.4640e-02,  3.4767e-02,\n",
      "         -1.0167e-02, -2.9572e-02, -3.2395e-02,  8.9500e-03, -2.7043e-03,\n",
      "         -1.8035e-02,  7.2190e-03,  1.3563e-02,  2.8404e-02,  2.7728e-02,\n",
      "         -5.3458e-03, -3.1492e-02, -3.2272e-02,  3.3346e-02,  1.5788e-02,\n",
      "          1.5568e-02, -3.0901e-02,  3.3072e-02,  3.3834e-02,  3.2245e-02,\n",
      "         -3.0128e-02, -1.3476e-02, -2.4563e-02,  3.3820e-02, -1.5346e-02,\n",
      "         -1.6306e-02,  1.8711e-02, -1.6521e-02, -1.7590e-02, -3.1240e-03,\n",
      "         -3.4328e-03, -2.7821e-02,  2.9774e-02, -1.5754e-02,  1.2668e-02,\n",
      "          3.1064e-02,  1.8011e-02,  5.0564e-03,  3.0388e-02,  4.8009e-03,\n",
      "         -1.6523e-02,  3.3786e-02,  8.4529e-03, -3.4846e-02, -1.0168e-02,\n",
      "         -2.4327e-02,  3.1313e-02, -5.8981e-03, -3.2554e-02, -2.2451e-03,\n",
      "          2.2429e-02,  9.2786e-03,  1.1293e-02,  3.3169e-03,  1.3315e-02,\n",
      "         -8.7019e-03, -1.4207e-02, -3.3382e-02, -2.6905e-02,  1.5479e-02,\n",
      "         -2.1147e-02,  5.1238e-03,  1.1400e-02,  2.5287e-03, -2.3155e-02,\n",
      "          3.4155e-02, -2.0768e-02,  2.9375e-02, -2.8411e-02, -8.5910e-03,\n",
      "          1.9427e-02, -1.4592e-02,  3.0002e-02, -2.4577e-02, -2.9992e-02,\n",
      "         -1.6104e-02,  5.7732e-03,  3.2884e-02, -1.7050e-02,  1.2772e-02,\n",
      "         -8.9538e-03, -7.7451e-03,  2.6261e-02, -2.7678e-02,  3.7933e-03,\n",
      "          3.3586e-02, -4.9076e-03,  2.7730e-02, -1.0998e-02,  2.8749e-02,\n",
      "         -3.4548e-02, -5.1473e-03, -6.2731e-03,  1.1574e-02,  1.4012e-02,\n",
      "          2.7422e-02, -5.3209e-03, -1.4163e-03,  2.4458e-02, -9.6633e-03,\n",
      "          3.1308e-02, -2.3779e-02, -3.8646e-03, -1.9182e-03,  1.5936e-02,\n",
      "          2.4417e-02, -5.6608e-03, -2.9589e-02,  1.7696e-02,  1.0683e-02,\n",
      "          1.4346e-02, -2.2031e-02,  2.2986e-02,  3.3827e-02,  3.0990e-03,\n",
      "         -3.3359e-02,  2.5071e-02, -2.6480e-02,  8.2097e-03,  5.1899e-03,\n",
      "         -1.6716e-02,  1.2436e-02, -3.1944e-02,  8.1343e-03, -2.2641e-02,\n",
      "         -3.8619e-03,  4.5939e-03,  3.0427e-02, -1.7040e-02,  2.2880e-02,\n",
      "         -4.5369e-03, -1.6962e-02, -3.1100e-02, -3.2769e-02,  3.4879e-02,\n",
      "         -8.9071e-03,  1.7839e-03,  9.6826e-03,  2.4276e-02,  3.0481e-02,\n",
      "          2.8965e-02, -2.6460e-02, -5.7220e-03, -2.1133e-02, -2.0405e-02,\n",
      "          8.4717e-03,  3.3523e-02, -2.8611e-02,  2.1614e-02, -1.8517e-02,\n",
      "         -6.9562e-03,  2.8349e-02, -8.0775e-03,  3.2520e-03, -2.4965e-02,\n",
      "          3.0401e-02, -4.6168e-03, -2.6121e-02,  1.0458e-02, -2.5393e-02,\n",
      "         -2.8340e-02,  2.1757e-03,  2.8316e-02, -1.0107e-02,  1.6810e-02,\n",
      "          3.0690e-02,  2.3688e-02, -1.8734e-02, -3.9150e-03, -1.1239e-02,\n",
      "         -2.8719e-02,  1.4756e-05,  2.6873e-02,  3.0090e-02,  3.3322e-03,\n",
      "          8.1115e-03, -1.5461e-02,  2.6959e-02, -1.4861e-02, -2.4809e-02,\n",
      "          5.4998e-03,  2.1407e-02, -3.2200e-02,  3.2285e-02,  1.2848e-02,\n",
      "         -2.5022e-02, -7.6931e-03,  3.0985e-02, -2.7401e-02, -1.0438e-02,\n",
      "          1.1714e-02, -3.1289e-02,  1.9579e-02,  1.8591e-02,  2.2150e-02,\n",
      "         -2.2770e-02,  3.5571e-02, -2.1170e-02,  3.5655e-02, -3.4275e-02,\n",
      "         -3.1820e-02,  2.1936e-02,  3.7326e-03,  2.0603e-03]],\n",
      "       requires_grad=True)\n",
      "Parameter containing:\n",
      "tensor([-0.0198], requires_grad=True)\n"
     ]
    }
   ],
   "source": [
    "for p in model.parameters():\n",
    "    print(p)"
   ],
   "metadata": {
    "collapsed": false,
    "ExecuteTime": {
     "end_time": "2024-03-14T05:58:10.566059500Z",
     "start_time": "2024-03-14T05:58:10.514579Z"
    }
   },
   "execution_count": 68
  },
  {
   "cell_type": "code",
   "outputs": [],
   "source": [
    "opt = optim.Adam(model.parameters(), lr=0.001)"
   ],
   "metadata": {
    "collapsed": false,
    "ExecuteTime": {
     "end_time": "2024-03-14T05:58:10.567056Z",
     "start_time": "2024-03-14T05:58:10.533967Z"
    }
   },
   "execution_count": 69
  },
  {
   "cell_type": "code",
   "outputs": [
    {
     "name": "stdout",
     "output_type": "stream",
     "text": [
      " E [  10 / 500] ----\n",
      "Cost : 8.4108304977417, Accuracy : 0.8690571188926697, Predict : 26922\n",
      " E [  20 / 500] ----\n",
      "Cost : 8.472552299499512, Accuracy : 0.8415428400039673, Predict : 36676\n",
      " E [  30 / 500] ----\n",
      "Cost : 7.190958023071289, Accuracy : 0.8630428314208984, Predict : 35301\n",
      " E [  40 / 500] ----\n",
      "Cost : 6.36594820022583, Accuracy : 0.8747143149375916, Predict : 35276\n",
      " E [  50 / 500] ----\n",
      "Cost : 5.866012096405029, Accuracy : 0.8837857246398926, Predict : 35681\n",
      " E [  60 / 500] ----\n",
      "Cost : 5.208585739135742, Accuracy : 0.8914285898208618, Predict : 35764\n",
      " E [  70 / 500] ----\n",
      "Cost : 4.331550598144531, Accuracy : 0.899057149887085, Predict : 35102\n",
      " E [  80 / 500] ----\n",
      "Cost : 3.971658945083618, Accuracy : 0.8992571234703064, Predict : 35336\n",
      " E [  90 / 500] ----\n",
      "Cost : 3.655691623687744, Accuracy : 0.9000428318977356, Predict : 35275\n",
      " E [ 100 / 500] ----\n",
      "Cost : 3.4914448261260986, Accuracy : 0.9005857110023499, Predict : 35617\n",
      " E [ 110 / 500] ----\n",
      "Cost : 3.2398056983947754, Accuracy : 0.9014428853988647, Predict : 35591\n",
      " E [ 120 / 500] ----\n",
      "Cost : 2.9796836376190186, Accuracy : 0.901271402835846, Predict : 35553\n",
      " E [ 130 / 500] ----\n",
      "Cost : 2.8185336589813232, Accuracy : 0.9004856944084167, Predict : 35670\n",
      " E [ 140 / 500] ----\n",
      "Cost : 2.5978798866271973, Accuracy : 0.9007856845855713, Predict : 35611\n",
      " E [ 150 / 500] ----\n",
      "Cost : 2.3997790813446045, Accuracy : 0.9005571603775024, Predict : 35593\n",
      " E [ 160 / 500] ----\n",
      "Cost : 2.211263418197632, Accuracy : 0.8998571634292603, Predict : 35640\n",
      " E [ 170 / 500] ----\n",
      "Cost : 2.2789485454559326, Accuracy : 0.8924857378005981, Predict : 37166\n",
      " E [ 180 / 500] ----\n",
      "Cost : 2.1447367668151855, Accuracy : 0.9057857394218445, Predict : 30807\n",
      " E [ 190 / 500] ----\n",
      "Cost : 2.25415301322937, Accuracy : 0.9113143086433411, Predict : 34920\n",
      " E [ 200 / 500] ----\n",
      "Cost : 1.9812490940093994, Accuracy : 0.9090285897254944, Predict : 35094\n",
      " E [ 210 / 500] ----\n",
      "Cost : 1.7265185117721558, Accuracy : 0.9079856872558594, Predict : 33997\n",
      " E [ 220 / 500] ----\n",
      "Cost : 1.85080087184906, Accuracy : 0.9038571715354919, Predict : 35644\n",
      " E [ 230 / 500] ----\n",
      "Cost : 1.7982224225997925, Accuracy : 0.8991143107414246, Predict : 36328\n",
      " E [ 240 / 500] ----\n",
      "Cost : 1.6276066303253174, Accuracy : 0.9006428718566895, Predict : 35683\n",
      " E [ 250 / 500] ----\n",
      "Cost : 1.4927705526351929, Accuracy : 0.9026714563369751, Predict : 35035\n",
      " E [ 260 / 500] ----\n",
      "Cost : 1.416015625, Accuracy : 0.9015428423881531, Predict : 35098\n",
      " E [ 270 / 500] ----\n",
      "Cost : 1.3628839254379272, Accuracy : 0.899314284324646, Predict : 35480\n",
      " E [ 280 / 500] ----\n",
      "Cost : 1.612474799156189, Accuracy : 0.8789428472518921, Predict : 38810\n",
      " E [ 290 / 500] ----\n",
      "Cost : 1.1869568824768066, Accuracy : 0.9057000279426575, Predict : 33287\n",
      " E [ 300 / 500] ----\n",
      "Cost : 1.2593579292297363, Accuracy : 0.8963571190834045, Predict : 36399\n",
      " E [ 310 / 500] ----\n",
      "Cost : 1.1258230209350586, Accuracy : 0.9035428762435913, Predict : 34490\n",
      " E [ 320 / 500] ----\n",
      "Cost : 1.196520209312439, Accuracy : 0.8942000269889832, Predict : 36948\n",
      " E [ 330 / 500] ----\n",
      "Cost : 1.043704867362976, Accuracy : 0.9058856964111328, Predict : 32666\n",
      " E [ 340 / 500] ----\n",
      "Cost : 1.1059931516647339, Accuracy : 0.8912143111228943, Predict : 37119\n",
      " E [ 350 / 500] ----\n",
      "Cost : 2.381761312484741, Accuracy : 0.8974571228027344, Predict : 29444\n",
      " E [ 360 / 500] ----\n",
      "Cost : 6.363999843597412, Accuracy : 0.8468714356422424, Predict : 42243\n",
      " E [ 370 / 500] ----\n",
      "Cost : 2.6580824851989746, Accuracy : 0.9077285528182983, Predict : 32827\n",
      " E [ 380 / 500] ----\n",
      "Cost : 2.2520973682403564, Accuracy : 0.9032857418060303, Predict : 37246\n",
      " E [ 390 / 500] ----\n",
      "Cost : 1.423856496810913, Accuracy : 0.9101428389549255, Predict : 33882\n",
      " E [ 400 / 500] ----\n",
      "Cost : 1.380353331565857, Accuracy : 0.9071571230888367, Predict : 36019\n",
      " E [ 410 / 500] ----\n",
      "Cost : 1.2364988327026367, Accuracy : 0.9056142568588257, Predict : 36155\n",
      " E [ 420 / 500] ----\n",
      "Cost : 1.0364494323730469, Accuracy : 0.9076856970787048, Predict : 34408\n",
      " E [ 430 / 500] ----\n",
      "Cost : 0.9845113754272461, Accuracy : 0.9061571359634399, Predict : 34683\n",
      " E [ 440 / 500] ----\n",
      "Cost : 1.0180729627609253, Accuracy : 0.8934857249259949, Predict : 37184\n",
      " E [ 450 / 500] ----\n",
      "Cost : 0.9231272339820862, Accuracy : 0.9041571617126465, Predict : 35069\n",
      " E [ 460 / 500] ----\n",
      "Cost : 0.8829723596572876, Accuracy : 0.9072856903076172, Predict : 33704\n",
      " E [ 470 / 500] ----\n",
      "Cost : 1.0256664752960205, Accuracy : 0.8970857262611389, Predict : 29884\n",
      " E [ 480 / 500] ----\n",
      "Cost : 0.8738425374031067, Accuracy : 0.9015714526176453, Predict : 35932\n",
      " E [ 490 / 500] ----\n",
      "Cost : 1.0187227725982666, Accuracy : 0.8766714334487915, Predict : 39581\n",
      " E [ 500 / 500] ----\n",
      "Cost : 1.3527278900146484, Accuracy : 0.911300003528595, Predict : 33739\n"
     ]
    }
   ],
   "source": [
    "max_epochs = 500\n",
    "\n",
    "for epoch in range(1, max_epochs+1):\n",
    "    h = model(featuresT)\n",
    "    \n",
    "    cost = torch.nn.functional.binary_cross_entropy(h, targetT)\n",
    "    \n",
    "    opt.zero_grad()\n",
    "    cost.backward()\n",
    "    opt.step()\n",
    "    \n",
    "    if epoch % 10 == 0:\n",
    "        prediction = h >= torch.FloatTensor([0.5])\n",
    "        accuracy = sum(prediction == targetT) / len(h)\n",
    "        predict = sum(prediction)\n",
    "        print(f' E [{epoch:>4} / {max_epochs}] ----')\n",
    "        print(f'Cost : {cost.item()}, Accuracy : {accuracy.item()}, Predict : {predict.item()}')"
   ],
   "metadata": {
    "collapsed": false,
    "ExecuteTime": {
     "end_time": "2024-03-14T05:59:08.741117900Z",
     "start_time": "2024-03-14T05:58:10.548376400Z"
    }
   },
   "execution_count": 70
  },
  {
   "cell_type": "code",
   "outputs": [],
   "source": [
    "from sklearn.preprocessing import OneHotEncoder"
   ],
   "metadata": {
    "collapsed": false,
    "ExecuteTime": {
     "end_time": "2024-03-14T05:59:08.756662100Z",
     "start_time": "2024-03-14T05:59:08.743583500Z"
    }
   },
   "execution_count": 71
  },
  {
   "cell_type": "code",
   "outputs": [],
   "source": [
    "encoder = OneHotEncoder()\n",
    "encoder.fit(targetT)\n",
    "target_encode = encoder.transform(targetT).toarray()"
   ],
   "metadata": {
    "collapsed": false,
    "ExecuteTime": {
     "end_time": "2024-03-14T06:01:10.734256Z",
     "start_time": "2024-03-14T06:01:10.714322400Z"
    }
   },
   "execution_count": 81
  },
  {
   "cell_type": "code",
   "outputs": [],
   "source": [
    "targetT2 = torch.as_tensor(targetT, dtype=torch.float32)"
   ],
   "metadata": {
    "collapsed": false,
    "ExecuteTime": {
     "end_time": "2024-03-14T06:01:11.074342Z",
     "start_time": "2024-03-14T06:01:11.063368300Z"
    }
   },
   "execution_count": 82
  },
  {
   "cell_type": "code",
   "outputs": [
    {
     "name": "stdout",
     "output_type": "stream",
     "text": [
      " E [  10 / 500] ----\n",
      "Cost : 1.9586098194122314, Accuracy : 0.9066428542137146, Predict : 30967\n",
      " E [  20 / 500] ----\n",
      "Cost : 1.7732378244400024, Accuracy : 0.8971571326255798, Predict : 37807\n",
      " E [  30 / 500] ----\n",
      "Cost : 0.9918172955513, Accuracy : 0.9136000275611877, Predict : 32544\n",
      " E [  40 / 500] ----\n",
      "Cost : 0.9495283365249634, Accuracy : 0.9089285731315613, Predict : 35537\n",
      " E [  50 / 500] ----\n",
      "Cost : 0.8451374769210815, Accuracy : 0.9103714227676392, Predict : 34774\n",
      " E [  60 / 500] ----\n",
      "Cost : 0.7950634956359863, Accuracy : 0.9039714336395264, Predict : 35726\n",
      " E [  70 / 500] ----\n",
      "Cost : 0.7114431858062744, Accuracy : 0.9070143103599548, Predict : 34507\n",
      " E [  80 / 500] ----\n",
      "Cost : 0.7152766585350037, Accuracy : 0.9009571671485901, Predict : 35827\n",
      " E [  90 / 500] ----\n",
      "Cost : 0.7603697776794434, Accuracy : 0.8920000195503235, Predict : 37322\n",
      " E [ 100 / 500] ----\n",
      "Cost : 0.6510903835296631, Accuracy : 0.907542884349823, Predict : 33378\n",
      " E [ 110 / 500] ----\n",
      "Cost : 0.6360321640968323, Accuracy : 0.9049285650253296, Predict : 35063\n",
      " E [ 120 / 500] ----\n",
      "Cost : 0.7788583636283875, Accuracy : 0.9002285599708557, Predict : 30222\n",
      " E [ 130 / 500] ----\n",
      "Cost : 0.6203276515007019, Accuracy : 0.9046428799629211, Predict : 35381\n",
      " E [ 140 / 500] ----\n",
      "Cost : 0.752338171005249, Accuracy : 0.883228600025177, Predict : 38928\n",
      " E [ 150 / 500] ----\n",
      "Cost : 0.6372311115264893, Accuracy : 0.899057149887085, Predict : 36712\n",
      " E [ 160 / 500] ----\n",
      "Cost : 9.004236221313477, Accuracy : 0.760528564453125, Predict : 50159\n",
      " E [ 170 / 500] ----\n",
      "Cost : 7.048152446746826, Accuracy : 0.8311285972595215, Predict : 43673\n",
      " E [ 180 / 500] ----\n",
      "Cost : 2.7452340126037598, Accuracy : 0.9045143127441406, Predict : 34388\n",
      " E [ 190 / 500] ----\n",
      "Cost : 2.1831159591674805, Accuracy : 0.904957115650177, Predict : 36941\n",
      " E [ 200 / 500] ----\n",
      "Cost : 1.3758599758148193, Accuracy : 0.9070143103599548, Predict : 36167\n",
      " E [ 210 / 500] ----\n",
      "Cost : 1.0727356672286987, Accuracy : 0.9136142730712891, Predict : 34303\n",
      " E [ 220 / 500] ----\n",
      "Cost : 0.9597257971763611, Accuracy : 0.9086714386940002, Predict : 36293\n",
      " E [ 230 / 500] ----\n",
      "Cost : 0.7443976402282715, Accuracy : 0.9108999967575073, Predict : 34887\n",
      " E [ 240 / 500] ----\n",
      "Cost : 0.6815852522850037, Accuracy : 0.9060428738594055, Predict : 35753\n",
      " E [ 250 / 500] ----\n",
      "Cost : 0.6192521452903748, Accuracy : 0.9060285687446594, Predict : 35266\n",
      " E [ 260 / 500] ----\n",
      "Cost : 0.6957951188087463, Accuracy : 0.8844143152236938, Predict : 38657\n",
      " E [ 270 / 500] ----\n",
      "Cost : 0.5939602255821228, Accuracy : 0.9081428647041321, Predict : 32148\n",
      " E [ 280 / 500] ----\n",
      "Cost : 0.6231551170349121, Accuracy : 0.8893714547157288, Predict : 38032\n",
      " E [ 290 / 500] ----\n",
      "Cost : 0.7192462086677551, Accuracy : 0.8973000049591064, Predict : 29633\n",
      " E [ 300 / 500] ----\n",
      "Cost : 0.7463909983634949, Accuracy : 0.8960285782814026, Predict : 29366\n",
      " E [ 310 / 500] ----\n",
      "Cost : 1.4394288063049316, Accuracy : 0.8339285850524902, Predict : 44403\n",
      " E [ 320 / 500] ----\n",
      "Cost : 0.6825361251831055, Accuracy : 0.9145428538322449, Predict : 34492\n",
      " E [ 330 / 500] ----\n",
      "Cost : 0.7372830510139465, Accuracy : 0.902400016784668, Predict : 37370\n",
      " E [ 340 / 500] ----\n",
      "Cost : 1.18242609500885, Accuracy : 0.8471142649650574, Predict : 43428\n",
      " E [ 350 / 500] ----\n",
      "Cost : 0.548117995262146, Accuracy : 0.9067285656929016, Predict : 36013\n",
      " E [ 360 / 500] ----\n",
      "Cost : 0.5069342255592346, Accuracy : 0.9056428670883179, Predict : 35521\n",
      " E [ 370 / 500] ----\n",
      "Cost : 0.5056026577949524, Accuracy : 0.9023285508155823, Predict : 36259\n",
      " E [ 380 / 500] ----\n",
      "Cost : 0.5136664509773254, Accuracy : 0.8948143124580383, Predict : 37263\n",
      " E [ 390 / 500] ----\n",
      "Cost : 0.5106590390205383, Accuracy : 0.9075999855995178, Predict : 31772\n",
      " E [ 400 / 500] ----\n",
      "Cost : 0.48285162448883057, Accuracy : 0.8978142738342285, Predict : 36749\n",
      " E [ 410 / 500] ----\n",
      "Cost : 0.6109989881515503, Accuracy : 0.8738571405410767, Predict : 40260\n",
      " E [ 420 / 500] ----\n",
      "Cost : 7.275576114654541, Accuracy : 0.7880571484565735, Predict : 47400\n",
      " E [ 430 / 500] ----\n",
      "Cost : 4.075390815734863, Accuracy : 0.880299985408783, Predict : 38093\n",
      " E [ 440 / 500] ----\n",
      "Cost : 2.596803903579712, Accuracy : 0.9047714471817017, Predict : 32706\n",
      " E [ 450 / 500] ----\n",
      "Cost : 2.1431593894958496, Accuracy : 0.8988142609596252, Predict : 37867\n",
      " E [ 460 / 500] ----\n",
      "Cost : 1.3519002199172974, Accuracy : 0.9044857025146484, Predict : 36160\n",
      " E [ 470 / 500] ----\n",
      "Cost : 1.0702641010284424, Accuracy : 0.9118428826332092, Predict : 35415\n",
      " E [ 480 / 500] ----\n",
      "Cost : 0.8992401957511902, Accuracy : 0.9155142903327942, Predict : 34542\n",
      " E [ 490 / 500] ----\n",
      "Cost : 0.730036199092865, Accuracy : 0.9118571281433105, Predict : 35016\n",
      " E [ 500 / 500] ----\n",
      "Cost : 0.6064652800559998, Accuracy : 0.911814272403717, Predict : 34513\n"
     ]
    }
   ],
   "source": [
    "max_epochs = 500\n",
    "\n",
    "for epoch in range(1, max_epochs+1):\n",
    "    h = model(featuresT)\n",
    "    \n",
    "    cost = torch.nn.functional.binary_cross_entropy(h, targetT2)\n",
    "    \n",
    "    opt.zero_grad()\n",
    "    cost.backward()\n",
    "    opt.step()\n",
    "    \n",
    "    if epoch % 10 == 0:\n",
    "        prediction = h >= torch.FloatTensor([0.5])\n",
    "        accuracy = sum(prediction == targetT2) / len(h)\n",
    "        predict = sum(prediction)\n",
    "        print(f' E [{epoch:>4} / {max_epochs}] ----')\n",
    "        print(f'Cost : {cost.item()}, Accuracy : {accuracy.item()}, Predict : {predict.item()}')"
   ],
   "metadata": {
    "collapsed": false,
    "ExecuteTime": {
     "end_time": "2024-03-14T06:02:08.877523200Z",
     "start_time": "2024-03-14T06:01:11.972295400Z"
    }
   },
   "execution_count": 83
  },
  {
   "cell_type": "code",
   "outputs": [],
   "source": [],
   "metadata": {
    "collapsed": false
   }
  }
 ],
 "metadata": {
  "kernelspec": {
   "display_name": "TORCH_PY38",
   "language": "python",
   "name": "python3"
  },
  "language_info": {
   "codemirror_mode": {
    "name": "ipython",
    "version": 3
   },
   "file_extension": ".py",
   "mimetype": "text/x-python",
   "name": "python",
   "nbconvert_exporter": "python",
   "pygments_lexer": "ipython3",
   "version": "3.8.18"
  }
 },
 "nbformat": 4,
 "nbformat_minor": 2
}
