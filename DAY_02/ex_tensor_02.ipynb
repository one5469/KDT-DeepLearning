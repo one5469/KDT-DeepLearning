{
 "cells": [
  {
   "cell_type": "markdown",
   "source": [
    "### Tensor 원소/요소 접근\n",
    "- 인덱싱과 슬라이싱"
   ],
   "metadata": {
    "collapsed": false
   },
   "id": "b81706a2eaf2a8e8"
  },
  {
   "cell_type": "code",
   "outputs": [],
   "source": [
    "# 모듈 로딩\n",
    "import torch"
   ],
   "metadata": {
    "collapsed": false,
    "ExecuteTime": {
     "end_time": "2024-03-12T02:02:38.250193Z",
     "start_time": "2024-03-12T02:02:36.859587200Z"
    }
   },
   "id": "178351d3645ef200",
   "execution_count": 1
  },
  {
   "cell_type": "code",
   "outputs": [
    {
     "name": "stderr",
     "output_type": "stream",
     "text": [
      "C:\\Users\\kdp\\AppData\\Local\\Temp\\ipykernel_22264\\369765277.py:2: DeprecationWarning: an integer is required (got type float).  Implicit conversion to integers using __int__ is deprecated, and may be removed in a future version of Python.\n",
      "  points = torch.tensor([[4.,2.], [5.,3.], [6.,4.]], dtype=torch.int16)\n"
     ]
    }
   ],
   "source": [
    "# 텐서 생성\n",
    "points = torch.tensor([[4.,2.], [5.,3.], [6.,4.]], dtype=torch.int16)"
   ],
   "metadata": {
    "collapsed": false,
    "ExecuteTime": {
     "end_time": "2024-03-12T02:03:47.271029900Z",
     "start_time": "2024-03-12T02:03:47.258589100Z"
    }
   },
   "id": "55c1957195561a54",
   "execution_count": 3
  },
  {
   "cell_type": "code",
   "outputs": [
    {
     "data": {
      "text/plain": "tensor([[4, 2],\n        [5, 3],\n        [6, 4]], dtype=torch.int16)"
     },
     "execution_count": 4,
     "metadata": {},
     "output_type": "execute_result"
    }
   ],
   "source": [
    "points"
   ],
   "metadata": {
    "collapsed": false,
    "ExecuteTime": {
     "end_time": "2024-03-12T02:03:52.007605800Z",
     "start_time": "2024-03-12T02:03:51.980170400Z"
    }
   },
   "id": "9d63f93062f7c2cb",
   "execution_count": 4
  },
  {
   "cell_type": "code",
   "outputs": [
    {
     "name": "stdout",
     "output_type": "stream",
     "text": [
      "tensor(3, dtype=torch.int16)\n"
     ]
    }
   ],
   "source": [
    "# 텐서의 원소 1개 접근\n",
    "# 데이터 3 추출\n",
    "print(points[1,1])"
   ],
   "metadata": {
    "collapsed": false,
    "ExecuteTime": {
     "end_time": "2024-03-12T02:04:50.218029200Z",
     "start_time": "2024-03-12T02:04:50.190090100Z"
    }
   },
   "id": "d0ae0eded898d75c",
   "execution_count": 5
  },
  {
   "cell_type": "code",
   "outputs": [
    {
     "name": "stdout",
     "output_type": "stream",
     "text": [
      "tensor([[5, 3],\n",
      "        [6, 4]], dtype=torch.int16)\n"
     ]
    }
   ],
   "source": [
    "# 1번 행부터 나머지 모든 행 추출\n",
    "print(points[1:])"
   ],
   "metadata": {
    "collapsed": false,
    "ExecuteTime": {
     "end_time": "2024-03-12T02:05:44.836447800Z",
     "start_time": "2024-03-12T02:05:44.824484200Z"
    }
   },
   "id": "6731830ae401f736",
   "execution_count": 6
  },
  {
   "cell_type": "code",
   "outputs": [
    {
     "name": "stdout",
     "output_type": "stream",
     "text": [
      "tensor(4, dtype=torch.int16)\n"
     ]
    }
   ],
   "source": [
    "# 마지막 데이터 4 추출\n",
    "print(points[-1,-1])"
   ],
   "metadata": {
    "collapsed": false,
    "ExecuteTime": {
     "end_time": "2024-03-12T02:06:34.781573200Z",
     "start_time": "2024-03-12T02:06:34.729745600Z"
    }
   },
   "id": "3ef998c1d03fdb26",
   "execution_count": 7
  },
  {
   "cell_type": "markdown",
   "source": [
    "- 브로드캐스팅 연산"
   ],
   "metadata": {
    "collapsed": false
   },
   "id": "947b4e851a39da48"
  },
  {
   "cell_type": "code",
   "outputs": [
    {
     "name": "stdout",
     "output_type": "stream",
     "text": [
      "m1.shape => torch.Size([1, 2]), m2.shape => torch.Size([1, 1])\n"
     ]
    }
   ],
   "source": [
    "m1 = torch.FloatTensor([[1,2]])\n",
    "m2 = torch.FloatTensor([[3]])\n",
    "\n",
    "print(f'm1.shape => {m1.shape}, m2.shape => {m2.shape}')"
   ],
   "metadata": {
    "collapsed": false,
    "ExecuteTime": {
     "end_time": "2024-03-12T02:20:54.548299900Z",
     "start_time": "2024-03-12T02:20:54.512906600Z"
    }
   },
   "id": "cc2041014ce994b4",
   "execution_count": 8
  },
  {
   "cell_type": "code",
   "outputs": [
    {
     "name": "stdout",
     "output_type": "stream",
     "text": [
      "m3.shape => torch.Size([1, 2])\n",
      "m3 =>\n",
      "tensor([[4., 5.]])\n"
     ]
    }
   ],
   "source": [
    "m3 = m1 + m2\n",
    "print(f'm3.shape => {m3.shape}')\n",
    "print(f'm3 =>\\n{m3}')"
   ],
   "metadata": {
    "collapsed": false,
    "ExecuteTime": {
     "end_time": "2024-03-12T02:23:22.177969100Z",
     "start_time": "2024-03-12T02:23:22.169997Z"
    }
   },
   "id": "88a6844f5cd72985",
   "execution_count": 12
  },
  {
   "cell_type": "code",
   "outputs": [
    {
     "name": "stdout",
     "output_type": "stream",
     "text": [
      "m1.shape => torch.Size([1, 2]), m2.shape => torch.Size([2, 1])\n"
     ]
    }
   ],
   "source": [
    "m1 = torch.FloatTensor([[1,2]])\n",
    "m2 = torch.FloatTensor([[3], [4]])\n",
    "\n",
    "print(f'm1.shape => {m1.shape}, m2.shape => {m2.shape}')"
   ],
   "metadata": {
    "collapsed": false,
    "ExecuteTime": {
     "end_time": "2024-03-12T02:24:03.180288100Z",
     "start_time": "2024-03-12T02:24:03.159348Z"
    }
   },
   "id": "a0ce3a5ede1034dc",
   "execution_count": 13
  },
  {
   "cell_type": "code",
   "outputs": [
    {
     "name": "stdout",
     "output_type": "stream",
     "text": [
      "m3.shape => torch.Size([2, 2])\n",
      "m3 =>\n",
      "tensor([[4., 5.],\n",
      "        [5., 6.]])\n"
     ]
    }
   ],
   "source": [
    "m3 = m1 + m2\n",
    "print(f'm3.shape => {m3.shape}')\n",
    "print(f'm3 =>\\n{m3}')"
   ],
   "metadata": {
    "collapsed": false,
    "ExecuteTime": {
     "end_time": "2024-03-12T02:24:09.621416400Z",
     "start_time": "2024-03-12T02:24:09.612515400Z"
    }
   },
   "id": "8d95db66ca9a4bbd",
   "execution_count": 14
  },
  {
   "cell_type": "code",
   "outputs": [
    {
     "name": "stdout",
     "output_type": "stream",
     "text": [
      "m3.shape => torch.Size([2, 2]), m4.shape => torch.Size([2, 2])\n",
      "m3 =>\n",
      "tensor([[3., 6.],\n",
      "        [4., 8.]])\n",
      "m4 =>\n",
      "tensor([[3., 6.],\n",
      "        [4., 8.]])\n"
     ]
    }
   ],
   "source": [
    "m3 = m1 * m2\n",
    "m4 = m1.mul(m2)\n",
    "print(f'm3.shape => {m3.shape}, m4.shape => {m4.shape}')\n",
    "print(f'm3 =>\\n{m3}')\n",
    "print(f'm4 =>\\n{m4}')"
   ],
   "metadata": {
    "collapsed": false,
    "ExecuteTime": {
     "end_time": "2024-03-12T02:27:13.581016Z",
     "start_time": "2024-03-12T02:27:13.558079900Z"
    }
   },
   "id": "49c62cde67528fe6",
   "execution_count": 16
  },
  {
   "cell_type": "code",
   "outputs": [
    {
     "data": {
      "text/plain": "(tensor([[4., 5.],\n         [5., 6.]]),\n tensor([[-2., -1.],\n         [-3., -2.]]),\n tensor([[3., 6.],\n         [4., 8.]]),\n tensor([[0.3333, 0.6667],\n         [0.2500, 0.5000]]))"
     },
     "execution_count": 18,
     "metadata": {},
     "output_type": "execute_result"
    }
   ],
   "source": [
    "# 원소 단위 연산 수행 메소드들\n",
    "m1.add(m2), m1.sub(m2), m1.mul(m2), m1.div(m2)"
   ],
   "metadata": {
    "collapsed": false,
    "ExecuteTime": {
     "end_time": "2024-03-12T02:27:54.629889900Z",
     "start_time": "2024-03-12T02:27:54.619923100Z"
    }
   },
   "id": "e9a0237d21a5da00",
   "execution_count": 18
  },
  {
   "cell_type": "code",
   "outputs": [],
   "source": [],
   "metadata": {
    "collapsed": false
   },
   "id": "3f404f9753fa264d"
  }
 ],
 "metadata": {
  "kernelspec": {
   "display_name": "Python 3",
   "language": "python",
   "name": "python3"
  },
  "language_info": {
   "codemirror_mode": {
    "name": "ipython",
    "version": 2
   },
   "file_extension": ".py",
   "mimetype": "text/x-python",
   "name": "python",
   "nbconvert_exporter": "python",
   "pygments_lexer": "ipython2",
   "version": "2.7.6"
  }
 },
 "nbformat": 4,
 "nbformat_minor": 5
}
