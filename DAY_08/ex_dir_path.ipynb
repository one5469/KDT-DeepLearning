{
 "cells": [
  {
   "cell_type": "markdown",
   "source": [
    "### 폴더 및 파일 다루기"
   ],
   "metadata": {
    "collapsed": false
   },
   "id": "a5d7969a762a199b"
  },
  {
   "cell_type": "code",
   "outputs": [],
   "source": [
    "### 모듈 로딩\n",
    "import os"
   ],
   "metadata": {
    "collapsed": false,
    "ExecuteTime": {
     "end_time": "2024-03-21T05:51:04.880586400Z",
     "start_time": "2024-03-21T05:51:04.873587300Z"
    }
   },
   "id": "b431ea080299ad9f",
   "execution_count": 1
  },
  {
   "cell_type": "code",
   "outputs": [
    {
     "data": {
      "text/plain": "True"
     },
     "execution_count": 3,
     "metadata": {},
     "output_type": "execute_result"
    }
   ],
   "source": [
    "### 특정 폴더 내의 모든 데이터 리스트 가져오기\n",
    "my_folder = '../data/'\n",
    "\n",
    "# 해당 폴더 또는 파일이 존재하는지 검사 ==> 결과 : True, False\n",
    "os.path.exists(my_folder)"
   ],
   "metadata": {
    "collapsed": false,
    "ExecuteTime": {
     "end_time": "2024-03-21T05:53:01.561621Z",
     "start_time": "2024-03-21T05:53:01.547432Z"
    }
   },
   "id": "3565342fedbcb299",
   "execution_count": 3
  },
  {
   "cell_type": "code",
   "outputs": [
    {
     "name": "stdout",
     "output_type": "stream",
     "text": [
      "bangbang.png --- False\n",
      "best_model.pth --- False\n",
      "img --- True\n",
      "iris.csv --- False\n",
      "model --- True\n",
      "t10k-images-idx3-ubyte --- True\n",
      "t10k-labels-idx1-ubyte --- True\n",
      "text --- True\n",
      "train-images-idx3-ubyte --- True\n",
      "train-labels-idx1-ubyte --- True\n"
     ]
    }
   ],
   "source": [
    "# 폴더 내 모든 파일, 폴더 리스트 반환\n",
    "datalist = os.listdir(my_folder)\n",
    "\n",
    "for data_name in datalist:\n",
    "    # 폴더 여부 체크 => os.isdir(경로)\n",
    "    print(data_name, os.path.isdir(my_folder+data_name), sep=' --- ')"
   ],
   "metadata": {
    "collapsed": false,
    "ExecuteTime": {
     "end_time": "2024-03-21T05:57:02.274542600Z",
     "start_time": "2024-03-21T05:57:02.267051100Z"
    }
   },
   "id": "a53ea3bf5c1bd3b7",
   "execution_count": 8
  },
  {
   "cell_type": "code",
   "outputs": [
    {
     "name": "stdout",
     "output_type": "stream",
     "text": [
      "File bangbang.png\n",
      "--------------------\n",
      "File best_model.pth\n",
      "--------------------\n",
      "Directory (img)\n",
      "['bangbang.png', 'kakarote', 'vegeta']\n",
      "--------------------\n",
      "File iris.csv\n",
      "--------------------\n",
      "Directory (model)\n",
      "['best_model.pth', 'testModel.pth']\n",
      "--------------------\n",
      "Directory (t10k-images-idx3-ubyte)\n",
      "['t10k-images.idx3-ubyte']\n",
      "--------------------\n",
      "Directory (t10k-labels-idx1-ubyte)\n",
      "['t10k-labels.idx1-ubyte']\n",
      "--------------------\n",
      "Directory (text)\n",
      "['t10k-images.idx3-ubyte', 't10k-labels.idx1-ubyte', 't10k.csv', 'train-images.idx3-ubyte', 'train-labels.idx1-ubyte', 'train.csv', 'winequality-white.csv']\n",
      "--------------------\n",
      "Directory (train-images-idx3-ubyte)\n",
      "['train-images.idx3-ubyte']\n",
      "--------------------\n",
      "Directory (train-labels-idx1-ubyte)\n",
      "['train-labels.idx1-ubyte']\n",
      "--------------------\n"
     ]
    }
   ],
   "source": [
    "# data 폴더 아래에 파일은 파일명만 출력, 폴더라면 폴더 아래 데이터 리스트 출력\n",
    "for data_name in datalist:\n",
    "    if os.path.isdir(my_folder+data_name):\n",
    "        print(f'Directory ({data_name})')\n",
    "        print(os.listdir(my_folder+data_name))\n",
    "    else:\n",
    "        print(f'File {data_name}')\n",
    "    print('-' * 20)"
   ],
   "metadata": {
    "collapsed": false,
    "ExecuteTime": {
     "end_time": "2024-03-21T05:59:43.095585700Z",
     "start_time": "2024-03-21T05:59:43.074656600Z"
    }
   },
   "id": "84310366f63be29d",
   "execution_count": 11
  },
  {
   "cell_type": "code",
   "outputs": [],
   "source": [
    "def findFile(format):\n",
    "    print(os.path.dirname(my_folder))\n",
    "    for data_name in datalist:\n",
    "        if os.path.isdir(my_folder+data_name):\n",
    "            print(f'Directory ({data_name})')\n",
    "            for data_data_name in os.listdir(my_folder+data_name):\n",
    "                if os.path.isfile(my_folder+data_name+'/'+data_data_name) and data_data_name.split('.')[-1] == format:\n",
    "                    print(f'> File {data_data_name}')\n",
    "        elif data_name.split('.')[-1] == format:\n",
    "            print(f'File {data_name}')"
   ],
   "metadata": {
    "collapsed": false,
    "ExecuteTime": {
     "end_time": "2024-03-21T06:32:41.541678100Z",
     "start_time": "2024-03-21T06:32:41.525717600Z"
    }
   },
   "id": "d3d3ffa4bc662590",
   "execution_count": 31
  },
  {
   "cell_type": "code",
   "outputs": [
    {
     "name": "stdout",
     "output_type": "stream",
     "text": [
      "../data\n",
      "Directory (img)\n",
      "File iris.csv\n",
      "Directory (model)\n",
      "Directory (t10k-images-idx3-ubyte)\n",
      "Directory (t10k-labels-idx1-ubyte)\n",
      "Directory (text)\n",
      "> File t10k.csv\n",
      "> File train.csv\n",
      "> File winequality-white.csv\n",
      "Directory (train-images-idx3-ubyte)\n",
      "Directory (train-labels-idx1-ubyte)\n"
     ]
    }
   ],
   "source": [
    "findFile('csv')"
   ],
   "metadata": {
    "collapsed": false,
    "ExecuteTime": {
     "end_time": "2024-03-21T06:32:41.759258600Z",
     "start_time": "2024-03-21T06:32:41.745307500Z"
    }
   },
   "id": "439c6fb4b1c3b72",
   "execution_count": 32
  },
  {
   "cell_type": "code",
   "outputs": [],
   "source": [
    "import cv2"
   ],
   "metadata": {
    "collapsed": false,
    "ExecuteTime": {
     "end_time": "2024-03-21T06:54:23.479036800Z",
     "start_time": "2024-03-21T06:54:23.142443800Z"
    }
   },
   "id": "7cb62b3d5f9dfb80",
   "execution_count": 40
  },
  {
   "cell_type": "code",
   "outputs": [
    {
     "data": {
      "text/plain": "'4.9.0'"
     },
     "execution_count": 41,
     "metadata": {},
     "output_type": "execute_result"
    }
   ],
   "source": [
    "cv2.__version__"
   ],
   "metadata": {
    "collapsed": false,
    "ExecuteTime": {
     "end_time": "2024-03-21T06:58:53.276039800Z",
     "start_time": "2024-03-21T06:58:53.242722100Z"
    }
   },
   "id": "6d32f5d9cb29f817",
   "execution_count": 41
  },
  {
   "cell_type": "code",
   "outputs": [],
   "source": [],
   "metadata": {
    "collapsed": false
   },
   "id": "3d6fd0ac12940797"
  }
 ],
 "metadata": {
  "kernelspec": {
   "display_name": "Python 3",
   "language": "python",
   "name": "python3"
  },
  "language_info": {
   "codemirror_mode": {
    "name": "ipython",
    "version": 2
   },
   "file_extension": ".py",
   "mimetype": "text/x-python",
   "name": "python",
   "nbconvert_exporter": "python",
   "pygments_lexer": "ipython2",
   "version": "2.7.6"
  }
 },
 "nbformat": 4,
 "nbformat_minor": 5
}
