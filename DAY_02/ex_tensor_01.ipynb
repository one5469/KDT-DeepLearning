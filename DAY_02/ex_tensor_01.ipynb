{
 "cells": [
  {
   "cell_type": "markdown",
   "source": [
    "### 텐서(Tensor) 살펴보기\n",
    "- Pytorch에서 데이터 저장 자료형\n",
    "- 모델 입력(input), 출력(output) 데이터 형태"
   ],
   "metadata": {
    "collapsed": false
   },
   "id": "f8a19c6fb00bd767"
  },
  {
   "cell_type": "markdown",
   "source": [
    "- 모듈 로딩"
   ],
   "metadata": {
    "collapsed": false
   },
   "id": "10875e425e1ed7b8"
  },
  {
   "cell_type": "code",
   "outputs": [],
   "source": [
    "import torch"
   ],
   "metadata": {
    "collapsed": false,
    "ExecuteTime": {
     "end_time": "2024-03-12T01:44:21.535622700Z",
     "start_time": "2024-03-12T01:44:21.453306600Z"
    }
   },
   "id": "daf637491317b6f2",
   "execution_count": 60
  },
  {
   "cell_type": "markdown",
   "source": [
    "- Tensor 속성 관련 함수"
   ],
   "metadata": {
    "collapsed": false
   },
   "id": "c6513a14e6641c67"
  },
  {
   "cell_type": "code",
   "outputs": [],
   "source": [
    "# 매개변수 : 텐서 인스턴스, 텐서 변수명\n",
    "def print_attribue(tensor, name):\n",
    "    print(f'[Tensor {name}\\'s Attribute]')\n",
    "    print(f' - tensor.shape : {tensor.shape}')\n",
    "    print(f' - tensor.ndim : {tensor.ndim}D')\n",
    "    print(f' - tensor.dtype : {tensor.dtype}')\n",
    "    print(f' - tensor.device : {tensor.device}')\n",
    "    print(f' - tensor.requires_grad : {tensor.requires_grad}')\n",
    "    print(f' - tensor.data : \\n{tensor.data}')"
   ],
   "metadata": {
    "collapsed": false,
    "ExecuteTime": {
     "end_time": "2024-03-12T01:44:21.592475600Z",
     "start_time": "2024-03-12T01:44:21.541622400Z"
    }
   },
   "id": "5c65b08a891c05c4",
   "execution_count": 61
  },
  {
   "cell_type": "markdown",
   "source": [
    "- Tensor 생성 (1) 특정 데이터 타입의 텐서 생성\n",
    "    * 타입별 텐서 클래스 생성자 활용\n",
    "    * 예) IntTensor(), FloatTensor(), BoolTensor()"
   ],
   "metadata": {
    "collapsed": false
   },
   "id": "543d24be2f29e8e4"
  },
  {
   "cell_type": "code",
   "outputs": [],
   "source": [
    "# 정수 타입 텐서 생성\n",
    "t1 = torch.IntTensor(10)\n",
    "t2 = torch.IntTensor([10, 20])\n",
    "t3 = torch.BoolTensor([1,1,0,-1])\n",
    "t4 = torch.FloatTensor([10., 20.])"
   ],
   "metadata": {
    "collapsed": false,
    "ExecuteTime": {
     "end_time": "2024-03-12T01:44:21.594468200Z",
     "start_time": "2024-03-12T01:44:21.562555200Z"
    }
   },
   "id": "216e97cfc405967",
   "execution_count": 62
  },
  {
   "cell_type": "code",
   "outputs": [
    {
     "name": "stdout",
     "output_type": "stream",
     "text": [
      "[Tensor t1's Attribute]\n",
      " - tensor.shape : torch.Size([10])\n",
      " - tensor.ndim : 1D\n",
      " - tensor.dtype : torch.int32\n",
      " - tensor.device : cpu\n",
      " - tensor.requires_grad : False\n",
      " - tensor.data : \n",
      "tensor([0, 0, 0, 0, 0, 0, 0, 0, 0, 0], dtype=torch.int32)\n",
      "\n",
      "[Tensor t2's Attribute]\n",
      " - tensor.shape : torch.Size([2])\n",
      " - tensor.ndim : 1D\n",
      " - tensor.dtype : torch.int32\n",
      " - tensor.device : cpu\n",
      " - tensor.requires_grad : False\n",
      " - tensor.data : \n",
      "tensor([10, 20], dtype=torch.int32)\n",
      "\n",
      "[Tensor t3's Attribute]\n",
      " - tensor.shape : torch.Size([4])\n",
      " - tensor.ndim : 1D\n",
      " - tensor.dtype : torch.bool\n",
      " - tensor.device : cpu\n",
      " - tensor.requires_grad : False\n",
      " - tensor.data : \n",
      "tensor([ True,  True, False,  True])\n",
      "\n",
      "[Tensor t4's Attribute]\n",
      " - tensor.shape : torch.Size([2])\n",
      " - tensor.ndim : 1D\n",
      " - tensor.dtype : torch.float32\n",
      " - tensor.device : cpu\n",
      " - tensor.requires_grad : False\n",
      " - tensor.data : \n",
      "tensor([10., 20.])\n"
     ]
    }
   ],
   "source": [
    "print_attribue(t1, 't1')\n",
    "print()\n",
    "print_attribue(t2, 't2')\n",
    "print()\n",
    "print_attribue(t3, 't3')\n",
    "print()\n",
    "print_attribue(t4, 't4')"
   ],
   "metadata": {
    "collapsed": false,
    "ExecuteTime": {
     "end_time": "2024-03-12T01:44:21.636853900Z",
     "start_time": "2024-03-12T01:44:21.575512300Z"
    }
   },
   "id": "887e9885347c1ab5",
   "execution_count": 63
  },
  {
   "cell_type": "markdown",
   "source": [],
   "metadata": {
    "collapsed": false
   },
   "id": "cac9ce358610e320"
  },
  {
   "cell_type": "markdown",
   "source": [
    "- Tensor 생성 (2) 원하는 값으로 텐서 생성 => torch.tensor()"
   ],
   "metadata": {
    "collapsed": false
   },
   "id": "e869b648a46517c6"
  },
  {
   "cell_type": "code",
   "outputs": [],
   "source": [
    "t1 = torch.tensor(10)       # scaler 데이터, int64\n",
    "t2 = torch.tensor(10.)      # scaler 데이터, float32"
   ],
   "metadata": {
    "collapsed": false,
    "ExecuteTime": {
     "end_time": "2024-03-12T01:44:21.639843900Z",
     "start_time": "2024-03-12T01:44:21.590481300Z"
    }
   },
   "id": "c457a945025ab9c2",
   "execution_count": 64
  },
  {
   "cell_type": "code",
   "outputs": [
    {
     "name": "stdout",
     "output_type": "stream",
     "text": [
      "[Tensor t1's Attribute]\n",
      " - tensor.shape : torch.Size([])\n",
      " - tensor.ndim : 0D\n",
      " - tensor.dtype : torch.int64\n",
      " - tensor.device : cpu\n",
      " - tensor.requires_grad : False\n",
      " - tensor.data : \n",
      "10\n"
     ]
    }
   ],
   "source": [
    "print_attribue(t1, 't1')"
   ],
   "metadata": {
    "collapsed": false,
    "ExecuteTime": {
     "end_time": "2024-03-12T01:44:21.640840Z",
     "start_time": "2024-03-12T01:44:21.606954Z"
    }
   },
   "id": "8df7bd34e3d228cf",
   "execution_count": 65
  },
  {
   "cell_type": "code",
   "outputs": [
    {
     "name": "stdout",
     "output_type": "stream",
     "text": [
      "[Tensor t2's Attribute]\n",
      " - tensor.shape : torch.Size([])\n",
      " - tensor.ndim : 0D\n",
      " - tensor.dtype : torch.float32\n",
      " - tensor.device : cpu\n",
      " - tensor.requires_grad : False\n",
      " - tensor.data : \n",
      "10.0\n"
     ]
    }
   ],
   "source": [
    "print_attribue(t2, 't2')"
   ],
   "metadata": {
    "collapsed": false,
    "ExecuteTime": {
     "end_time": "2024-03-12T01:44:21.677727400Z",
     "start_time": "2024-03-12T01:44:21.622900700Z"
    }
   },
   "id": "e11457331e5cbf96",
   "execution_count": 66
  },
  {
   "cell_type": "code",
   "outputs": [
    {
     "name": "stdout",
     "output_type": "stream",
     "text": [
      "[Tensor t1's Attribute]\n",
      " - tensor.shape : torch.Size([])\n",
      " - tensor.ndim : 0D\n",
      " - tensor.dtype : torch.int32\n",
      " - tensor.device : cpu\n",
      " - tensor.requires_grad : False\n",
      " - tensor.data : \n",
      "10\n"
     ]
    }
   ],
   "source": [
    "# dtype 매개변수 : 원하는 데이터 타입 지정 가능\n",
    "t1 = torch.tensor(10, dtype=torch.int32)    # scaler 데이터, int32\n",
    "print_attribue(t1, 't1')"
   ],
   "metadata": {
    "collapsed": false,
    "ExecuteTime": {
     "end_time": "2024-03-12T01:44:21.681704900Z",
     "start_time": "2024-03-12T01:44:21.642833900Z"
    }
   },
   "id": "46148fdab7808047",
   "execution_count": 67
  },
  {
   "cell_type": "markdown",
   "source": [
    "- Tensor 생성 (3) 특정 값으로 채운 텐서 => 0, 1 등의 값"
   ],
   "metadata": {
    "collapsed": false
   },
   "id": "a98ebd02664ff147"
  },
  {
   "cell_type": "code",
   "outputs": [
    {
     "name": "stdout",
     "output_type": "stream",
     "text": [
      "[Tensor t1's Attribute]\n",
      " - tensor.shape : torch.Size([5])\n",
      " - tensor.ndim : 1D\n",
      " - tensor.dtype : torch.float32\n",
      " - tensor.device : cpu\n",
      " - tensor.requires_grad : False\n",
      " - tensor.data : \n",
      "tensor([0., 0., 0., 0., 0.])\n"
     ]
    }
   ],
   "source": [
    "# 0으로 채운 텐서\n",
    "t1 = torch.zeros(5)\n",
    "print_attribue(t1, 't1')"
   ],
   "metadata": {
    "collapsed": false,
    "ExecuteTime": {
     "end_time": "2024-03-12T01:44:21.725076Z",
     "start_time": "2024-03-12T01:44:21.683699600Z"
    }
   },
   "id": "736e158be2cecad",
   "execution_count": 68
  },
  {
   "cell_type": "code",
   "outputs": [
    {
     "name": "stdout",
     "output_type": "stream",
     "text": [
      "[Tensor t1's Attribute]\n",
      " - tensor.shape : torch.Size([5, 5])\n",
      " - tensor.ndim : 2D\n",
      " - tensor.dtype : torch.float32\n",
      " - tensor.device : cpu\n",
      " - tensor.requires_grad : False\n",
      " - tensor.data : \n",
      "tensor([[0., 0., 0., 0., 0.],\n",
      "        [0., 0., 0., 0., 0.],\n",
      "        [0., 0., 0., 0., 0.],\n",
      "        [0., 0., 0., 0., 0.],\n",
      "        [0., 0., 0., 0., 0.]])\n"
     ]
    }
   ],
   "source": [
    "t1 = torch.zeros(5,5)\n",
    "print_attribue(t1, 't1')"
   ],
   "metadata": {
    "collapsed": false,
    "ExecuteTime": {
     "end_time": "2024-03-12T01:44:21.779351200Z",
     "start_time": "2024-03-12T01:44:21.728204100Z"
    }
   },
   "id": "853c314044b358c8",
   "execution_count": 69
  },
  {
   "cell_type": "code",
   "outputs": [
    {
     "name": "stdout",
     "output_type": "stream",
     "text": [
      "[Tensor t1's Attribute]\n",
      " - tensor.shape : torch.Size([5, 5])\n",
      " - tensor.ndim : 2D\n",
      " - tensor.dtype : torch.int8\n",
      " - tensor.device : cpu\n",
      " - tensor.requires_grad : False\n",
      " - tensor.data : \n",
      "tensor([[0, 0, 0, 0, 0],\n",
      "        [0, 0, 0, 0, 0],\n",
      "        [0, 0, 0, 0, 0],\n",
      "        [0, 0, 0, 0, 0],\n",
      "        [0, 0, 0, 0, 0]], dtype=torch.int8)\n"
     ]
    }
   ],
   "source": [
    "t1 = torch.zeros(5,5, dtype=torch.int8)\n",
    "print_attribue(t1, 't1')"
   ],
   "metadata": {
    "collapsed": false,
    "ExecuteTime": {
     "end_time": "2024-03-12T01:44:21.782605900Z",
     "start_time": "2024-03-12T01:44:21.748141800Z"
    }
   },
   "id": "e51a24b7d65463f6",
   "execution_count": 70
  },
  {
   "cell_type": "code",
   "outputs": [
    {
     "name": "stdout",
     "output_type": "stream",
     "text": [
      "[Tensor t1's Attribute]\n",
      " - tensor.shape : torch.Size([2, 4])\n",
      " - tensor.ndim : 2D\n",
      " - tensor.dtype : torch.int8\n",
      " - tensor.device : cpu\n",
      " - tensor.requires_grad : False\n",
      " - tensor.data : \n",
      "tensor([[1, 1, 1, 1],\n",
      "        [1, 1, 1, 1]], dtype=torch.int8)\n"
     ]
    }
   ],
   "source": [
    "# 1로 채운 텐서\n",
    "t1 = torch.ones((2,4), dtype=torch.int8)\n",
    "print_attribue(t1, 't1')"
   ],
   "metadata": {
    "collapsed": false,
    "ExecuteTime": {
     "end_time": "2024-03-12T01:44:21.828950100Z",
     "start_time": "2024-03-12T01:44:21.763092Z"
    }
   },
   "id": "ea49b76e3e6f003",
   "execution_count": 71
  },
  {
   "cell_type": "code",
   "outputs": [
    {
     "name": "stdout",
     "output_type": "stream",
     "text": [
      "torch.Size([2, 6])\n"
     ]
    }
   ],
   "source": [
    "# 이미 존재하는 텐서와 동일한 shape로 잡고 값 채우기 => zeros_like(), ones_like(), full_like()\n",
    "img = torch.tensor([[2,3,4,5,6,7], [2,3,4,5,6,7]])\n",
    "print(img.shape)"
   ],
   "metadata": {
    "collapsed": false,
    "ExecuteTime": {
     "end_time": "2024-03-12T01:44:21.832937600Z",
     "start_time": "2024-03-12T01:44:21.779351200Z"
    }
   },
   "id": "1ae4ab727fc2928",
   "execution_count": 72
  },
  {
   "cell_type": "code",
   "outputs": [
    {
     "name": "stdout",
     "output_type": "stream",
     "text": [
      "tensor([[0, 0, 0, 0, 0, 0],\n",
      "        [0, 0, 0, 0, 0, 0]])\n"
     ]
    }
   ],
   "source": [
    "zero_img = torch.zeros_like(img)\n",
    "print(zero_img)"
   ],
   "metadata": {
    "collapsed": false,
    "ExecuteTime": {
     "end_time": "2024-03-12T01:44:21.847889200Z",
     "start_time": "2024-03-12T01:44:21.794569600Z"
    }
   },
   "id": "55b45973d2bdee17",
   "execution_count": 73
  },
  {
   "cell_type": "code",
   "outputs": [
    {
     "name": "stdout",
     "output_type": "stream",
     "text": [
      "tensor([[1, 1, 1, 1, 1, 1],\n",
      "        [1, 1, 1, 1, 1, 1]])\n"
     ]
    }
   ],
   "source": [
    "one_img = torch.ones_like(img)\n",
    "print(one_img)"
   ],
   "metadata": {
    "collapsed": false,
    "ExecuteTime": {
     "end_time": "2024-03-12T01:44:21.884853800Z",
     "start_time": "2024-03-12T01:44:21.834930600Z"
    }
   },
   "id": "4ea8e7154c0d68f5",
   "execution_count": 74
  },
  {
   "cell_type": "code",
   "outputs": [
    {
     "name": "stdout",
     "output_type": "stream",
     "text": [
      "tensor([[7, 7, 7, 7, 7, 7],\n",
      "        [7, 7, 7, 7, 7, 7]])\n"
     ]
    }
   ],
   "source": [
    "full_img = torch.full_like(img, 7)\n",
    "print(full_img)"
   ],
   "metadata": {
    "collapsed": false,
    "ExecuteTime": {
     "end_time": "2024-03-12T01:44:21.903307600Z",
     "start_time": "2024-03-12T01:44:21.886851200Z"
    }
   },
   "id": "f4e209bdbecaa609",
   "execution_count": 75
  },
  {
   "cell_type": "code",
   "outputs": [
    {
     "name": "stdout",
     "output_type": "stream",
     "text": [
      "tensor([[1., 0., 0., 0., 0.],\n",
      "        [0., 1., 0., 0., 0.],\n",
      "        [0., 0., 1., 0., 0.],\n",
      "        [0., 0., 0., 1., 0.],\n",
      "        [0., 0., 0., 0., 1.]])\n"
     ]
    }
   ],
   "source": [
    "# 대각선 방향으로 1채우기 => eye()\n",
    "t1 = torch.eye(5)\n",
    "print(t1)"
   ],
   "metadata": {
    "collapsed": false,
    "ExecuteTime": {
     "end_time": "2024-03-12T01:44:21.947161500Z",
     "start_time": "2024-03-12T01:44:21.905300400Z"
    }
   },
   "id": "d6f928538aa0c7ec",
   "execution_count": 76
  },
  {
   "cell_type": "code",
   "outputs": [
    {
     "name": "stdout",
     "output_type": "stream",
     "text": [
      "tensor([[1., 0., 0.],\n",
      "        [0., 1., 0.]])\n"
     ]
    }
   ],
   "source": [
    "t1 = torch.eye(2,3)\n",
    "print(t1)"
   ],
   "metadata": {
    "collapsed": false,
    "ExecuteTime": {
     "end_time": "2024-03-12T01:44:21.951150Z",
     "start_time": "2024-03-12T01:44:21.919254500Z"
    }
   },
   "id": "704138f99482affc",
   "execution_count": 77
  },
  {
   "cell_type": "code",
   "outputs": [
    {
     "data": {
      "text/plain": "<torch._C.Generator at 0x1bf0b4de610>"
     },
     "execution_count": 78,
     "metadata": {},
     "output_type": "execute_result"
    }
   ],
   "source": [
    "torch.manual_seed(12)"
   ],
   "metadata": {
    "collapsed": false,
    "ExecuteTime": {
     "end_time": "2024-03-12T01:44:21.952146900Z",
     "start_time": "2024-03-12T01:44:21.935200100Z"
    }
   },
   "id": "800eab7e86ec1e2",
   "execution_count": 78
  },
  {
   "cell_type": "markdown",
   "source": [
    "- Tensor 생성 방법 (4) : 임의의 값으로 Tensor 생성 => torch.rand(), torch.randn(), torch.randint()"
   ],
   "metadata": {
    "collapsed": false
   },
   "id": "7396d3aea0923bc9"
  },
  {
   "cell_type": "code",
   "outputs": [
    {
     "data": {
      "text/plain": "tensor([[0.4657, 0.2328, 0.4527],\n        [0.5871, 0.4086, 0.1272]])"
     },
     "execution_count": 79,
     "metadata": {},
     "output_type": "execute_result"
    }
   ],
   "source": [
    "t5 = torch.rand(2,3)\n",
    "t5"
   ],
   "metadata": {
    "collapsed": false,
    "ExecuteTime": {
     "end_time": "2024-03-12T01:44:22.003547900Z",
     "start_time": "2024-03-12T01:44:21.953140800Z"
    }
   },
   "id": "965e30e3d2c4853a",
   "execution_count": 79
  },
  {
   "cell_type": "code",
   "outputs": [
    {
     "data": {
      "text/plain": "tensor([[ 1.5869,  1.1268, -1.2274],\n        [-0.8216, -1.7861,  0.6167]])"
     },
     "execution_count": 80,
     "metadata": {},
     "output_type": "execute_result"
    }
   ],
   "source": [
    "t6 = torch.randn(2,3)\n",
    "t6"
   ],
   "metadata": {
    "collapsed": false,
    "ExecuteTime": {
     "end_time": "2024-03-12T01:44:22.006529Z",
     "start_time": "2024-03-12T01:44:21.970084100Z"
    }
   },
   "id": "b0a4160b6b93a2d7",
   "execution_count": 80
  },
  {
   "cell_type": "code",
   "outputs": [
    {
     "data": {
      "text/plain": "tensor([[8, 4, 6],\n        [2, 2, 2]])"
     },
     "execution_count": 81,
     "metadata": {},
     "output_type": "execute_result"
    }
   ],
   "source": [
    "t7 = torch.randint(low=1, high=10, size=(2,3))\n",
    "t7"
   ],
   "metadata": {
    "collapsed": false,
    "ExecuteTime": {
     "end_time": "2024-03-12T01:44:22.036429300Z",
     "start_time": "2024-03-12T01:44:22.009517400Z"
    }
   },
   "id": "1b1564e718841b02",
   "execution_count": 81
  },
  {
   "cell_type": "markdown",
   "source": [
    "- Tensor 생성 방법 (5) : Ndarray 객체 활용 => torch.from_numpy(), torch.as_tensor(), tensor()"
   ],
   "metadata": {
    "collapsed": false
   },
   "id": "bed5883d24e12863"
  },
  {
   "cell_type": "code",
   "outputs": [
    {
     "name": "stdout",
     "output_type": "stream",
     "text": [
      "[11 22 33] <class 'numpy.ndarray'>\n"
     ]
    }
   ],
   "source": [
    "# 데이터생성\n",
    "import numpy as np\n",
    "\n",
    "data = np.array([11,22,33])\n",
    "print(data, type(data))"
   ],
   "metadata": {
    "collapsed": false,
    "ExecuteTime": {
     "end_time": "2024-03-12T01:46:21.426031300Z",
     "start_time": "2024-03-12T01:46:21.394781400Z"
    }
   },
   "id": "d3b68bda521bd6c6",
   "execution_count": 82
  },
  {
   "cell_type": "code",
   "outputs": [
    {
     "name": "stdout",
     "output_type": "stream",
     "text": [
      "tensor([11, 22, 33], dtype=torch.int32)\n"
     ]
    }
   ],
   "source": [
    "t1 = torch.from_numpy(data)\n",
    "print(t1)"
   ],
   "metadata": {
    "collapsed": false,
    "ExecuteTime": {
     "end_time": "2024-03-12T01:46:41.641193Z",
     "start_time": "2024-03-12T01:46:41.606310200Z"
    }
   },
   "id": "4268e4f38b7cddcb",
   "execution_count": 83
  },
  {
   "cell_type": "code",
   "outputs": [
    {
     "data": {
      "text/plain": "tensor([11, 22, 33], dtype=torch.int32)"
     },
     "execution_count": 84,
     "metadata": {},
     "output_type": "execute_result"
    }
   ],
   "source": [
    "t2 = torch.as_tensor(data)\n",
    "t2"
   ],
   "metadata": {
    "collapsed": false,
    "ExecuteTime": {
     "end_time": "2024-03-12T01:47:12.994480800Z",
     "start_time": "2024-03-12T01:47:12.960911700Z"
    }
   },
   "id": "f94b4a2cd7d5e1aa",
   "execution_count": 84
  },
  {
   "cell_type": "code",
   "outputs": [
    {
     "data": {
      "text/plain": "tensor([11, 22, 33], dtype=torch.int32)"
     },
     "execution_count": 85,
     "metadata": {},
     "output_type": "execute_result"
    }
   ],
   "source": [
    "t3 = torch.tensor(data)\n",
    "t3"
   ],
   "metadata": {
    "collapsed": false,
    "ExecuteTime": {
     "end_time": "2024-03-12T01:47:25.399706Z",
     "start_time": "2024-03-12T01:47:25.362880400Z"
    }
   },
   "id": "eb60b40bb848640c",
   "execution_count": 85
  },
  {
   "cell_type": "code",
   "outputs": [],
   "source": [
    "# ndarray 원소 변경\n",
    "data[0] = 100"
   ],
   "metadata": {
    "collapsed": false,
    "ExecuteTime": {
     "end_time": "2024-03-12T01:48:18.281169Z",
     "start_time": "2024-03-12T01:48:18.254017500Z"
    }
   },
   "id": "dce335979b2dab9f",
   "execution_count": 86
  },
  {
   "cell_type": "code",
   "outputs": [
    {
     "name": "stdout",
     "output_type": "stream",
     "text": [
      "[100  22  33]\n",
      "tensor([100,  22,  33], dtype=torch.int32)\n",
      "tensor([100,  22,  33], dtype=torch.int32)\n",
      "tensor([11, 22, 33], dtype=torch.int32)\n"
     ]
    }
   ],
   "source": [
    "# from_numpy(), as_tensor() ==> 데이터 공유\n",
    "# tensor() ==> 복사본 생성\n",
    "print(data, t1, t2, t3, sep='\\n')"
   ],
   "metadata": {
    "collapsed": false,
    "ExecuteTime": {
     "end_time": "2024-03-12T01:50:25.553417600Z",
     "start_time": "2024-03-12T01:50:25.533966900Z"
    }
   },
   "id": "f3f4e708ab3b9165",
   "execution_count": 88
  },
  {
   "cell_type": "code",
   "outputs": [],
   "source": [],
   "metadata": {
    "collapsed": false
   },
   "id": "38ee9de0e4aabbab"
  }
 ],
 "metadata": {
  "kernelspec": {
   "display_name": "Python 3",
   "language": "python",
   "name": "python3"
  },
  "language_info": {
   "codemirror_mode": {
    "name": "ipython",
    "version": 2
   },
   "file_extension": ".py",
   "mimetype": "text/x-python",
   "name": "python",
   "nbconvert_exporter": "python",
   "pygments_lexer": "ipython2",
   "version": "2.7.6"
  }
 },
 "nbformat": 4,
 "nbformat_minor": 5
}
