{
 "cells": [
  {
   "cell_type": "code",
   "execution_count": 13,
   "id": "initial_id",
   "metadata": {
    "collapsed": true,
    "ExecuteTime": {
     "end_time": "2024-03-25T05:15:21.626226600Z",
     "start_time": "2024-03-25T05:15:21.617808400Z"
    }
   },
   "outputs": [],
   "source": [
    "import pandas as pd\n",
    "import numpy as np\n",
    "import matplotlib.pyplot as plt\n",
    "import torch\n",
    "import torch.nn as nn\n",
    "from torch.utils.data import Dataset, DataLoader, random_split"
   ]
  },
  {
   "cell_type": "code",
   "outputs": [],
   "source": [
    "filepath = '../data/iris.csv'\n",
    "irisDF = pd.read_csv(filepath)"
   ],
   "metadata": {
    "collapsed": false,
    "ExecuteTime": {
     "end_time": "2024-03-25T05:07:45.942694Z",
     "start_time": "2024-03-25T05:07:45.915770400Z"
    }
   },
   "id": "a3e627b09ff9c825",
   "execution_count": 2
  },
  {
   "cell_type": "code",
   "outputs": [
    {
     "name": "stdout",
     "output_type": "stream",
     "text": [
      "<class 'pandas.core.frame.DataFrame'>\n",
      "RangeIndex: 150 entries, 0 to 149\n",
      "Data columns (total 5 columns):\n",
      " #   Column        Non-Null Count  Dtype  \n",
      "---  ------        --------------  -----  \n",
      " 0   sepal_length  150 non-null    float64\n",
      " 1   sepal_width   150 non-null    float64\n",
      " 2   petal_length  150 non-null    float64\n",
      " 3   petal_width   150 non-null    float64\n",
      " 4   species       150 non-null    object \n",
      "dtypes: float64(4), object(1)\n",
      "memory usage: 6.0+ KB\n"
     ]
    }
   ],
   "source": [
    "irisDF.info()"
   ],
   "metadata": {
    "collapsed": false,
    "ExecuteTime": {
     "end_time": "2024-03-25T05:07:49.499993500Z",
     "start_time": "2024-03-25T05:07:49.475682900Z"
    }
   },
   "id": "1dbe9ab663ff9b7e",
   "execution_count": 3
  },
  {
   "cell_type": "code",
   "outputs": [
    {
     "data": {
      "text/plain": "{'setosa': 0, 'versicolor': 1, 'virginica': 2}"
     },
     "execution_count": 5,
     "metadata": {},
     "output_type": "execute_result"
    }
   ],
   "source": [
    "encoder = {}\n",
    "\n",
    "for idx, c in enumerate(irisDF['species'].unique()):\n",
    "    encoder[c] = idx\n",
    "    \n",
    "encoder"
   ],
   "metadata": {
    "collapsed": false,
    "ExecuteTime": {
     "end_time": "2024-03-25T05:10:11.064253700Z",
     "start_time": "2024-03-25T05:10:11.049302600Z"
    }
   },
   "id": "8ef511ea504fe03e",
   "execution_count": 5
  },
  {
   "cell_type": "code",
   "outputs": [
    {
     "data": {
      "text/plain": "array([0, 1, 2], dtype=int64)"
     },
     "execution_count": 6,
     "metadata": {},
     "output_type": "execute_result"
    }
   ],
   "source": [
    "irisDF['species'].replace(encoder, inplace=True)\n",
    "irisDF['species'].unique()"
   ],
   "metadata": {
    "collapsed": false,
    "ExecuteTime": {
     "end_time": "2024-03-25T05:10:39.706724500Z",
     "start_time": "2024-03-25T05:10:39.686791300Z"
    }
   },
   "id": "67598a77b4568012",
   "execution_count": 6
  },
  {
   "cell_type": "code",
   "outputs": [],
   "source": [
    "featureT = torch.FloatTensor(irisDF[irisDF.columns[:-1]].values)\n",
    "targetT = torch.FloatTensor(irisDF[irisDF.columns[-1]].values)"
   ],
   "metadata": {
    "collapsed": false,
    "ExecuteTime": {
     "end_time": "2024-03-25T05:12:08.080774400Z",
     "start_time": "2024-03-25T05:12:08.061827600Z"
    }
   },
   "id": "df76b9270e2853ec",
   "execution_count": 7
  },
  {
   "cell_type": "code",
   "outputs": [],
   "source": [
    "class dataset(Dataset):\n",
    "    def __init__(self, X, y):\n",
    "        super().__init__()\n",
    "        self.feature = X\n",
    "        self.target = y\n",
    "        \n",
    "    def __len__(self):\n",
    "        return self.feature.shape[0]\n",
    "    \n",
    "    def __getitem__(self, idx):\n",
    "        return self.feature[0], self.target[0]\n",
    "        "
   ],
   "metadata": {
    "collapsed": false,
    "ExecuteTime": {
     "end_time": "2024-03-25T05:14:04.250252Z",
     "start_time": "2024-03-25T05:14:04.241516700Z"
    }
   },
   "id": "b3079413bafd05d6",
   "execution_count": 8
  },
  {
   "cell_type": "code",
   "outputs": [],
   "source": [
    "irisDS = dataset(featureT, targetT)"
   ],
   "metadata": {
    "collapsed": false,
    "ExecuteTime": {
     "end_time": "2024-03-25T05:14:16.897265900Z",
     "start_time": "2024-03-25T05:14:16.883298900Z"
    }
   },
   "id": "7d1dc1dc05987c3",
   "execution_count": 9
  },
  {
   "cell_type": "code",
   "outputs": [
    {
     "data": {
      "text/plain": "(torch.Size([150, 4]), torch.Size([150]))"
     },
     "execution_count": 12,
     "metadata": {},
     "output_type": "execute_result"
    }
   ],
   "source": [
    "irisDS.feature.shape, irisDS.target.shape"
   ],
   "metadata": {
    "collapsed": false,
    "ExecuteTime": {
     "end_time": "2024-03-25T05:14:52.677898100Z",
     "start_time": "2024-03-25T05:14:52.662797800Z"
    }
   },
   "id": "d81eaeebe49103eb",
   "execution_count": 12
  },
  {
   "cell_type": "code",
   "outputs": [],
   "source": [
    "trainDS, testDS = random_split(irisDS, [0.8, 0.2],\n",
    "                               generator=torch.Generator().manual_seed(40))"
   ],
   "metadata": {
    "collapsed": false,
    "ExecuteTime": {
     "end_time": "2024-03-25T05:16:46.434101300Z",
     "start_time": "2024-03-25T05:16:46.424129600Z"
    }
   },
   "id": "5e14ed07457a5d3",
   "execution_count": 17
  },
  {
   "cell_type": "code",
   "outputs": [],
   "source": [
    "### 로딩된 데이터 확인 함수\n",
    "def print_batch_data(loader, epochs, batch_size=1, shuffle=False, drop_last=False, sampler=None):\n",
    "    print(f'[설정값] batch_size:{batch_size}, shuffle:{shuffle}, drop_last:{drop_last}, sampler:{sampler}')\n",
    "    \n",
    "    for ep in range(1, epochs+1):\n",
    "        print(f'[{ep}] EPOCHS]===============')\n",
    "        for feature, label in loader:\n",
    "            print(feature.shape, label.shape, label)"
   ],
   "metadata": {
    "collapsed": false,
    "ExecuteTime": {
     "end_time": "2024-03-25T05:49:17.059896800Z",
     "start_time": "2024-03-25T05:49:17.040950500Z"
    }
   },
   "id": "34aa97f721f249f9",
   "execution_count": 26
  },
  {
   "cell_type": "code",
   "outputs": [],
   "source": [
    "#### ===> [기본사용] batch_size=1, shuffle=False, drop_last=False, sampler=None\n",
    "BATCH = 1\n",
    "trainDL = DataLoader(trainDS, batch_size=BATCH)\n",
    "testDL = DataLoader(testDS, batch_size=BATCH)"
   ],
   "metadata": {
    "collapsed": false,
    "ExecuteTime": {
     "end_time": "2024-03-25T05:52:21.623932600Z",
     "start_time": "2024-03-25T05:52:21.600001900Z"
    }
   },
   "id": "d75db9cde4f658ef",
   "execution_count": 40
  },
  {
   "cell_type": "code",
   "outputs": [
    {
     "data": {
      "text/plain": "(120, 30)"
     },
     "execution_count": 41,
     "metadata": {},
     "output_type": "execute_result"
    }
   ],
   "source": [
    "len(trainDL), len(testDL)"
   ],
   "metadata": {
    "collapsed": false,
    "ExecuteTime": {
     "end_time": "2024-03-25T05:52:21.917228900Z",
     "start_time": "2024-03-25T05:52:21.899286400Z"
    }
   },
   "id": "955709be255163fc",
   "execution_count": 41
  },
  {
   "cell_type": "code",
   "outputs": [
    {
     "name": "stdout",
     "output_type": "stream",
     "text": [
      "[설정값] batch_size:1, shuffle:False, drop_last:False, sampler:None\n",
      "[1] EPOCHS]===============\n",
      "torch.Size([1, 4]) torch.Size([1]) tensor([0.])\n",
      "torch.Size([1, 4]) torch.Size([1]) tensor([0.])\n",
      "torch.Size([1, 4]) torch.Size([1]) tensor([0.])\n",
      "torch.Size([1, 4]) torch.Size([1]) tensor([0.])\n",
      "torch.Size([1, 4]) torch.Size([1]) tensor([0.])\n",
      "torch.Size([1, 4]) torch.Size([1]) tensor([0.])\n",
      "torch.Size([1, 4]) torch.Size([1]) tensor([0.])\n",
      "torch.Size([1, 4]) torch.Size([1]) tensor([0.])\n",
      "torch.Size([1, 4]) torch.Size([1]) tensor([0.])\n",
      "torch.Size([1, 4]) torch.Size([1]) tensor([0.])\n",
      "torch.Size([1, 4]) torch.Size([1]) tensor([0.])\n",
      "torch.Size([1, 4]) torch.Size([1]) tensor([0.])\n",
      "torch.Size([1, 4]) torch.Size([1]) tensor([0.])\n",
      "torch.Size([1, 4]) torch.Size([1]) tensor([0.])\n",
      "torch.Size([1, 4]) torch.Size([1]) tensor([0.])\n",
      "torch.Size([1, 4]) torch.Size([1]) tensor([0.])\n",
      "torch.Size([1, 4]) torch.Size([1]) tensor([0.])\n",
      "torch.Size([1, 4]) torch.Size([1]) tensor([0.])\n",
      "torch.Size([1, 4]) torch.Size([1]) tensor([0.])\n",
      "torch.Size([1, 4]) torch.Size([1]) tensor([0.])\n",
      "torch.Size([1, 4]) torch.Size([1]) tensor([0.])\n",
      "torch.Size([1, 4]) torch.Size([1]) tensor([0.])\n",
      "torch.Size([1, 4]) torch.Size([1]) tensor([0.])\n",
      "torch.Size([1, 4]) torch.Size([1]) tensor([0.])\n",
      "torch.Size([1, 4]) torch.Size([1]) tensor([0.])\n",
      "torch.Size([1, 4]) torch.Size([1]) tensor([0.])\n",
      "torch.Size([1, 4]) torch.Size([1]) tensor([0.])\n",
      "torch.Size([1, 4]) torch.Size([1]) tensor([0.])\n",
      "torch.Size([1, 4]) torch.Size([1]) tensor([0.])\n",
      "torch.Size([1, 4]) torch.Size([1]) tensor([0.])\n",
      "torch.Size([1, 4]) torch.Size([1]) tensor([0.])\n",
      "torch.Size([1, 4]) torch.Size([1]) tensor([0.])\n",
      "torch.Size([1, 4]) torch.Size([1]) tensor([0.])\n",
      "torch.Size([1, 4]) torch.Size([1]) tensor([0.])\n",
      "torch.Size([1, 4]) torch.Size([1]) tensor([0.])\n",
      "torch.Size([1, 4]) torch.Size([1]) tensor([0.])\n",
      "torch.Size([1, 4]) torch.Size([1]) tensor([0.])\n",
      "torch.Size([1, 4]) torch.Size([1]) tensor([0.])\n",
      "torch.Size([1, 4]) torch.Size([1]) tensor([0.])\n",
      "torch.Size([1, 4]) torch.Size([1]) tensor([0.])\n",
      "torch.Size([1, 4]) torch.Size([1]) tensor([0.])\n",
      "torch.Size([1, 4]) torch.Size([1]) tensor([0.])\n",
      "torch.Size([1, 4]) torch.Size([1]) tensor([0.])\n",
      "torch.Size([1, 4]) torch.Size([1]) tensor([0.])\n",
      "torch.Size([1, 4]) torch.Size([1]) tensor([0.])\n",
      "torch.Size([1, 4]) torch.Size([1]) tensor([0.])\n",
      "torch.Size([1, 4]) torch.Size([1]) tensor([0.])\n",
      "torch.Size([1, 4]) torch.Size([1]) tensor([0.])\n",
      "torch.Size([1, 4]) torch.Size([1]) tensor([0.])\n",
      "torch.Size([1, 4]) torch.Size([1]) tensor([0.])\n",
      "torch.Size([1, 4]) torch.Size([1]) tensor([0.])\n",
      "torch.Size([1, 4]) torch.Size([1]) tensor([0.])\n",
      "torch.Size([1, 4]) torch.Size([1]) tensor([0.])\n",
      "torch.Size([1, 4]) torch.Size([1]) tensor([0.])\n",
      "torch.Size([1, 4]) torch.Size([1]) tensor([0.])\n",
      "torch.Size([1, 4]) torch.Size([1]) tensor([0.])\n",
      "torch.Size([1, 4]) torch.Size([1]) tensor([0.])\n",
      "torch.Size([1, 4]) torch.Size([1]) tensor([0.])\n",
      "torch.Size([1, 4]) torch.Size([1]) tensor([0.])\n",
      "torch.Size([1, 4]) torch.Size([1]) tensor([0.])\n",
      "torch.Size([1, 4]) torch.Size([1]) tensor([0.])\n",
      "torch.Size([1, 4]) torch.Size([1]) tensor([0.])\n",
      "torch.Size([1, 4]) torch.Size([1]) tensor([0.])\n",
      "torch.Size([1, 4]) torch.Size([1]) tensor([0.])\n",
      "torch.Size([1, 4]) torch.Size([1]) tensor([0.])\n",
      "torch.Size([1, 4]) torch.Size([1]) tensor([0.])\n",
      "torch.Size([1, 4]) torch.Size([1]) tensor([0.])\n",
      "torch.Size([1, 4]) torch.Size([1]) tensor([0.])\n",
      "torch.Size([1, 4]) torch.Size([1]) tensor([0.])\n",
      "torch.Size([1, 4]) torch.Size([1]) tensor([0.])\n",
      "torch.Size([1, 4]) torch.Size([1]) tensor([0.])\n",
      "torch.Size([1, 4]) torch.Size([1]) tensor([0.])\n",
      "torch.Size([1, 4]) torch.Size([1]) tensor([0.])\n",
      "torch.Size([1, 4]) torch.Size([1]) tensor([0.])\n",
      "torch.Size([1, 4]) torch.Size([1]) tensor([0.])\n",
      "torch.Size([1, 4]) torch.Size([1]) tensor([0.])\n",
      "torch.Size([1, 4]) torch.Size([1]) tensor([0.])\n",
      "torch.Size([1, 4]) torch.Size([1]) tensor([0.])\n",
      "torch.Size([1, 4]) torch.Size([1]) tensor([0.])\n",
      "torch.Size([1, 4]) torch.Size([1]) tensor([0.])\n",
      "torch.Size([1, 4]) torch.Size([1]) tensor([0.])\n",
      "torch.Size([1, 4]) torch.Size([1]) tensor([0.])\n",
      "torch.Size([1, 4]) torch.Size([1]) tensor([0.])\n",
      "torch.Size([1, 4]) torch.Size([1]) tensor([0.])\n",
      "torch.Size([1, 4]) torch.Size([1]) tensor([0.])\n",
      "torch.Size([1, 4]) torch.Size([1]) tensor([0.])\n",
      "torch.Size([1, 4]) torch.Size([1]) tensor([0.])\n",
      "torch.Size([1, 4]) torch.Size([1]) tensor([0.])\n",
      "torch.Size([1, 4]) torch.Size([1]) tensor([0.])\n",
      "torch.Size([1, 4]) torch.Size([1]) tensor([0.])\n",
      "torch.Size([1, 4]) torch.Size([1]) tensor([0.])\n",
      "torch.Size([1, 4]) torch.Size([1]) tensor([0.])\n",
      "torch.Size([1, 4]) torch.Size([1]) tensor([0.])\n",
      "torch.Size([1, 4]) torch.Size([1]) tensor([0.])\n",
      "torch.Size([1, 4]) torch.Size([1]) tensor([0.])\n",
      "torch.Size([1, 4]) torch.Size([1]) tensor([0.])\n",
      "torch.Size([1, 4]) torch.Size([1]) tensor([0.])\n",
      "torch.Size([1, 4]) torch.Size([1]) tensor([0.])\n",
      "torch.Size([1, 4]) torch.Size([1]) tensor([0.])\n",
      "torch.Size([1, 4]) torch.Size([1]) tensor([0.])\n",
      "torch.Size([1, 4]) torch.Size([1]) tensor([0.])\n",
      "torch.Size([1, 4]) torch.Size([1]) tensor([0.])\n",
      "torch.Size([1, 4]) torch.Size([1]) tensor([0.])\n",
      "torch.Size([1, 4]) torch.Size([1]) tensor([0.])\n",
      "torch.Size([1, 4]) torch.Size([1]) tensor([0.])\n",
      "torch.Size([1, 4]) torch.Size([1]) tensor([0.])\n",
      "torch.Size([1, 4]) torch.Size([1]) tensor([0.])\n",
      "torch.Size([1, 4]) torch.Size([1]) tensor([0.])\n",
      "torch.Size([1, 4]) torch.Size([1]) tensor([0.])\n",
      "torch.Size([1, 4]) torch.Size([1]) tensor([0.])\n",
      "torch.Size([1, 4]) torch.Size([1]) tensor([0.])\n",
      "torch.Size([1, 4]) torch.Size([1]) tensor([0.])\n",
      "torch.Size([1, 4]) torch.Size([1]) tensor([0.])\n",
      "torch.Size([1, 4]) torch.Size([1]) tensor([0.])\n",
      "torch.Size([1, 4]) torch.Size([1]) tensor([0.])\n",
      "torch.Size([1, 4]) torch.Size([1]) tensor([0.])\n",
      "torch.Size([1, 4]) torch.Size([1]) tensor([0.])\n",
      "torch.Size([1, 4]) torch.Size([1]) tensor([0.])\n",
      "torch.Size([1, 4]) torch.Size([1]) tensor([0.])\n",
      "torch.Size([1, 4]) torch.Size([1]) tensor([0.])\n",
      "[2] EPOCHS]===============\n",
      "torch.Size([1, 4]) torch.Size([1]) tensor([0.])\n",
      "torch.Size([1, 4]) torch.Size([1]) tensor([0.])\n",
      "torch.Size([1, 4]) torch.Size([1]) tensor([0.])\n",
      "torch.Size([1, 4]) torch.Size([1]) tensor([0.])\n",
      "torch.Size([1, 4]) torch.Size([1]) tensor([0.])\n",
      "torch.Size([1, 4]) torch.Size([1]) tensor([0.])\n",
      "torch.Size([1, 4]) torch.Size([1]) tensor([0.])\n",
      "torch.Size([1, 4]) torch.Size([1]) tensor([0.])\n",
      "torch.Size([1, 4]) torch.Size([1]) tensor([0.])\n",
      "torch.Size([1, 4]) torch.Size([1]) tensor([0.])\n",
      "torch.Size([1, 4]) torch.Size([1]) tensor([0.])\n",
      "torch.Size([1, 4]) torch.Size([1]) tensor([0.])\n",
      "torch.Size([1, 4]) torch.Size([1]) tensor([0.])\n",
      "torch.Size([1, 4]) torch.Size([1]) tensor([0.])\n",
      "torch.Size([1, 4]) torch.Size([1]) tensor([0.])\n",
      "torch.Size([1, 4]) torch.Size([1]) tensor([0.])\n",
      "torch.Size([1, 4]) torch.Size([1]) tensor([0.])\n",
      "torch.Size([1, 4]) torch.Size([1]) tensor([0.])\n",
      "torch.Size([1, 4]) torch.Size([1]) tensor([0.])\n",
      "torch.Size([1, 4]) torch.Size([1]) tensor([0.])\n",
      "torch.Size([1, 4]) torch.Size([1]) tensor([0.])\n",
      "torch.Size([1, 4]) torch.Size([1]) tensor([0.])\n",
      "torch.Size([1, 4]) torch.Size([1]) tensor([0.])\n",
      "torch.Size([1, 4]) torch.Size([1]) tensor([0.])\n",
      "torch.Size([1, 4]) torch.Size([1]) tensor([0.])\n",
      "torch.Size([1, 4]) torch.Size([1]) tensor([0.])\n",
      "torch.Size([1, 4]) torch.Size([1]) tensor([0.])\n",
      "torch.Size([1, 4]) torch.Size([1]) tensor([0.])\n",
      "torch.Size([1, 4]) torch.Size([1]) tensor([0.])\n",
      "torch.Size([1, 4]) torch.Size([1]) tensor([0.])\n",
      "torch.Size([1, 4]) torch.Size([1]) tensor([0.])\n",
      "torch.Size([1, 4]) torch.Size([1]) tensor([0.])\n",
      "torch.Size([1, 4]) torch.Size([1]) tensor([0.])\n",
      "torch.Size([1, 4]) torch.Size([1]) tensor([0.])\n",
      "torch.Size([1, 4]) torch.Size([1]) tensor([0.])\n",
      "torch.Size([1, 4]) torch.Size([1]) tensor([0.])\n",
      "torch.Size([1, 4]) torch.Size([1]) tensor([0.])\n",
      "torch.Size([1, 4]) torch.Size([1]) tensor([0.])\n",
      "torch.Size([1, 4]) torch.Size([1]) tensor([0.])\n",
      "torch.Size([1, 4]) torch.Size([1]) tensor([0.])\n",
      "torch.Size([1, 4]) torch.Size([1]) tensor([0.])\n",
      "torch.Size([1, 4]) torch.Size([1]) tensor([0.])\n",
      "torch.Size([1, 4]) torch.Size([1]) tensor([0.])\n",
      "torch.Size([1, 4]) torch.Size([1]) tensor([0.])\n",
      "torch.Size([1, 4]) torch.Size([1]) tensor([0.])\n",
      "torch.Size([1, 4]) torch.Size([1]) tensor([0.])\n",
      "torch.Size([1, 4]) torch.Size([1]) tensor([0.])\n",
      "torch.Size([1, 4]) torch.Size([1]) tensor([0.])\n",
      "torch.Size([1, 4]) torch.Size([1]) tensor([0.])\n",
      "torch.Size([1, 4]) torch.Size([1]) tensor([0.])\n",
      "torch.Size([1, 4]) torch.Size([1]) tensor([0.])\n",
      "torch.Size([1, 4]) torch.Size([1]) tensor([0.])\n",
      "torch.Size([1, 4]) torch.Size([1]) tensor([0.])\n",
      "torch.Size([1, 4]) torch.Size([1]) tensor([0.])\n",
      "torch.Size([1, 4]) torch.Size([1]) tensor([0.])\n",
      "torch.Size([1, 4]) torch.Size([1]) tensor([0.])\n",
      "torch.Size([1, 4]) torch.Size([1]) tensor([0.])\n",
      "torch.Size([1, 4]) torch.Size([1]) tensor([0.])\n",
      "torch.Size([1, 4]) torch.Size([1]) tensor([0.])\n",
      "torch.Size([1, 4]) torch.Size([1]) tensor([0.])\n",
      "torch.Size([1, 4]) torch.Size([1]) tensor([0.])\n",
      "torch.Size([1, 4]) torch.Size([1]) tensor([0.])\n",
      "torch.Size([1, 4]) torch.Size([1]) tensor([0.])\n",
      "torch.Size([1, 4]) torch.Size([1]) tensor([0.])\n",
      "torch.Size([1, 4]) torch.Size([1]) tensor([0.])\n",
      "torch.Size([1, 4]) torch.Size([1]) tensor([0.])\n",
      "torch.Size([1, 4]) torch.Size([1]) tensor([0.])\n",
      "torch.Size([1, 4]) torch.Size([1]) tensor([0.])\n",
      "torch.Size([1, 4]) torch.Size([1]) tensor([0.])\n",
      "torch.Size([1, 4]) torch.Size([1]) tensor([0.])\n",
      "torch.Size([1, 4]) torch.Size([1]) tensor([0.])\n",
      "torch.Size([1, 4]) torch.Size([1]) tensor([0.])\n",
      "torch.Size([1, 4]) torch.Size([1]) tensor([0.])\n",
      "torch.Size([1, 4]) torch.Size([1]) tensor([0.])\n",
      "torch.Size([1, 4]) torch.Size([1]) tensor([0.])\n",
      "torch.Size([1, 4]) torch.Size([1]) tensor([0.])\n",
      "torch.Size([1, 4]) torch.Size([1]) tensor([0.])\n",
      "torch.Size([1, 4]) torch.Size([1]) tensor([0.])\n",
      "torch.Size([1, 4]) torch.Size([1]) tensor([0.])\n",
      "torch.Size([1, 4]) torch.Size([1]) tensor([0.])\n",
      "torch.Size([1, 4]) torch.Size([1]) tensor([0.])\n",
      "torch.Size([1, 4]) torch.Size([1]) tensor([0.])\n",
      "torch.Size([1, 4]) torch.Size([1]) tensor([0.])\n",
      "torch.Size([1, 4]) torch.Size([1]) tensor([0.])\n",
      "torch.Size([1, 4]) torch.Size([1]) tensor([0.])\n",
      "torch.Size([1, 4]) torch.Size([1]) tensor([0.])\n",
      "torch.Size([1, 4]) torch.Size([1]) tensor([0.])\n",
      "torch.Size([1, 4]) torch.Size([1]) tensor([0.])\n",
      "torch.Size([1, 4]) torch.Size([1]) tensor([0.])\n",
      "torch.Size([1, 4]) torch.Size([1]) tensor([0.])\n",
      "torch.Size([1, 4]) torch.Size([1]) tensor([0.])\n",
      "torch.Size([1, 4]) torch.Size([1]) tensor([0.])\n",
      "torch.Size([1, 4]) torch.Size([1]) tensor([0.])\n",
      "torch.Size([1, 4]) torch.Size([1]) tensor([0.])\n",
      "torch.Size([1, 4]) torch.Size([1]) tensor([0.])\n",
      "torch.Size([1, 4]) torch.Size([1]) tensor([0.])\n",
      "torch.Size([1, 4]) torch.Size([1]) tensor([0.])\n",
      "torch.Size([1, 4]) torch.Size([1]) tensor([0.])\n",
      "torch.Size([1, 4]) torch.Size([1]) tensor([0.])\n",
      "torch.Size([1, 4]) torch.Size([1]) tensor([0.])\n",
      "torch.Size([1, 4]) torch.Size([1]) tensor([0.])\n",
      "torch.Size([1, 4]) torch.Size([1]) tensor([0.])\n",
      "torch.Size([1, 4]) torch.Size([1]) tensor([0.])\n",
      "torch.Size([1, 4]) torch.Size([1]) tensor([0.])\n",
      "torch.Size([1, 4]) torch.Size([1]) tensor([0.])\n",
      "torch.Size([1, 4]) torch.Size([1]) tensor([0.])\n",
      "torch.Size([1, 4]) torch.Size([1]) tensor([0.])\n",
      "torch.Size([1, 4]) torch.Size([1]) tensor([0.])\n",
      "torch.Size([1, 4]) torch.Size([1]) tensor([0.])\n",
      "torch.Size([1, 4]) torch.Size([1]) tensor([0.])\n",
      "torch.Size([1, 4]) torch.Size([1]) tensor([0.])\n",
      "torch.Size([1, 4]) torch.Size([1]) tensor([0.])\n",
      "torch.Size([1, 4]) torch.Size([1]) tensor([0.])\n",
      "torch.Size([1, 4]) torch.Size([1]) tensor([0.])\n",
      "torch.Size([1, 4]) torch.Size([1]) tensor([0.])\n",
      "torch.Size([1, 4]) torch.Size([1]) tensor([0.])\n",
      "torch.Size([1, 4]) torch.Size([1]) tensor([0.])\n",
      "torch.Size([1, 4]) torch.Size([1]) tensor([0.])\n",
      "torch.Size([1, 4]) torch.Size([1]) tensor([0.])\n",
      "torch.Size([1, 4]) torch.Size([1]) tensor([0.])\n"
     ]
    }
   ],
   "source": [
    "print_batch_data(trainDL, epochs=2)"
   ],
   "metadata": {
    "collapsed": false,
    "ExecuteTime": {
     "end_time": "2024-03-25T05:52:22.546088600Z",
     "start_time": "2024-03-25T05:52:22.490274200Z"
    }
   },
   "id": "d0867fffaa296537",
   "execution_count": 42
  },
  {
   "cell_type": "code",
   "outputs": [
    {
     "name": "stdout",
     "output_type": "stream",
     "text": [
      "[설정값] batch_size:1, shuffle:False, drop_last:False, sampler:None\n",
      "[1] EPOCHS]===============\n",
      "torch.Size([1, 4]) torch.Size([1]) tensor([0.])\n",
      "torch.Size([1, 4]) torch.Size([1]) tensor([0.])\n",
      "torch.Size([1, 4]) torch.Size([1]) tensor([0.])\n",
      "torch.Size([1, 4]) torch.Size([1]) tensor([0.])\n",
      "torch.Size([1, 4]) torch.Size([1]) tensor([0.])\n",
      "torch.Size([1, 4]) torch.Size([1]) tensor([0.])\n",
      "torch.Size([1, 4]) torch.Size([1]) tensor([0.])\n",
      "torch.Size([1, 4]) torch.Size([1]) tensor([0.])\n",
      "torch.Size([1, 4]) torch.Size([1]) tensor([0.])\n",
      "torch.Size([1, 4]) torch.Size([1]) tensor([0.])\n",
      "torch.Size([1, 4]) torch.Size([1]) tensor([0.])\n",
      "torch.Size([1, 4]) torch.Size([1]) tensor([0.])\n",
      "torch.Size([1, 4]) torch.Size([1]) tensor([0.])\n",
      "torch.Size([1, 4]) torch.Size([1]) tensor([0.])\n",
      "torch.Size([1, 4]) torch.Size([1]) tensor([0.])\n",
      "torch.Size([1, 4]) torch.Size([1]) tensor([0.])\n",
      "torch.Size([1, 4]) torch.Size([1]) tensor([0.])\n",
      "torch.Size([1, 4]) torch.Size([1]) tensor([0.])\n",
      "torch.Size([1, 4]) torch.Size([1]) tensor([0.])\n",
      "torch.Size([1, 4]) torch.Size([1]) tensor([0.])\n",
      "torch.Size([1, 4]) torch.Size([1]) tensor([0.])\n",
      "torch.Size([1, 4]) torch.Size([1]) tensor([0.])\n",
      "torch.Size([1, 4]) torch.Size([1]) tensor([0.])\n",
      "torch.Size([1, 4]) torch.Size([1]) tensor([0.])\n",
      "torch.Size([1, 4]) torch.Size([1]) tensor([0.])\n",
      "torch.Size([1, 4]) torch.Size([1]) tensor([0.])\n",
      "torch.Size([1, 4]) torch.Size([1]) tensor([0.])\n",
      "torch.Size([1, 4]) torch.Size([1]) tensor([0.])\n",
      "torch.Size([1, 4]) torch.Size([1]) tensor([0.])\n",
      "torch.Size([1, 4]) torch.Size([1]) tensor([0.])\n",
      "[2] EPOCHS]===============\n",
      "torch.Size([1, 4]) torch.Size([1]) tensor([0.])\n",
      "torch.Size([1, 4]) torch.Size([1]) tensor([0.])\n",
      "torch.Size([1, 4]) torch.Size([1]) tensor([0.])\n",
      "torch.Size([1, 4]) torch.Size([1]) tensor([0.])\n",
      "torch.Size([1, 4]) torch.Size([1]) tensor([0.])\n",
      "torch.Size([1, 4]) torch.Size([1]) tensor([0.])\n",
      "torch.Size([1, 4]) torch.Size([1]) tensor([0.])\n",
      "torch.Size([1, 4]) torch.Size([1]) tensor([0.])\n",
      "torch.Size([1, 4]) torch.Size([1]) tensor([0.])\n",
      "torch.Size([1, 4]) torch.Size([1]) tensor([0.])\n",
      "torch.Size([1, 4]) torch.Size([1]) tensor([0.])\n",
      "torch.Size([1, 4]) torch.Size([1]) tensor([0.])\n",
      "torch.Size([1, 4]) torch.Size([1]) tensor([0.])\n",
      "torch.Size([1, 4]) torch.Size([1]) tensor([0.])\n",
      "torch.Size([1, 4]) torch.Size([1]) tensor([0.])\n",
      "torch.Size([1, 4]) torch.Size([1]) tensor([0.])\n",
      "torch.Size([1, 4]) torch.Size([1]) tensor([0.])\n",
      "torch.Size([1, 4]) torch.Size([1]) tensor([0.])\n",
      "torch.Size([1, 4]) torch.Size([1]) tensor([0.])\n",
      "torch.Size([1, 4]) torch.Size([1]) tensor([0.])\n",
      "torch.Size([1, 4]) torch.Size([1]) tensor([0.])\n",
      "torch.Size([1, 4]) torch.Size([1]) tensor([0.])\n",
      "torch.Size([1, 4]) torch.Size([1]) tensor([0.])\n",
      "torch.Size([1, 4]) torch.Size([1]) tensor([0.])\n",
      "torch.Size([1, 4]) torch.Size([1]) tensor([0.])\n",
      "torch.Size([1, 4]) torch.Size([1]) tensor([0.])\n",
      "torch.Size([1, 4]) torch.Size([1]) tensor([0.])\n",
      "torch.Size([1, 4]) torch.Size([1]) tensor([0.])\n",
      "torch.Size([1, 4]) torch.Size([1]) tensor([0.])\n",
      "torch.Size([1, 4]) torch.Size([1]) tensor([0.])\n"
     ]
    }
   ],
   "source": [
    "print_batch_data(testDL, epochs=2)"
   ],
   "metadata": {
    "collapsed": false,
    "ExecuteTime": {
     "end_time": "2024-03-25T05:52:22.967784100Z",
     "start_time": "2024-03-25T05:52:22.943762200Z"
    }
   },
   "id": "4d9d985ebb3cf856",
   "execution_count": 43
  },
  {
   "cell_type": "code",
   "outputs": [
    {
     "name": "stdout",
     "output_type": "stream",
     "text": [
      "[설정값] batch_size:22, shuffle:False, drop_last:True, sampler:None\n",
      "[1] EPOCHS]===============\n",
      "torch.Size([22, 4]) torch.Size([22]) tensor([0., 0., 0., 0., 0., 0., 0., 0., 0., 0., 0., 0., 0., 0., 0., 0., 0., 0., 0., 0., 0., 0.])\n",
      "torch.Size([22, 4]) torch.Size([22]) tensor([0., 0., 0., 0., 0., 0., 0., 0., 0., 0., 0., 0., 0., 0., 0., 0., 0., 0., 0., 0., 0., 0.])\n",
      "torch.Size([22, 4]) torch.Size([22]) tensor([0., 0., 0., 0., 0., 0., 0., 0., 0., 0., 0., 0., 0., 0., 0., 0., 0., 0., 0., 0., 0., 0.])\n",
      "torch.Size([22, 4]) torch.Size([22]) tensor([0., 0., 0., 0., 0., 0., 0., 0., 0., 0., 0., 0., 0., 0., 0., 0., 0., 0., 0., 0., 0., 0.])\n",
      "torch.Size([22, 4]) torch.Size([22]) tensor([0., 0., 0., 0., 0., 0., 0., 0., 0., 0., 0., 0., 0., 0., 0., 0., 0., 0., 0., 0., 0., 0.])\n",
      "[2] EPOCHS]===============\n",
      "torch.Size([22, 4]) torch.Size([22]) tensor([0., 0., 0., 0., 0., 0., 0., 0., 0., 0., 0., 0., 0., 0., 0., 0., 0., 0., 0., 0., 0., 0.])\n",
      "torch.Size([22, 4]) torch.Size([22]) tensor([0., 0., 0., 0., 0., 0., 0., 0., 0., 0., 0., 0., 0., 0., 0., 0., 0., 0., 0., 0., 0., 0.])\n",
      "torch.Size([22, 4]) torch.Size([22]) tensor([0., 0., 0., 0., 0., 0., 0., 0., 0., 0., 0., 0., 0., 0., 0., 0., 0., 0., 0., 0., 0., 0.])\n",
      "torch.Size([22, 4]) torch.Size([22]) tensor([0., 0., 0., 0., 0., 0., 0., 0., 0., 0., 0., 0., 0., 0., 0., 0., 0., 0., 0., 0., 0., 0.])\n",
      "torch.Size([22, 4]) torch.Size([22]) tensor([0., 0., 0., 0., 0., 0., 0., 0., 0., 0., 0., 0., 0., 0., 0., 0., 0., 0., 0., 0., 0., 0.])\n"
     ]
    }
   ],
   "source": [
    "print_batch_data(trainDL, epochs=2, batch_size=22, drop_last=True)"
   ],
   "metadata": {
    "collapsed": false,
    "ExecuteTime": {
     "end_time": "2024-03-25T05:52:12.973681Z",
     "start_time": "2024-03-25T05:52:12.948177900Z"
    }
   },
   "id": "cdfa5b9d9a7d6e01",
   "execution_count": 39
  },
  {
   "cell_type": "code",
   "outputs": [],
   "source": [
    "class CNNmodel(nn.Module):\n",
    "    def __init__(self):\n",
    "        super().__init__()\n",
    "        self.Layers = nn.Sequential(\n",
    "            nn.Conv1d(1, 8, kernel_size=2, stride=1, padding=1),\n",
    "            nn.ReLU(),\n",
    "            nn.Conv1d(8, 16, kernel_size=2, stride=1, padding=1),\n",
    "            nn.Conv1d(16, 32, kernel_size=2, stride=1, padding=1),\n",
    "            nn.ReLU(),\n",
    "            nn.MaxPool1d(kernel_size=2),\n",
    "            nn.Conv1d(32, 1, kernel_size=2, stride=1, padding=1),\n",
    "            nn.ReLU(),\n",
    "            nn.Linear(1*3, 3)\n",
    "        )\n",
    "        \n",
    "    "
   ],
   "metadata": {
    "collapsed": false
   },
   "id": "e758c6ca4efda7b"
  }
 ],
 "metadata": {
  "kernelspec": {
   "display_name": "Python 3",
   "language": "python",
   "name": "python3"
  },
  "language_info": {
   "codemirror_mode": {
    "name": "ipython",
    "version": 2
   },
   "file_extension": ".py",
   "mimetype": "text/x-python",
   "name": "python",
   "nbconvert_exporter": "python",
   "pygments_lexer": "ipython2",
   "version": "2.7.6"
  }
 },
 "nbformat": 4,
 "nbformat_minor": 5
}
