{
 "cells": [
  {
   "cell_type": "markdown",
   "source": [
    "### 텐서 연결 & 결합"
   ],
   "metadata": {
    "collapsed": false
   },
   "id": "67c9effc8ccadb4c"
  },
  {
   "cell_type": "code",
   "outputs": [],
   "source": [
    "# 모듈 로딩\n",
    "import torch"
   ],
   "metadata": {
    "collapsed": false,
    "ExecuteTime": {
     "end_time": "2024-03-12T07:57:08.275310900Z",
     "start_time": "2024-03-12T07:57:06.573026400Z"
    }
   },
   "id": "32dae285c57ef523",
   "execution_count": 1
  },
  {
   "cell_type": "code",
   "outputs": [],
   "source": [
    "# 텐서 데이터 생성\n",
    "torch.manual_seed(12)\n",
    "\n",
    "X = torch.rand(2, 10)\n",
    "y = torch.randint(0, 2, (10,))\n",
    "y2 = torch.randint(0, 2, (2, 10))"
   ],
   "metadata": {
    "collapsed": false,
    "ExecuteTime": {
     "end_time": "2024-03-12T07:57:08.289839100Z",
     "start_time": "2024-03-12T07:57:08.277770300Z"
    }
   },
   "id": "de13fc9c9191f6dc",
   "execution_count": 2
  },
  {
   "cell_type": "code",
   "outputs": [
    {
     "name": "stdout",
     "output_type": "stream",
     "text": [
      "X => torch.Size([2, 10]), 2D\n",
      "y => torch.Size([10]), 1D\n",
      "y2 => torch.Size([2, 10]), 2D\n"
     ]
    }
   ],
   "source": [
    "print(f'X => {X.shape}, {X.ndim}D')\n",
    "print(f'y => {y.shape}, {y.ndim}D')\n",
    "print(f'y2 => {y2.shape}, {y2.ndim}D')"
   ],
   "metadata": {
    "collapsed": false,
    "ExecuteTime": {
     "end_time": "2024-03-12T07:57:08.328160800Z",
     "start_time": "2024-03-12T07:57:08.292498400Z"
    }
   },
   "id": "18e71f3835c5330",
   "execution_count": 3
  },
  {
   "cell_type": "code",
   "outputs": [
    {
     "name": "stdout",
     "output_type": "stream",
     "text": [
      "xy1 => torch.Size([2, 20]), 2D\n"
     ]
    }
   ],
   "source": [
    "# tensor 연결 cat([텐서1, 텐서2, ...])\n",
    "xy1 = torch.cat([X, y2], dim=1)\n",
    "print(f'xy1 => {xy1.shape}, {xy1.ndim}D')"
   ],
   "metadata": {
    "collapsed": false,
    "ExecuteTime": {
     "end_time": "2024-03-12T07:57:08.329186800Z",
     "start_time": "2024-03-12T07:57:08.307913800Z"
    }
   },
   "id": "ca0bd4a22911ccad",
   "execution_count": 4
  },
  {
   "cell_type": "code",
   "outputs": [
    {
     "name": "stdout",
     "output_type": "stream",
     "text": [
      "xy2 => torch.Size([4, 10]), 2D\n"
     ]
    }
   ],
   "source": [
    "# tensor 연결 cat([텐서1, 텐서2, ...])\n",
    "xy2 = torch.cat([X, y2], dim=0)\n",
    "print(f'xy2 => {xy2.shape}, {xy2.ndim}D')"
   ],
   "metadata": {
    "collapsed": false,
    "ExecuteTime": {
     "end_time": "2024-03-12T07:57:08.363764Z",
     "start_time": "2024-03-12T07:57:08.323482200Z"
    }
   },
   "id": "6e97a6a8533372f9",
   "execution_count": 5
  },
  {
   "cell_type": "code",
   "outputs": [
    {
     "data": {
      "text/plain": "torch.return_types.max(\nvalues=tensor([1., 1.]),\nindices=tensor([10, 12]))"
     },
     "execution_count": 6,
     "metadata": {},
     "output_type": "execute_result"
    }
   ],
   "source": [
    "xy1.max(dim=1)"
   ],
   "metadata": {
    "collapsed": false,
    "ExecuteTime": {
     "end_time": "2024-03-12T07:57:08.377202Z",
     "start_time": "2024-03-12T07:57:08.340154600Z"
    }
   },
   "id": "a6c1491bd747a58d",
   "execution_count": 6
  },
  {
   "cell_type": "code",
   "outputs": [
    {
     "data": {
      "text/plain": "(tensor([1., 1.]), tensor([10, 12]))"
     },
     "execution_count": 7,
     "metadata": {},
     "output_type": "execute_result"
    }
   ],
   "source": [
    "# 행 단위로 최대값 및 최대값의 인덱스\n",
    "max_value = xy1.max(dim=1)[0]\n",
    "max_index = xy1.max(dim=1)[1]\n",
    "\n",
    "max_value, max_index"
   ],
   "metadata": {
    "collapsed": false,
    "ExecuteTime": {
     "end_time": "2024-03-12T07:57:08.386750600Z",
     "start_time": "2024-03-12T07:57:08.371327300Z"
    }
   },
   "id": "e1db855ab495d234",
   "execution_count": 7
  },
  {
   "cell_type": "code",
   "outputs": [
    {
     "data": {
      "text/plain": "(tensor([0.4657, 0.6948, 0.5830, 0.6318, 0.5559, 0.1272, 0.9790, 0.8443, 0.7312,\n         0.7224, 1.0000, 1.0000, 1.0000, 1.0000, 1.0000, 1.0000, 0.0000, 0.0000,\n         0.0000, 0.0000]),\n tensor([0, 1, 1, 1, 1, 0, 1, 1, 0, 0, 0, 0, 1, 0, 0, 1, 0, 0, 0, 0]))"
     },
     "execution_count": 8,
     "metadata": {},
     "output_type": "execute_result"
    }
   ],
   "source": [
    "# 열 단위로 최대값 및 최대값의 인덱스\n",
    "max_value = xy1.max(dim=0)[0]\n",
    "max_index = xy1.max(dim=0)[1]\n",
    "\n",
    "max_value, max_index"
   ],
   "metadata": {
    "collapsed": false,
    "ExecuteTime": {
     "end_time": "2024-03-12T07:57:08.436084400Z",
     "start_time": "2024-03-12T07:57:08.386750600Z"
    }
   },
   "id": "22d6473e05e0e66b",
   "execution_count": 8
  },
  {
   "cell_type": "code",
   "outputs": [
    {
     "data": {
      "text/plain": "    A   B   C\n0  10  20  30\n1  10  20  30",
      "text/html": "<div>\n<style scoped>\n    .dataframe tbody tr th:only-of-type {\n        vertical-align: middle;\n    }\n\n    .dataframe tbody tr th {\n        vertical-align: top;\n    }\n\n    .dataframe thead th {\n        text-align: right;\n    }\n</style>\n<table border=\"1\" class=\"dataframe\">\n  <thead>\n    <tr style=\"text-align: right;\">\n      <th></th>\n      <th>A</th>\n      <th>B</th>\n      <th>C</th>\n    </tr>\n  </thead>\n  <tbody>\n    <tr>\n      <th>0</th>\n      <td>10</td>\n      <td>20</td>\n      <td>30</td>\n    </tr>\n    <tr>\n      <th>1</th>\n      <td>10</td>\n      <td>20</td>\n      <td>30</td>\n    </tr>\n  </tbody>\n</table>\n</div>"
     },
     "execution_count": 9,
     "metadata": {},
     "output_type": "execute_result"
    }
   ],
   "source": [
    "import pandas as pd\n",
    "\n",
    "data = pd.DataFrame({'A':[10,10], 'B':[20,20], 'C':[30,30]})\n",
    "data"
   ],
   "metadata": {
    "collapsed": false,
    "ExecuteTime": {
     "end_time": "2024-03-12T07:57:08.807932100Z",
     "start_time": "2024-03-12T07:57:08.402357700Z"
    }
   },
   "id": "e094cda37d8b19fb",
   "execution_count": 9
  },
  {
   "cell_type": "code",
   "outputs": [
    {
     "data": {
      "text/plain": "A    10\nB    20\nC    30\ndtype: int64"
     },
     "execution_count": 10,
     "metadata": {},
     "output_type": "execute_result"
    }
   ],
   "source": [
    "data.max()"
   ],
   "metadata": {
    "collapsed": false,
    "ExecuteTime": {
     "end_time": "2024-03-12T07:57:08.821342400Z",
     "start_time": "2024-03-12T07:57:08.805900600Z"
    }
   },
   "id": "210c30cd851cb6a0",
   "execution_count": 10
  },
  {
   "cell_type": "code",
   "outputs": [
    {
     "data": {
      "text/plain": "tensor([[[1, 1, 1, 1],\n         [0, 1, 1, 0]],\n\n        [[1, 0, 0, 0],\n         [0, 1, 1, 0]],\n\n        [[1, 1, 1, 1],\n         [0, 1, 1, 1]]])"
     },
     "execution_count": 11,
     "metadata": {},
     "output_type": "execute_result"
    }
   ],
   "source": [
    "z = torch.randint(0, 2, (3, 2, 4))\n",
    "z"
   ],
   "metadata": {
    "collapsed": false,
    "ExecuteTime": {
     "end_time": "2024-03-12T07:57:08.855526400Z",
     "start_time": "2024-03-12T07:57:08.821342400Z"
    }
   },
   "id": "9a75985ba891a277",
   "execution_count": 11
  },
  {
   "cell_type": "code",
   "outputs": [
    {
     "data": {
      "text/plain": "torch.return_types.max(\nvalues=tensor([[1, 1, 1, 1],\n        [0, 1, 1, 1]]),\nindices=tensor([[0, 0, 0, 0],\n        [0, 0, 0, 2]]))"
     },
     "execution_count": 13,
     "metadata": {},
     "output_type": "execute_result"
    }
   ],
   "source": [
    "z.max(dim=0)"
   ],
   "metadata": {
    "collapsed": false,
    "ExecuteTime": {
     "end_time": "2024-03-12T07:57:36.346383Z",
     "start_time": "2024-03-12T07:57:36.320307800Z"
    }
   },
   "id": "ab711c697fc1e133",
   "execution_count": 13
  },
  {
   "cell_type": "code",
   "outputs": [
    {
     "data": {
      "text/plain": "torch.return_types.max(\nvalues=tensor([[1, 1, 1, 1],\n        [1, 1, 1, 0],\n        [1, 1, 1, 1]]),\nindices=tensor([[0, 0, 0, 0],\n        [0, 1, 1, 0],\n        [0, 0, 0, 0]]))"
     },
     "execution_count": 14,
     "metadata": {},
     "output_type": "execute_result"
    }
   ],
   "source": [
    "z.max(dim=1)"
   ],
   "metadata": {
    "collapsed": false,
    "ExecuteTime": {
     "end_time": "2024-03-12T07:58:40.799645900Z",
     "start_time": "2024-03-12T07:58:40.763656Z"
    }
   },
   "id": "92e7167a717efb9a",
   "execution_count": 14
  },
  {
   "cell_type": "code",
   "outputs": [
    {
     "data": {
      "text/plain": "torch.return_types.max(\nvalues=tensor([[1, 1],\n        [1, 1],\n        [1, 1]]),\nindices=tensor([[0, 1],\n        [0, 1],\n        [0, 1]]))"
     },
     "execution_count": 15,
     "metadata": {},
     "output_type": "execute_result"
    }
   ],
   "source": [
    "z.max(dim=2)"
   ],
   "metadata": {
    "collapsed": false,
    "ExecuteTime": {
     "end_time": "2024-03-12T07:59:35.270732700Z",
     "start_time": "2024-03-12T07:59:35.236973700Z"
    }
   },
   "id": "6838548590be1600",
   "execution_count": 15
  },
  {
   "cell_type": "code",
   "outputs": [],
   "source": [],
   "metadata": {
    "collapsed": false
   },
   "id": "b9611b69266a9735"
  }
 ],
 "metadata": {
  "kernelspec": {
   "display_name": "Python 3",
   "language": "python",
   "name": "python3"
  },
  "language_info": {
   "codemirror_mode": {
    "name": "ipython",
    "version": 2
   },
   "file_extension": ".py",
   "mimetype": "text/x-python",
   "name": "python",
   "nbconvert_exporter": "python",
   "pygments_lexer": "ipython2",
   "version": "2.7.6"
  }
 },
 "nbformat": 4,
 "nbformat_minor": 5
}
