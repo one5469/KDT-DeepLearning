{
 "cells": [
  {
   "cell_type": "code",
   "execution_count": 1,
   "id": "initial_id",
   "metadata": {
    "collapsed": true,
    "ExecuteTime": {
     "end_time": "2024-03-13T10:32:47.629278400Z",
     "start_time": "2024-03-13T10:32:46.872936900Z"
    }
   },
   "outputs": [],
   "source": [
    "from selenium import webdriver\n",
    "from bs4 import BeautifulSoup\n",
    "import pandas as pd"
   ]
  },
  {
   "cell_type": "code",
   "outputs": [],
   "source": [
    "driver = webdriver.Chrome()\n",
    "driver.get('https://www.google.co.kr/search?sca_esv=562607b38f2994ce&hl=ko&sxsrf=ACQVn09BGwBYRJBPrwHBr4UUhsTOuEln4g:1710326459246&q=%EB%B9%B5%EB%B9%B5%EC%9D%B4&tbm=isch&source=lnms&sa=X&ved=2ahUKEwi9jrbIhvGEAxVNq1YBHTLvBsEQ0pQJegQIDBAB&biw=1699&bih=945&dpr=1.5')"
   ],
   "metadata": {
    "collapsed": false
   },
   "id": "92dc694fcb79a3da"
  },
  {
   "cell_type": "markdown",
   "source": [
    "## 작성 예정"
   ],
   "metadata": {
    "collapsed": false
   },
   "id": "5a5fc243315376a8"
  },
  {
   "cell_type": "code",
   "outputs": [],
   "source": [],
   "metadata": {
    "collapsed": false
   },
   "id": "7f1b8913b6d5df64"
  }
 ],
 "metadata": {
  "kernelspec": {
   "display_name": "Python 3",
   "language": "python",
   "name": "python3"
  },
  "language_info": {
   "codemirror_mode": {
    "name": "ipython",
    "version": 2
   },
   "file_extension": ".py",
   "mimetype": "text/x-python",
   "name": "python",
   "nbconvert_exporter": "python",
   "pygments_lexer": "ipython2",
   "version": "2.7.6"
  }
 },
 "nbformat": 4,
 "nbformat_minor": 5
}
