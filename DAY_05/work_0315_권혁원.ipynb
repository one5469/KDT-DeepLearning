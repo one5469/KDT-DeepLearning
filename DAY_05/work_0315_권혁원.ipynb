{
 "cells": [
  {
   "cell_type": "code",
   "execution_count": 41,
   "id": "initial_id",
   "metadata": {
    "collapsed": true,
    "ExecuteTime": {
     "end_time": "2024-03-17T08:37:16.762444500Z",
     "start_time": "2024-03-17T08:37:16.721207300Z"
    }
   },
   "outputs": [],
   "source": [
    "import pandas as pd\n",
    "import numpy as np\n",
    "import matplotlib.pyplot as plt\n",
    "import torch\n",
    "from torch import nn\n",
    "from torch import optim\n",
    "from torchmetrics import functional as metrics\n",
    "from sklearn.datasets import fetch_openml\n",
    "from torch.utils.data import Dataset, DataLoader\n",
    "from torch.utils.data import random_split"
   ]
  },
  {
   "cell_type": "code",
   "outputs": [],
   "source": [
    "data = fetch_openml('Fashion-MNIST', parser='auto')"
   ],
   "metadata": {
    "collapsed": false,
    "ExecuteTime": {
     "end_time": "2024-03-17T08:37:21.561895200Z",
     "start_time": "2024-03-17T08:37:16.767356600Z"
    }
   },
   "id": "c40ff11386634c63",
   "execution_count": 42
  },
  {
   "cell_type": "code",
   "outputs": [
    {
     "data": {
      "text/plain": "<torch._C.Generator at 0x184bef7b9b0>"
     },
     "execution_count": 43,
     "metadata": {},
     "output_type": "execute_result"
    }
   ],
   "source": [
    "torch.manual_seed(0)"
   ],
   "metadata": {
    "collapsed": false,
    "ExecuteTime": {
     "end_time": "2024-03-17T08:37:21.588021500Z",
     "start_time": "2024-03-17T08:37:21.565080500Z"
    }
   },
   "id": "2de968a856286a59",
   "execution_count": 43
  },
  {
   "cell_type": "code",
   "outputs": [
    {
     "name": "stdout",
     "output_type": "stream",
     "text": [
      "<class 'pandas.core.frame.DataFrame'>\n",
      "RangeIndex: 70000 entries, 0 to 69999\n",
      "Columns: 784 entries, pixel1 to pixel784\n",
      "dtypes: int64(784)\n",
      "memory usage: 418.7 MB\n"
     ]
    }
   ],
   "source": [
    "data.data.info()"
   ],
   "metadata": {
    "collapsed": false,
    "ExecuteTime": {
     "end_time": "2024-03-17T08:37:21.619920Z",
     "start_time": "2024-03-17T08:37:21.597989400Z"
    }
   },
   "id": "ab3379f3c6b0ecf0",
   "execution_count": 44
  },
  {
   "cell_type": "code",
   "outputs": [
    {
     "name": "stdout",
     "output_type": "stream",
     "text": [
      "<class 'pandas.core.series.Series'>\n",
      "RangeIndex: 70000 entries, 0 to 69999\n",
      "Series name: class\n",
      "Non-Null Count  Dtype   \n",
      "--------------  -----   \n",
      "70000 non-null  category\n",
      "dtypes: category(1)\n",
      "memory usage: 68.9 KB\n"
     ]
    }
   ],
   "source": [
    "data.target.info()"
   ],
   "metadata": {
    "collapsed": false,
    "ExecuteTime": {
     "end_time": "2024-03-17T08:37:21.636123100Z",
     "start_time": "2024-03-17T08:37:21.611943400Z"
    }
   },
   "id": "df59550c68ec96fd",
   "execution_count": 45
  },
  {
   "cell_type": "code",
   "outputs": [],
   "source": [
    "pixels = torch.as_tensor(data.data.values)\n",
    "target = torch.as_tensor(data.target.astype('int8').values)"
   ],
   "metadata": {
    "collapsed": false,
    "ExecuteTime": {
     "end_time": "2024-03-17T08:37:21.671007700Z",
     "start_time": "2024-03-17T08:37:21.627893300Z"
    }
   },
   "id": "c08b29a56cecc910",
   "execution_count": 46
  },
  {
   "cell_type": "code",
   "outputs": [
    {
     "data": {
      "text/plain": "(torch.Size([70000, 784]), 2)"
     },
     "execution_count": 47,
     "metadata": {},
     "output_type": "execute_result"
    }
   ],
   "source": [
    "pixels.shape, pixels.ndim"
   ],
   "metadata": {
    "collapsed": false,
    "ExecuteTime": {
     "end_time": "2024-03-17T08:37:21.672004500Z",
     "start_time": "2024-03-17T08:37:21.641106900Z"
    }
   },
   "id": "81ce5f13e447bafb",
   "execution_count": 47
  },
  {
   "cell_type": "code",
   "outputs": [
    {
     "data": {
      "text/plain": "(torch.Size([70000]), 1)"
     },
     "execution_count": 48,
     "metadata": {},
     "output_type": "execute_result"
    }
   ],
   "source": [
    "target.shape, target.ndim"
   ],
   "metadata": {
    "collapsed": false,
    "ExecuteTime": {
     "end_time": "2024-03-17T08:37:21.712112300Z",
     "start_time": "2024-03-17T08:37:21.656057900Z"
    }
   },
   "id": "bfd9124b5e8c0e1b",
   "execution_count": 48
  },
  {
   "cell_type": "code",
   "outputs": [
    {
     "data": {
      "text/plain": "(tensor([0, 1, 2, 3, 4, 5, 6, 7, 8, 9], dtype=torch.int8), torch.Size([70000]))"
     },
     "execution_count": 49,
     "metadata": {},
     "output_type": "execute_result"
    }
   ],
   "source": [
    "target.unique(), target.shape"
   ],
   "metadata": {
    "collapsed": false,
    "ExecuteTime": {
     "end_time": "2024-03-17T08:37:21.717099100Z",
     "start_time": "2024-03-17T08:37:21.673384Z"
    }
   },
   "id": "c617749b9593256f",
   "execution_count": 49
  },
  {
   "cell_type": "code",
   "outputs": [],
   "source": [
    "class myDataset(Dataset):\n",
    "    def __init__(self, x, y):\n",
    "        super().__init__()\n",
    "        \n",
    "        self.feature = x\n",
    "        self.target = y\n",
    "        \n",
    "    def __len__(self):\n",
    "        return len(self.feature)\n",
    "    \n",
    "    def __getitem__(self, idx):\n",
    "        return self.feature[idx], self.target[idx]"
   ],
   "metadata": {
    "collapsed": false,
    "ExecuteTime": {
     "end_time": "2024-03-17T08:37:21.768573Z",
     "start_time": "2024-03-17T08:37:21.690740100Z"
    }
   },
   "id": "24808379b6032ef",
   "execution_count": 50
  },
  {
   "cell_type": "code",
   "outputs": [],
   "source": [
    "my_dataset = myDataset(pixels, target)"
   ],
   "metadata": {
    "collapsed": false,
    "ExecuteTime": {
     "end_time": "2024-03-17T08:37:21.771923800Z",
     "start_time": "2024-03-17T08:37:21.704138Z"
    }
   },
   "id": "6cd5104ef131ec0e",
   "execution_count": 51
  },
  {
   "cell_type": "code",
   "outputs": [],
   "source": [
    "# train, valid, test = random_split(my_dataset, [0.7, 0.1, 0.2])"
   ],
   "metadata": {
    "collapsed": false,
    "ExecuteTime": {
     "end_time": "2024-03-17T08:37:21.790795100Z",
     "start_time": "2024-03-17T08:37:21.720088900Z"
    }
   },
   "id": "2d1bab8cd8422530",
   "execution_count": 52
  },
  {
   "cell_type": "code",
   "outputs": [],
   "source": [
    "# batch = 1000\n",
    "# trainDL = DataLoader(train, batch_size=batch)\n",
    "# validDL = DataLoader(valid, batch_size=batch)\n",
    "# testDL = DataLoader(test, batch_size=batch)"
   ],
   "metadata": {
    "collapsed": false,
    "ExecuteTime": {
     "end_time": "2024-03-17T08:37:21.792788700Z",
     "start_time": "2024-03-17T08:37:21.736387400Z"
    }
   },
   "id": "b2ea9308bea3a1df",
   "execution_count": 53
  },
  {
   "cell_type": "code",
   "outputs": [],
   "source": [
    "class FashionModel(nn.Module):\n",
    "    def __init__(self, idim, odim):\n",
    "        super().__init__()\n",
    "        \n",
    "        self.model = nn.Sequential(\n",
    "            nn.Linear(idim, 256),\n",
    "            nn.ReLU(),\n",
    "            nn.Linear(256, 128),\n",
    "            nn.ReLU(),\n",
    "            nn.Linear(128, 32),\n",
    "            nn.ReLU(),\n",
    "            nn.Linear(32, odim)\n",
    "        )\n",
    "        \n",
    "    def forward(self, x):\n",
    "        return self.model(x)"
   ],
   "metadata": {
    "collapsed": false,
    "ExecuteTime": {
     "end_time": "2024-03-17T08:37:21.823612600Z",
     "start_time": "2024-03-17T08:37:21.754705100Z"
    }
   },
   "id": "4c65370d30b46ff1",
   "execution_count": 54
  },
  {
   "cell_type": "code",
   "outputs": [],
   "source": [
    "model = FashionModel(pixels.shape[1], len(target.unique()))"
   ],
   "metadata": {
    "collapsed": false,
    "ExecuteTime": {
     "end_time": "2024-03-17T08:37:21.827214800Z",
     "start_time": "2024-03-17T08:37:21.770924400Z"
    }
   },
   "id": "6247d371d19fa78",
   "execution_count": 55
  },
  {
   "cell_type": "code",
   "outputs": [],
   "source": [
    "def makeDL(dataset, batch):\n",
    "    train, valid, test = random_split(dataset, [0.7, 0.1, 0.2])\n",
    "    \n",
    "    trainDL = DataLoader(train, batch_size=batch)\n",
    "    validDL = DataLoader(valid, batch_size=batch)\n",
    "    testDL = DataLoader(test, batch_size=batch)\n",
    "    \n",
    "    return trainDL, validDL, testDL"
   ],
   "metadata": {
    "collapsed": false,
    "ExecuteTime": {
     "end_time": "2024-03-17T08:37:21.850864300Z",
     "start_time": "2024-03-17T08:37:21.784444200Z"
    }
   },
   "id": "78d148558e5dbb98",
   "execution_count": 56
  },
  {
   "cell_type": "code",
   "outputs": [],
   "source": [
    "train_acc_list = []\n",
    "valid_acc_list = []"
   ],
   "metadata": {
    "collapsed": false,
    "ExecuteTime": {
     "end_time": "2024-03-17T08:37:21.851944700Z",
     "start_time": "2024-03-17T08:37:21.799346300Z"
    }
   },
   "id": "4ba75578d931e8bf",
   "execution_count": 57
  },
  {
   "cell_type": "code",
   "outputs": [],
   "source": [
    "def trainModel(model, lr, epochs, trainDL, validDL):\n",
    "    opt = optim.Adam(model.parameters(), lr=lr)\n",
    "    sced = optim.lr_scheduler.ReduceLROnPlateau(opt, factor=0.5, patience=3)\n",
    "    \n",
    "    train_acc_list.clear()\n",
    "    valid_acc_list.clear()\n",
    "    \n",
    "    for e in range(1, epochs+1):\n",
    "        total_train_acc = 0\n",
    "        for feature, target in trainDL:\n",
    "            model.train()\n",
    "            h = model(feature.float())\n",
    "\n",
    "            T_cost = nn.functional.cross_entropy(h, target.long())\n",
    "\n",
    "            opt.zero_grad()\n",
    "            T_cost.backward()\n",
    "            opt.step()\n",
    "            \n",
    "            # print(f'Accuracy : {metrics.accuracy(h, target, task=\"multiclass\", num_classes=10)}\\n'\n",
    "            #       # f'Accuracy : {sum(h.argmax(dim=1) == target) / batch}\\n'\n",
    "            #       f'Acc*batch: {metrics.accuracy(h, target, task=\"multiclass\", num_classes=10)*feature.shape[0]}')\n",
    "            total_train_acc += metrics.accuracy(h, target, task=\"multiclass\", num_classes=10)\n",
    "        \n",
    "        model.eval()\n",
    "        total_valid_acc = 0\n",
    "        \n",
    "        for feature, target in validDL:\n",
    "            v = model(feature.float())\n",
    "            V_cost = nn.functional.cross_entropy(v, target.long())\n",
    "            total_valid_acc += metrics.accuracy(v, target, task=\"multiclass\", num_classes=10)\n",
    "            \n",
    "        print(f'Epoch [{e:3}] ----------')\n",
    "        print(f'Train Cost     : {T_cost.item()}')\n",
    "        print(f'Valid Cost     : {V_cost.item()}')\n",
    "        print(f'train Accuracy : {total_train_acc / (len(trainDL))}')\n",
    "        print(f'valid Accuracy : {total_valid_acc / (len(validDL))}')\n",
    "        train_acc_list.append(total_train_acc / (len(trainDL)))\n",
    "        valid_acc_list.append(total_valid_acc / (len(validDL)))\n",
    "        sced.step(V_cost)\n",
    "        "
   ],
   "metadata": {
    "collapsed": false,
    "ExecuteTime": {
     "end_time": "2024-03-17T08:37:21.879144900Z",
     "start_time": "2024-03-17T08:37:21.819737700Z"
    }
   },
   "id": "8373f08e3e77ad62",
   "execution_count": 58
  },
  {
   "cell_type": "code",
   "outputs": [],
   "source": [
    "def testModel(model, testDL):\n",
    "    model.eval()\n",
    "    total_test_acc = 0\n",
    "    for cnt, (feature, target) in enumerate(testDL):\n",
    "        v = model(feature.float())\n",
    "        acc = metrics.accuracy(v, target, task=\"multiclass\", num_classes=10)\n",
    "        total_test_acc += acc\n",
    "        print(f'batch {cnt+1} : Accuracy {acc}')\n",
    "    \n",
    "    print('-' * 20)        \n",
    "    print(f'total Accuracy : {total_test_acc / (len(testDL))}')"
   ],
   "metadata": {
    "collapsed": false,
    "ExecuteTime": {
     "end_time": "2024-03-17T08:37:21.882456200Z",
     "start_time": "2024-03-17T08:37:21.832473600Z"
    }
   },
   "id": "fff89566ff1f3d2b",
   "execution_count": 59
  },
  {
   "cell_type": "code",
   "outputs": [],
   "source": [
    "def drawPlot():\n",
    "    plt.plot(train_acc_list)\n",
    "    plt.plot(valid_acc_list)\n",
    "    plt.legend(['train', 'valid'])\n",
    "    plt.title('Model Training score')\n",
    "    plt.xlabel('Epoch')\n",
    "    plt.ylabel('Accuracy')\n",
    "    plt.grid(alpha=0.35)\n",
    "    plt.show()"
   ],
   "metadata": {
    "collapsed": false,
    "ExecuteTime": {
     "end_time": "2024-03-17T08:37:21.903694800Z",
     "start_time": "2024-03-17T08:37:21.846838600Z"
    }
   },
   "id": "f003d6dfb08ef12",
   "execution_count": 60
  },
  {
   "cell_type": "code",
   "outputs": [],
   "source": [
    "trainDL, validDL, testDL = makeDL(my_dataset, 1000)"
   ],
   "metadata": {
    "collapsed": false,
    "ExecuteTime": {
     "end_time": "2024-03-17T08:37:21.933109900Z",
     "start_time": "2024-03-17T08:37:21.861127400Z"
    }
   },
   "id": "ae6e76dcb6310c97",
   "execution_count": 61
  },
  {
   "cell_type": "code",
   "outputs": [
    {
     "name": "stdout",
     "output_type": "stream",
     "text": [
      "Epoch [  1] ----------\n",
      "Train Cost     : 0.5873794555664062\n",
      "Valid Cost     : 0.5876756906509399\n",
      "train Accuracy : 0.6413878798484802\n",
      "valid Accuracy : 0.8108571767807007\n",
      "Epoch [  2] ----------\n",
      "Train Cost     : 0.47727519273757935\n",
      "Valid Cost     : 0.49011701345443726\n",
      "train Accuracy : 0.82110196352005\n",
      "valid Accuracy : 0.8425714373588562\n",
      "Epoch [  3] ----------\n",
      "Train Cost     : 0.41747912764549255\n",
      "Valid Cost     : 0.46097269654273987\n",
      "train Accuracy : 0.8416735529899597\n",
      "valid Accuracy : 0.8501428365707397\n",
      "Epoch [  4] ----------\n",
      "Train Cost     : 0.3828945457935333\n",
      "Valid Cost     : 0.43526363372802734\n",
      "train Accuracy : 0.8534286618232727\n",
      "valid Accuracy : 0.8561428785324097\n",
      "Epoch [  5] ----------\n",
      "Train Cost     : 0.3929674029350281\n",
      "Valid Cost     : 0.41322022676467896\n",
      "train Accuracy : 0.8581428527832031\n",
      "valid Accuracy : 0.8625713586807251\n",
      "Epoch [  6] ----------\n",
      "Train Cost     : 0.3449071943759918\n",
      "Valid Cost     : 0.4018693268299103\n",
      "train Accuracy : 0.8662448525428772\n",
      "valid Accuracy : 0.8652857542037964\n",
      "Epoch [  7] ----------\n",
      "Train Cost     : 0.3305804133415222\n",
      "Valid Cost     : 0.3979003429412842\n",
      "train Accuracy : 0.8733060359954834\n",
      "valid Accuracy : 0.8671428561210632\n",
      "Epoch [  8] ----------\n",
      "Train Cost     : 0.31235578656196594\n",
      "Valid Cost     : 0.3866516947746277\n",
      "train Accuracy : 0.8786733150482178\n",
      "valid Accuracy : 0.8722857236862183\n",
      "Epoch [  9] ----------\n",
      "Train Cost     : 0.2946181297302246\n",
      "Valid Cost     : 0.3739311695098877\n",
      "train Accuracy : 0.8846531510353088\n",
      "valid Accuracy : 0.8785714507102966\n",
      "Epoch [ 10] ----------\n",
      "Train Cost     : 0.2856663465499878\n",
      "Valid Cost     : 0.3720260262489319\n",
      "train Accuracy : 0.8883469104766846\n",
      "valid Accuracy : 0.8781428337097168\n",
      "Epoch [ 11] ----------\n",
      "Train Cost     : 0.2841460406780243\n",
      "Valid Cost     : 0.37299221754074097\n",
      "train Accuracy : 0.8911837339401245\n",
      "valid Accuracy : 0.8772857785224915\n",
      "Epoch [ 12] ----------\n",
      "Train Cost     : 0.28004470467567444\n",
      "Valid Cost     : 0.38576197624206543\n",
      "train Accuracy : 0.8931429386138916\n",
      "valid Accuracy : 0.8797141909599304\n",
      "Epoch [ 13] ----------\n",
      "Train Cost     : 0.2735321819782257\n",
      "Valid Cost     : 0.391032874584198\n",
      "train Accuracy : 0.894102156162262\n",
      "valid Accuracy : 0.8735714554786682\n",
      "Epoch [ 14] ----------\n",
      "Train Cost     : 0.2571168839931488\n",
      "Valid Cost     : 0.38436681032180786\n",
      "train Accuracy : 0.895714282989502\n",
      "valid Accuracy : 0.8807142972946167\n",
      "Epoch [ 15] ----------\n",
      "Train Cost     : 0.244255930185318\n",
      "Valid Cost     : 0.3650772273540497\n",
      "train Accuracy : 0.9017347097396851\n",
      "valid Accuracy : 0.8817143440246582\n",
      "Epoch [ 16] ----------\n",
      "Train Cost     : 0.23461751639842987\n",
      "Valid Cost     : 0.3663087785243988\n",
      "train Accuracy : 0.9047142267227173\n",
      "valid Accuracy : 0.8822856545448303\n",
      "Epoch [ 17] ----------\n",
      "Train Cost     : 0.22897754609584808\n",
      "Valid Cost     : 0.3718319833278656\n",
      "train Accuracy : 0.9070203900337219\n",
      "valid Accuracy : 0.8795713782310486\n",
      "Epoch [ 18] ----------\n",
      "Train Cost     : 0.22305679321289062\n",
      "Valid Cost     : 0.3685905635356903\n",
      "train Accuracy : 0.907775342464447\n",
      "valid Accuracy : 0.8842856287956238\n",
      "Epoch [ 19] ----------\n",
      "Train Cost     : 0.21909594535827637\n",
      "Valid Cost     : 0.3639589548110962\n",
      "train Accuracy : 0.910102128982544\n",
      "valid Accuracy : 0.8855714201927185\n",
      "Epoch [ 20] ----------\n",
      "Train Cost     : 0.21496029198169708\n",
      "Valid Cost     : 0.36441880464553833\n",
      "train Accuracy : 0.9113267660140991\n",
      "valid Accuracy : 0.8861428499221802\n",
      "Epoch [ 21] ----------\n",
      "Train Cost     : 0.2139652520418167\n",
      "Valid Cost     : 0.3646504878997803\n",
      "train Accuracy : 0.9126530289649963\n",
      "valid Accuracy : 0.8868571519851685\n",
      "Epoch [ 22] ----------\n",
      "Train Cost     : 0.20861110091209412\n",
      "Valid Cost     : 0.3745635151863098\n",
      "train Accuracy : 0.9146530032157898\n",
      "valid Accuracy : 0.8867143392562866\n",
      "Epoch [ 23] ----------\n",
      "Train Cost     : 0.2013094127178192\n",
      "Valid Cost     : 0.37750184535980225\n",
      "train Accuracy : 0.9170204997062683\n",
      "valid Accuracy : 0.886285662651062\n",
      "Epoch [ 24] ----------\n",
      "Train Cost     : 0.20086422562599182\n",
      "Valid Cost     : 0.3497906029224396\n",
      "train Accuracy : 0.9204692244529724\n",
      "valid Accuracy : 0.8904285430908203\n",
      "Epoch [ 25] ----------\n",
      "Train Cost     : 0.1935163140296936\n",
      "Valid Cost     : 0.34691375494003296\n",
      "train Accuracy : 0.921734631061554\n",
      "valid Accuracy : 0.8905714154243469\n",
      "Epoch [ 26] ----------\n",
      "Train Cost     : 0.18839648365974426\n",
      "Valid Cost     : 0.3466941714286804\n",
      "train Accuracy : 0.9226531982421875\n",
      "valid Accuracy : 0.8901428580284119\n",
      "Epoch [ 27] ----------\n",
      "Train Cost     : 0.1852595955133438\n",
      "Valid Cost     : 0.3475133180618286\n",
      "train Accuracy : 0.9244489073753357\n",
      "valid Accuracy : 0.8910000920295715\n",
      "Epoch [ 28] ----------\n",
      "Train Cost     : 0.18199771642684937\n",
      "Valid Cost     : 0.34918853640556335\n",
      "train Accuracy : 0.9256327152252197\n",
      "valid Accuracy : 0.8918572068214417\n",
      "Epoch [ 29] ----------\n",
      "Train Cost     : 0.17995481193065643\n",
      "Valid Cost     : 0.34606531262397766\n",
      "train Accuracy : 0.9269388318061829\n",
      "valid Accuracy : 0.8921428322792053\n",
      "Epoch [ 30] ----------\n",
      "Train Cost     : 0.17553487420082092\n",
      "Valid Cost     : 0.34743696451187134\n",
      "train Accuracy : 0.9279797077178955\n",
      "valid Accuracy : 0.8922857642173767\n",
      "Epoch [ 31] ----------\n",
      "Train Cost     : 0.17260950803756714\n",
      "Valid Cost     : 0.3478955626487732\n",
      "train Accuracy : 0.9292447566986084\n",
      "valid Accuracy : 0.8924286961555481\n",
      "Epoch [ 32] ----------\n",
      "Train Cost     : 0.16968972980976105\n",
      "Valid Cost     : 0.34945809841156006\n",
      "train Accuracy : 0.9301835894584656\n",
      "valid Accuracy : 0.8912857174873352\n",
      "Epoch [ 33] ----------\n",
      "Train Cost     : 0.1677762120962143\n",
      "Valid Cost     : 0.3507184088230133\n",
      "train Accuracy : 0.9307141900062561\n",
      "valid Accuracy : 0.8925713896751404\n",
      "Epoch [ 34] ----------\n",
      "Train Cost     : 0.16103917360305786\n",
      "Valid Cost     : 0.3499714136123657\n",
      "train Accuracy : 0.931836724281311\n",
      "valid Accuracy : 0.8917142152786255\n",
      "Epoch [ 35] ----------\n",
      "Train Cost     : 0.15831786394119263\n",
      "Valid Cost     : 0.3503292500972748\n",
      "train Accuracy : 0.932959258556366\n",
      "valid Accuracy : 0.8915714621543884\n",
      "Epoch [ 36] ----------\n",
      "Train Cost     : 0.15648923814296722\n",
      "Valid Cost     : 0.3501911461353302\n",
      "train Accuracy : 0.9336326718330383\n",
      "valid Accuracy : 0.8915714025497437\n",
      "Epoch [ 37] ----------\n",
      "Train Cost     : 0.1540406495332718\n",
      "Valid Cost     : 0.35006386041641235\n",
      "train Accuracy : 0.9343265891075134\n",
      "valid Accuracy : 0.893142819404602\n",
      "Epoch [ 38] ----------\n",
      "Train Cost     : 0.15044188499450684\n",
      "Valid Cost     : 0.3494305908679962\n",
      "train Accuracy : 0.935020387172699\n",
      "valid Accuracy : 0.8958571553230286\n",
      "Epoch [ 39] ----------\n",
      "Train Cost     : 0.14911815524101257\n",
      "Valid Cost     : 0.35039687156677246\n",
      "train Accuracy : 0.9363674521446228\n",
      "valid Accuracy : 0.8948571085929871\n",
      "Epoch [ 40] ----------\n",
      "Train Cost     : 0.14818260073661804\n",
      "Valid Cost     : 0.35092994570732117\n",
      "train Accuracy : 0.9369998574256897\n",
      "valid Accuracy : 0.894428551197052\n",
      "Epoch [ 41] ----------\n",
      "Train Cost     : 0.14735040068626404\n",
      "Valid Cost     : 0.3515782654285431\n",
      "train Accuracy : 0.9374489188194275\n",
      "valid Accuracy : 0.8944286108016968\n",
      "Epoch [ 42] ----------\n",
      "Train Cost     : 0.14909759163856506\n",
      "Valid Cost     : 0.35061901807785034\n",
      "train Accuracy : 0.938224732875824\n",
      "valid Accuracy : 0.8955714106559753\n",
      "Epoch [ 43] ----------\n",
      "Train Cost     : 0.14843961596488953\n",
      "Valid Cost     : 0.3498888909816742\n",
      "train Accuracy : 0.9386327862739563\n",
      "valid Accuracy : 0.895714282989502\n",
      "Epoch [ 44] ----------\n",
      "Train Cost     : 0.147809699177742\n",
      "Valid Cost     : 0.3501436412334442\n",
      "train Accuracy : 0.9389591813087463\n",
      "valid Accuracy : 0.8960000276565552\n",
      "Epoch [ 45] ----------\n",
      "Train Cost     : 0.1473807841539383\n",
      "Valid Cost     : 0.3500441014766693\n",
      "train Accuracy : 0.9391837120056152\n",
      "valid Accuracy : 0.8960000276565552\n",
      "Epoch [ 46] ----------\n",
      "Train Cost     : 0.14519959688186646\n",
      "Valid Cost     : 0.3500716984272003\n",
      "train Accuracy : 0.9387957453727722\n",
      "valid Accuracy : 0.8955715298652649\n",
      "Epoch [ 47] ----------\n",
      "Train Cost     : 0.144773468375206\n",
      "Valid Cost     : 0.34984901547431946\n",
      "train Accuracy : 0.939081609249115\n",
      "valid Accuracy : 0.8955714106559753\n",
      "Epoch [ 48] ----------\n",
      "Train Cost     : 0.1445193737745285\n",
      "Valid Cost     : 0.34994184970855713\n",
      "train Accuracy : 0.9391835927963257\n",
      "valid Accuracy : 0.895714282989502\n",
      "Epoch [ 49] ----------\n",
      "Train Cost     : 0.14426952600479126\n",
      "Valid Cost     : 0.34997671842575073\n",
      "train Accuracy : 0.9395508766174316\n",
      "valid Accuracy : 0.8955714106559753\n",
      "Epoch [ 50] ----------\n",
      "Train Cost     : 0.14390762150287628\n",
      "Valid Cost     : 0.3503594994544983\n",
      "train Accuracy : 0.9398980140686035\n",
      "valid Accuracy : 0.8954285979270935\n"
     ]
    }
   ],
   "source": [
    "trainModel(model, 0.001, 50, trainDL, validDL)"
   ],
   "metadata": {
    "collapsed": false,
    "ExecuteTime": {
     "end_time": "2024-03-17T08:38:40.563801300Z",
     "start_time": "2024-03-17T08:37:21.891621200Z"
    }
   },
   "id": "253778c61aba97b7",
   "execution_count": 62
  },
  {
   "cell_type": "code",
   "outputs": [
    {
     "data": {
      "text/plain": "<Figure size 640x480 with 1 Axes>",
      "image/png": "[encoded data removed]"
     },
     "metadata": {},
     "output_type": "display_data"
    }
   ],
   "source": [
    "drawPlot()"
   ],
   "metadata": {
    "collapsed": false,
    "ExecuteTime": {
     "end_time": "2024-03-17T08:38:40.757548300Z",
     "start_time": "2024-03-17T08:38:40.558602500Z"
    }
   },
   "id": "a4361a30fd2f7bbc",
   "execution_count": 63
  },
  {
   "cell_type": "code",
   "outputs": [],
   "source": [
    "class FashionModel2(nn.Module):\n",
    "    def __init__(self, idim, odim):\n",
    "        super().__init__()\n",
    "        \n",
    "        self.model = nn.Sequential(\n",
    "            nn.Linear(idim, 128),\n",
    "            nn.ReLU(),\n",
    "            nn.Linear(128, 64),\n",
    "            nn.Linear(64, 64),\n",
    "            nn.Linear(64, 32),\n",
    "            nn.ReLU(),\n",
    "            nn.Linear(32, odim)\n",
    "        )\n",
    "        \n",
    "    def forward(self, x):\n",
    "        return self.model(x)"
   ],
   "metadata": {
    "collapsed": false,
    "ExecuteTime": {
     "end_time": "2024-03-17T08:38:40.789105400Z",
     "start_time": "2024-03-17T08:38:40.763958800Z"
    }
   },
   "id": "a74ace6a27a50af2",
   "execution_count": 64
  },
  {
   "cell_type": "code",
   "outputs": [],
   "source": [
    "model = FashionModel2(pixels.shape[1], len(target.unique()))"
   ],
   "metadata": {
    "collapsed": false,
    "ExecuteTime": {
     "end_time": "2024-03-17T08:38:40.791097900Z",
     "start_time": "2024-03-17T08:38:40.777826500Z"
    }
   },
   "id": "a8f9cf1b6a9e1736",
   "execution_count": 65
  },
  {
   "cell_type": "code",
   "outputs": [
    {
     "name": "stdout",
     "output_type": "stream",
     "text": [
      "Epoch [  1] ----------\n",
      "Train Cost     : 0.5892946720123291\n",
      "Valid Cost     : 0.5790072679519653\n",
      "train Accuracy : 0.6417346596717834\n",
      "valid Accuracy : 0.818142831325531\n",
      "Epoch [  2] ----------\n",
      "Train Cost     : 0.47465914487838745\n",
      "Valid Cost     : 0.5022976398468018\n",
      "train Accuracy : 0.8237755298614502\n",
      "valid Accuracy : 0.8420000672340393\n",
      "Epoch [  3] ----------\n",
      "Train Cost     : 0.3860282599925995\n",
      "Valid Cost     : 0.44641953706741333\n",
      "train Accuracy : 0.84365314245224\n",
      "valid Accuracy : 0.8550000190734863\n",
      "Epoch [  4] ----------\n",
      "Train Cost     : 0.38605865836143494\n",
      "Valid Cost     : 0.44773098826408386\n",
      "train Accuracy : 0.8527755737304688\n",
      "valid Accuracy : 0.8584285378456116\n",
      "Epoch [  5] ----------\n",
      "Train Cost     : 0.3420768678188324\n",
      "Valid Cost     : 0.41985249519348145\n",
      "train Accuracy : 0.8627757430076599\n",
      "valid Accuracy : 0.871285617351532\n",
      "Epoch [  6] ----------\n",
      "Train Cost     : 0.3249358832836151\n",
      "Valid Cost     : 0.4148404002189636\n",
      "train Accuracy : 0.8710204362869263\n",
      "valid Accuracy : 0.8717142939567566\n",
      "Epoch [  7] ----------\n",
      "Train Cost     : 0.32618409395217896\n",
      "Valid Cost     : 0.3935829699039459\n",
      "train Accuracy : 0.8758776187896729\n",
      "valid Accuracy : 0.8764286041259766\n",
      "Epoch [  8] ----------\n",
      "Train Cost     : 0.31432992219924927\n",
      "Valid Cost     : 0.38662299513816833\n",
      "train Accuracy : 0.8790001273155212\n",
      "valid Accuracy : 0.8799999952316284\n",
      "Epoch [  9] ----------\n",
      "Train Cost     : 0.29383382201194763\n",
      "Valid Cost     : 0.3839787244796753\n",
      "train Accuracy : 0.8857142925262451\n",
      "valid Accuracy : 0.87842857837677\n",
      "Epoch [ 10] ----------\n",
      "Train Cost     : 0.2896665930747986\n",
      "Valid Cost     : 0.3838580846786499\n",
      "train Accuracy : 0.889183521270752\n",
      "valid Accuracy : 0.8764285445213318\n",
      "Epoch [ 11] ----------\n",
      "Train Cost     : 0.2792278826236725\n",
      "Valid Cost     : 0.37366193532943726\n",
      "train Accuracy : 0.8934082388877869\n",
      "valid Accuracy : 0.8807142972946167\n",
      "Epoch [ 12] ----------\n",
      "Train Cost     : 0.2757512032985687\n",
      "Valid Cost     : 0.37947097420692444\n",
      "train Accuracy : 0.8958572149276733\n",
      "valid Accuracy : 0.8785714507102966\n",
      "Epoch [ 13] ----------\n",
      "Train Cost     : 0.26812294125556946\n",
      "Valid Cost     : 0.3916555643081665\n",
      "train Accuracy : 0.897510290145874\n",
      "valid Accuracy : 0.8817142844200134\n",
      "Epoch [ 14] ----------\n",
      "Train Cost     : 0.25763821601867676\n",
      "Valid Cost     : 0.3866328001022339\n",
      "train Accuracy : 0.8991633653640747\n",
      "valid Accuracy : 0.8794285655021667\n",
      "Epoch [ 15] ----------\n",
      "Train Cost     : 0.2786075472831726\n",
      "Valid Cost     : 0.39321407675743103\n",
      "train Accuracy : 0.9006121158599854\n",
      "valid Accuracy : 0.8801428079605103\n",
      "Epoch [ 16] ----------\n",
      "Train Cost     : 0.2432582825422287\n",
      "Valid Cost     : 0.39518263936042786\n",
      "train Accuracy : 0.9035507440567017\n",
      "valid Accuracy : 0.8748571276664734\n",
      "Epoch [ 17] ----------\n",
      "Train Cost     : 0.23346148431301117\n",
      "Valid Cost     : 0.39559632539749146\n",
      "train Accuracy : 0.9041631817817688\n",
      "valid Accuracy : 0.8747143149375916\n",
      "Epoch [ 18] ----------\n",
      "Train Cost     : 0.22054027020931244\n",
      "Valid Cost     : 0.39313361048698425\n",
      "train Accuracy : 0.9081224799156189\n",
      "valid Accuracy : 0.8817142844200134\n",
      "Epoch [ 19] ----------\n",
      "Train Cost     : 0.22418998181819916\n",
      "Valid Cost     : 0.39554649591445923\n",
      "train Accuracy : 0.9103672504425049\n",
      "valid Accuracy : 0.8818572163581848\n",
      "Epoch [ 20] ----------\n",
      "Train Cost     : 0.2211957424879074\n",
      "Valid Cost     : 0.38733744621276855\n",
      "train Accuracy : 0.9141634106636047\n",
      "valid Accuracy : 0.8824285864830017\n",
      "Epoch [ 21] ----------\n",
      "Train Cost     : 0.2137032002210617\n",
      "Valid Cost     : 0.3870357573032379\n",
      "train Accuracy : 0.9145509600639343\n",
      "valid Accuracy : 0.88314288854599\n",
      "Epoch [ 22] ----------\n",
      "Train Cost     : 0.2093183845281601\n",
      "Valid Cost     : 0.38826775550842285\n",
      "train Accuracy : 0.9149591326713562\n",
      "valid Accuracy : 0.8829999566078186\n",
      "Epoch [ 23] ----------\n",
      "Train Cost     : 0.20500022172927856\n",
      "Valid Cost     : 0.38582050800323486\n",
      "train Accuracy : 0.9165102243423462\n",
      "valid Accuracy : 0.8825713992118835\n",
      "Epoch [ 24] ----------\n",
      "Train Cost     : 0.19682973623275757\n",
      "Valid Cost     : 0.37811651825904846\n",
      "train Accuracy : 0.9200205206871033\n",
      "valid Accuracy : 0.8867142796516418\n",
      "Epoch [ 25] ----------\n",
      "Train Cost     : 0.19523364305496216\n",
      "Valid Cost     : 0.3810602128505707\n",
      "train Accuracy : 0.9210408926010132\n",
      "valid Accuracy : 0.8854285478591919\n",
      "Epoch [ 26] ----------\n",
      "Train Cost     : 0.19326460361480713\n",
      "Valid Cost     : 0.3806304931640625\n",
      "train Accuracy : 0.9219182729721069\n",
      "valid Accuracy : 0.88657146692276\n",
      "Epoch [ 27] ----------\n",
      "Train Cost     : 0.191444993019104\n",
      "Valid Cost     : 0.3808351457118988\n",
      "train Accuracy : 0.9222040772438049\n",
      "valid Accuracy : 0.8867142796516418\n",
      "Epoch [ 28] ----------\n",
      "Train Cost     : 0.18950155377388\n",
      "Valid Cost     : 0.37504279613494873\n",
      "train Accuracy : 0.9240610599517822\n",
      "valid Accuracy : 0.8899999856948853\n",
      "Epoch [ 29] ----------\n",
      "Train Cost     : 0.18812954425811768\n",
      "Valid Cost     : 0.3759692311286926\n",
      "train Accuracy : 0.9251633286476135\n",
      "valid Accuracy : 0.8899999856948853\n",
      "Epoch [ 30] ----------\n",
      "Train Cost     : 0.18719415366649628\n",
      "Valid Cost     : 0.3762810528278351\n",
      "train Accuracy : 0.9254898428916931\n",
      "valid Accuracy : 0.8901428580284119\n",
      "Epoch [ 31] ----------\n",
      "Train Cost     : 0.18625901639461517\n",
      "Valid Cost     : 0.3765275776386261\n",
      "train Accuracy : 0.9258163571357727\n",
      "valid Accuracy : 0.8898571729660034\n",
      "Epoch [ 32] ----------\n",
      "Train Cost     : 0.186788409948349\n",
      "Valid Cost     : 0.3717224895954132\n",
      "train Accuracy : 0.9267550110816956\n",
      "valid Accuracy : 0.89128577709198\n",
      "Epoch [ 33] ----------\n",
      "Train Cost     : 0.18630294501781464\n",
      "Valid Cost     : 0.37197694182395935\n",
      "train Accuracy : 0.926979660987854\n",
      "valid Accuracy : 0.8908572196960449\n",
      "Epoch [ 34] ----------\n",
      "Train Cost     : 0.1856592893600464\n",
      "Valid Cost     : 0.37227505445480347\n",
      "train Accuracy : 0.9271838068962097\n",
      "valid Accuracy : 0.8911429047584534\n",
      "Epoch [ 35] ----------\n",
      "Train Cost     : 0.1851542890071869\n",
      "Valid Cost     : 0.3723089098930359\n",
      "train Accuracy : 0.9273470044136047\n",
      "valid Accuracy : 0.8910000920295715\n",
      "Epoch [ 36] ----------\n",
      "Train Cost     : 0.18460962176322937\n",
      "Valid Cost     : 0.3727342486381531\n",
      "train Accuracy : 0.9273061752319336\n",
      "valid Accuracy : 0.8908571600914001\n",
      "Epoch [ 37] ----------\n",
      "Train Cost     : 0.18368862569332123\n",
      "Valid Cost     : 0.3698900043964386\n",
      "train Accuracy : 0.9278978705406189\n",
      "valid Accuracy : 0.8909999132156372\n",
      "Epoch [ 38] ----------\n",
      "Train Cost     : 0.1833430528640747\n",
      "Valid Cost     : 0.37022149562835693\n",
      "train Accuracy : 0.9283673167228699\n",
      "valid Accuracy : 0.8907142281532288\n",
      "Epoch [ 39] ----------\n",
      "Train Cost     : 0.18300354480743408\n",
      "Valid Cost     : 0.37039580941200256\n",
      "train Accuracy : 0.9285917282104492\n",
      "valid Accuracy : 0.8909999132156372\n",
      "Epoch [ 40] ----------\n",
      "Train Cost     : 0.18265505135059357\n",
      "Valid Cost     : 0.3705349862575531\n",
      "train Accuracy : 0.9285916686058044\n",
      "valid Accuracy : 0.8909999132156372\n",
      "Epoch [ 41] ----------\n",
      "Train Cost     : 0.18238233029842377\n",
      "Valid Cost     : 0.37065085768699646\n",
      "train Accuracy : 0.9286530017852783\n",
      "valid Accuracy : 0.8909999132156372\n",
      "Epoch [ 42] ----------\n",
      "Train Cost     : 0.18140780925750732\n",
      "Valid Cost     : 0.37012380361557007\n",
      "train Accuracy : 0.9289389848709106\n",
      "valid Accuracy : 0.8915714025497437\n",
      "Epoch [ 43] ----------\n",
      "Train Cost     : 0.18117040395736694\n",
      "Valid Cost     : 0.3701016306877136\n",
      "train Accuracy : 0.9292653799057007\n",
      "valid Accuracy : 0.8912857174873352\n",
      "Epoch [ 44] ----------\n",
      "Train Cost     : 0.18101449310779572\n",
      "Valid Cost     : 0.370119571685791\n",
      "train Accuracy : 0.9292653203010559\n",
      "valid Accuracy : 0.8912857174873352\n",
      "Epoch [ 45] ----------\n",
      "Train Cost     : 0.18087543547153473\n",
      "Valid Cost     : 0.37024617195129395\n",
      "train Accuracy : 0.929326593875885\n",
      "valid Accuracy : 0.8911428451538086\n",
      "Epoch [ 46] ----------\n",
      "Train Cost     : 0.18053394556045532\n",
      "Valid Cost     : 0.3701074719429016\n",
      "train Accuracy : 0.9297958612442017\n",
      "valid Accuracy : 0.8920000195503235\n",
      "Epoch [ 47] ----------\n",
      "Train Cost     : 0.1804186999797821\n",
      "Valid Cost     : 0.3700791597366333\n",
      "train Accuracy : 0.929857075214386\n",
      "valid Accuracy : 0.8917142748832703\n",
      "Epoch [ 48] ----------\n",
      "Train Cost     : 0.1803019940853119\n",
      "Valid Cost     : 0.37008148431777954\n",
      "train Accuracy : 0.9298978447914124\n",
      "valid Accuracy : 0.8917142748832703\n",
      "Epoch [ 49] ----------\n",
      "Train Cost     : 0.180204838514328\n",
      "Valid Cost     : 0.3701096177101135\n",
      "train Accuracy : 0.9298978447914124\n",
      "valid Accuracy : 0.8917142748832703\n",
      "Epoch [ 50] ----------\n",
      "Train Cost     : 0.1800343096256256\n",
      "Valid Cost     : 0.370181679725647\n",
      "train Accuracy : 0.9300817251205444\n",
      "valid Accuracy : 0.8915714621543884\n"
     ]
    }
   ],
   "source": [
    "trainModel(model, 0.001, 50, trainDL, validDL)"
   ],
   "metadata": {
    "collapsed": false,
    "ExecuteTime": {
     "end_time": "2024-03-17T08:40:02.572483600Z",
     "start_time": "2024-03-17T08:38:40.793091400Z"
    }
   },
   "id": "d23c963291cc35b",
   "execution_count": 66
  },
  {
   "cell_type": "code",
   "outputs": [
    {
     "data": {
      "text/plain": "<Figure size 640x480 with 1 Axes>",
      "image/png": "[encoded data removed]"
     },
     "metadata": {},
     "output_type": "display_data"
    }
   ],
   "source": [
    "drawPlot()"
   ],
   "metadata": {
    "collapsed": false,
    "ExecuteTime": {
     "end_time": "2024-03-17T08:40:02.779632500Z",
     "start_time": "2024-03-17T08:40:02.575709Z"
    }
   },
   "id": "a6ecd1ff3ec45973",
   "execution_count": 67
  },
  {
   "cell_type": "code",
   "outputs": [],
   "source": [
    "class FashionModel3(nn.Module):\n",
    "    def __init__(self, idim, odim):\n",
    "        super().__init__()\n",
    "\n",
    "        self.model = nn.Sequential(\n",
    "            nn.Linear(idim, 128),\n",
    "            nn.ReLU(),\n",
    "            nn.Linear(128, 64),\n",
    "            nn.Linear(64, 32),\n",
    "            nn.ReLU(),\n",
    "            nn.Linear(32, odim)\n",
    "        )\n",
    "\n",
    "    def forward(self, x):\n",
    "        return self.model(x)"
   ],
   "metadata": {
    "collapsed": false,
    "ExecuteTime": {
     "end_time": "2024-03-17T08:40:02.817962400Z",
     "start_time": "2024-03-17T08:40:02.782738400Z"
    }
   },
   "id": "277fe1581b6b7a24",
   "execution_count": 68
  },
  {
   "cell_type": "code",
   "outputs": [],
   "source": [
    "model = FashionModel3(pixels.shape[1], len(target.unique()))"
   ],
   "metadata": {
    "collapsed": false,
    "ExecuteTime": {
     "end_time": "2024-03-17T08:40:02.819957400Z",
     "start_time": "2024-03-17T08:40:02.797260900Z"
    }
   },
   "id": "79d58903892551b7",
   "execution_count": 69
  },
  {
   "cell_type": "code",
   "outputs": [
    {
     "name": "stdout",
     "output_type": "stream",
     "text": [
      "Epoch [  1] ----------\n",
      "Train Cost     : 0.7830405831336975\n",
      "Valid Cost     : 0.7648813128471375\n",
      "train Accuracy : 0.547020435333252\n",
      "valid Accuracy : 0.7272856831550598\n",
      "Epoch [  2] ----------\n",
      "Train Cost     : 0.573406994342804\n",
      "Valid Cost     : 0.6133639812469482\n",
      "train Accuracy : 0.7608163952827454\n",
      "valid Accuracy : 0.7984285950660706\n",
      "Epoch [  3] ----------\n",
      "Train Cost     : 0.4932703375816345\n",
      "Valid Cost     : 0.5439968705177307\n",
      "train Accuracy : 0.8061836957931519\n",
      "valid Accuracy : 0.8218571543693542\n",
      "Epoch [  4] ----------\n",
      "Train Cost     : 0.4454362690448761\n",
      "Valid Cost     : 0.50210040807724\n",
      "train Accuracy : 0.8304082751274109\n",
      "valid Accuracy : 0.8398571610450745\n",
      "Epoch [  5] ----------\n",
      "Train Cost     : 0.4101477265357971\n",
      "Valid Cost     : 0.4737335443496704\n",
      "train Accuracy : 0.8420001268386841\n",
      "valid Accuracy : 0.8488571047782898\n",
      "Epoch [  6] ----------\n",
      "Train Cost     : 0.3777417838573456\n",
      "Valid Cost     : 0.45034271478652954\n",
      "train Accuracy : 0.8504898548126221\n",
      "valid Accuracy : 0.8544285893440247\n",
      "Epoch [  7] ----------\n",
      "Train Cost     : 0.3709947466850281\n",
      "Valid Cost     : 0.4330262839794159\n",
      "train Accuracy : 0.8570816516876221\n",
      "valid Accuracy : 0.8605714440345764\n",
      "Epoch [  8] ----------\n",
      "Train Cost     : 0.35121846199035645\n",
      "Valid Cost     : 0.42659708857536316\n",
      "train Accuracy : 0.8603674173355103\n",
      "valid Accuracy : 0.8569999933242798\n",
      "Epoch [  9] ----------\n",
      "Train Cost     : 0.3350182771682739\n",
      "Valid Cost     : 0.4081093370914459\n",
      "train Accuracy : 0.8646326065063477\n",
      "valid Accuracy : 0.8655714392662048\n",
      "Epoch [ 10] ----------\n",
      "Train Cost     : 0.32672882080078125\n",
      "Valid Cost     : 0.4053764045238495\n",
      "train Accuracy : 0.8696326613426208\n",
      "valid Accuracy : 0.8672857284545898\n",
      "Epoch [ 11] ----------\n",
      "Train Cost     : 0.3210126757621765\n",
      "Valid Cost     : 0.40029674768447876\n",
      "train Accuracy : 0.8733266592025757\n",
      "valid Accuracy : 0.8675714135169983\n",
      "Epoch [ 12] ----------\n",
      "Train Cost     : 0.31436508893966675\n",
      "Valid Cost     : 0.4020901024341583\n",
      "train Accuracy : 0.8766530156135559\n",
      "valid Accuracy : 0.8658571839332581\n",
      "Epoch [ 13] ----------\n",
      "Train Cost     : 0.31055471301078796\n",
      "Valid Cost     : 0.4031413495540619\n",
      "train Accuracy : 0.8786324262619019\n",
      "valid Accuracy : 0.8657143712043762\n",
      "Epoch [ 14] ----------\n",
      "Train Cost     : 0.3036517798900604\n",
      "Valid Cost     : 0.41373831033706665\n",
      "train Accuracy : 0.8812448978424072\n",
      "valid Accuracy : 0.8635714650154114\n",
      "Epoch [ 15] ----------\n",
      "Train Cost     : 0.2886351943016052\n",
      "Valid Cost     : 0.4138827323913574\n",
      "train Accuracy : 0.8822041749954224\n",
      "valid Accuracy : 0.8635714650154114\n",
      "Epoch [ 16] ----------\n",
      "Train Cost     : 0.2883182466030121\n",
      "Valid Cost     : 0.39748767018318176\n",
      "train Accuracy : 0.8870610594749451\n",
      "valid Accuracy : 0.869857132434845\n",
      "Epoch [ 17] ----------\n",
      "Train Cost     : 0.2810261845588684\n",
      "Valid Cost     : 0.39763855934143066\n",
      "train Accuracy : 0.8885101079940796\n",
      "valid Accuracy : 0.8722857236862183\n",
      "Epoch [ 18] ----------\n",
      "Train Cost     : 0.2754949927330017\n",
      "Valid Cost     : 0.39511483907699585\n",
      "train Accuracy : 0.8904489278793335\n",
      "valid Accuracy : 0.8720000386238098\n",
      "Epoch [ 19] ----------\n",
      "Train Cost     : 0.27151960134506226\n",
      "Valid Cost     : 0.39440906047821045\n",
      "train Accuracy : 0.891734778881073\n",
      "valid Accuracy : 0.8715714812278748\n",
      "Epoch [ 20] ----------\n",
      "Train Cost     : 0.2682621479034424\n",
      "Valid Cost     : 0.3918669521808624\n",
      "train Accuracy : 0.8930816054344177\n",
      "valid Accuracy : 0.8720000386238098\n",
      "Epoch [ 21] ----------\n",
      "Train Cost     : 0.2646062672138214\n",
      "Valid Cost     : 0.39136579632759094\n",
      "train Accuracy : 0.8939794301986694\n",
      "valid Accuracy : 0.8734285235404968\n",
      "Epoch [ 22] ----------\n",
      "Train Cost     : 0.25942909717559814\n",
      "Valid Cost     : 0.3929702043533325\n",
      "train Accuracy : 0.8951833844184875\n",
      "valid Accuracy : 0.87371426820755\n",
      "Epoch [ 23] ----------\n",
      "Train Cost     : 0.2565252482891083\n",
      "Valid Cost     : 0.39462897181510925\n",
      "train Accuracy : 0.8964693546295166\n",
      "valid Accuracy : 0.8725714683532715\n",
      "Epoch [ 24] ----------\n",
      "Train Cost     : 0.25263363122940063\n",
      "Valid Cost     : 0.39935001730918884\n",
      "train Accuracy : 0.8973467946052551\n",
      "valid Accuracy : 0.8707142472267151\n",
      "Epoch [ 25] ----------\n",
      "Train Cost     : 0.24966737627983093\n",
      "Valid Cost     : 0.3985290825366974\n",
      "train Accuracy : 0.8990203142166138\n",
      "valid Accuracy : 0.8714285492897034\n",
      "Epoch [ 26] ----------\n",
      "Train Cost     : 0.24359557032585144\n",
      "Valid Cost     : 0.3871139883995056\n",
      "train Accuracy : 0.9021835923194885\n",
      "valid Accuracy : 0.8752857446670532\n",
      "Epoch [ 27] ----------\n",
      "Train Cost     : 0.24212518334388733\n",
      "Valid Cost     : 0.3841113746166229\n",
      "train Accuracy : 0.903999924659729\n",
      "valid Accuracy : 0.8771428465843201\n",
      "Epoch [ 28] ----------\n",
      "Train Cost     : 0.2400335818529129\n",
      "Valid Cost     : 0.38223525881767273\n",
      "train Accuracy : 0.9046938419342041\n",
      "valid Accuracy : 0.8778571486473083\n",
      "Epoch [ 29] ----------\n",
      "Train Cost     : 0.23841679096221924\n",
      "Valid Cost     : 0.38000836968421936\n",
      "train Accuracy : 0.9055305123329163\n",
      "valid Accuracy : 0.8768572211265564\n",
      "Epoch [ 30] ----------\n",
      "Train Cost     : 0.2362588495016098\n",
      "Valid Cost     : 0.38030266761779785\n",
      "train Accuracy : 0.906183660030365\n",
      "valid Accuracy : 0.8777142763137817\n",
      "Epoch [ 31] ----------\n",
      "Train Cost     : 0.2349734753370285\n",
      "Valid Cost     : 0.38061556220054626\n",
      "train Accuracy : 0.9067959189414978\n",
      "valid Accuracy : 0.8788571953773499\n",
      "Epoch [ 32] ----------\n",
      "Train Cost     : 0.23311476409435272\n",
      "Valid Cost     : 0.38111260533332825\n",
      "train Accuracy : 0.9071428179740906\n",
      "valid Accuracy : 0.878714382648468\n",
      "Epoch [ 33] ----------\n",
      "Train Cost     : 0.2311326116323471\n",
      "Valid Cost     : 0.38164013624191284\n",
      "train Accuracy : 0.9081224203109741\n",
      "valid Accuracy : 0.8798571825027466\n",
      "Epoch [ 34] ----------\n",
      "Train Cost     : 0.2304919809103012\n",
      "Valid Cost     : 0.3758063316345215\n",
      "train Accuracy : 0.9083471298217773\n",
      "valid Accuracy : 0.8788571357727051\n",
      "Epoch [ 35] ----------\n",
      "Train Cost     : 0.22924266755580902\n",
      "Valid Cost     : 0.37804993987083435\n",
      "train Accuracy : 0.9082653522491455\n",
      "valid Accuracy : 0.8792857527732849\n",
      "Epoch [ 36] ----------\n",
      "Train Cost     : 0.22806905210018158\n",
      "Valid Cost     : 0.377960741519928\n",
      "train Accuracy : 0.9087346196174622\n",
      "valid Accuracy : 0.87971431016922\n",
      "Epoch [ 37] ----------\n",
      "Train Cost     : 0.2264779657125473\n",
      "Valid Cost     : 0.3781978487968445\n",
      "train Accuracy : 0.9092855453491211\n",
      "valid Accuracy : 0.8795714378356934\n",
      "Epoch [ 38] ----------\n",
      "Train Cost     : 0.22574825584888458\n",
      "Valid Cost     : 0.3788617253303528\n",
      "train Accuracy : 0.9096938371658325\n",
      "valid Accuracy : 0.8795714378356934\n",
      "Epoch [ 39] ----------\n",
      "Train Cost     : 0.22128796577453613\n",
      "Valid Cost     : 0.37516069412231445\n",
      "train Accuracy : 0.9107549786567688\n",
      "valid Accuracy : 0.8839999437332153\n",
      "Epoch [ 40] ----------\n",
      "Train Cost     : 0.2210731953382492\n",
      "Valid Cost     : 0.3757127523422241\n",
      "train Accuracy : 0.9120816588401794\n",
      "valid Accuracy : 0.8838571310043335\n",
      "Epoch [ 41] ----------\n",
      "Train Cost     : 0.2204333245754242\n",
      "Valid Cost     : 0.3754740357398987\n",
      "train Accuracy : 0.9122653603553772\n",
      "valid Accuracy : 0.8838571310043335\n",
      "Epoch [ 42] ----------\n",
      "Train Cost     : 0.21978434920310974\n",
      "Valid Cost     : 0.37595996260643005\n",
      "train Accuracy : 0.9124900102615356\n",
      "valid Accuracy : 0.8838571310043335\n",
      "Epoch [ 43] ----------\n",
      "Train Cost     : 0.21948054432868958\n",
      "Valid Cost     : 0.3759673535823822\n",
      "train Accuracy : 0.9127958416938782\n",
      "valid Accuracy : 0.884571373462677\n",
      "Epoch [ 44] ----------\n",
      "Train Cost     : 0.21850498020648956\n",
      "Valid Cost     : 0.3792417645454407\n",
      "train Accuracy : 0.9132245779037476\n",
      "valid Accuracy : 0.8859999775886536\n",
      "Epoch [ 45] ----------\n",
      "Train Cost     : 0.21818554401397705\n",
      "Valid Cost     : 0.3794407248497009\n",
      "train Accuracy : 0.9131224751472473\n",
      "valid Accuracy : 0.8857143521308899\n",
      "Epoch [ 46] ----------\n",
      "Train Cost     : 0.21778032183647156\n",
      "Valid Cost     : 0.3793517053127289\n",
      "train Accuracy : 0.9133264422416687\n",
      "valid Accuracy : 0.8857142329216003\n",
      "Epoch [ 47] ----------\n",
      "Train Cost     : 0.2174101620912552\n",
      "Valid Cost     : 0.37948307394981384\n",
      "train Accuracy : 0.9135306477546692\n",
      "valid Accuracy : 0.8855714201927185\n",
      "Epoch [ 48] ----------\n",
      "Train Cost     : 0.2185676246881485\n",
      "Valid Cost     : 0.3785003125667572\n",
      "train Accuracy : 0.9137753844261169\n",
      "valid Accuracy : 0.8839999437332153\n",
      "Epoch [ 49] ----------\n",
      "Train Cost     : 0.2182719111442566\n",
      "Valid Cost     : 0.37868237495422363\n",
      "train Accuracy : 0.9140611886978149\n",
      "valid Accuracy : 0.8845714330673218\n",
      "Epoch [ 50] ----------\n",
      "Train Cost     : 0.21806490421295166\n",
      "Valid Cost     : 0.378678560256958\n",
      "train Accuracy : 0.9140816330909729\n",
      "valid Accuracy : 0.8844285011291504\n"
     ]
    }
   ],
   "source": [
    "trainModel(model, 0.001, 50, trainDL, validDL)"
   ],
   "metadata": {
    "collapsed": false,
    "ExecuteTime": {
     "end_time": "2024-03-17T08:41:14.557060500Z",
     "start_time": "2024-03-17T08:40:02.813529600Z"
    }
   },
   "id": "1dfd2a07cbd898c8",
   "execution_count": 70
  },
  {
   "cell_type": "code",
   "outputs": [
    {
     "data": {
      "text/plain": "<Figure size 640x480 with 1 Axes>",
      "image/png": "[encoded data removed]"
     },
     "metadata": {},
     "output_type": "display_data"
    }
   ],
   "source": [
    "drawPlot()"
   ],
   "metadata": {
    "collapsed": false,
    "ExecuteTime": {
     "end_time": "2024-03-17T08:41:14.779710500Z",
     "start_time": "2024-03-17T08:41:14.540362900Z"
    }
   },
   "id": "1ecff9b70a9deb16",
   "execution_count": 71
  },
  {
   "cell_type": "code",
   "outputs": [],
   "source": [
    "class FashionModel4(nn.Module):\n",
    "    def __init__(self, idim, odim):\n",
    "        super().__init__()\n",
    "\n",
    "        self.model = nn.Sequential(\n",
    "            nn.Linear(idim, 128),\n",
    "            nn.ReLU(),\n",
    "            nn.Linear(128, 64),\n",
    "            nn.ReLU(),\n",
    "            nn.Linear(64, odim)\n",
    "        )\n",
    "\n",
    "    def forward(self, x):\n",
    "        return self.model(x)"
   ],
   "metadata": {
    "collapsed": false,
    "ExecuteTime": {
     "end_time": "2024-03-17T08:41:14.815353200Z",
     "start_time": "2024-03-17T08:41:14.774365100Z"
    }
   },
   "id": "bf632575e07af00c",
   "execution_count": 72
  },
  {
   "cell_type": "code",
   "outputs": [],
   "source": [
    "model = FashionModel4(pixels.shape[1], len(target.unique()))"
   ],
   "metadata": {
    "collapsed": false,
    "ExecuteTime": {
     "end_time": "2024-03-17T08:41:14.817354300Z",
     "start_time": "2024-03-17T08:41:14.789297400Z"
    }
   },
   "id": "b806b0971d084bcb",
   "execution_count": 73
  },
  {
   "cell_type": "code",
   "outputs": [
    {
     "name": "stdout",
     "output_type": "stream",
     "text": [
      "Epoch [  1] ----------\n",
      "Train Cost     : 0.6936887502670288\n",
      "Valid Cost     : 0.6569703817367554\n",
      "train Accuracy : 0.6155714988708496\n",
      "valid Accuracy : 0.774142861366272\n",
      "Epoch [  2] ----------\n",
      "Train Cost     : 0.5003505945205688\n",
      "Valid Cost     : 0.5386325120925903\n",
      "train Accuracy : 0.7968571186065674\n",
      "valid Accuracy : 0.8168571591377258\n",
      "Epoch [  3] ----------\n",
      "Train Cost     : 0.42854660749435425\n",
      "Valid Cost     : 0.4915024936199188\n",
      "train Accuracy : 0.8254897594451904\n",
      "valid Accuracy : 0.8334285616874695\n",
      "Epoch [  4] ----------\n",
      "Train Cost     : 0.3903138041496277\n",
      "Valid Cost     : 0.4694017171859741\n",
      "train Accuracy : 0.8383877277374268\n",
      "valid Accuracy : 0.8425714373588562\n",
      "Epoch [  5] ----------\n",
      "Train Cost     : 0.36939385533332825\n",
      "Valid Cost     : 0.45363649725914\n",
      "train Accuracy : 0.8481634259223938\n",
      "valid Accuracy : 0.8468571305274963\n",
      "Epoch [  6] ----------\n",
      "Train Cost     : 0.34627190232276917\n",
      "Valid Cost     : 0.4339323341846466\n",
      "train Accuracy : 0.8557347655296326\n",
      "valid Accuracy : 0.8524285554885864\n",
      "Epoch [  7] ----------\n",
      "Train Cost     : 0.33317604660987854\n",
      "Valid Cost     : 0.4181639552116394\n",
      "train Accuracy : 0.862183690071106\n",
      "valid Accuracy : 0.8582857251167297\n",
      "Epoch [  8] ----------\n",
      "Train Cost     : 0.32186612486839294\n",
      "Valid Cost     : 0.4123532474040985\n",
      "train Accuracy : 0.8685100078582764\n",
      "valid Accuracy : 0.860428512096405\n",
      "Epoch [  9] ----------\n",
      "Train Cost     : 0.31167957186698914\n",
      "Valid Cost     : 0.3994204103946686\n",
      "train Accuracy : 0.8717346787452698\n",
      "valid Accuracy : 0.861714243888855\n",
      "Epoch [ 10] ----------\n",
      "Train Cost     : 0.300590842962265\n",
      "Valid Cost     : 0.40094417333602905\n",
      "train Accuracy : 0.876244843006134\n",
      "valid Accuracy : 0.8624285459518433\n",
      "Epoch [ 11] ----------\n",
      "Train Cost     : 0.293535441160202\n",
      "Valid Cost     : 0.3963504433631897\n",
      "train Accuracy : 0.8802040815353394\n",
      "valid Accuracy : 0.8662857413291931\n",
      "Epoch [ 12] ----------\n",
      "Train Cost     : 0.28152552247047424\n",
      "Valid Cost     : 0.389763742685318\n",
      "train Accuracy : 0.8835715651512146\n",
      "valid Accuracy : 0.8679999709129333\n",
      "Epoch [ 13] ----------\n",
      "Train Cost     : 0.2744487226009369\n",
      "Valid Cost     : 0.3902309536933899\n",
      "train Accuracy : 0.8862040638923645\n",
      "valid Accuracy : 0.8671427965164185\n",
      "Epoch [ 14] ----------\n",
      "Train Cost     : 0.2674274146556854\n",
      "Valid Cost     : 0.3867191970348358\n",
      "train Accuracy : 0.8884081244468689\n",
      "valid Accuracy : 0.8679999709129333\n",
      "Epoch [ 15] ----------\n",
      "Train Cost     : 0.2612287700176239\n",
      "Valid Cost     : 0.39467790722846985\n",
      "train Accuracy : 0.8907755017280579\n",
      "valid Accuracy : 0.8711428642272949\n",
      "Epoch [ 16] ----------\n",
      "Train Cost     : 0.2550869882106781\n",
      "Valid Cost     : 0.391018807888031\n",
      "train Accuracy : 0.8923673629760742\n",
      "valid Accuracy : 0.870571494102478\n",
      "Epoch [ 17] ----------\n",
      "Train Cost     : 0.24695385992527008\n",
      "Valid Cost     : 0.3972046375274658\n",
      "train Accuracy : 0.8948570489883423\n",
      "valid Accuracy : 0.8709999918937683\n",
      "Epoch [ 18] ----------\n",
      "Train Cost     : 0.2400815188884735\n",
      "Valid Cost     : 0.3912571966648102\n",
      "train Accuracy : 0.896734893321991\n",
      "valid Accuracy : 0.8721428513526917\n",
      "Epoch [ 19] ----------\n",
      "Train Cost     : 0.2504023015499115\n",
      "Valid Cost     : 0.3739997446537018\n",
      "train Accuracy : 0.9016121029853821\n",
      "valid Accuracy : 0.8738570809364319\n",
      "Epoch [ 20] ----------\n",
      "Train Cost     : 0.24553924798965454\n",
      "Valid Cost     : 0.3811332881450653\n",
      "train Accuracy : 0.9035511612892151\n",
      "valid Accuracy : 0.873571515083313\n",
      "Epoch [ 21] ----------\n",
      "Train Cost     : 0.24277931451797485\n",
      "Valid Cost     : 0.38517966866493225\n",
      "train Accuracy : 0.9043877124786377\n",
      "valid Accuracy : 0.87628573179245\n",
      "Epoch [ 22] ----------\n",
      "Train Cost     : 0.23282773792743683\n",
      "Valid Cost     : 0.38876572251319885\n",
      "train Accuracy : 0.9050202369689941\n",
      "valid Accuracy : 0.8762856721878052\n",
      "Epoch [ 23] ----------\n",
      "Train Cost     : 0.23085445165634155\n",
      "Valid Cost     : 0.39160439372062683\n",
      "train Accuracy : 0.9081019759178162\n",
      "valid Accuracy : 0.8772856593132019\n",
      "Epoch [ 24] ----------\n",
      "Train Cost     : 0.22017979621887207\n",
      "Valid Cost     : 0.3684542179107666\n",
      "train Accuracy : 0.9096733927726746\n",
      "valid Accuracy : 0.8788571357727051\n",
      "Epoch [ 25] ----------\n",
      "Train Cost     : 0.21594172716140747\n",
      "Valid Cost     : 0.36428606510162354\n",
      "train Accuracy : 0.9108774662017822\n",
      "valid Accuracy : 0.8778572082519531\n",
      "Epoch [ 26] ----------\n",
      "Train Cost     : 0.21392187476158142\n",
      "Valid Cost     : 0.36294296383857727\n",
      "train Accuracy : 0.9123266339302063\n",
      "valid Accuracy : 0.8769999742507935\n",
      "Epoch [ 27] ----------\n",
      "Train Cost     : 0.21200841665267944\n",
      "Valid Cost     : 0.36490145325660706\n",
      "train Accuracy : 0.9127143025398254\n",
      "valid Accuracy : 0.8768572211265564\n",
      "Epoch [ 28] ----------\n",
      "Train Cost     : 0.21013183891773224\n",
      "Valid Cost     : 0.36305028200149536\n",
      "train Accuracy : 0.913959264755249\n",
      "valid Accuracy : 0.8762856721878052\n",
      "Epoch [ 29] ----------\n",
      "Train Cost     : 0.20811861753463745\n",
      "Valid Cost     : 0.3612542152404785\n",
      "train Accuracy : 0.915387749671936\n",
      "valid Accuracy : 0.8771428465843201\n",
      "Epoch [ 30] ----------\n",
      "Train Cost     : 0.20680443942546844\n",
      "Valid Cost     : 0.3655965328216553\n",
      "train Accuracy : 0.9153060913085938\n",
      "valid Accuracy : 0.8775714635848999\n",
      "Epoch [ 31] ----------\n",
      "Train Cost     : 0.2053632140159607\n",
      "Valid Cost     : 0.36143308877944946\n",
      "train Accuracy : 0.916754961013794\n",
      "valid Accuracy : 0.8772856593132019\n",
      "Epoch [ 32] ----------\n",
      "Train Cost     : 0.20430824160575867\n",
      "Valid Cost     : 0.36030566692352295\n",
      "train Accuracy : 0.9175102114677429\n",
      "valid Accuracy : 0.8785714507102966\n",
      "Epoch [ 33] ----------\n",
      "Train Cost     : 0.20263858139514923\n",
      "Valid Cost     : 0.3627045750617981\n",
      "train Accuracy : 0.9178776144981384\n",
      "valid Accuracy : 0.87842857837677\n",
      "Epoch [ 34] ----------\n",
      "Train Cost     : 0.20084048807621002\n",
      "Valid Cost     : 0.36083531379699707\n",
      "train Accuracy : 0.9193060994148254\n",
      "valid Accuracy : 0.8787142634391785\n",
      "Epoch [ 35] ----------\n",
      "Train Cost     : 0.20147085189819336\n",
      "Valid Cost     : 0.3606607913970947\n",
      "train Accuracy : 0.9201427102088928\n",
      "valid Accuracy : 0.8785714507102966\n",
      "Epoch [ 36] ----------\n",
      "Train Cost     : 0.19938021898269653\n",
      "Valid Cost     : 0.3602096438407898\n",
      "train Accuracy : 0.9208163022994995\n",
      "valid Accuracy : 0.8781428337097168\n",
      "Epoch [ 37] ----------\n",
      "Train Cost     : 0.19841115176677704\n",
      "Valid Cost     : 0.3622366189956665\n",
      "train Accuracy : 0.9207755923271179\n",
      "valid Accuracy : 0.8787142634391785\n",
      "Epoch [ 38] ----------\n",
      "Train Cost     : 0.19605690240859985\n",
      "Valid Cost     : 0.36078622937202454\n",
      "train Accuracy : 0.9217346906661987\n",
      "valid Accuracy : 0.8802857398986816\n",
      "Epoch [ 39] ----------\n",
      "Train Cost     : 0.19488637149333954\n",
      "Valid Cost     : 0.3619358241558075\n",
      "train Accuracy : 0.9219999313354492\n",
      "valid Accuracy : 0.8799999952316284\n",
      "Epoch [ 40] ----------\n",
      "Train Cost     : 0.19280679523944855\n",
      "Valid Cost     : 0.36327967047691345\n",
      "train Accuracy : 0.9224897623062134\n",
      "valid Accuracy : 0.8812856674194336\n",
      "Epoch [ 41] ----------\n",
      "Train Cost     : 0.18530377745628357\n",
      "Valid Cost     : 0.37527933716773987\n",
      "train Accuracy : 0.9221020936965942\n",
      "valid Accuracy : 0.8827142715454102\n",
      "Epoch [ 42] ----------\n",
      "Train Cost     : 0.1827768087387085\n",
      "Valid Cost     : 0.3755302131175995\n",
      "train Accuracy : 0.923346996307373\n",
      "valid Accuracy : 0.8829999566078186\n",
      "Epoch [ 43] ----------\n",
      "Train Cost     : 0.18105265498161316\n",
      "Valid Cost     : 0.3757551908493042\n",
      "train Accuracy : 0.9241020083427429\n",
      "valid Accuracy : 0.8832857012748718\n",
      "Epoch [ 44] ----------\n",
      "Train Cost     : 0.17878609895706177\n",
      "Valid Cost     : 0.37549200654029846\n",
      "train Accuracy : 0.9248978495597839\n",
      "valid Accuracy : 0.8831428289413452\n",
      "Epoch [ 45] ----------\n",
      "Train Cost     : 0.17538811266422272\n",
      "Valid Cost     : 0.382901132106781\n",
      "train Accuracy : 0.9262855648994446\n",
      "valid Accuracy : 0.8838571310043335\n",
      "Epoch [ 46] ----------\n",
      "Train Cost     : 0.17370246350765228\n",
      "Valid Cost     : 0.3806430697441101\n",
      "train Accuracy : 0.9275102615356445\n",
      "valid Accuracy : 0.883571445941925\n",
      "Epoch [ 47] ----------\n",
      "Train Cost     : 0.1731533706188202\n",
      "Valid Cost     : 0.38081276416778564\n",
      "train Accuracy : 0.9278775453567505\n",
      "valid Accuracy : 0.8841428756713867\n",
      "Epoch [ 48] ----------\n",
      "Train Cost     : 0.17203763127326965\n",
      "Valid Cost     : 0.380889356136322\n",
      "train Accuracy : 0.9280202984809875\n",
      "valid Accuracy : 0.8841428756713867\n",
      "Epoch [ 49] ----------\n",
      "Train Cost     : 0.1709674447774887\n",
      "Valid Cost     : 0.3680218756198883\n",
      "train Accuracy : 0.9284693598747253\n",
      "valid Accuracy : 0.8854286074638367\n",
      "Epoch [ 50] ----------\n",
      "Train Cost     : 0.17074288427829742\n",
      "Valid Cost     : 0.3679991662502289\n",
      "train Accuracy : 0.9285714030265808\n",
      "valid Accuracy : 0.8851428627967834\n"
     ]
    }
   ],
   "source": [
    "trainModel(model, 0.001, 50, trainDL, validDL)"
   ],
   "metadata": {
    "collapsed": false,
    "ExecuteTime": {
     "end_time": "2024-03-17T08:42:30.348317100Z",
     "start_time": "2024-03-17T08:41:14.805945500Z"
    }
   },
   "id": "18fa0112b181de68",
   "execution_count": 74
  },
  {
   "cell_type": "code",
   "outputs": [],
   "source": [],
   "metadata": {
    "collapsed": false,
    "ExecuteTime": {
     "end_time": "2024-03-17T08:42:30.377208500Z",
     "start_time": "2024-03-17T08:42:30.351311100Z"
    }
   },
   "id": "7e6b86babc8ec085",
   "execution_count": 74
  }
 ],
 "metadata": {
  "kernelspec": {
   "display_name": "Python 3",
   "language": "python",
   "name": "python3"
  },
  "language_info": {
   "codemirror_mode": {
    "name": "ipython",
    "version": 2
   },
   "file_extension": ".py",
   "mimetype": "text/x-python",
   "name": "python",
   "nbconvert_exporter": "python",
   "pygments_lexer": "ipython2",
   "version": "2.7.6"
  }
 },
 "nbformat": 4,
 "nbformat_minor": 5
}
