{
 "cells": [
  {
   "cell_type": "markdown",
   "source": [
    "### 인공신경망 모델 클래스 만들기\n",
    "- 부모 클래스 : nn.Module 상속 받음\n",
    "- 필수 오버라이딩 메소드 : __init(), forward()"
   ],
   "metadata": {
    "collapsed": false
   },
   "id": "34f360776e73048d"
  },
  {
   "cell_type": "markdown",
   "source": [
    "[1] 모듈로딩 "
   ],
   "metadata": {
    "collapsed": false
   },
   "id": "f5d8c12fde76e3f9"
  },
  {
   "cell_type": "code",
   "outputs": [],
   "source": [
    "import torch\n",
    "import torch.nn as nn"
   ],
   "metadata": {
    "collapsed": false,
    "ExecuteTime": {
     "end_time": "2024-03-14T08:24:55.926665Z",
     "start_time": "2024-03-14T08:24:54.395146700Z"
    }
   },
   "id": "1b08f9f77fba75c",
   "execution_count": 1
  },
  {
   "cell_type": "code",
   "outputs": [],
   "source": [
    "# 로지스틱회귀 모델 클래스 생성\n",
    "# - Linear + sigmoid\n",
    "\n",
    "class LogicLinear(nn.Module):\n",
    "    # 모델 구조 설정\n",
    "    def __init__(self, in_, out_):\n",
    "        super().__init__()\n",
    "        self.layer1 = nn.Linear(in_, 10)\n",
    "        self.sigmoid1 = nn.Sigmoid()\n",
    "        self.layer2 = nn.Linear(10, out_)\n",
    "        self.sigmoid2 = nn.Sigmoid()\n",
    "        \n",
    "    # 순방향 학습 진행 콜백함수\n",
    "    def forward(self, x):\n",
    "        x = self.layer1(x)\n",
    "        x = self.sigmoid1(x)\n",
    "        x = self.layer2(x)\n",
    "        x = self.sigmoid2(x)\n",
    "        return x"
   ],
   "metadata": {
    "collapsed": false,
    "ExecuteTime": {
     "end_time": "2024-03-14T08:41:15.983638500Z",
     "start_time": "2024-03-14T08:41:15.975654900Z"
    }
   },
   "id": "8185bea01c15f8c0",
   "execution_count": 22
  },
  {
   "cell_type": "code",
   "outputs": [
    {
     "data": {
      "text/plain": "LogicLinear(\n  (layer1): Linear(in_features=4, out_features=10, bias=True)\n  (sigmoid1): Sigmoid()\n  (layer2): Linear(in_features=10, out_features=10, bias=True)\n  (sigmoid2): Sigmoid()\n)"
     },
     "execution_count": 23,
     "metadata": {},
     "output_type": "execute_result"
    }
   ],
   "source": [
    "# 모델 인스턴스 생성\n",
    "l1 = LogicLinear(4, 10)\n",
    "l1"
   ],
   "metadata": {
    "collapsed": false,
    "ExecuteTime": {
     "end_time": "2024-03-14T08:41:16.251745500Z",
     "start_time": "2024-03-14T08:41:16.226483800Z"
    }
   },
   "id": "3ed2d0ab17189fef",
   "execution_count": 23
  },
  {
   "cell_type": "code",
   "outputs": [
    {
     "name": "stdout",
     "output_type": "stream",
     "text": [
      "Parameter containing:\n",
      "tensor([[-0.4791, -0.0319, -0.0185, -0.4627],\n",
      "        [ 0.1904, -0.3915, -0.3979,  0.3357],\n",
      "        [-0.4480,  0.4830, -0.4940, -0.1644],\n",
      "        [ 0.0681,  0.0026,  0.3994,  0.4961],\n",
      "        [ 0.3947, -0.3807,  0.1543,  0.2295],\n",
      "        [ 0.2032, -0.4267,  0.1731,  0.0754],\n",
      "        [-0.1697, -0.1096, -0.4992,  0.3694],\n",
      "        [-0.4478, -0.0450, -0.0998, -0.4130],\n",
      "        [ 0.4853,  0.2500, -0.4420,  0.0624],\n",
      "        [ 0.2206, -0.2383, -0.3688,  0.2490]], requires_grad=True)\n",
      "Parameter containing:\n",
      "tensor([-0.3955, -0.0965,  0.0406,  0.1289,  0.4754, -0.4782, -0.1613, -0.0520,\n",
      "        -0.0976, -0.0252], requires_grad=True)\n",
      "Parameter containing:\n",
      "tensor([[-0.1885, -0.1732,  0.2732,  0.0712,  0.2177,  0.0493, -0.1542, -0.3128,\n",
      "         -0.0037, -0.1501],\n",
      "        [ 0.1817,  0.2825, -0.2543,  0.3158, -0.1703, -0.0460,  0.1930,  0.2880,\n",
      "         -0.1912, -0.0729],\n",
      "        [-0.2015, -0.1211, -0.2862,  0.1821, -0.0746,  0.2915,  0.2928,  0.1409,\n",
      "         -0.0823, -0.1326],\n",
      "        [ 0.2533, -0.0426,  0.0146, -0.0676, -0.1844, -0.2192,  0.0294, -0.3030,\n",
      "          0.2266, -0.1040],\n",
      "        [-0.1300,  0.0692,  0.2977,  0.2232,  0.0212,  0.2439, -0.2408, -0.2250,\n",
      "         -0.2146,  0.2685],\n",
      "        [ 0.2324, -0.0190,  0.2398,  0.1113,  0.3002,  0.3067,  0.0948, -0.0301,\n",
      "          0.1623,  0.0884],\n",
      "        [-0.0663, -0.1015, -0.1049, -0.0569, -0.2815, -0.0434, -0.1478,  0.0396,\n",
      "         -0.2081,  0.0410],\n",
      "        [-0.1734,  0.0909,  0.0973,  0.0785, -0.1159, -0.2506, -0.2539, -0.2239,\n",
      "         -0.1517,  0.2416],\n",
      "        [ 0.1680,  0.0193, -0.2418, -0.0312, -0.2655, -0.2997, -0.1846, -0.3052,\n",
      "         -0.0718,  0.0159],\n",
      "        [-0.1358,  0.2079,  0.1428,  0.2162,  0.0471, -0.0108, -0.2123, -0.0787,\n",
      "          0.2648,  0.1239]], requires_grad=True)\n",
      "Parameter containing:\n",
      "tensor([-0.1035, -0.1712,  0.1768, -0.3011, -0.1880, -0.0167,  0.1478, -0.1360,\n",
      "         0.2673, -0.0122], requires_grad=True)\n"
     ]
    }
   ],
   "source": [
    "for param in l1.parameters():\n",
    "    print(param)"
   ],
   "metadata": {
    "collapsed": false,
    "ExecuteTime": {
     "end_time": "2024-03-14T08:41:16.724097400Z",
     "start_time": "2024-03-14T08:41:16.693191500Z"
    }
   },
   "id": "2aaaa420b011ba24",
   "execution_count": 24
  },
  {
   "cell_type": "code",
   "outputs": [],
   "source": [],
   "metadata": {
    "collapsed": false
   },
   "id": "fdbc624521fc04c6"
  }
 ],
 "metadata": {
  "kernelspec": {
   "display_name": "Python 3",
   "language": "python",
   "name": "python3"
  },
  "language_info": {
   "codemirror_mode": {
    "name": "ipython",
    "version": 2
   },
   "file_extension": ".py",
   "mimetype": "text/x-python",
   "name": "python",
   "nbconvert_exporter": "python",
   "pygments_lexer": "ipython2",
   "version": "2.7.6"
  }
 },
 "nbformat": 4,
 "nbformat_minor": 5
}
