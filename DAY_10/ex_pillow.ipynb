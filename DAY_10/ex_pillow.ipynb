{
 "cells": [
  {
   "cell_type": "code",
   "execution_count": 5,
   "id": "initial_id",
   "metadata": {
    "collapsed": true,
    "ExecuteTime": {
     "end_time": "2024-03-25T06:49:24.199671500Z",
     "start_time": "2024-03-25T06:49:24.193330700Z"
    }
   },
   "outputs": [],
   "source": [
    "### 모듈 로딩\n",
    "from PIL import Image\n",
    "from torchvision import transforms"
   ]
  },
  {
   "cell_type": "code",
   "outputs": [],
   "source": [
    "### 이미지 데이터 로딩\n",
    "file = '../data/img/cat1.jpg'"
   ],
   "metadata": {
    "collapsed": false,
    "ExecuteTime": {
     "end_time": "2024-03-25T06:49:24.401979900Z",
     "start_time": "2024-03-25T06:49:24.392534900Z"
    }
   },
   "id": "dae78d6d63178534",
   "execution_count": 6
  },
  {
   "cell_type": "code",
   "outputs": [
    {
     "data": {
      "text/plain": "('JPEG', 187, 270, 'RGB', PIL.JpegImagePlugin.JpegImageFile)"
     },
     "execution_count": 8,
     "metadata": {},
     "output_type": "execute_result"
    }
   ],
   "source": [
    "catImg = Image.open(file)\n",
    "\n",
    "catImg.format, catImg.height, catImg.width, catImg.mode, type(catImg)"
   ],
   "metadata": {
    "collapsed": false,
    "ExecuteTime": {
     "end_time": "2024-03-25T06:49:38.940621Z",
     "start_time": "2024-03-25T06:49:38.928281300Z"
    }
   },
   "id": "4b44798ca3e1e8ca",
   "execution_count": 8
  },
  {
   "cell_type": "code",
   "outputs": [
    {
     "name": "stdout",
     "output_type": "stream",
     "text": [
      "torch.Size([3, 187, 270]) 3\n",
      "tensor([[0.1098, 0.2549, 0.4196,  ..., 0.5882, 0.5843, 0.5843],\n",
      "        [0.1020, 0.2471, 0.4157,  ..., 0.5882, 0.5882, 0.5843],\n",
      "        [0.0902, 0.2392, 0.4118,  ..., 0.5882, 0.5882, 0.5843],\n",
      "        ...,\n",
      "        [0.5176, 0.4902, 0.4902,  ..., 0.1725, 0.1647, 0.1647],\n",
      "        [0.4314, 0.4039, 0.4039,  ..., 0.1725, 0.1647, 0.1647],\n",
      "        [0.3569, 0.3333, 0.3294,  ..., 0.1725, 0.1647, 0.1647]])\n"
     ]
    }
   ],
   "source": [
    "### 사용법 => (1) 인스턴스 생성 (2) 인스턴스변수 사용\n",
    "to_tensor = transforms.ToTensor()\n",
    "\n",
    "### (2) 인스턴스변수 사용\n",
    "catTS = to_tensor(catImg)\n",
    "\n",
    "### (3) 변환된 이미지 텐서 확인\n",
    "print(catTS.shape, catTS.ndim)\n",
    "print(catTS[0])"
   ],
   "metadata": {
    "collapsed": false,
    "ExecuteTime": {
     "end_time": "2024-03-25T06:54:39.183198700Z",
     "start_time": "2024-03-25T06:54:39.168248100Z"
    }
   },
   "id": "c2f33d3a7c21529e",
   "execution_count": 13
  },
  {
   "cell_type": "code",
   "outputs": [
    {
     "name": "stdout",
     "output_type": "stream",
     "text": [
      "<class 'numpy.ndarray'> (187, 270, 3) 3\n",
      "<class 'numpy.ndarray'> (187, 270, 3) 3\n",
      "torch.Size([3, 187, 270]) 3\n",
      "tensor([[0.1137, 0.2588, 0.4392,  ..., 0.2392, 0.2353, 0.2353],\n",
      "        [0.1059, 0.2510, 0.4353,  ..., 0.2471, 0.2471, 0.2431],\n",
      "        [0.0941, 0.2431, 0.4314,  ..., 0.2588, 0.2588, 0.2549],\n",
      "        ...,\n",
      "        [0.4824, 0.4549, 0.4549,  ..., 0.1255, 0.1333, 0.1412],\n",
      "        [0.3961, 0.3686, 0.3686,  ..., 0.1255, 0.1333, 0.1412],\n",
      "        [0.3216, 0.2980, 0.2941,  ..., 0.1255, 0.1333, 0.1412]])\n",
      "\n",
      "torch.Size([3, 187, 270]) 3\n",
      "tensor([[0.1098, 0.2549, 0.4196,  ..., 0.5882, 0.5843, 0.5843],\n",
      "        [0.1020, 0.2471, 0.4157,  ..., 0.5882, 0.5882, 0.5843],\n",
      "        [0.0902, 0.2392, 0.4118,  ..., 0.5882, 0.5882, 0.5843],\n",
      "        ...,\n",
      "        [0.5176, 0.4902, 0.4902,  ..., 0.1725, 0.1647, 0.1647],\n",
      "        [0.4314, 0.4039, 0.4039,  ..., 0.1725, 0.1647, 0.1647],\n",
      "        [0.3569, 0.3333, 0.3294,  ..., 0.1725, 0.1647, 0.1647]])\n"
     ]
    }
   ],
   "source": [
    "#### openCV\n",
    "import cv2\n",
    "\n",
    "img = cv2.imread(filename=file)\n",
    "img2 = cv2.cvtColor(img, cv2.COLOR_BGR2RGB)\n",
    "print(type(img), img.shape, img.ndim)\n",
    "print(type(img2), img2.shape, img2.ndim)\n",
    "\n",
    "### 텐서화\n",
    "cat2 = to_tensor(img)\n",
    "cat3 = to_tensor(img2)\n",
    "\n",
    "print(cat2.shape, cat2.ndim)\n",
    "print(cat2[0])\n",
    "print()\n",
    "print(cat3.shape, cat3.ndim)\n",
    "print(cat3[0])"
   ],
   "metadata": {
    "collapsed": false,
    "ExecuteTime": {
     "end_time": "2024-03-25T07:16:33.139697900Z",
     "start_time": "2024-03-25T07:16:33.112240800Z"
    }
   },
   "id": "f404c288d129c178",
   "execution_count": 37
  },
  {
   "cell_type": "code",
   "outputs": [],
   "source": [
    "#### ==> Resizing\n",
    "preprocessing = transforms.Compose(transforms=\n",
    "                                   [transforms.ToTensor(),\n",
    "                                    transforms.Resize(size=[2,2]),\n",
    "                                    ])\n"
   ],
   "metadata": {
    "collapsed": false,
    "ExecuteTime": {
     "end_time": "2024-03-25T07:17:08.841451600Z",
     "start_time": "2024-03-25T07:17:08.807379300Z"
    }
   },
   "id": "841da68d078b3e46",
   "execution_count": 44
  },
  {
   "cell_type": "code",
   "outputs": [
    {
     "data": {
      "text/plain": "tensor([[[0.5314, 0.8775],\n         [0.8235, 0.3755]],\n\n        [[0.5569, 0.7794],\n         [0.8098, 0.2882]],\n\n        [[0.5863, 0.6578],\n         [0.8137, 0.1618]]])"
     },
     "execution_count": 45,
     "metadata": {},
     "output_type": "execute_result"
    }
   ],
   "source": [
    "preprocessing(img2)"
   ],
   "metadata": {
    "collapsed": false,
    "ExecuteTime": {
     "end_time": "2024-03-25T07:17:09.006896800Z",
     "start_time": "2024-03-25T07:17:08.993936800Z"
    }
   },
   "id": "fbae1b52db4a63da",
   "execution_count": 45
  },
  {
   "cell_type": "markdown",
   "source": [
    "### 이미지 데이터셋\n",
    "- torchvision.ImageFolder 클래스 사용\n",
    "    * 이미지 데이터 라벨링\n",
    "    * 이미지 데이터 전처리"
   ],
   "metadata": {
    "collapsed": false
   },
   "id": "ecd5a1ec7f194bcd"
  },
  {
   "cell_type": "code",
   "outputs": [],
   "source": [
    "from torchvision.datasets import ImageFolder, DatasetFolder\n",
    "import os"
   ],
   "metadata": {
    "collapsed": false,
    "ExecuteTime": {
     "end_time": "2024-03-25T08:03:15.293907800Z",
     "start_time": "2024-03-25T08:03:15.219312200Z"
    }
   },
   "id": "931f8b242518beda",
   "execution_count": 69
  },
  {
   "cell_type": "code",
   "outputs": [],
   "source": [
    "img_root = '../data/img'\n",
    "\n",
    "imgDS = ImageFolder(root=img_root,\n",
    "                    transform=preprocessing,\n",
    "                    # is_valid_file=os.path.isfile\n",
    "                    )"
   ],
   "metadata": {
    "collapsed": false,
    "ExecuteTime": {
     "end_time": "2024-03-25T08:05:44.826353700Z",
     "start_time": "2024-03-25T08:05:44.730730400Z"
    }
   },
   "id": "11bbee241fdd26a8",
   "execution_count": 73
  },
  {
   "cell_type": "code",
   "outputs": [],
   "source": [],
   "metadata": {
    "collapsed": false
   },
   "id": "a7b6f2f98d25964a"
  }
 ],
 "metadata": {
  "kernelspec": {
   "display_name": "Python 3",
   "language": "python",
   "name": "python3"
  },
  "language_info": {
   "codemirror_mode": {
    "name": "ipython",
    "version": 2
   },
   "file_extension": ".py",
   "mimetype": "text/x-python",
   "name": "python",
   "nbconvert_exporter": "python",
   "pygments_lexer": "ipython2",
   "version": "2.7.6"
  }
 },
 "nbformat": 4,
 "nbformat_minor": 5
}
