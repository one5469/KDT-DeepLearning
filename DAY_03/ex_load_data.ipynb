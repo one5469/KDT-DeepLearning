{
 "cells": [
  {
   "cell_type": "markdown",
   "source": [
    "### 데이터 로딩 및 텐서 변환"
   ],
   "metadata": {
    "collapsed": false
   },
   "id": "56eb2a28ca287a74"
  },
  {
   "cell_type": "code",
   "outputs": [],
   "source": [
    "# 모듈 로딩\n",
    "import imageio.v2 as imageio\n",
    "import torch"
   ],
   "metadata": {
    "collapsed": false,
    "ExecuteTime": {
     "end_time": "2024-03-13T05:00:08.191741600Z",
     "start_time": "2024-03-13T05:00:08.179781500Z"
    }
   },
   "id": "9431454a1eb96b50",
   "execution_count": 11
  },
  {
   "cell_type": "code",
   "outputs": [],
   "source": [
    "# 이미지 데이터 로딩\n",
    "filename = '../data/img/bangbang.png'"
   ],
   "metadata": {
    "collapsed": false,
    "ExecuteTime": {
     "end_time": "2024-03-13T05:00:08.215660500Z",
     "start_time": "2024-03-13T05:00:08.188750400Z"
    }
   },
   "id": "4a0ca75af7e9caf7",
   "execution_count": 12
  },
  {
   "cell_type": "code",
   "outputs": [],
   "source": [
    "# ndarray 타입의 이미지 데이터\n",
    "img_data = imageio.imread(filename)"
   ],
   "metadata": {
    "collapsed": false,
    "ExecuteTime": {
     "end_time": "2024-03-13T05:00:08.230620100Z",
     "start_time": "2024-03-13T05:00:08.205694Z"
    }
   },
   "id": "349d7d7a4c2e875f",
   "execution_count": 13
  },
  {
   "cell_type": "code",
   "outputs": [
    {
     "name": "stdout",
     "output_type": "stream",
     "text": [
      "(210, 210, 3) 3\n"
     ]
    }
   ],
   "source": [
    "print(img_data.shape, img_data.ndim)"
   ],
   "metadata": {
    "collapsed": false,
    "ExecuteTime": {
     "end_time": "2024-03-13T05:00:08.246730700Z",
     "start_time": "2024-03-13T05:00:08.220645200Z"
    }
   },
   "id": "9144c680927c3e69",
   "execution_count": 14
  },
  {
   "cell_type": "code",
   "outputs": [],
   "source": [
    "# ndarray => tensor 변환\n",
    "img_t1 = torch.tensor(img_data)\n",
    "img_t2 = torch.from_numpy(img_data)\n",
    "img_t3 = torch.as_tensor(img_data)"
   ],
   "metadata": {
    "collapsed": false,
    "ExecuteTime": {
     "end_time": "2024-03-13T05:00:08.262838400Z",
     "start_time": "2024-03-13T05:00:08.237586700Z"
    }
   },
   "id": "eea58c4882788268",
   "execution_count": 15
  },
  {
   "cell_type": "code",
   "outputs": [
    {
     "name": "stdout",
     "output_type": "stream",
     "text": [
      "torch.Size([210, 210, 3]) 3\n",
      "torch.Size([210, 210, 3]) 3\n",
      "torch.Size([210, 210, 3]) 3\n"
     ]
    }
   ],
   "source": [
    "print(img_t1.shape, img_t1.ndim)\n",
    "print(img_t2.shape, img_t2.ndim)\n",
    "print(img_t3.shape, img_t3.ndim)"
   ],
   "metadata": {
    "collapsed": false,
    "ExecuteTime": {
     "end_time": "2024-03-13T05:00:08.288809700Z",
     "start_time": "2024-03-13T05:00:08.252806600Z"
    }
   },
   "id": "384631449d2ab3ab",
   "execution_count": 16
  },
  {
   "cell_type": "code",
   "outputs": [
    {
     "data": {
      "text/plain": "torch.Size([3, 210, 210])"
     },
     "execution_count": 17,
     "metadata": {},
     "output_type": "execute_result"
    }
   ],
   "source": [
    "# [행(높이), 열(너비), 채널] ==> [채널, 행(높이), 열(너비)]\n",
    "img_t1.permute(2,0,1).shape"
   ],
   "metadata": {
    "collapsed": false,
    "ExecuteTime": {
     "end_time": "2024-03-13T05:02:32.086207Z",
     "start_time": "2024-03-13T05:02:32.050937500Z"
    }
   },
   "id": "16fd40b74ebce28e",
   "execution_count": 17
  },
  {
   "cell_type": "code",
   "outputs": [],
   "source": [],
   "metadata": {
    "collapsed": false
   },
   "id": "c5729f7ad9e2e808"
  }
 ],
 "metadata": {
  "kernelspec": {
   "display_name": "Python 3",
   "language": "python",
   "name": "python3"
  },
  "language_info": {
   "codemirror_mode": {
    "name": "ipython",
    "version": 2
   },
   "file_extension": ".py",
   "mimetype": "text/x-python",
   "name": "python",
   "nbconvert_exporter": "python",
   "pygments_lexer": "ipython2",
   "version": "2.7.6"
  }
 },
 "nbformat": 4,
 "nbformat_minor": 5
}
