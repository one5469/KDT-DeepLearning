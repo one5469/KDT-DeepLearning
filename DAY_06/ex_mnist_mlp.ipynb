{
 "cells": [
  {
   "cell_type": "markdown",
   "metadata": {},
   "source": [
    "### 다중 분류 <hr>\n",
    "- 데이터셋 : scikit-learn Fashion MNIST\n",
    "- 데이터수 : 학습용 60000, 테스틍용 10000\n",
    "- 피쳐갯수 : 28 X 28 흑백 이미지로 784\n",
    "- 타겟갯수 : 티셔츠/상의, 바지, 풀오버, 드레스, 코트, 샌들, 셔츠, 운동화, 가방, 발목 부츠 등 10가지"
   ]
  },
  {
   "cell_type": "markdown",
   "metadata": {},
   "source": [
    "[1] 모듈 로딩 및 데이터 준비 <hr>"
   ]
  },
  {
   "cell_type": "code",
   "execution_count": 1,
   "metadata": {
    "ExecuteTime": {
     "end_time": "2024-03-19T18:10:42.396925400Z",
     "start_time": "2024-03-19T18:10:38.816349600Z"
    }
   },
   "outputs": [],
   "source": [
    "### ===> 모듈 로딩\n",
    "from sklearn.datasets import fetch_openml \n",
    "from sklearn.preprocessing import LabelEncoder, OneHotEncoder\n",
    "import torch\n",
    "import torch.nn.functional as F \n",
    "import torch.nn as nn \n",
    "from torch.utils.data import Dataset, DataLoader, random_split\n",
    "import torch.optim as optim \n",
    "import torchmetrics.functional as metrics\n",
    "import numpy as np"
   ]
  },
  {
   "cell_type": "code",
   "execution_count": 2,
   "metadata": {
    "ExecuteTime": {
     "end_time": "2024-03-19T18:10:46.492037200Z",
     "start_time": "2024-03-19T18:10:42.399024100Z"
    }
   },
   "outputs": [],
   "source": [
    "### ===> 데이터 로딩 \n",
    "db_name = 'Fashion-MNIST'\n",
    "\n",
    "# as_frame=False : ndarray 형식으로 반환\n",
    "fashion_data = fetch_openml(name=db_name, parser='auto', as_frame=False)"
   ]
  },
  {
   "cell_type": "code",
   "execution_count": 3,
   "metadata": {
    "ExecuteTime": {
     "end_time": "2024-03-19T18:10:46.515482Z",
     "start_time": "2024-03-19T18:10:46.494030600Z"
    }
   },
   "outputs": [
    {
     "name": "stdout",
     "output_type": "stream",
     "text": [
      "data   => int64, (70000, 784)\n",
      "target => object, (70000,)\n",
      "feature_names => ['pixel1', 'pixel2', 'pixel3', 'pixel4', 'pixel5', 'pixel6', 'pixel7', 'pixel8', 'pixel9', 'pixel10', 'pixel11', 'pixel12', 'pixel13', 'pixel14', 'pixel15', 'pixel16', 'pixel17', 'pixel18', 'pixel19', 'pixel20', 'pixel21', 'pixel22', 'pixel23', 'pixel24', 'pixel25', 'pixel26', 'pixel27', 'pixel28', 'pixel29', 'pixel30', 'pixel31', 'pixel32', 'pixel33', 'pixel34', 'pixel35', 'pixel36', 'pixel37', 'pixel38', 'pixel39', 'pixel40', 'pixel41', 'pixel42', 'pixel43', 'pixel44', 'pixel45', 'pixel46', 'pixel47', 'pixel48', 'pixel49', 'pixel50', 'pixel51', 'pixel52', 'pixel53', 'pixel54', 'pixel55', 'pixel56', 'pixel57', 'pixel58', 'pixel59', 'pixel60', 'pixel61', 'pixel62', 'pixel63', 'pixel64', 'pixel65', 'pixel66', 'pixel67', 'pixel68', 'pixel69', 'pixel70', 'pixel71', 'pixel72', 'pixel73', 'pixel74', 'pixel75', 'pixel76', 'pixel77', 'pixel78', 'pixel79', 'pixel80', 'pixel81', 'pixel82', 'pixel83', 'pixel84', 'pixel85', 'pixel86', 'pixel87', 'pixel88', 'pixel89', 'pixel90', 'pixel91', 'pixel92', 'pixel93', 'pixel94', 'pixel95', 'pixel96', 'pixel97', 'pixel98', 'pixel99', 'pixel100', 'pixel101', 'pixel102', 'pixel103', 'pixel104', 'pixel105', 'pixel106', 'pixel107', 'pixel108', 'pixel109', 'pixel110', 'pixel111', 'pixel112', 'pixel113', 'pixel114', 'pixel115', 'pixel116', 'pixel117', 'pixel118', 'pixel119', 'pixel120', 'pixel121', 'pixel122', 'pixel123', 'pixel124', 'pixel125', 'pixel126', 'pixel127', 'pixel128', 'pixel129', 'pixel130', 'pixel131', 'pixel132', 'pixel133', 'pixel134', 'pixel135', 'pixel136', 'pixel137', 'pixel138', 'pixel139', 'pixel140', 'pixel141', 'pixel142', 'pixel143', 'pixel144', 'pixel145', 'pixel146', 'pixel147', 'pixel148', 'pixel149', 'pixel150', 'pixel151', 'pixel152', 'pixel153', 'pixel154', 'pixel155', 'pixel156', 'pixel157', 'pixel158', 'pixel159', 'pixel160', 'pixel161', 'pixel162', 'pixel163', 'pixel164', 'pixel165', 'pixel166', 'pixel167', 'pixel168', 'pixel169', 'pixel170', 'pixel171', 'pixel172', 'pixel173', 'pixel174', 'pixel175', 'pixel176', 'pixel177', 'pixel178', 'pixel179', 'pixel180', 'pixel181', 'pixel182', 'pixel183', 'pixel184', 'pixel185', 'pixel186', 'pixel187', 'pixel188', 'pixel189', 'pixel190', 'pixel191', 'pixel192', 'pixel193', 'pixel194', 'pixel195', 'pixel196', 'pixel197', 'pixel198', 'pixel199', 'pixel200', 'pixel201', 'pixel202', 'pixel203', 'pixel204', 'pixel205', 'pixel206', 'pixel207', 'pixel208', 'pixel209', 'pixel210', 'pixel211', 'pixel212', 'pixel213', 'pixel214', 'pixel215', 'pixel216', 'pixel217', 'pixel218', 'pixel219', 'pixel220', 'pixel221', 'pixel222', 'pixel223', 'pixel224', 'pixel225', 'pixel226', 'pixel227', 'pixel228', 'pixel229', 'pixel230', 'pixel231', 'pixel232', 'pixel233', 'pixel234', 'pixel235', 'pixel236', 'pixel237', 'pixel238', 'pixel239', 'pixel240', 'pixel241', 'pixel242', 'pixel243', 'pixel244', 'pixel245', 'pixel246', 'pixel247', 'pixel248', 'pixel249', 'pixel250', 'pixel251', 'pixel252', 'pixel253', 'pixel254', 'pixel255', 'pixel256', 'pixel257', 'pixel258', 'pixel259', 'pixel260', 'pixel261', 'pixel262', 'pixel263', 'pixel264', 'pixel265', 'pixel266', 'pixel267', 'pixel268', 'pixel269', 'pixel270', 'pixel271', 'pixel272', 'pixel273', 'pixel274', 'pixel275', 'pixel276', 'pixel277', 'pixel278', 'pixel279', 'pixel280', 'pixel281', 'pixel282', 'pixel283', 'pixel284', 'pixel285', 'pixel286', 'pixel287', 'pixel288', 'pixel289', 'pixel290', 'pixel291', 'pixel292', 'pixel293', 'pixel294', 'pixel295', 'pixel296', 'pixel297', 'pixel298', 'pixel299', 'pixel300', 'pixel301', 'pixel302', 'pixel303', 'pixel304', 'pixel305', 'pixel306', 'pixel307', 'pixel308', 'pixel309', 'pixel310', 'pixel311', 'pixel312', 'pixel313', 'pixel314', 'pixel315', 'pixel316', 'pixel317', 'pixel318', 'pixel319', 'pixel320', 'pixel321', 'pixel322', 'pixel323', 'pixel324', 'pixel325', 'pixel326', 'pixel327', 'pixel328', 'pixel329', 'pixel330', 'pixel331', 'pixel332', 'pixel333', 'pixel334', 'pixel335', 'pixel336', 'pixel337', 'pixel338', 'pixel339', 'pixel340', 'pixel341', 'pixel342', 'pixel343', 'pixel344', 'pixel345', 'pixel346', 'pixel347', 'pixel348', 'pixel349', 'pixel350', 'pixel351', 'pixel352', 'pixel353', 'pixel354', 'pixel355', 'pixel356', 'pixel357', 'pixel358', 'pixel359', 'pixel360', 'pixel361', 'pixel362', 'pixel363', 'pixel364', 'pixel365', 'pixel366', 'pixel367', 'pixel368', 'pixel369', 'pixel370', 'pixel371', 'pixel372', 'pixel373', 'pixel374', 'pixel375', 'pixel376', 'pixel377', 'pixel378', 'pixel379', 'pixel380', 'pixel381', 'pixel382', 'pixel383', 'pixel384', 'pixel385', 'pixel386', 'pixel387', 'pixel388', 'pixel389', 'pixel390', 'pixel391', 'pixel392', 'pixel393', 'pixel394', 'pixel395', 'pixel396', 'pixel397', 'pixel398', 'pixel399', 'pixel400', 'pixel401', 'pixel402', 'pixel403', 'pixel404', 'pixel405', 'pixel406', 'pixel407', 'pixel408', 'pixel409', 'pixel410', 'pixel411', 'pixel412', 'pixel413', 'pixel414', 'pixel415', 'pixel416', 'pixel417', 'pixel418', 'pixel419', 'pixel420', 'pixel421', 'pixel422', 'pixel423', 'pixel424', 'pixel425', 'pixel426', 'pixel427', 'pixel428', 'pixel429', 'pixel430', 'pixel431', 'pixel432', 'pixel433', 'pixel434', 'pixel435', 'pixel436', 'pixel437', 'pixel438', 'pixel439', 'pixel440', 'pixel441', 'pixel442', 'pixel443', 'pixel444', 'pixel445', 'pixel446', 'pixel447', 'pixel448', 'pixel449', 'pixel450', 'pixel451', 'pixel452', 'pixel453', 'pixel454', 'pixel455', 'pixel456', 'pixel457', 'pixel458', 'pixel459', 'pixel460', 'pixel461', 'pixel462', 'pixel463', 'pixel464', 'pixel465', 'pixel466', 'pixel467', 'pixel468', 'pixel469', 'pixel470', 'pixel471', 'pixel472', 'pixel473', 'pixel474', 'pixel475', 'pixel476', 'pixel477', 'pixel478', 'pixel479', 'pixel480', 'pixel481', 'pixel482', 'pixel483', 'pixel484', 'pixel485', 'pixel486', 'pixel487', 'pixel488', 'pixel489', 'pixel490', 'pixel491', 'pixel492', 'pixel493', 'pixel494', 'pixel495', 'pixel496', 'pixel497', 'pixel498', 'pixel499', 'pixel500', 'pixel501', 'pixel502', 'pixel503', 'pixel504', 'pixel505', 'pixel506', 'pixel507', 'pixel508', 'pixel509', 'pixel510', 'pixel511', 'pixel512', 'pixel513', 'pixel514', 'pixel515', 'pixel516', 'pixel517', 'pixel518', 'pixel519', 'pixel520', 'pixel521', 'pixel522', 'pixel523', 'pixel524', 'pixel525', 'pixel526', 'pixel527', 'pixel528', 'pixel529', 'pixel530', 'pixel531', 'pixel532', 'pixel533', 'pixel534', 'pixel535', 'pixel536', 'pixel537', 'pixel538', 'pixel539', 'pixel540', 'pixel541', 'pixel542', 'pixel543', 'pixel544', 'pixel545', 'pixel546', 'pixel547', 'pixel548', 'pixel549', 'pixel550', 'pixel551', 'pixel552', 'pixel553', 'pixel554', 'pixel555', 'pixel556', 'pixel557', 'pixel558', 'pixel559', 'pixel560', 'pixel561', 'pixel562', 'pixel563', 'pixel564', 'pixel565', 'pixel566', 'pixel567', 'pixel568', 'pixel569', 'pixel570', 'pixel571', 'pixel572', 'pixel573', 'pixel574', 'pixel575', 'pixel576', 'pixel577', 'pixel578', 'pixel579', 'pixel580', 'pixel581', 'pixel582', 'pixel583', 'pixel584', 'pixel585', 'pixel586', 'pixel587', 'pixel588', 'pixel589', 'pixel590', 'pixel591', 'pixel592', 'pixel593', 'pixel594', 'pixel595', 'pixel596', 'pixel597', 'pixel598', 'pixel599', 'pixel600', 'pixel601', 'pixel602', 'pixel603', 'pixel604', 'pixel605', 'pixel606', 'pixel607', 'pixel608', 'pixel609', 'pixel610', 'pixel611', 'pixel612', 'pixel613', 'pixel614', 'pixel615', 'pixel616', 'pixel617', 'pixel618', 'pixel619', 'pixel620', 'pixel621', 'pixel622', 'pixel623', 'pixel624', 'pixel625', 'pixel626', 'pixel627', 'pixel628', 'pixel629', 'pixel630', 'pixel631', 'pixel632', 'pixel633', 'pixel634', 'pixel635', 'pixel636', 'pixel637', 'pixel638', 'pixel639', 'pixel640', 'pixel641', 'pixel642', 'pixel643', 'pixel644', 'pixel645', 'pixel646', 'pixel647', 'pixel648', 'pixel649', 'pixel650', 'pixel651', 'pixel652', 'pixel653', 'pixel654', 'pixel655', 'pixel656', 'pixel657', 'pixel658', 'pixel659', 'pixel660', 'pixel661', 'pixel662', 'pixel663', 'pixel664', 'pixel665', 'pixel666', 'pixel667', 'pixel668', 'pixel669', 'pixel670', 'pixel671', 'pixel672', 'pixel673', 'pixel674', 'pixel675', 'pixel676', 'pixel677', 'pixel678', 'pixel679', 'pixel680', 'pixel681', 'pixel682', 'pixel683', 'pixel684', 'pixel685', 'pixel686', 'pixel687', 'pixel688', 'pixel689', 'pixel690', 'pixel691', 'pixel692', 'pixel693', 'pixel694', 'pixel695', 'pixel696', 'pixel697', 'pixel698', 'pixel699', 'pixel700', 'pixel701', 'pixel702', 'pixel703', 'pixel704', 'pixel705', 'pixel706', 'pixel707', 'pixel708', 'pixel709', 'pixel710', 'pixel711', 'pixel712', 'pixel713', 'pixel714', 'pixel715', 'pixel716', 'pixel717', 'pixel718', 'pixel719', 'pixel720', 'pixel721', 'pixel722', 'pixel723', 'pixel724', 'pixel725', 'pixel726', 'pixel727', 'pixel728', 'pixel729', 'pixel730', 'pixel731', 'pixel732', 'pixel733', 'pixel734', 'pixel735', 'pixel736', 'pixel737', 'pixel738', 'pixel739', 'pixel740', 'pixel741', 'pixel742', 'pixel743', 'pixel744', 'pixel745', 'pixel746', 'pixel747', 'pixel748', 'pixel749', 'pixel750', 'pixel751', 'pixel752', 'pixel753', 'pixel754', 'pixel755', 'pixel756', 'pixel757', 'pixel758', 'pixel759', 'pixel760', 'pixel761', 'pixel762', 'pixel763', 'pixel764', 'pixel765', 'pixel766', 'pixel767', 'pixel768', 'pixel769', 'pixel770', 'pixel771', 'pixel772', 'pixel773', 'pixel774', 'pixel775', 'pixel776', 'pixel777', 'pixel778', 'pixel779', 'pixel780', 'pixel781', 'pixel782', 'pixel783', 'pixel784']\n",
      "target_names => ['class']\n",
      "categories => {'class': ['0', '1', '2', '3', '4', '5', '6', '7', '8', '9']}\n"
     ]
    }
   ],
   "source": [
    "### ===> 데이터 확인\n",
    "print(f'data   => {fashion_data[\"data\"].dtype}, {fashion_data[\"data\"].shape}')\n",
    "print(f'target => {fashion_data[\"target\"].dtype}, {fashion_data[\"target\"].shape}')\n",
    "print(f'feature_names => {fashion_data[\"feature_names\"]}\\ntarget_names => {fashion_data[\"target_names\"]}')\n",
    "print(f'categories => {fashion_data[\"categories\"]}')"
   ]
  },
  {
   "cell_type": "markdown",
   "metadata": {},
   "source": [
    "[2] 데이터 전처리 - 피쳐와 타겟 분리, 정규화 <hr>"
   ]
  },
  {
   "cell_type": "code",
   "execution_count": 4,
   "metadata": {
    "ExecuteTime": {
     "end_time": "2024-03-19T18:10:46.556557100Z",
     "start_time": "2024-03-19T18:10:46.510483600Z"
    }
   },
   "outputs": [
    {
     "name": "stdout",
     "output_type": "stream",
     "text": [
      "feature => <class 'numpy.ndarray'>, (70000, 784)\n",
      "feature raw data =>\n",
      "[[  0   0   0   0   0   0   0   0   0   0   0   0   0   0   0   0   0   0\n",
      "    0   0   0   0   0   0   0   0   0   0   0   0   0   0   0   0   0   0\n",
      "    0   0   0   0   0   0   0   0   0   0   0   0   0   0   0   0   0   0\n",
      "    0   0   0   0   0   0   0   0   0   0   0   0   0   0   0   0   0   0\n",
      "    0   0   0   0   0   0   0   0   0   0   0   0   0   0   0   0   0   0\n",
      "    0   0   0   0   0   0   1   0   0  13  73   0   0   1   4   0   0   0\n",
      "    0   1   1   0   0   0   0   0   0   0   0   0   0   0   0   0   3   0\n",
      "   36 136 127  62  54   0   0   0   1   3   4   0   0   3   0   0   0   0\n",
      "    0   0   0   0   0   0   0   0   6   0 102 204 176 134 144 123  23   0\n",
      "    0   0   0  12  10   0   0   0   0   0   0   0   0   0   0   0   0   0\n",
      "    0   0 155 236 207 178 107 156 161 109  64  23  77 130  72  15   0   0\n",
      "    0   0   0   0   0   0   0   0   0   1   0  69 207 223 218 216 216 163\n",
      "  127 121 122 146 141  88 172  66   0   0   0   0   0   0   0   0   0   1\n",
      "    1   1   0 200 232 232 233 229 223 223 215 213 164 127 123 196 229   0\n",
      "    0   0   0   0   0   0   0   0   0   0   0   0   0 183 225 216 223 228\n",
      "  235 227 224 222 224 221 223 245 173   0   0   0   0   0   0   0   0   0\n",
      "    0   0   0   0   0 193 228 218 213 198 180 212 210 211 213 223 220 243\n",
      "  202   0   0   0   0   0   0   0   0   0   0   1   3   0  12 219 220 212\n",
      "  218 192 169 227 208 218 224 212 226 197 209  52   0   0   0   0   0   0\n",
      "    0   0   0   0   6   0  99 244 222 220 218 203 198 221 215 213 222 220\n",
      "  245 119 167  56   0   0   0   0   0   0   0   0   0   4   0   0  55 236\n",
      "  228 230 228 240 232 213 218 223 234 217 217 209  92   0   0   0   1   4\n",
      "    6   7   2   0   0   0   0   0 237 226 217 223 222 219 222 221 216 223\n",
      "  229 215 218 255  77   0   0   3   0   0   0   0   0   0   0  62 145 204\n",
      "  228 207 213 221 218 208 211 218 224 223 219 215 224 244 159   0   0   0\n",
      "    0   0  18  44  82 107 189 228 220 222 217 226 200 205 211 230 224 234\n",
      "  176 188 250 248 233 238 215   0   0  57 187 208 224 221 224 208 204 214\n",
      "  208 209 200 159 245 193 206 223 255 255 221 234 221 211 220 232 246   0\n",
      "    3 202 228 224 221 211 211 214 205 205 205 220 240  80 150 255 229 221\n",
      "  188 154 191 210 204 209 222 228 225   0  98 233 198 210 222 229 229 234\n",
      "  249 220 194 215 217 241  65  73 106 117 168 219 221 215 217 223 223 224\n",
      "  229  29  75 204 212 204 193 205 211 225 216 185 197 206 198 213 240 195\n",
      "  227 245 239 223 218 212 209 222 220 221 230  67  48 203 183 194 213 197\n",
      "  185 190 194 192 202 214 219 221 220 236 225 216 199 206 186 181 177 172\n",
      "  181 205 206 115   0 122 219 193 179 171 183 196 204 210 213 207 211 210\n",
      "  200 196 194 191 195 191 198 192 176 156 167 177 210  92   0   0  74 189\n",
      "  212 191 175 172 175 181 185 188 189 188 193 198 204 209 210 210 211 188\n",
      "  188 194 192 216 170   0   2   0   0   0  66 200 222 237 239 242 246 243\n",
      "  244 221 220 193 191 179 182 182 181 176 166 168  99  58   0   0   0   0\n",
      "    0   0   0   0   0  40  61  44  72  41  35   0   0   0   0   0   0   0\n",
      "    0   0   0   0   0   0   0   0   0   0   0   0   0   0   0   0   0   0\n",
      "    0   0   0   0   0   0   0   0   0   0   0   0   0   0   0   0   0   0\n",
      "    0   0   0   0   0   0   0   0   0   0   0   0   0   0   0   0   0   0\n",
      "    0   0   0   0   0   0   0   0   0   0]]\n",
      "\n",
      "target  => <class 'numpy.ndarray'>,(70000,)\n",
      "target raw data  => ['9']\n"
     ]
    }
   ],
   "source": [
    "### ===> 피쳐와 타겟 분리\n",
    "# sklearn dataset 에서 이미 처리 해둠\n",
    "feature=fashion_data['data']\n",
    "target=fashion_data['target']\n",
    "\n",
    "print(f'feature => {type(feature)}, {feature.shape}')\n",
    "print(f'feature raw data =>\\n{feature[:1]}\\n')\n",
    "\n",
    "print(f'target  => {type(target)},{target.shape}')\n",
    "print(f'target raw data  => {target[:1]}')"
   ]
  },
  {
   "cell_type": "code",
   "execution_count": 5,
   "metadata": {
    "ExecuteTime": {
     "end_time": "2024-03-19T18:10:46.711606Z",
     "start_time": "2024-03-19T18:10:46.526445800Z"
    }
   },
   "outputs": [
    {
     "name": "stdout",
     "output_type": "stream",
     "text": [
      "norm_feature =>\n",
      "[[0. 0. 0. ... 0. 0. 0.]\n",
      " [0. 0. 0. ... 0. 0. 0.]]\n",
      "norm_feature min => 0.0   max => 1.0\n"
     ]
    }
   ],
   "source": [
    "### ===> 정규화 : 피쳐\n",
    "# 이미지 데이터 값 0 ~ 255b\n",
    "norm_feature =feature/255.\n",
    "\n",
    "print(f'norm_feature =>\\n{norm_feature[:2]}')\n",
    "print(f'norm_feature min => {norm_feature.min()}   max => { norm_feature.max()}')"
   ]
  },
  {
   "cell_type": "code",
   "execution_count": 6,
   "metadata": {
    "ExecuteTime": {
     "end_time": "2024-03-19T18:10:46.732907900Z",
     "start_time": "2024-03-19T18:10:46.719579700Z"
    }
   },
   "outputs": [
    {
     "name": "stdout",
     "output_type": "stream",
     "text": [
      "norm_target : int32 10개\n"
     ]
    }
   ],
   "source": [
    "### ===> 정규화 : 타겟\n",
    "# # 타겟 분류 클래스 : '0' ~ '9'  ==> 0 ~ 9 정수 변환\n",
    "norm_target=target.astype(int)\n",
    "print(f'norm_target : {norm_target.dtype} {np.unique(norm_target).size}개')\n"
   ]
  },
  {
   "cell_type": "code",
   "execution_count": 7,
   "metadata": {
    "ExecuteTime": {
     "end_time": "2024-03-19T18:10:46.747876900Z",
     "start_time": "2024-03-19T18:10:46.728631700Z"
    }
   },
   "outputs": [
    {
     "name": "stdout",
     "output_type": "stream",
     "text": [
      "norm_target => (70000,), 1D\n",
      "[9 0 0 3 0]\n"
     ]
    }
   ],
   "source": [
    "print(f'norm_target => {norm_target.shape}, {norm_target.ndim}D\\n{norm_target[:5]}')"
   ]
  },
  {
   "cell_type": "markdown",
   "metadata": {},
   "source": [
    "[3] 학습 데이터 셋 준비 - 훈련용, 검증용, 테스트용 데이터 셋 <hr>"
   ]
  },
  {
   "cell_type": "markdown",
   "metadata": {},
   "source": [
    "- [3-1] 사용자 정의 데이터 셋 및 전체 데이터셋 준비"
   ]
  },
  {
   "cell_type": "code",
   "execution_count": 8,
   "metadata": {
    "ExecuteTime": {
     "end_time": "2024-03-19T18:10:46.795505400Z",
     "start_time": "2024-03-19T18:10:46.743518600Z"
    }
   },
   "outputs": [],
   "source": [
    "### 사용자정의 DataSet 클래스 \n",
    "# - 데이터의 Tensor 변환 \n",
    "class DLDataset(Dataset):\n",
    "    \n",
    "    # 초기화 함수 콜백함수(callback funcaion)\n",
    "    def __init__(self, x_data, y_data):\n",
    "        super().__init__()\n",
    "        # ndarray ==> tensor\n",
    "        self.feature=torch.FloatTensor(x_data)\n",
    "        self.target=torch.LongTensor(y_data)\n",
    "        \n",
    "        \n",
    "    # 데이터셋의 갯수 체크 함수 콜백함수(callback funcaion)\n",
    "    def __len__(self):\n",
    "        return self.target.shape[0]\n",
    "    \n",
    "    \n",
    "    # 특정 인덱스 데이터+라벨 반환 콜백함수(callback funcaion)\n",
    "    def __getitem__(self, index):\n",
    "        return self.feature[index], self.target[index]"
   ]
  },
  {
   "cell_type": "code",
   "execution_count": 9,
   "metadata": {
    "ExecuteTime": {
     "end_time": "2024-03-19T18:10:46.974906600Z",
     "start_time": "2024-03-19T18:10:46.758838Z"
    }
   },
   "outputs": [
    {
     "name": "stdout",
     "output_type": "stream",
     "text": [
      "[all dataset] feature : torch.Size([70000, 784]),   target : torch.Size([70000])\n"
     ]
    }
   ],
   "source": [
    "### 전체 데이터셋 생성\n",
    "##  DataSet 생성\n",
    "all_dataset = DLDataset(norm_feature, norm_target)\n",
    "\n",
    "print(f'[all dataset] feature : {all_dataset.feature.shape},   target : {all_dataset.target.shape}')"
   ]
  },
  {
   "cell_type": "markdown",
   "metadata": {},
   "source": [
    "- [3-2] 학습용, 검증용, 테스트용 데이터셋 분리 "
   ]
  },
  {
   "cell_type": "code",
   "execution_count": 10,
   "metadata": {
    "ExecuteTime": {
     "end_time": "2024-03-19T18:10:47.006259Z",
     "start_time": "2024-03-19T18:10:46.978909Z"
    }
   },
   "outputs": [
    {
     "name": "stdout",
     "output_type": "stream",
     "text": [
      "Train dataset length    : 49000개\n",
      "Validation dataset      : 7000개\n",
      "Test dataset            : 14000개\n"
     ]
    }
   ],
   "source": [
    "# 랜덤 고정 설정\n",
    "seed_gen=torch.Generator().manual_seed(42)\n",
    "\n",
    "TR_SIZE, VA_SIZE, TE_SIZE = 0.7, 0.1, 0.2\n",
    "\n",
    "trainDS, validDS, testDS = random_split(all_dataset, \n",
    "                                  [TR_SIZE, VA_SIZE, TE_SIZE], \n",
    "                                  generator=seed_gen)\n",
    "\n",
    "print(f\"Train dataset length    : {len(trainDS)}개\")\n",
    "print(f\"Validation dataset      : {len(validDS)}개\")\n",
    "print(f\"Test dataset            : {len(testDS)}개\")"
   ]
  },
  {
   "cell_type": "markdown",
   "metadata": {},
   "source": [
    "[4] 데이터 로더 생성 <hr>"
   ]
  },
  {
   "cell_type": "code",
   "execution_count": 11,
   "metadata": {
    "ExecuteTime": {
     "end_time": "2024-03-19T18:10:47.007258Z",
     "start_time": "2024-03-19T18:10:46.992296800Z"
    }
   },
   "outputs": [],
   "source": [
    "BATCH_SIZE = 50\n",
    "\n",
    "TRAIN_DL = DataLoader(trainDS, batch_size=BATCH_SIZE)\n",
    "VALID_DL = DataLoader(validDS, batch_size=BATCH_SIZE)\n",
    "TEST_DL = DataLoader(testDS,   batch_size=BATCH_SIZE)"
   ]
  },
  {
   "cell_type": "markdown",
   "metadata": {},
   "source": [
    "[5] 모델 준비 : 입력층 입력 수, 출력층 출력 수 <hr>"
   ]
  },
  {
   "cell_type": "code",
   "execution_count": 12,
   "metadata": {
    "ExecuteTime": {
     "end_time": "2024-03-19T18:10:47.043761100Z",
     "start_time": "2024-03-19T18:10:47.010465200Z"
    }
   },
   "outputs": [],
   "source": [
    "### ===> 다중 분류 모델\n",
    "### ===> 입력층 피쳐 수  : 28 * 28\n",
    "### ===> 출력층 피쳐 수  : 10 (0 ~ 9)\n",
    "class MNISTModel(nn.Module):\n",
    "    \n",
    "    # 모델 구성 요소 초기화 \n",
    "    def __init__(self, in_dim, out_dim):\n",
    "        super().__init__()\n",
    "        self.layer1=nn.Linear(in_dim, 200)\n",
    "        self.layer2=nn.Linear(200, 100)\n",
    "        self.layer3=nn.Linear(100, 50)\n",
    "        self.layer4=nn.Linear(50, out_dim)\n",
    "        self.relu=nn.ReLU()\n",
    "        \n",
    "    def forward(self, x):\n",
    "        y=self.layer1(x)\n",
    "        y=self.relu(y)\n",
    "        y=self.layer2(y)\n",
    "        y=self.relu(y)\n",
    "        y=self.layer3(y)\n",
    "        y=self.relu(y)\n",
    "        y=self.layer4(y)\n",
    "        return y\n",
    "        "
   ]
  },
  {
   "cell_type": "code",
   "outputs": [],
   "source": [
    "### ===> 다중 분류 모델\n",
    "### ===> 입력층 피쳐 수  : 28 * 28\n",
    "### ===> 은닉층 갯수, 피쳐 수 : 동적\n",
    "### ===> 출력층 피쳐 수  : 10 (0 ~ 9)\n",
    "class MNISTModel2(nn.Module):\n",
    "    \n",
    "    # 모델 구성 요소 초기화 \n",
    "    def __init__(self, in_dim, out_dim, hidden_layers=2, param=200):\n",
    "        super().__init__()\n",
    "        self.inputLayer = nn.Linear(in_dim, param)   \n",
    "        # 일반 파이썬 리스트 자료형은 모델 파라미터로 인식하지 못함\n",
    "        # self.layerList = []\n",
    "        # for h in range(hidden_layers):\n",
    "        #     self.layerList.append((f'linear{param}', (nn.Linear(param, param//2))))\n",
    "        #     print(param, param//2)\n",
    "        #     if param//2 > 1:\n",
    "        #         param = param//2\n",
    "        #     else:\n",
    "        #         param = 1\n",
    "        #         break\n",
    "        self.hiddenLayer = nn.Sequential()\n",
    "        for h in range(hidden_layers):\n",
    "            self.hiddenLayer.append(nn.Linear(param, param//2))\n",
    "            print(param, param//2)\n",
    "            if param//2 > 1:\n",
    "                param = param//2\n",
    "            else:\n",
    "                param = 1\n",
    "                break\n",
    "        self.outputLayer = nn.Linear(param, out_dim)\n",
    "        self.relu = nn.ReLU()\n",
    "        \n",
    "    def forward(self, x):\n",
    "        y = self.inputLayer(x)\n",
    "        y = self.relu(y)\n",
    "        y = self.hiddenLayer(y)\n",
    "        y = self.relu(y)\n",
    "        y = self.outputLayer(y)\n",
    "        return y"
   ],
   "metadata": {
    "collapsed": false,
    "ExecuteTime": {
     "end_time": "2024-03-19T18:10:47.045831500Z",
     "start_time": "2024-03-19T18:10:47.025149400Z"
    }
   },
   "execution_count": 13
  },
  {
   "cell_type": "markdown",
   "metadata": {},
   "source": [
    "[6] 학습 관련 함수 정의 <hr>"
   ]
  },
  {
   "cell_type": "code",
   "outputs": [],
   "source": [
    "## 학습 중 모델 저장 관련 변수\n",
    "dir = '../data/model/'\n",
    "filename = dir+'best_model.pth'\n",
    "\n",
    "import os\n",
    "if not os.path.exists(dir):\n",
    "    # os.mkdir(dir)    # 하위 폴더만 생성 즉, data 폴더는 이미 존재해야 함\n",
    "    os.makedirs(dir) # 존재하지 않는 상위 폴더부터 생성"
   ],
   "metadata": {
    "collapsed": false,
    "ExecuteTime": {
     "end_time": "2024-03-19T18:10:47.072030400Z",
     "start_time": "2024-03-19T18:10:47.038661700Z"
    }
   },
   "execution_count": 14
  },
  {
   "cell_type": "code",
   "outputs": [],
   "source": [
    "### ===> 학습 진행함수 \n",
    "def training(epoch, model, optimizer, dataLoader, device, loss_fn, classes):\n",
    "    # 학습모드 => 정규화, 경사하강법, 드랍아웃 등의 기능 활성화 \n",
    "    model.train()\n",
    "    \n",
    "    # 배치크기 만큼 학습 진행 및 저장\n",
    "    train_report=[[], [], []]\n",
    "    for idx, (feature, target)  in enumerate(dataLoader):\n",
    "        # 배치크기만큼의 학습 데이터 준비\n",
    "        feature, target = feature.to(device), target.to(device)\n",
    "        \n",
    "        # 학습\n",
    "        pre_traget = model(feature)\n",
    "        \n",
    "        # 손실계산\n",
    "        loss = loss_fn(pre_traget, target)\n",
    "        train_report[0].append(loss)\n",
    "        \n",
    "        # 성능 평가\n",
    "        acc = metrics.accuracy(pre_traget, target, task='multiclass', num_classes=classes)\n",
    "        train_report[1].append(acc)\n",
    "        \n",
    "        f1 = metrics.f1_score(pre_traget, target, task='multiclass', num_classes=classes)\n",
    "        train_report[2].append(f1)\n",
    "        \n",
    "        # W,b업데이트\n",
    "        optimizer.zero_grad()\n",
    "        loss.backward()\n",
    "        optimizer.step()\n",
    "        \n",
    "        if not idx%50: print('.', end='')\n",
    "        \n",
    "    \n",
    "    \n",
    "    # 에포크 단위 학습 진행 메시지 출력\n",
    "    loss_score = (sum(train_report[0])/BATCH_SIZE).item()\n",
    "    acc_score = (sum(train_report[1])/BATCH_SIZE).item()\n",
    "    f1_score = (sum(train_report[2])/BATCH_SIZE).item() \n",
    "    print(f'\\n[{epoch} Train ] Loss ==> {loss_score:.3f} Acc ==> {acc_score:.3f} F1 ==> {f1_score:.3f}')\n",
    "    \n",
    "    return loss_score, acc_score, f1_score"
   ],
   "metadata": {
    "ExecuteTime": {
     "end_time": "2024-03-19T18:10:47.073027300Z",
     "start_time": "2024-03-19T18:10:47.057527900Z"
    }
   },
   "execution_count": 15
  },
  {
   "cell_type": "code",
   "outputs": [],
   "source": [
    "### ===> 검증 및 테스트 진행함수 \n",
    "def testing(epoch, model, dataLoader, device, loss_fn, classes, kind='valid'):\n",
    "    # 학습모드 => 정규화, 경사하강법, 드랍아웃 등의 기능 활성화 \n",
    "    model.eval()\n",
    "        \n",
    "    with torch.no_grad():\n",
    "        # 배치크기 만큼 학습 진행 및 저장\n",
    "        test_report=[[], [], []]\n",
    "        for idx, (feature, target)  in enumerate(dataLoader):\n",
    "            # 배치크기만큼의 학습 데이터 준비\n",
    "            feature, target = feature.to(device), target.to(device)\n",
    "\n",
    "            # 학습\n",
    "            pre_traget = model(feature)\n",
    "\n",
    "            # 손실계산\n",
    "            loss = loss_fn(pre_traget, target)\n",
    "            test_report[0].append(loss)\n",
    "            \n",
    "            # 성능 평가 \n",
    "            acc = metrics.accuracy(pre_traget, target, task='multiclass', num_classes=classes)\n",
    "            test_report[1].append(acc)\n",
    "            \n",
    "            f1 = metrics.f1_score(pre_traget, target, task='multiclass', num_classes=classes)\n",
    "            test_report[2].append(f1)\n",
    "            \n",
    "            if not idx%50: print('.', end='')\n",
    "\n",
    "    \n",
    "    testing_type = 'Valid' if kind == 'valid' else 'Test'\n",
    "        \n",
    "    # 에포크 단위 학습 진행 메시지 출력\n",
    "    loss_score = (sum(test_report[0])/BATCH_SIZE).item()\n",
    "    acc_score = (sum(test_report[1])/BATCH_SIZE).item()\n",
    "    f1_score = (sum(test_report[2])/BATCH_SIZE).item() \n",
    "    print(f'[{epoch} {testing_type} ] Loss ==> {loss_score:.3f} Acc ==> {acc_score:.3f} F1 ==> {f1_score:.3f}\\n')\n",
    "    \n",
    "    return loss_score, acc_score, f1_score"
   ],
   "metadata": {
    "ExecuteTime": {
     "end_time": "2024-03-19T18:10:47.099077500Z",
     "start_time": "2024-03-19T18:10:47.073027300Z"
    }
   },
   "execution_count": 16
  },
  {
   "cell_type": "markdown",
   "source": [
    "[7] 학습 : 학습 진행 준비, 학습 진행 <hr>"
   ],
   "metadata": {}
  },
  {
   "cell_type": "markdown",
   "source": [
    "- [7-1] 학습 진행 준비 :  모델, 최적화, 학습횟수 "
   ],
   "metadata": {}
  },
  {
   "cell_type": "code",
   "outputs": [
    {
     "name": "stdout",
     "output_type": "stream",
     "text": [
      "100 50\n",
      "50 25\n",
      "25 12\n",
      "MNISTModel2(\n",
      "  (inputLayer): Linear(in_features=784, out_features=100, bias=True)\n",
      "  (hiddenLayer): Sequential(\n",
      "    (0): Linear(in_features=100, out_features=50, bias=True)\n",
      "    (1): Linear(in_features=50, out_features=25, bias=True)\n",
      "    (2): Linear(in_features=25, out_features=12, bias=True)\n",
      "  )\n",
      "  (outputLayer): Linear(in_features=12, out_features=10, bias=True)\n",
      "  (relu): ReLU()\n",
      ")\n",
      "torch.Size([100, 784])\n",
      "torch.Size([100])\n",
      "torch.Size([50, 100])\n",
      "torch.Size([50])\n",
      "torch.Size([25, 50])\n",
      "torch.Size([25])\n",
      "torch.Size([12, 25])\n",
      "torch.Size([12])\n",
      "torch.Size([10, 12])\n",
      "torch.Size([10])\n"
     ]
    }
   ],
   "source": [
    "# 실행 디바이스 \n",
    "DEVICE = 'cuda' if torch.cuda.is_available() else 'cpu'\n",
    "\n",
    "# 입출력 피쳐\n",
    "IN_DIM , OUT_DIM = norm_feature.shape[1], np.unique(norm_target).size\n",
    "\n",
    "# 모델 인스턴스 \n",
    "# MODEL = MNISTModel(IN_DIM, OUT_DIM).to(DEVICE)\n",
    "MODEL = MNISTModel2(IN_DIM, OUT_DIM, hidden_layers=3, param=100).to(DEVICE)\n",
    "print(MODEL)\n",
    "for p in MODEL.parameters():\n",
    "    print(p.shape)\n",
    "\n",
    "# 최적화 인스턴스 생성\n",
    "OPTIMIZER = optim.SGD(MODEL.parameters())\n",
    "\n",
    "#  손실 함수\n",
    "LOSS_FN = nn.CrossEntropyLoss().to(DEVICE)\n",
    "\n",
    "# 학습 횟수 설정\n",
    "EPOCHS=10"
   ],
   "metadata": {
    "ExecuteTime": {
     "end_time": "2024-03-19T18:10:48.062160100Z",
     "start_time": "2024-03-19T18:10:47.087579800Z"
    }
   },
   "execution_count": 17
  },
  {
   "cell_type": "markdown",
   "source": [
    "- [7-2] 학습 진행"
   ],
   "metadata": {}
  },
  {
   "cell_type": "code",
   "execution_count": 23,
   "metadata": {
    "ExecuteTime": {
     "end_time": "2024-03-19T18:12:53.815434800Z",
     "start_time": "2024-03-19T18:12:27.889205500Z"
    }
   },
   "outputs": [
    {
     "name": "stdout",
     "output_type": "stream",
     "text": [
      "[Epoch 1/10] ....................\n",
      "[0 Train ] Loss ==> 19.378 Acc ==> 12.345 F1 ==> 12.345\n",
      "...[0 Valid ] Loss ==> 2.682 Acc ==> 1.822 F1 ==> 1.822\n",
      "\n",
      "Model saved\n",
      "[Epoch 2/10] ....................\n",
      "[1 Train ] Loss ==> 18.034 Acc ==> 12.915 F1 ==> 12.915\n",
      "...[1 Valid ] Loss ==> 2.532 Acc ==> 1.888 F1 ==> 1.888\n",
      "\n",
      "Model saved\n",
      "[Epoch 3/10] ....................\n",
      "[2 Train ] Loss ==> 17.156 Acc ==> 13.307 F1 ==> 13.307\n",
      "...[2 Valid ] Loss ==> 2.428 Acc ==> 1.939 F1 ==> 1.939\n",
      "\n",
      "Model saved\n",
      "[Epoch 4/10] ....................\n",
      "[3 Train ] Loss ==> 16.519 Acc ==> 13.589 F1 ==> 13.589\n",
      "...[3 Valid ] Loss ==> 2.347 Acc ==> 1.975 F1 ==> 1.975\n",
      "\n",
      "Model saved\n",
      "[Epoch 5/10] ....................\n",
      "[4 Train ] Loss ==> 16.000 Acc ==> 13.840 F1 ==> 13.840\n",
      "...[4 Valid ] Loss ==> 2.276 Acc ==> 2.008 F1 ==> 2.008\n",
      "\n",
      "Model saved\n",
      "[Epoch 6/10] ....................\n",
      "[5 Train ] Loss ==> 15.533 Acc ==> 14.050 F1 ==> 14.050\n",
      "...[5 Valid ] Loss ==> 2.210 Acc ==> 2.031 F1 ==> 2.031\n",
      "\n",
      "Model saved\n",
      "[Epoch 7/10] ....................\n",
      "[6 Train ] Loss ==> 15.084 Acc ==> 14.253 F1 ==> 14.253\n",
      "...[6 Valid ] Loss ==> 2.144 Acc ==> 2.056 F1 ==> 2.056\n",
      "\n",
      "Model saved\n",
      "[Epoch 8/10] ....................\n",
      "[7 Train ] Loss ==> 14.639 Acc ==> 14.449 F1 ==> 14.449\n",
      "...[7 Valid ] Loss ==> 2.079 Acc ==> 2.076 F1 ==> 2.076\n",
      "\n",
      "Model saved\n",
      "[Epoch 9/10] ....................\n",
      "[8 Train ] Loss ==> 14.198 Acc ==> 14.597 F1 ==> 14.597\n",
      "...[8 Valid ] Loss ==> 2.015 Acc ==> 2.100 F1 ==> 2.100\n",
      "\n",
      "Model saved\n",
      "[Epoch 10/10] ....................\n",
      "[9 Train ] Loss ==> 13.775 Acc ==> 14.727 F1 ==> 14.727\n",
      "...[9 Valid ] Loss ==> 1.955 Acc ==> 2.118 F1 ==> 2.118\n",
      "\n",
      "Model saved\n",
      "Done!\n"
     ]
    }
   ],
   "source": [
    "# 학습 및 검증 데이터\n",
    "train_ = {'loss':[], 'acc':[], 'f1':[]}\n",
    "val_ = {'loss':[], 'acc':[], 'f1':[]}\n",
    "\n",
    "# 모델 저장 관련 변수\n",
    "pre_va_score = 100\n",
    "\n",
    "# 학습 진행\n",
    "for epo in range(EPOCHS):\n",
    "    print(f\"[Epoch {epo+1}/{EPOCHS}] \", end='')\n",
    "    tr_score=training(epo, MODEL,OPTIMIZER, TRAIN_DL, DEVICE, LOSS_FN, OUT_DIM)\n",
    "    va_score=testing(epo, MODEL, VALID_DL, DEVICE, LOSS_FN, OUT_DIM)\n",
    "    \n",
    "    # 검증 데이터 기준 학습된 모델 저장 => Loss가 이전보다 작아진 경우 저장 / Acc또는 F1이면 이전보다 큰 경우 저장\n",
    "    if pre_va_score > va_score[0]:\n",
    "        print('Model saved')\n",
    "        pre_va_score = va_score[0]\n",
    "        torch.save(MODEL, filename)\n",
    "        \n",
    "    \n",
    "    for idx, key in enumerate(train_):\n",
    "        train_[key].append(tr_score[idx])\n",
    "        val_[key].append(va_score[idx])\n",
    "\n",
    "print(\"Done!\")"
   ]
  },
  {
   "cell_type": "markdown",
   "metadata": {},
   "source": [
    "- [7-3] 학습 후 평가 : Loss, Acc, F1 <hr>"
   ]
  },
  {
   "cell_type": "code",
   "execution_count": 19,
   "metadata": {
    "ExecuteTime": {
     "end_time": "2024-03-19T18:11:15.020231100Z",
     "start_time": "2024-03-19T18:11:14.992880100Z"
    }
   },
   "outputs": [
    {
     "name": "stdout",
     "output_type": "stream",
     "text": [
      "loss  [45.293209075927734, 44.96662521362305, 44.574134826660156, 43.942359924316406, 42.73857498168945, 40.246456146240234, 36.16329574584961, 30.834606170654297, 25.244176864624023, 21.527734756469727]\n",
      "acc  [2.9720041751861572, 3.34799861907959, 3.844395637512207, 4.495194435119629, 3.956397294998169, 5.504802703857422, 6.905996799468994, 9.174001693725586, 10.880400657653809, 11.721195220947266]\n",
      "f1  [2.9720041751861572, 3.34799861907959, 3.844395637512207, 4.495194435119629, 3.956397294998169, 5.504802703857422, 6.905996799468994, 9.174001693725586, 10.880400657653809, 11.721195220947266]\n"
     ]
    }
   ],
   "source": [
    "for idx, key in enumerate(train_):\n",
    "    print(f'{key} ', train_[key])"
   ]
  },
  {
   "cell_type": "code",
   "outputs": [
    {
     "name": "stdout",
     "output_type": "stream",
     "text": [
      "loss  [6.441493511199951, 6.393594741821289, 6.325997352600098, 6.203583240509033, 5.964468955993652, 5.4866437911987305, 4.809437274932861, 3.981579303741455, 3.298085927963257, 2.9131276607513428]\n",
      "acc  [0.4356001317501068, 0.5340001583099365, 0.6076002717018127, 0.6636000871658325, 0.5615999102592468, 0.9115998148918152, 1.2176001071929932, 1.4564001560211182, 1.6492003202438354, 1.7300009727478027]\n",
      "f1  [0.4356001317501068, 0.5340001583099365, 0.6076002717018127, 0.6636000871658325, 0.5615999102592468, 0.9115998148918152, 1.2176001071929932, 1.4564001560211182, 1.6492003202438354, 1.7300009727478027]\n"
     ]
    }
   ],
   "source": [
    "for idx, key in enumerate(val_):\n",
    "    print(f'{key} ', val_[key])"
   ],
   "metadata": {
    "collapsed": false,
    "ExecuteTime": {
     "end_time": "2024-03-19T18:11:15.023887900Z",
     "start_time": "2024-03-19T18:11:15.007059300Z"
    }
   },
   "execution_count": 20
  },
  {
   "cell_type": "code",
   "outputs": [
    {
     "data": {
      "text/plain": "<Figure size 640x480 with 2 Axes>",
      "image/png": "[encoded data removed]"
     },
     "metadata": {},
     "output_type": "display_data"
    },
    {
     "data": {
      "text/plain": "<Figure size 640x480 with 2 Axes>",
      "image/png": "[encoded data removed]"
     },
     "metadata": {},
     "output_type": "display_data"
    },
    {
     "data": {
      "text/plain": "<Figure size 640x480 with 2 Axes>",
      "image/png": "[encoded data removed]"
     },
     "metadata": {},
     "output_type": "display_data"
    }
   ],
   "source": [
    "### Loss와 Acc F1 시각화\n",
    "import matplotlib.pyplot as plt\n",
    "\n",
    "for k in train_.keys():\n",
    "    fig, ax = plt.subplots()\n",
    "    ax2 = ax.twinx()\n",
    "    \n",
    "    plot1 = ax.plot(train_[k], label='train', color='b', alpha=0.5)\n",
    "    plot2 = ax2.plot(val_[k], label='val', color='r', alpha=0.5)\n",
    "    \n",
    "    plt.grid(alpha=.35)\n",
    "    ax.legend(plot1+plot2, ['train',' val'])\n",
    "    plt.xlabel(k)\n",
    "    plt.ylabel('score')\n",
    "    plt.show()"
   ],
   "metadata": {
    "collapsed": false,
    "ExecuteTime": {
     "end_time": "2024-03-19T18:11:15.658892200Z",
     "start_time": "2024-03-19T18:11:15.024922100Z"
    }
   },
   "execution_count": 21
  },
  {
   "cell_type": "markdown",
   "metadata": {},
   "source": [
    "[6] 테스트 <hr>"
   ]
  },
  {
   "cell_type": "code",
   "execution_count": 22,
   "metadata": {
    "ExecuteTime": {
     "end_time": "2024-03-19T18:12:22.930070900Z",
     "start_time": "2024-03-19T18:12:22.892660Z"
    }
   },
   "outputs": [
    {
     "data": {
      "text/plain": "'cpu'"
     },
     "execution_count": 22,
     "metadata": {},
     "output_type": "execute_result"
    }
   ],
   "source": [
    "DEVICE"
   ]
  },
  {
   "cell_type": "code",
   "outputs": [],
   "source": [],
   "metadata": {
    "collapsed": false
   }
  }
 ],
 "metadata": {
  "kernelspec": {
   "display_name": "TORCH_PY38",
   "language": "python",
   "name": "python3"
  },
  "language_info": {
   "codemirror_mode": {
    "name": "ipython",
    "version": 3
   },
   "file_extension": ".py",
   "mimetype": "text/x-python",
   "name": "python",
   "nbconvert_exporter": "python",
   "pygments_lexer": "ipython3",
   "version": "3.8.18"
  }
 },
 "nbformat": 4,
 "nbformat_minor": 2
}
