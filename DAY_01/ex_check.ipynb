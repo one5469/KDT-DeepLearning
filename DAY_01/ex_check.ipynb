{
 "cells": [
  {
   "cell_type": "code",
   "outputs": [],
   "source": [
    "# 모듈 로딩 및 버전 체크\n",
    "import pandas as pd\n",
    "import seaborn as sns\n",
    "import matplotlib as mt\n",
    "import sklearn as sk\n",
    "import torch"
   ],
   "metadata": {
    "collapsed": false,
    "ExecuteTime": {
     "end_time": "2024-03-11T00:44:57.974935700Z",
     "start_time": "2024-03-11T00:44:57.952002800Z"
    }
   },
   "id": "c0a55a424979573b",
   "execution_count": 2
  },
  {
   "cell_type": "code",
   "outputs": [
    {
     "name": "stdout",
     "output_type": "stream",
     "text": [
      "Pandas v2.0.3\n",
      "Seaborn v0.12.2\n",
      "Matplotlib v3.7.2\n",
      "Scikit-learn v1.3.0\n",
      "PyTorch v2.2.0\n"
     ]
    }
   ],
   "source": [
    "# 버전 정보 출력\n",
    "print(f'Pandas v{pd.__version__}')\n",
    "print(f'Seaborn v{sns.__version__}')\n",
    "print(f'Matplotlib v{mt.__version__}')\n",
    "print(f'Scikit-learn v{sk.__version__}')\n",
    "print(f'PyTorch v{torch.__version__}')"
   ],
   "metadata": {
    "collapsed": false,
    "ExecuteTime": {
     "end_time": "2024-03-11T00:45:50.510814300Z",
     "start_time": "2024-03-11T00:45:50.477921500Z"
    }
   },
   "id": "28a4a06fd72f0bed",
   "execution_count": 3
  },
  {
   "cell_type": "code",
   "outputs": [
    {
     "name": "stdout",
     "output_type": "stream",
     "text": [
      "GPU => False\n"
     ]
    }
   ],
   "source": [
    "# 해당 PC에 GPU 여부\n",
    "print(f'GPU => {torch.cuda.is_available()}')"
   ],
   "metadata": {
    "collapsed": false,
    "ExecuteTime": {
     "end_time": "2024-03-11T00:49:45.648286200Z",
     "start_time": "2024-03-11T00:49:45.639968Z"
    }
   },
   "id": "87f41de03015c9e7",
   "execution_count": 4
  },
  {
   "cell_type": "code",
   "outputs": [],
   "source": [
    "# 저장 및 실행 Device 설정\n",
    "DEVICE = 'gpu' if torch.cuda.is_available() else 'cpu'"
   ],
   "metadata": {
    "collapsed": false
   },
   "id": "7a8a95543bb57eb3"
  }
 ],
 "metadata": {
  "kernelspec": {
   "display_name": "Python 3",
   "language": "python",
   "name": "python3"
  },
  "language_info": {
   "codemirror_mode": {
    "name": "ipython",
    "version": 2
   },
   "file_extension": ".py",
   "mimetype": "text/x-python",
   "name": "python",
   "nbconvert_exporter": "python",
   "pygments_lexer": "ipython2",
   "version": "2.7.6"
  }
 },
 "nbformat": 4,
 "nbformat_minor": 5
}
