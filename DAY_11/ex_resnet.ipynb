{
 "cells": [
  {
   "cell_type": "markdown",
   "source": [
    "### 전이학습"
   ],
   "metadata": {
    "collapsed": false
   },
   "id": "3e10db2961fdc075"
  },
  {
   "cell_type": "code",
   "outputs": [
    {
     "name": "stderr",
     "output_type": "stream",
     "text": [
      "C:\\Users\\kdp\\anaconda3\\envs\\Torch_PY38\\lib\\site-packages\\torchvision\\io\\image.py:13: UserWarning: Failed to load image Python extension: '[WinError 127] 지정된 프로시저를 찾을 수 없습니다'If you don't plan on using image functionality from `torchvision.io`, you can ignore this warning. Otherwise, there might be something wrong with your environment. Did you have `libjpeg` or `libpng` installed before building `torchvision` from source?\n",
      "  warn(\n"
     ]
    }
   ],
   "source": [
    "import torch\n",
    "import torch.nn as nn\n",
    "import torch.optim as optim\n",
    "from torch.utils.data import DataLoader\n",
    "\n",
    "# 이미지 데이터셋, 전처리, 전이학습 모듈\n",
    "from torchvision.datasets import ImageFolder\n",
    "import torchvision.transforms as transforms\n",
    "from torchvision.models import resnet18, ResNet18_Weights\n",
    "\n",
    "from torchinfo import summary\n",
    "from torchmetrics.functional.classification import multiclass_accuracy"
   ],
   "metadata": {
    "collapsed": false,
    "ExecuteTime": {
     "end_time": "2024-03-27T02:22:07.547219Z",
     "start_time": "2024-03-27T02:22:04.719833Z"
    }
   },
   "id": "9777fcc747844b39",
   "execution_count": 1
  },
  {
   "cell_type": "code",
   "outputs": [
    {
     "name": "stdout",
     "output_type": "stream",
     "text": [
      "['kakarote', 'vegeta']\n"
     ]
    }
   ],
   "source": [
    "### ===> 데이터 준비\n",
    "img_dir = '../data/img'\n",
    "\n",
    "### ===> Resnet 전처리\n",
    "# resize_size=[256] interpolation=InterpolationMode.BILINEAR\n",
    "# central crop of crop_size = [224]\n",
    "# first rescaled to [0.0, 1.0] and then\n",
    "# normalized using mean=[0.485, 0.456, 0.406] and std=[0.229, 0.224, 0.225].\n",
    "preprocessing = transforms.Compose(transforms=[\n",
    "    transforms.Resize(size=256, interpolation=transforms.InterpolationMode.BILINEAR),\n",
    "    transforms.CenterCrop(size=224),\n",
    "    transforms.ToTensor(),\n",
    "    transforms.Normalize(mean=(0.485, 0.456, 0.406), std=(0.229, 0.224, 0.225))\n",
    "])\n",
    "\n",
    "### ===> 이미지 데이터셋 생성\n",
    "imgDS = ImageFolder(root=img_dir, transform=preprocessing)\n",
    "\n",
    "print(imgDS.classes)"
   ],
   "metadata": {
    "collapsed": false,
    "ExecuteTime": {
     "end_time": "2024-03-27T02:22:07.565217600Z",
     "start_time": "2024-03-27T02:22:07.551218300Z"
    }
   },
   "id": "4c28fda891b12298",
   "execution_count": 2
  },
  {
   "cell_type": "code",
   "outputs": [],
   "source": [
    "### ===> 데이터 로더 생성\n",
    "imgDL = DataLoader(imgDS, batch_size=3, shuffle=True, drop_last=True)\n",
    "# for (img, label) in imgDL:\n",
    "#     print(img.shape, label)"
   ],
   "metadata": {
    "collapsed": false,
    "ExecuteTime": {
     "end_time": "2024-03-27T02:22:07.594231100Z",
     "start_time": "2024-03-27T02:22:07.565217600Z"
    }
   },
   "id": "b906d56a96dcf988",
   "execution_count": 3
  },
  {
   "cell_type": "code",
   "outputs": [],
   "source": [
    "### ==> 모델 설계 및 설정\n",
    "\n",
    "### 사전학습된 모델 인스턴스 생성\n",
    "res_model = resnet18(weights=ResNet18_Weights.DEFAULT)\n",
    "\n",
    "### 전결합층 변경\n",
    "### in_features : FeatureMap에서 받은 피쳐 수, out_features : 출력/분류 클래스 수\n",
    "res_model.fc = nn.Linear(in_features=512, out_features=3)"
   ],
   "metadata": {
    "collapsed": false,
    "ExecuteTime": {
     "end_time": "2024-03-27T02:22:07.787288200Z",
     "start_time": "2024-03-27T02:22:07.582218Z"
    }
   },
   "id": "443f5408c43916f5",
   "execution_count": 4
  },
  {
   "cell_type": "code",
   "outputs": [
    {
     "data": {
      "text/plain": "==========================================================================================\nLayer (type:depth-idx)                   Output Shape              Param #\n==========================================================================================\nResNet                                   [3, 3]                    --\n├─Conv2d: 1-1                            [3, 64, 112, 112]         9,408\n├─BatchNorm2d: 1-2                       [3, 64, 112, 112]         128\n├─ReLU: 1-3                              [3, 64, 112, 112]         --\n├─MaxPool2d: 1-4                         [3, 64, 56, 56]           --\n├─Sequential: 1-5                        [3, 64, 56, 56]           --\n│    └─BasicBlock: 2-1                   [3, 64, 56, 56]           --\n│    │    └─Conv2d: 3-1                  [3, 64, 56, 56]           36,864\n│    │    └─BatchNorm2d: 3-2             [3, 64, 56, 56]           128\n│    │    └─ReLU: 3-3                    [3, 64, 56, 56]           --\n│    │    └─Conv2d: 3-4                  [3, 64, 56, 56]           36,864\n│    │    └─BatchNorm2d: 3-5             [3, 64, 56, 56]           128\n│    │    └─ReLU: 3-6                    [3, 64, 56, 56]           --\n│    └─BasicBlock: 2-2                   [3, 64, 56, 56]           --\n│    │    └─Conv2d: 3-7                  [3, 64, 56, 56]           36,864\n│    │    └─BatchNorm2d: 3-8             [3, 64, 56, 56]           128\n│    │    └─ReLU: 3-9                    [3, 64, 56, 56]           --\n│    │    └─Conv2d: 3-10                 [3, 64, 56, 56]           36,864\n│    │    └─BatchNorm2d: 3-11            [3, 64, 56, 56]           128\n│    │    └─ReLU: 3-12                   [3, 64, 56, 56]           --\n├─Sequential: 1-6                        [3, 128, 28, 28]          --\n│    └─BasicBlock: 2-3                   [3, 128, 28, 28]          --\n│    │    └─Conv2d: 3-13                 [3, 128, 28, 28]          73,728\n│    │    └─BatchNorm2d: 3-14            [3, 128, 28, 28]          256\n│    │    └─ReLU: 3-15                   [3, 128, 28, 28]          --\n│    │    └─Conv2d: 3-16                 [3, 128, 28, 28]          147,456\n│    │    └─BatchNorm2d: 3-17            [3, 128, 28, 28]          256\n│    │    └─Sequential: 3-18             [3, 128, 28, 28]          8,448\n│    │    └─ReLU: 3-19                   [3, 128, 28, 28]          --\n│    └─BasicBlock: 2-4                   [3, 128, 28, 28]          --\n│    │    └─Conv2d: 3-20                 [3, 128, 28, 28]          147,456\n│    │    └─BatchNorm2d: 3-21            [3, 128, 28, 28]          256\n│    │    └─ReLU: 3-22                   [3, 128, 28, 28]          --\n│    │    └─Conv2d: 3-23                 [3, 128, 28, 28]          147,456\n│    │    └─BatchNorm2d: 3-24            [3, 128, 28, 28]          256\n│    │    └─ReLU: 3-25                   [3, 128, 28, 28]          --\n├─Sequential: 1-7                        [3, 256, 14, 14]          --\n│    └─BasicBlock: 2-5                   [3, 256, 14, 14]          --\n│    │    └─Conv2d: 3-26                 [3, 256, 14, 14]          294,912\n│    │    └─BatchNorm2d: 3-27            [3, 256, 14, 14]          512\n│    │    └─ReLU: 3-28                   [3, 256, 14, 14]          --\n│    │    └─Conv2d: 3-29                 [3, 256, 14, 14]          589,824\n│    │    └─BatchNorm2d: 3-30            [3, 256, 14, 14]          512\n│    │    └─Sequential: 3-31             [3, 256, 14, 14]          33,280\n│    │    └─ReLU: 3-32                   [3, 256, 14, 14]          --\n│    └─BasicBlock: 2-6                   [3, 256, 14, 14]          --\n│    │    └─Conv2d: 3-33                 [3, 256, 14, 14]          589,824\n│    │    └─BatchNorm2d: 3-34            [3, 256, 14, 14]          512\n│    │    └─ReLU: 3-35                   [3, 256, 14, 14]          --\n│    │    └─Conv2d: 3-36                 [3, 256, 14, 14]          589,824\n│    │    └─BatchNorm2d: 3-37            [3, 256, 14, 14]          512\n│    │    └─ReLU: 3-38                   [3, 256, 14, 14]          --\n├─Sequential: 1-8                        [3, 512, 7, 7]            --\n│    └─BasicBlock: 2-7                   [3, 512, 7, 7]            --\n│    │    └─Conv2d: 3-39                 [3, 512, 7, 7]            1,179,648\n│    │    └─BatchNorm2d: 3-40            [3, 512, 7, 7]            1,024\n│    │    └─ReLU: 3-41                   [3, 512, 7, 7]            --\n│    │    └─Conv2d: 3-42                 [3, 512, 7, 7]            2,359,296\n│    │    └─BatchNorm2d: 3-43            [3, 512, 7, 7]            1,024\n│    │    └─Sequential: 3-44             [3, 512, 7, 7]            132,096\n│    │    └─ReLU: 3-45                   [3, 512, 7, 7]            --\n│    └─BasicBlock: 2-8                   [3, 512, 7, 7]            --\n│    │    └─Conv2d: 3-46                 [3, 512, 7, 7]            2,359,296\n│    │    └─BatchNorm2d: 3-47            [3, 512, 7, 7]            1,024\n│    │    └─ReLU: 3-48                   [3, 512, 7, 7]            --\n│    │    └─Conv2d: 3-49                 [3, 512, 7, 7]            2,359,296\n│    │    └─BatchNorm2d: 3-50            [3, 512, 7, 7]            1,024\n│    │    └─ReLU: 3-51                   [3, 512, 7, 7]            --\n├─AdaptiveAvgPool2d: 1-9                 [3, 512, 1, 1]            --\n├─Linear: 1-10                           [3, 3]                    1,539\n==========================================================================================\nTotal params: 11,178,051\nTrainable params: 11,178,051\nNon-trainable params: 0\nTotal mult-adds (G): 5.44\n==========================================================================================\nInput size (MB): 1.81\nForward/backward pass size (MB): 119.22\nParams size (MB): 44.71\nEstimated Total Size (MB): 165.74\n=========================================================================================="
     },
     "execution_count": 5,
     "metadata": {},
     "output_type": "execute_result"
    }
   ],
   "source": [
    "summary(model=res_model\n",
    "        , input_size=(3,3,224,224)\n",
    "        )"
   ],
   "metadata": {
    "collapsed": false,
    "ExecuteTime": {
     "end_time": "2024-03-27T02:22:07.905288200Z",
     "start_time": "2024-03-27T02:22:07.789289400Z"
    }
   },
   "id": "92f6c137d695cfa5",
   "execution_count": 5
  },
  {
   "cell_type": "code",
   "outputs": [
    {
     "name": "stdout",
     "output_type": "stream",
     "text": [
      "conv1.weight True  ===>    False\n",
      "bn1.weight True  ===>    False\n",
      "bn1.bias True  ===>    False\n",
      "layer1.0.conv1.weight True  ===>    False\n",
      "layer1.0.bn1.weight True  ===>    False\n",
      "layer1.0.bn1.bias True  ===>    False\n",
      "layer1.0.conv2.weight True  ===>    False\n",
      "layer1.0.bn2.weight True  ===>    False\n",
      "layer1.0.bn2.bias True  ===>    False\n",
      "layer1.1.conv1.weight True  ===>    False\n",
      "layer1.1.bn1.weight True  ===>    False\n",
      "layer1.1.bn1.bias True  ===>    False\n",
      "layer1.1.conv2.weight True  ===>    False\n",
      "layer1.1.bn2.weight True  ===>    False\n",
      "layer1.1.bn2.bias True  ===>    False\n",
      "layer2.0.conv1.weight True  ===>    False\n",
      "layer2.0.bn1.weight True  ===>    False\n",
      "layer2.0.bn1.bias True  ===>    False\n",
      "layer2.0.conv2.weight True  ===>    False\n",
      "layer2.0.bn2.weight True  ===>    False\n",
      "layer2.0.bn2.bias True  ===>    False\n",
      "layer2.0.downsample.0.weight True  ===>    False\n",
      "layer2.0.downsample.1.weight True  ===>    False\n",
      "layer2.0.downsample.1.bias True  ===>    False\n",
      "layer2.1.conv1.weight True  ===>    False\n",
      "layer2.1.bn1.weight True  ===>    False\n",
      "layer2.1.bn1.bias True  ===>    False\n",
      "layer2.1.conv2.weight True  ===>    False\n",
      "layer2.1.bn2.weight True  ===>    False\n",
      "layer2.1.bn2.bias True  ===>    False\n",
      "layer3.0.conv1.weight True  ===>    False\n",
      "layer3.0.bn1.weight True  ===>    False\n",
      "layer3.0.bn1.bias True  ===>    False\n",
      "layer3.0.conv2.weight True  ===>    False\n",
      "layer3.0.bn2.weight True  ===>    False\n",
      "layer3.0.bn2.bias True  ===>    False\n",
      "layer3.0.downsample.0.weight True  ===>    False\n",
      "layer3.0.downsample.1.weight True  ===>    False\n",
      "layer3.0.downsample.1.bias True  ===>    False\n",
      "layer3.1.conv1.weight True  ===>    False\n",
      "layer3.1.bn1.weight True  ===>    False\n",
      "layer3.1.bn1.bias True  ===>    False\n",
      "layer3.1.conv2.weight True  ===>    False\n",
      "layer3.1.bn2.weight True  ===>    False\n",
      "layer3.1.bn2.bias True  ===>    False\n",
      "layer4.0.conv1.weight True  ===>    False\n",
      "layer4.0.bn1.weight True  ===>    False\n",
      "layer4.0.bn1.bias True  ===>    False\n",
      "layer4.0.conv2.weight True  ===>    False\n",
      "layer4.0.bn2.weight True  ===>    False\n",
      "layer4.0.bn2.bias True  ===>    False\n",
      "layer4.0.downsample.0.weight True  ===>    False\n",
      "layer4.0.downsample.1.weight True  ===>    False\n",
      "layer4.0.downsample.1.bias True  ===>    False\n",
      "layer4.1.conv1.weight True  ===>    False\n",
      "layer4.1.bn1.weight True  ===>    False\n",
      "layer4.1.bn1.bias True  ===>    False\n",
      "layer4.1.conv2.weight True  ===>    False\n",
      "layer4.1.bn2.weight True  ===>    False\n",
      "layer4.1.bn2.bias True  ===>    False\n",
      "fc.weight True  ===>    False\n",
      "fc.bias True  ===>    False\n",
      "weight False  ===>    True\n",
      "bias False  ===>    True\n"
     ]
    }
   ],
   "source": [
    "### Resnet18 Feature Module 파라미터 requires_grad = True ==> False 비활성화\n",
    "for name, param in res_model.named_parameters():\n",
    "    print(name, param.requires_grad, end='  ===>    ')\n",
    "    param.requires_grad = False\n",
    "    print(param.requires_grad)\n",
    "    \n",
    "### Resnet18 Full Connected Module 파리머터 requires_grad = False ==> True 활성화\n",
    "for name, param in res_model.fc.named_parameters():\n",
    "    print(name, param.requires_grad, end='  ===>    ')\n",
    "    param.requires_grad = True\n",
    "    print(param.requires_grad)"
   ],
   "metadata": {
    "collapsed": false,
    "ExecuteTime": {
     "end_time": "2024-03-27T02:22:07.914288400Z",
     "start_time": "2024-03-27T02:22:07.902289100Z"
    }
   },
   "id": "54bb930c10a44592",
   "execution_count": 6
  },
  {
   "cell_type": "code",
   "outputs": [],
   "source": [
    "### ===> 학습 준비\n",
    "optimizer = optim.Adam(params=res_model.parameters())\n",
    "loss_fn = nn.CrossEntropyLoss() # 손실 함수 정의\n",
    "EPOCHS = 3"
   ],
   "metadata": {
    "collapsed": false,
    "ExecuteTime": {
     "end_time": "2024-03-27T02:22:08.578915800Z",
     "start_time": "2024-03-27T02:22:07.916289100Z"
    }
   },
   "id": "155d9ba124ba8901",
   "execution_count": 7
  },
  {
   "cell_type": "code",
   "outputs": [
    {
     "data": {
      "text/plain": "Flatten(start_dim=1, end_dim=-1)"
     },
     "execution_count": 8,
     "metadata": {},
     "output_type": "execute_result"
    }
   ],
   "source": [
    "torch.nn.Flatten()"
   ],
   "metadata": {
    "collapsed": false,
    "ExecuteTime": {
     "end_time": "2024-03-27T02:22:08.594823500Z",
     "start_time": "2024-03-27T02:22:08.579955300Z"
    }
   },
   "id": "f391f367ecb83d35",
   "execution_count": 8
  }
 ],
 "metadata": {
  "kernelspec": {
   "display_name": "Python 3",
   "language": "python",
   "name": "python3"
  },
  "language_info": {
   "codemirror_mode": {
    "name": "ipython",
    "version": 2
   },
   "file_extension": ".py",
   "mimetype": "text/x-python",
   "name": "python",
   "nbconvert_exporter": "python",
   "pygments_lexer": "ipython2",
   "version": "2.7.6"
  }
 },
 "nbformat": 4,
 "nbformat_minor": 5
}
