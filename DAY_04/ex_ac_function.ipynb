{
 "cells": [
  {
   "cell_type": "markdown",
   "source": [
    "### softmax(), sigmoid() 함수\n",
    "- sigmoid() : y=wx+b 결과 1개 전달 ===> 반환 : 0.0 ~ 1.0 사이 값으로 변환 ==> 이진분류\n",
    "- softmax() : y=wx+b 결과 여러개 전달 ===> 반환 : 여러개의 결과값의 합이 1.0이 되도록 변환 ==> 다중분류"
   ],
   "metadata": {
    "collapsed": false
   },
   "id": "98bb36eb2fec0b18"
  },
  {
   "cell_type": "code",
   "outputs": [],
   "source": [
    "## 모둘 로딩\n",
    "import torch                            # 파이토치 기본 모듈로 텐서 및 기본 함수들\n",
    "import torch.nn.functional as F         # 파이토치 인공신경망 관련 함수들"
   ],
   "metadata": {
    "collapsed": false,
    "ExecuteTime": {
     "end_time": "2024-03-14T01:40:24.210503600Z",
     "start_time": "2024-03-14T01:40:24.175077700Z"
    }
   },
   "id": "337359ad9745077e",
   "execution_count": 6
  },
  {
   "cell_type": "code",
   "outputs": [
    {
     "data": {
      "text/plain": "torch.Size([5])"
     },
     "execution_count": 7,
     "metadata": {},
     "output_type": "execute_result"
    }
   ],
   "source": [
    "# 임의 데이터 생성\n",
    "data1 = torch.tensor([1,2,1,1,2], dtype=torch.float)\n",
    "data1.shape"
   ],
   "metadata": {
    "collapsed": false,
    "ExecuteTime": {
     "end_time": "2024-03-14T01:40:24.210503600Z",
     "start_time": "2024-03-14T01:40:24.193857800Z"
    }
   },
   "id": "9ae5ba94f91fa433",
   "execution_count": 7
  },
  {
   "cell_type": "code",
   "outputs": [
    {
     "data": {
      "text/plain": "tensor([0.7311, 0.8808, 0.7311, 0.7311, 0.8808])"
     },
     "execution_count": 8,
     "metadata": {},
     "output_type": "execute_result"
    }
   ],
   "source": [
    "F.sigmoid(data1)"
   ],
   "metadata": {
    "collapsed": false,
    "ExecuteTime": {
     "end_time": "2024-03-14T01:40:24.259429400Z",
     "start_time": "2024-03-14T01:40:24.207277Z"
    }
   },
   "id": "f11c6600ac276552",
   "execution_count": 8
  },
  {
   "cell_type": "code",
   "outputs": [
    {
     "data": {
      "text/plain": "(torch.Size([5, 1]),\n tensor([[1.],\n         [2.],\n         [1.],\n         [1.],\n         [2.]]))"
     },
     "execution_count": 9,
     "metadata": {},
     "output_type": "execute_result"
    }
   ],
   "source": [
    "data2 = data1.unsqueeze(dim=1)\n",
    "data2.shape, data2"
   ],
   "metadata": {
    "collapsed": false,
    "ExecuteTime": {
     "end_time": "2024-03-14T01:40:24.259429400Z",
     "start_time": "2024-03-14T01:40:24.223572700Z"
    }
   },
   "id": "8d26d91b95d34f79",
   "execution_count": 9
  },
  {
   "cell_type": "code",
   "outputs": [
    {
     "data": {
      "text/plain": "tensor([[1.],\n        [1.],\n        [1.],\n        [1.],\n        [1.]])"
     },
     "execution_count": 10,
     "metadata": {},
     "output_type": "execute_result"
    }
   ],
   "source": [
    "F.softmax(data2, dim=1)"
   ],
   "metadata": {
    "collapsed": false,
    "ExecuteTime": {
     "end_time": "2024-03-14T01:40:24.260426700Z",
     "start_time": "2024-03-14T01:40:24.238058600Z"
    }
   },
   "id": "a44f7c080059fa6d",
   "execution_count": 10
  },
  {
   "cell_type": "code",
   "outputs": [],
   "source": [],
   "metadata": {
    "collapsed": false,
    "ExecuteTime": {
     "end_time": "2024-03-14T01:40:24.306901600Z",
     "start_time": "2024-03-14T01:40:24.253451700Z"
    }
   },
   "id": "6d75a553a1f6a0b1",
   "execution_count": 10
  }
 ],
 "metadata": {
  "kernelspec": {
   "display_name": "Python 3",
   "language": "python",
   "name": "python3"
  },
  "language_info": {
   "codemirror_mode": {
    "name": "ipython",
    "version": 2
   },
   "file_extension": ".py",
   "mimetype": "text/x-python",
   "name": "python",
   "nbconvert_exporter": "python",
   "pygments_lexer": "ipython2",
   "version": "2.7.6"
  }
 },
 "nbformat": 4,
 "nbformat_minor": 5
}
