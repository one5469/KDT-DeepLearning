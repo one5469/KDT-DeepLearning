{
 "cells": [
  {
   "cell_type": "markdown",
   "source": [
    "### Tensor shape 변경\n",
    "- reshape(), view() : 원소 갯수가 유지됨, 기존 텐서 공유함"
   ],
   "metadata": {
    "collapsed": false
   },
   "id": "89b88b072f1d09e6"
  },
  {
   "cell_type": "code",
   "outputs": [],
   "source": [
    "# 모듈 로딩\n",
    "import torch"
   ],
   "metadata": {
    "collapsed": false,
    "ExecuteTime": {
     "end_time": "2024-03-12T06:33:22.307200900Z",
     "start_time": "2024-03-12T06:33:20.785087900Z"
    }
   },
   "id": "23fa82f11a3ed138",
   "execution_count": 1
  },
  {
   "cell_type": "code",
   "outputs": [
    {
     "name": "stdout",
     "output_type": "stream",
     "text": [
      "torch.Size([2, 3]) 2\n",
      "tensor([[1, 2, 3],\n",
      "        [4, 5, 6]])\n"
     ]
    }
   ],
   "source": [
    "# 텐서 데이터 생성\n",
    "t1 = torch.tensor([[1,2,3], [4,5,6]])\n",
    "print(t1.shape, t1.ndim)\n",
    "print(t1)"
   ],
   "metadata": {
    "collapsed": false,
    "ExecuteTime": {
     "end_time": "2024-03-12T06:33:22.329128600Z",
     "start_time": "2024-03-12T06:33:22.313181400Z"
    }
   },
   "id": "c58323a62b3554fd",
   "execution_count": 2
  },
  {
   "cell_type": "code",
   "outputs": [
    {
     "data": {
      "text/plain": "tensor([[1, 2],\n        [3, 4],\n        [5, 6]])"
     },
     "execution_count": 3,
     "metadata": {},
     "output_type": "execute_result"
    }
   ],
   "source": [
    "# [2,3] ===> [3,2] 형태 변경 : 원소 동일 6개\n",
    "t1.view(3,2)"
   ],
   "metadata": {
    "collapsed": false,
    "ExecuteTime": {
     "end_time": "2024-03-12T06:33:22.365007400Z",
     "start_time": "2024-03-12T06:33:22.325152900Z"
    }
   },
   "id": "85fe1a855739c41b",
   "execution_count": 3
  },
  {
   "cell_type": "code",
   "outputs": [
    {
     "data": {
      "text/plain": "tensor([[1],\n        [2],\n        [3],\n        [4],\n        [5],\n        [6]])"
     },
     "execution_count": 4,
     "metadata": {},
     "output_type": "execute_result"
    }
   ],
   "source": [
    "# [2,3] ===> [6,1] 형태 변경 : 원소 동일 6개\n",
    "t1.view(6,1)"
   ],
   "metadata": {
    "collapsed": false,
    "ExecuteTime": {
     "end_time": "2024-03-12T06:33:22.366005100Z",
     "start_time": "2024-03-12T06:33:22.342085500Z"
    }
   },
   "id": "8176bf58c0b3c818",
   "execution_count": 4
  },
  {
   "cell_type": "code",
   "outputs": [
    {
     "data": {
      "text/plain": "tensor([[1],\n        [2],\n        [3],\n        [4],\n        [5],\n        [6]])"
     },
     "execution_count": 5,
     "metadata": {},
     "output_type": "execute_result"
    }
   ],
   "source": [
    "# [2,3] ===> [6,1] 형태 변경 : 원소 동일 6개\n",
    "# -1 : 원소 수를 알아서 할당\n",
    "t1.view(-1,1)"
   ],
   "metadata": {
    "collapsed": false,
    "ExecuteTime": {
     "end_time": "2024-03-12T06:33:22.401856700Z",
     "start_time": "2024-03-12T06:33:22.357035300Z"
    }
   },
   "id": "13045ee567be220e",
   "execution_count": 5
  },
  {
   "cell_type": "code",
   "outputs": [
    {
     "data": {
      "text/plain": "tensor([[1],\n        [2],\n        [3],\n        [4],\n        [5],\n        [6]])"
     },
     "execution_count": 6,
     "metadata": {},
     "output_type": "execute_result"
    }
   ],
   "source": [
    "# tensor.reshape()\n",
    "t1.reshape(6,1)"
   ],
   "metadata": {
    "collapsed": false,
    "ExecuteTime": {
     "end_time": "2024-03-12T06:33:22.403848900Z",
     "start_time": "2024-03-12T06:33:22.373977Z"
    }
   },
   "id": "a2f7a382e252335f",
   "execution_count": 6
  },
  {
   "cell_type": "code",
   "outputs": [
    {
     "data": {
      "text/plain": "tensor([[1, 2, 3],\n        [4, 5, 6]])"
     },
     "execution_count": 7,
     "metadata": {},
     "output_type": "execute_result"
    }
   ],
   "source": [
    "# tensor.reshape()\n",
    "t1.reshape(-1,3)"
   ],
   "metadata": {
    "collapsed": false,
    "ExecuteTime": {
     "end_time": "2024-03-12T06:33:22.441723300Z",
     "start_time": "2024-03-12T06:33:22.389567900Z"
    }
   },
   "id": "869760e897184498",
   "execution_count": 7
  },
  {
   "cell_type": "markdown",
   "source": [
    "- 전치 : 열<->행 변경"
   ],
   "metadata": {
    "collapsed": false
   },
   "id": "55c18fbbf38bfe5d"
  },
  {
   "cell_type": "code",
   "outputs": [
    {
     "name": "stdout",
     "output_type": "stream",
     "text": [
      "torch.Size([2, 3])\n",
      "torch.Size([3, 2]) False\n"
     ]
    }
   ],
   "source": [
    "print(t1.shape)\n",
    "\n",
    "t2=t1.T\n",
    "print(t2.shape, t2.is_contiguous())"
   ],
   "metadata": {
    "collapsed": false,
    "ExecuteTime": {
     "end_time": "2024-03-12T06:33:22.443716700Z",
     "start_time": "2024-03-12T06:33:22.403848900Z"
    }
   },
   "id": "e7cdd162933277b0",
   "execution_count": 8
  },
  {
   "cell_type": "code",
   "outputs": [],
   "source": [
    "#RuntimeError: view size is not compatible with input tensor's size and stride\n",
    "# t2.view(-1,6)"
   ],
   "metadata": {
    "collapsed": false,
    "ExecuteTime": {
     "end_time": "2024-03-12T06:33:22.444714900Z",
     "start_time": "2024-03-12T06:33:22.417803300Z"
    }
   },
   "id": "e56e08c1c90e98f5",
   "execution_count": 9
  },
  {
   "cell_type": "code",
   "outputs": [
    {
     "name": "stdout",
     "output_type": "stream",
     "text": [
      "tensor([[1, 4, 2, 5, 3, 6]]) True\n"
     ]
    }
   ],
   "source": [
    "t3=t2.reshape(-1,6)\n",
    "print(t3, t3.is_contiguous())"
   ],
   "metadata": {
    "collapsed": false,
    "ExecuteTime": {
     "end_time": "2024-03-12T06:33:22.484586Z",
     "start_time": "2024-03-12T06:33:22.435743Z"
    }
   },
   "id": "8122928ed7b04ab3",
   "execution_count": 10
  },
  {
   "cell_type": "markdown",
   "source": [
    "### 텐서 데이터의 메모리 저장 정보 즉 메타데이터\n",
    "- 현재 저장 형태, 검색 방향 정보, 시작 정보"
   ],
   "metadata": {
    "collapsed": false
   },
   "id": "927a56895936a99b"
  },
  {
   "cell_type": "code",
   "outputs": [
    {
     "name": "stdout",
     "output_type": "stream",
     "text": [
      "torch.Size([2, 3]) 2\n",
      "t1.storage() =>  1\n",
      " 2\n",
      " 3\n",
      " 4\n",
      " 5\n",
      " 6\n",
      "[torch.storage.TypedStorage(dtype=torch.int64, device=cpu) of size 6]\n",
      "t1.storage_offset() => 0\n",
      "t1.stride() => (3, 1)\n",
      "t1.is_contiguous() => True\n"
     ]
    },
    {
     "name": "stderr",
     "output_type": "stream",
     "text": [
      "C:\\Users\\kdp\\AppData\\Local\\Temp\\ipykernel_4544\\2935160047.py:3: UserWarning: TypedStorage is deprecated. It will be removed in the future and UntypedStorage will be the only storage class. This should only matter to you if you are using storages directly.  To access UntypedStorage directly, use tensor.untyped_storage() instead of tensor.storage()\n",
      "  print(f't1.storage() => {t1.storage()}')\n"
     ]
    }
   ],
   "source": [
    "t1 = torch.tensor([[1,2,3],[4,5,6]])\n",
    "print(t1.shape, t1.ndim)\n",
    "print(f't1.storage() => {t1.storage()}')\n",
    "print(f't1.storage_offset() => {t1.storage_offset()}')\n",
    "print(f't1.stride() => {t1.stride()}')\n",
    "print(f't1.is_contiguous() => {t1.is_contiguous()}')"
   ],
   "metadata": {
    "collapsed": false,
    "ExecuteTime": {
     "end_time": "2024-03-12T06:33:22.485583500Z",
     "start_time": "2024-03-12T06:33:22.450692400Z"
    }
   },
   "id": "c119532524fead7c",
   "execution_count": 11
  },
  {
   "cell_type": "code",
   "outputs": [
    {
     "name": "stdout",
     "output_type": "stream",
     "text": [
      "torch.Size([3, 2]) 2\n",
      "t2.storage() =>  1\n",
      " 2\n",
      " 3\n",
      " 4\n",
      " 5\n",
      " 6\n",
      "[torch.storage.TypedStorage(dtype=torch.int64, device=cpu) of size 6]\n",
      "t2.storage_offset() => 0\n",
      "t2.stride() => (2, 1)\n",
      "t2.is_contiguous() => True\n"
     ]
    }
   ],
   "source": [
    "t2 = t1.view(-1,2)\n",
    "print(t2.shape, t2.ndim)\n",
    "print(f't2.storage() => {t2.storage()}')\n",
    "print(f't2.storage_offset() => {t2.storage_offset()}')\n",
    "print(f't2.stride() => {t2.stride()}')\n",
    "print(f't2.is_contiguous() => {t2.is_contiguous()}')"
   ],
   "metadata": {
    "collapsed": false,
    "ExecuteTime": {
     "end_time": "2024-03-12T06:33:22.526641100Z",
     "start_time": "2024-03-12T06:33:22.465644500Z"
    }
   },
   "id": "402e470dee76823f",
   "execution_count": 12
  },
  {
   "cell_type": "markdown",
   "source": [
    "### 차원 제거/추가\n",
    "- tensor.squeeze() : 텐서에서 차원이 1인 것 제거\n",
    "- tensor.unsqueeze(dim) : 텐서에서 차원이 1인 것 추가"
   ],
   "metadata": {
    "collapsed": false
   },
   "id": "754e18c8be3c2923"
  },
  {
   "cell_type": "code",
   "outputs": [],
   "source": [
    "# 데이터 생성\n",
    "t1 = torch.tensor([[1,2], [3,4]])\n",
    "t2 = torch.tensor([[1,2,3,4]])\n",
    "t3 = torch.tensor([[[1,2,3,4]]])"
   ],
   "metadata": {
    "collapsed": false,
    "ExecuteTime": {
     "end_time": "2024-03-12T06:33:22.529631200Z",
     "start_time": "2024-03-12T06:33:22.481594400Z"
    }
   },
   "id": "9d05e6a2c55d973",
   "execution_count": 13
  },
  {
   "cell_type": "code",
   "outputs": [
    {
     "name": "stdout",
     "output_type": "stream",
     "text": [
      "t1 => torch.Size([2, 2]), 2D\n",
      "t2 => torch.Size([1, 4]), 2D\n",
      "t3 => torch.Size([1, 1, 4]), 3D\n"
     ]
    }
   ],
   "source": [
    "print(f't1 => {t1.shape}, {t1.ndim}D')\n",
    "print(f't2 => {t2.shape}, {t2.ndim}D')\n",
    "print(f't3 => {t3.shape}, {t3.ndim}D')"
   ],
   "metadata": {
    "collapsed": false,
    "ExecuteTime": {
     "end_time": "2024-03-12T06:33:22.530628500Z",
     "start_time": "2024-03-12T06:33:22.496743100Z"
    }
   },
   "id": "468dd0e5d39e0ba3",
   "execution_count": 14
  },
  {
   "cell_type": "code",
   "outputs": [
    {
     "name": "stdout",
     "output_type": "stream",
     "text": [
      "t1 차원 축소 => torch.Size([2, 2]), 2D, 3871296520192\n",
      "t2 차원 축소 => torch.Size([4]), 1D, 3871296520320\n",
      "t3 차원 축소 => torch.Size([4]), 1D, 3871296520384\n",
      "t3 차원 축소 => torch.Size([1, 4]), 2D, 3871296520384\n"
     ]
    }
   ],
   "source": [
    "t11 = t1.squeeze()\n",
    "t22 = t2.squeeze()\n",
    "t33 = t3.squeeze()\n",
    "t44 = t3.squeeze(dim=0)\n",
    "print(f't1 차원 축소 => {t11.shape}, {t11.ndim}D, {t11.data_ptr()}')\n",
    "print(f't2 차원 축소 => {t22.shape}, {t22.ndim}D, {t22.data_ptr()}')\n",
    "print(f't3 차원 축소 => {t33.shape}, {t33.ndim}D, {t33.data_ptr()}')\n",
    "print(f't3 차원 축소 => {t44.shape}, {t44.ndim}D, {t44.data_ptr()}')"
   ],
   "metadata": {
    "collapsed": false,
    "ExecuteTime": {
     "end_time": "2024-03-12T06:33:22.564567900Z",
     "start_time": "2024-03-12T06:33:22.512688100Z"
    }
   },
   "id": "4ff069123ceead9",
   "execution_count": 15
  },
  {
   "cell_type": "code",
   "outputs": [
    {
     "name": "stdout",
     "output_type": "stream",
     "text": [
      "t1 정보 => torch.Size([2, 2]), 2, 3871296520192\n"
     ]
    }
   ],
   "source": [
    "## 원소/요소 수 변경 없이 1 차원 증가 시키기 => torch.unsqueeze(dim)\n",
    "print(f't1 정보 => {t1.shape}, {t1.ndim}, {t1.data_ptr()}')"
   ],
   "metadata": {
    "collapsed": false,
    "ExecuteTime": {
     "end_time": "2024-03-12T06:33:22.567637600Z",
     "start_time": "2024-03-12T06:33:22.526641100Z"
    }
   },
   "id": "52c8b5f7916360b4",
   "execution_count": 16
  },
  {
   "cell_type": "code",
   "outputs": [
    {
     "name": "stdout",
     "output_type": "stream",
     "text": [
      "t1 차원 추가 => torch.Size([1, 2, 2]), 3D, 3871296520192, (4, 2, 1)\n",
      "t2 차원 추가 => torch.Size([2, 2, 1]), 3D, 3871296520192, (2, 1, 1)\n"
     ]
    }
   ],
   "source": [
    "t11 = t1.unsqueeze(dim=0)\n",
    "t22 = t1.unsqueeze(dim=-1)\n",
    "\n",
    "print(f't1 차원 추가 => {t11.shape}, {t11.ndim}D, {t11.data_ptr()}, {t11.stride()}')\n",
    "print(f't2 차원 추가 => {t22.shape}, {t22.ndim}D, {t22.data_ptr()}, {t22.stride()}')"
   ],
   "metadata": {
    "collapsed": false,
    "ExecuteTime": {
     "end_time": "2024-03-12T06:33:22.568642500Z",
     "start_time": "2024-03-12T06:33:22.542587900Z"
    }
   },
   "id": "1bdf0fc8c0957886",
   "execution_count": 17
  },
  {
   "cell_type": "markdown",
   "source": [
    "### Tensor 차원/형태 변경"
   ],
   "metadata": {
    "collapsed": false
   },
   "id": "3f6ca2647924c8ac"
  },
  {
   "cell_type": "code",
   "outputs": [
    {
     "name": "stdout",
     "output_type": "stream",
     "text": [
      "torch.Size([1, 3, 2]) 3\n"
     ]
    }
   ],
   "source": [
    "t1 = torch.tensor([[[1,2], [11,22], [44,55]]])\n",
    "\n",
    "print(t1.shape, t1.ndim)"
   ],
   "metadata": {
    "collapsed": false,
    "ExecuteTime": {
     "end_time": "2024-03-12T06:37:51.446152300Z",
     "start_time": "2024-03-12T06:37:51.421404100Z"
    }
   },
   "id": "24022488d04c6338",
   "execution_count": 20
  },
  {
   "cell_type": "code",
   "outputs": [
    {
     "name": "stdout",
     "output_type": "stream",
     "text": [
      "t11 => torch.Size([2, 3, 1]), 3D\n"
     ]
    }
   ],
   "source": [
    "# 2개의 차원을 변경하는 메소드\n",
    "t11 = t1.transpose(0, 2)\n",
    "print(f't11 => {t11.shape}, {t11.ndim}D')"
   ],
   "metadata": {
    "collapsed": false,
    "ExecuteTime": {
     "end_time": "2024-03-12T06:41:44.103076200Z",
     "start_time": "2024-03-12T06:41:44.084187100Z"
    }
   },
   "id": "fb055f7eb0a6c8fe",
   "execution_count": 23
  },
  {
   "cell_type": "code",
   "outputs": [
    {
     "name": "stdout",
     "output_type": "stream",
     "text": [
      "t22 => torch.Size([3, 2, 1]), 3D\n"
     ]
    }
   ],
   "source": [
    "# 모든 차원을 변경하는 메소드\n",
    "t22 = t1.permute(1,2,0)\n",
    "print(f't22 => {t22.shape}, {t22.ndim}D')"
   ],
   "metadata": {
    "collapsed": false,
    "ExecuteTime": {
     "end_time": "2024-03-12T06:41:37.602992800Z",
     "start_time": "2024-03-12T06:41:37.570013500Z"
    }
   },
   "id": "77b91bbe043e11b0",
   "execution_count": 22
  },
  {
   "cell_type": "code",
   "outputs": [
    {
     "name": "stdout",
     "output_type": "stream",
     "text": [
      "3871296459520, 3871296459520, 3871296459520\n"
     ]
    }
   ],
   "source": [
    "print(f'{t1.data_ptr()}, {t11.data_ptr()}, {t22.data_ptr()}')"
   ],
   "metadata": {
    "collapsed": false,
    "ExecuteTime": {
     "end_time": "2024-03-12T06:42:58.241809200Z",
     "start_time": "2024-03-12T06:42:58.205714900Z"
    }
   },
   "id": "a412465c0e517fe4",
   "execution_count": 24
  },
  {
   "cell_type": "code",
   "outputs": [],
   "source": [],
   "metadata": {
    "collapsed": false
   },
   "id": "bf1ca220481efb32"
  }
 ],
 "metadata": {
  "kernelspec": {
   "display_name": "Python 3",
   "language": "python",
   "name": "python3"
  },
  "language_info": {
   "codemirror_mode": {
    "name": "ipython",
    "version": 2
   },
   "file_extension": ".py",
   "mimetype": "text/x-python",
   "name": "python",
   "nbconvert_exporter": "python",
   "pygments_lexer": "ipython2",
   "version": "2.7.6"
  }
 },
 "nbformat": 4,
 "nbformat_minor": 5
}
