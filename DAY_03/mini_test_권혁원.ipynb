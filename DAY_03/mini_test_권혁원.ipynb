{
 "cells": [
  {
   "cell_type": "markdown",
   "source": [
    "문제 1번"
   ],
   "metadata": {
    "collapsed": false
   },
   "id": "9b0625bd7be2d3d4"
  },
  {
   "cell_type": "markdown",
   "source": [
    "화면상에서 Pytorch에서 데이터를 저장하는 단위는 (Tensor)입니다."
   ],
   "metadata": {
    "collapsed": false
   },
   "id": "db88b20f2fc4dc14"
  },
  {
   "cell_type": "markdown",
   "source": [
    "문제 2번"
   ],
   "metadata": {
    "collapsed": false
   },
   "id": "e8fe53fcd340d92a"
  },
  {
   "cell_type": "markdown",
   "source": [
    "다차원 형식의 자료형을 제공한다."
   ],
   "metadata": {
    "collapsed": false
   },
   "id": "184aa0dd7d5513eb"
  },
  {
   "cell_type": "markdown",
   "source": [
    "문제 3번"
   ],
   "metadata": {
    "collapsed": false
   },
   "id": "8925b2ee92aa8c8c"
  },
  {
   "cell_type": "markdown",
   "source": [
    "tensor.int8, tensor.int16, tensor.int32, tensor.int64...\n",
    "정수형 데이터를 저장하는 데이터타입은 int로 지정하며 이때 뒤에 오는 숫자는 데이터 저장에 할당되는 메모리 크기를 bit 단위로 나타낸 것이다. 데이터 크기를 지정하지 않을 경우 기본적으로 32bit가 할당되며 이때 저장될 수 있는 데이터의 크기는 -(2^31^-1)~+(2^31^-1)이다."
   ],
   "metadata": {
    "collapsed": false
   },
   "id": "371024adf4c4329e"
  },
  {
   "cell_type": "markdown",
   "source": [
    "문제 4번"
   ],
   "metadata": {
    "collapsed": false
   },
   "id": "d790dba666b4e79b"
  },
  {
   "cell_type": "code",
   "outputs": [],
   "source": [
    "import torch\n",
    "from torch import tensor"
   ],
   "metadata": {
    "collapsed": false,
    "ExecuteTime": {
     "end_time": "2024-03-13T00:31:48.850762900Z",
     "start_time": "2024-03-13T00:31:48.829706900Z"
    }
   },
   "id": "a5660cd5491e6488",
   "execution_count": 21
  },
  {
   "cell_type": "code",
   "outputs": [
    {
     "name": "stdout",
     "output_type": "stream",
     "text": [
      "data type :: torch.bool\n"
     ]
    }
   ],
   "source": [
    "data = tensor([10, -5, 1.4, 7, 0, -1, 0], dtype=bool)\n",
    "print(f'data type :: {data.dtype}')"
   ],
   "metadata": {
    "collapsed": false,
    "ExecuteTime": {
     "end_time": "2024-03-13T00:31:48.873150300Z",
     "start_time": "2024-03-13T00:31:48.856960800Z"
    }
   },
   "id": "8386d9edf592eaa8",
   "execution_count": 22
  },
  {
   "cell_type": "markdown",
   "source": [
    "문제 5번"
   ],
   "metadata": {
    "collapsed": false
   },
   "id": "3a2c7bf96d05ac5d"
  },
  {
   "cell_type": "code",
   "outputs": [
    {
     "name": "stdout",
     "output_type": "stream",
     "text": [
      "tensor([[0, 0, 0, 0, 0, 0, 0, 0, 0, 0]])\n",
      "torch.Size([1, 10])\n"
     ]
    }
   ],
   "source": [
    "data = torch.tensor([[0 for i in range (10)]])\n",
    "print(data)\n",
    "print(data.shape)"
   ],
   "metadata": {
    "collapsed": false,
    "ExecuteTime": {
     "end_time": "2024-03-13T00:31:48.943531300Z",
     "start_time": "2024-03-13T00:31:48.874146600Z"
    }
   },
   "id": "36e5f59e3aaad3a1",
   "execution_count": 23
  },
  {
   "cell_type": "markdown",
   "source": [
    "문제 6번"
   ],
   "metadata": {
    "collapsed": false
   },
   "id": "35d3bbe1e899faf0"
  },
  {
   "cell_type": "code",
   "outputs": [
    {
     "name": "stdout",
     "output_type": "stream",
     "text": [
      "tensor([[1, 0, 0, 0, 0],\n",
      "        [0, 1, 0, 0, 0],\n",
      "        [0, 0, 1, 0, 0],\n",
      "        [0, 0, 0, 1, 0],\n",
      "        [0, 0, 0, 0, 1]])\n"
     ]
    }
   ],
   "source": [
    "data = torch.eye(5, dtype=int)\n",
    "print(data)"
   ],
   "metadata": {
    "collapsed": false,
    "ExecuteTime": {
     "end_time": "2024-03-13T00:31:48.944720400Z",
     "start_time": "2024-03-13T00:31:48.891089500Z"
    }
   },
   "id": "9d5da99233a9d55b",
   "execution_count": 24
  },
  {
   "cell_type": "markdown",
   "source": [
    "문제 7번"
   ],
   "metadata": {
    "collapsed": false
   },
   "id": "e3c701386d93b85a"
  },
  {
   "cell_type": "code",
   "outputs": [
    {
     "data": {
      "text/plain": "tensor([[3, 0, 0, 0, 0],\n        [0, 3, 0, 0, 0],\n        [0, 0, 3, 0, 0],\n        [0, 0, 0, 3, 0],\n        [0, 0, 0, 0, 3]])"
     },
     "execution_count": 26,
     "metadata": {},
     "output_type": "execute_result"
    }
   ],
   "source": [
    "data2 = data * 3\n",
    "data2"
   ],
   "metadata": {
    "collapsed": false,
    "ExecuteTime": {
     "end_time": "2024-03-13T00:31:56.615373800Z",
     "start_time": "2024-03-13T00:31:56.597497700Z"
    }
   },
   "id": "5a17c6d0c5cbbb38",
   "execution_count": 26
  },
  {
   "cell_type": "markdown",
   "source": [
    "문제 8번"
   ],
   "metadata": {
    "collapsed": false
   },
   "id": "a191e56e6d6ca14f"
  },
  {
   "cell_type": "code",
   "outputs": [
    {
     "data": {
      "text/plain": "tensor([ 7., 14., 21., 28., 35., 42., 49., 56., 63., 70., 77., 84., 91., 98.])"
     },
     "execution_count": 36,
     "metadata": {},
     "output_type": "execute_result"
    }
   ],
   "source": [
    "import numpy as np\n",
    "\n",
    "tensor(range(7, 100, 7), dtype=torch.float32)"
   ],
   "metadata": {
    "collapsed": false,
    "ExecuteTime": {
     "end_time": "2024-03-13T00:36:31.025891900Z",
     "start_time": "2024-03-13T00:36:30.993998800Z"
    }
   },
   "id": "db03022fd6125aa2",
   "execution_count": 36
  },
  {
   "cell_type": "markdown",
   "source": [
    "문제 9번"
   ],
   "metadata": {
    "collapsed": false
   },
   "id": "345972bbab26d066"
  },
  {
   "cell_type": "code",
   "outputs": [],
   "source": [],
   "metadata": {
    "collapsed": false,
    "ExecuteTime": {
     "end_time": "2024-03-13T00:31:48.986322Z",
     "start_time": "2024-03-13T00:31:48.936537800Z"
    }
   },
   "id": "4dc34b31b5c45ef8",
   "execution_count": 25
  },
  {
   "cell_type": "markdown",
   "source": [
    "문제 10번"
   ],
   "metadata": {
    "collapsed": false
   },
   "id": "23cdd4efc70eede3"
  },
  {
   "cell_type": "code",
   "outputs": [
    {
     "data": {
      "text/plain": "(tensor([2, 9, 4, 7, 8, 4]),\n tensor([[[2, 9, 4, 7, 8, 4]]]),\n tensor([[[2],\n          [9],\n          [4],\n          [7],\n          [8],\n          [4]]]),\n tensor([[[2],\n          [9]],\n \n         [[4],\n          [7]],\n \n         [[8],\n          [4]]]))"
     },
     "execution_count": 54,
     "metadata": {},
     "output_type": "execute_result"
    }
   ],
   "source": [
    "data1 = torch.randint(1, 10, (6,))\n",
    "data2 = data1.view((1,1,6))\n",
    "data3 = data2.transpose(1,2)\n",
    "data4 = data3.reshape(3,2,1)\n",
    "data1, data2, data3, data4"
   ],
   "metadata": {
    "collapsed": false,
    "ExecuteTime": {
     "end_time": "2024-03-13T00:44:28.017635900Z",
     "start_time": "2024-03-13T00:44:27.989038800Z"
    }
   },
   "id": "46194349bdf0922f",
   "execution_count": 54
  },
  {
   "cell_type": "markdown",
   "source": [
    "문제 11번"
   ],
   "metadata": {
    "collapsed": false
   },
   "id": "55d0c24b016408c9"
  },
  {
   "cell_type": "code",
   "outputs": [
    {
     "name": "stdout",
     "output_type": "stream",
     "text": [
      "tensor(240., dtype=torch.float16)\n",
      "tensor(250., dtype=torch.float16)\n",
      "tensor(264., dtype=torch.float16)\n",
      "\n",
      "tensor(259., dtype=torch.float16)\n",
      "tensor(86.3125, dtype=torch.float16)\n",
      "tensor(99., dtype=torch.float16)\n",
      "tensor(258., dtype=torch.float16)\n",
      "tensor(86., dtype=torch.float16)\n",
      "tensor(100., dtype=torch.float16)\n",
      "tensor(237., dtype=torch.float16)\n",
      "tensor(79., dtype=torch.float16)\n",
      "tensor(80., dtype=torch.float16)\n"
     ]
    }
   ],
   "source": [
    "data = {'국어':[90,70,80], '영어':[70,100,80], '수학':[99,88,77]}\n",
    "\n",
    "score = tensor(list(data.values()), dtype=torch.float16)\n",
    "\n",
    "for i in range(score.shape[0]):\n",
    "    print(score[i].sum())\n",
    "print()\n",
    "    \n",
    "for i in range(score.shape[1]):\n",
    "    print(score[:, i].sum())\n",
    "    print(score[:, i].mean())\n",
    "    print(score[:, i].max())"
   ],
   "metadata": {
    "collapsed": false,
    "ExecuteTime": {
     "end_time": "2024-03-13T00:52:19.434274800Z",
     "start_time": "2024-03-13T00:52:19.404820400Z"
    }
   },
   "id": "50e852fac977557f",
   "execution_count": 64
  },
  {
   "cell_type": "markdown",
   "source": [
    "문제 12번"
   ],
   "metadata": {
    "collapsed": false
   },
   "id": "b6830a39b71a52a3"
  },
  {
   "cell_type": "code",
   "outputs": [
    {
     "name": "stdout",
     "output_type": "stream",
     "text": [
      "tensor([[ 95.0000,  72.0000,  80.6875],\n",
      "        [ 75.0000, 102.0000,  80.6875],\n",
      "        [104.0000,  90.0000,  77.6875]], dtype=torch.float16)\n",
      "\n",
      "tensor([646., 606., 725.], dtype=torch.float16)\n"
     ]
    }
   ],
   "source": [
    "score = score\n",
    "score2 = tensor([5, 2, 0.7], dtype=torch.float16)\n",
    "\n",
    "print(score+score2)\n",
    "print()\n",
    "print(score.matmul(score2))"
   ],
   "metadata": {
    "collapsed": false,
    "ExecuteTime": {
     "end_time": "2024-03-13T00:54:06.819562100Z",
     "start_time": "2024-03-13T00:54:06.789650400Z"
    }
   },
   "id": "826abec6902bf5ed",
   "execution_count": 66
  },
  {
   "cell_type": "code",
   "outputs": [],
   "source": [],
   "metadata": {
    "collapsed": false
   },
   "id": "3d38608e59572a44"
  }
 ],
 "metadata": {
  "kernelspec": {
   "display_name": "Python 3",
   "language": "python",
   "name": "python3"
  },
  "language_info": {
   "codemirror_mode": {
    "name": "ipython",
    "version": 2
   },
   "file_extension": ".py",
   "mimetype": "text/x-python",
   "name": "python",
   "nbconvert_exporter": "python",
   "pygments_lexer": "ipython2",
   "version": "2.7.6"
  }
 },
 "nbformat": 4,
 "nbformat_minor": 5
}
