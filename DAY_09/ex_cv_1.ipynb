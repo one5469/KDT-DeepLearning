{
 "cells": [
  {
   "cell_type": "markdown",
   "source": [
    "### [ 기본적인 이미지 다루기 ]"
   ],
   "metadata": {
    "collapsed": false
   },
   "id": "31dc22d5703ddf30"
  },
  {
   "cell_type": "code",
   "outputs": [],
   "source": [
    "### ===> 모듈 로딩\n",
    "import cv2\n",
    "import numpy as np"
   ],
   "metadata": {
    "collapsed": false,
    "ExecuteTime": {
     "end_time": "2024-03-22T01:26:14.506282800Z",
     "start_time": "2024-03-22T01:26:14.359820700Z"
    }
   },
   "id": "3b59e014ac9090cc",
   "execution_count": 2
  },
  {
   "cell_type": "markdown",
   "source": [
    "- [1] 이미지 데이터 로딩\n",
    "    * 컬러 / 회색 이미지 변환 로딩 가능함"
   ],
   "metadata": {
    "collapsed": false
   },
   "id": "9b46ce0dcbad8800"
  },
  {
   "cell_type": "code",
   "outputs": [],
   "source": [
    "file='../data/img/cat1.jpg'"
   ],
   "metadata": {
    "collapsed": false,
    "ExecuteTime": {
     "end_time": "2024-03-22T01:26:14.522230Z",
     "start_time": "2024-03-22T01:26:14.508277600Z"
    }
   },
   "id": "e2ac11c292041252",
   "execution_count": 3
  },
  {
   "cell_type": "code",
   "outputs": [],
   "source": [
    "### => 컬러 이미지 로딩 [기본값]\n",
    "img_rgb = cv2.imread(file, cv2.IMREAD_COLOR)\n",
    "\n",
    "### => 회색 이미지 로딩 [기본값]\n",
    "img_gray = cv2.imread(file, cv2.IMREAD_GRAYSCALE)"
   ],
   "metadata": {
    "collapsed": false,
    "ExecuteTime": {
     "end_time": "2024-03-22T01:26:14.542176300Z",
     "start_time": "2024-03-22T01:26:14.526215700Z"
    }
   },
   "id": "9d870d14a88a9a17",
   "execution_count": 4
  },
  {
   "cell_type": "code",
   "outputs": [
    {
     "name": "stdout",
     "output_type": "stream",
     "text": [
      "[Color Image]\n",
      "Shape : (187, 270, 3)         Dim : 3차원\n",
      "Dtype : uint8                 Size : 151470바이트\n"
     ]
    }
   ],
   "source": [
    "### 이미지 데이터 정보확인\n",
    "print(f'[Color Image]')\n",
    "print(f'Shape : {img_rgb.shape}         Dim : {img_rgb.ndim}차원')\n",
    "print(f'Dtype : {img_rgb.dtype}                 Size : {img_rgb.size}바이트')"
   ],
   "metadata": {
    "collapsed": false,
    "ExecuteTime": {
     "end_time": "2024-03-22T01:26:14.553127100Z",
     "start_time": "2024-03-22T01:26:14.539174100Z"
    }
   },
   "id": "812893903b9ca983",
   "execution_count": 5
  },
  {
   "cell_type": "code",
   "outputs": [
    {
     "name": "stdout",
     "output_type": "stream",
     "text": [
      "[Color Image]\n",
      "Shape : (187, 270)         Dim : 2차원\n",
      "Dtype : uint8              Size : 50490바이트\n"
     ]
    }
   ],
   "source": [
    "### 이미지 데이터 정보확인\n",
    "print(f'[Color Image]')\n",
    "print(f'Shape : {img_gray.shape}         Dim : {img_gray.ndim}차원')\n",
    "print(f'Dtype : {img_gray.dtype}              Size : {img_gray.size}바이트')"
   ],
   "metadata": {
    "collapsed": false,
    "ExecuteTime": {
     "end_time": "2024-03-22T01:26:14.593038400Z",
     "start_time": "2024-03-22T01:26:14.556117200Z"
    }
   },
   "id": "7f0b505818d0be1f",
   "execution_count": 6
  },
  {
   "cell_type": "code",
   "outputs": [],
   "source": [
    "### => 이미지 창 띄우기\n",
    "cv2.imshow('[Color]', img_rgb)\n",
    "\n",
    "### => 이미지 창 제어\n",
    "cv2.waitKey()\n",
    "\n",
    "### => 이미지 창 닫기\n",
    "cv2.destroyAllWindows()"
   ],
   "metadata": {
    "collapsed": false,
    "ExecuteTime": {
     "end_time": "2024-03-22T01:28:25.849511400Z",
     "start_time": "2024-03-22T01:28:13.812368500Z"
    }
   },
   "id": "9a8752d9947de9ea",
   "execution_count": 8
  },
  {
   "cell_type": "code",
   "outputs": [
    {
     "name": "stdout",
     "output_type": "stream",
     "text": [
      "key =>> 13 - 0xd\n",
      "key =>> 13 - 0xd\n",
      "key =>> 13 - 0xd\n",
      "key =>> 13 - 0xd\n",
      "key =>> 13 - 0xd\n",
      "key =>> 13 - 0xd\n",
      "key =>> 13 - 0xd\n",
      "key =>> 13 - 0xd\n",
      "key =>> 13 - 0xd\n",
      "key =>> 13 - 0xd\n",
      "key =>> 24 - 0x18\n",
      "key =>> 22 - 0x16\n",
      "key =>> 26 - 0x1a\n",
      "key =>> 2 - 0x2\n",
      "key =>> 1 - 0x1\n",
      "key =>> 4 - 0x4\n",
      "key =>> 102 - 0x66\n",
      "key =>> 100 - 0x64\n",
      "key =>> 4 - 0x4\n",
      "key =>> 7 - 0x7\n",
      "key =>> 8 - 0x8\n",
      "key =>> 10 - 0xa\n",
      "key =>> 11 - 0xb\n",
      "key =>> 12 - 0xc\n",
      "key =>> 26 - 0x1a\n",
      "key =>> 24 - 0x18\n",
      "key =>> 22 - 0x16\n",
      "key =>> 2 - 0x2\n",
      "key =>> 24 - 0x18\n",
      "key =>> 2 - 0x2\n",
      "key =>> 14 - 0xe\n",
      "key =>> 13 - 0xd\n",
      "key =>> 24 - 0x18\n",
      "key =>> 27 - 0x1b\n"
     ]
    }
   ],
   "source": [
    "img = img_rgb\n",
    "\n",
    "if img is not None:\n",
    "    cv2.imshow('IMG', img)\n",
    "    while True:\n",
    "        key = cv2.waitKey()\n",
    "        print(f'key =>> {key} - {hex(key)}')\n",
    "        \n",
    "        if key == 27:\n",
    "            cv2.destroyAllWindows()\n",
    "            break\n",
    "else:\n",
    "    print('No image files.')"
   ],
   "metadata": {
    "collapsed": false,
    "ExecuteTime": {
     "end_time": "2024-03-22T01:53:16.284577900Z",
     "start_time": "2024-03-22T01:51:42.296548600Z"
    }
   },
   "id": "d8f8a80d2801f162",
   "execution_count": 9
  },
  {
   "cell_type": "code",
   "outputs": [],
   "source": [
    "save_filename = '../data/img/cat5.jpg'\n",
    "gray_file = cv2.imwrite(save_filename, img_gray)"
   ],
   "metadata": {
    "collapsed": false,
    "ExecuteTime": {
     "end_time": "2024-03-22T01:58:04.646885900Z",
     "start_time": "2024-03-22T01:58:04.630930500Z"
    }
   },
   "id": "a1ab1c1ba0cfefa4",
   "execution_count": 10
  },
  {
   "cell_type": "code",
   "outputs": [],
   "source": [
    "# img_b, img_g, img_r = cv2.split(img_rgb)\n",
    "img_b, img_g, img_r = img_rgb[:, :, 0], img_rgb[:, :, 1], img_rgb[:, :, 2]\n",
    "\n",
    "cv2.imshow('[Blue Channel]', img_b)\n",
    "cv2.imshow('[Green Channel]', img_g)\n",
    "cv2.imshow('[Red Channel]', img_r)\n",
    "\n",
    "cv2.waitKey()\n",
    "cv2.destroyWindow('[Blue Channel]')\n",
    "cv2.waitKey()\n",
    "cv2.destroyWindow('[Green Channel]')\n",
    "cv2.waitKey()\n",
    "cv2.destroyWindow('[Red Channel]')"
   ],
   "metadata": {
    "collapsed": false,
    "ExecuteTime": {
     "end_time": "2024-03-22T02:10:28.702111100Z",
     "start_time": "2024-03-22T02:10:21.938425600Z"
    }
   },
   "id": "d6f8214295e5530d",
   "execution_count": 12
  },
  {
   "cell_type": "code",
   "outputs": [],
   "source": [
    "img_rgb2 = cv2.merge((img_r, img_g, img_b))\n",
    "\n",
    "cv2.imshow('[BGR Image]', img_rgb)\n",
    "cv2.imshow('[RGB Image]', img_rgb2)\n",
    "\n",
    "cv2.waitKey()\n",
    "cv2.destroyAllWindows()"
   ],
   "metadata": {
    "collapsed": false,
    "ExecuteTime": {
     "end_time": "2024-03-22T02:15:48.868557800Z",
     "start_time": "2024-03-22T02:15:37.670725700Z"
    }
   },
   "id": "11aca4aabaaa0c97",
   "execution_count": 14
  },
  {
   "cell_type": "code",
   "outputs": [],
   "source": [
    "src_hsv = cv2.cvtColor(img, cv2.COLOR_BGR2HSV)\n",
    "planes = cv2.split(src_hsv)\n",
    "\n",
    "cv2.imshow('[HSV Image]', src_hsv)\n",
    "\n",
    "cv2.waitKey()\n",
    "cv2.destroyAllWindows()"
   ],
   "metadata": {
    "collapsed": false,
    "ExecuteTime": {
     "end_time": "2024-03-22T02:21:32.902711Z",
     "start_time": "2024-03-22T02:21:30.192934100Z"
    }
   },
   "id": "d9c6c631b0e18081",
   "execution_count": 15
  },
  {
   "cell_type": "code",
   "outputs": [],
   "source": [],
   "metadata": {
    "collapsed": false
   },
   "id": "40becb59e40bb659"
  }
 ],
 "metadata": {
  "kernelspec": {
   "display_name": "Python 3",
   "language": "python",
   "name": "python3"
  },
  "language_info": {
   "codemirror_mode": {
    "name": "ipython",
    "version": 2
   },
   "file_extension": ".py",
   "mimetype": "text/x-python",
   "name": "python",
   "nbconvert_exporter": "python",
   "pygments_lexer": "ipython2",
   "version": "2.7.6"
  }
 },
 "nbformat": 4,
 "nbformat_minor": 5
}
